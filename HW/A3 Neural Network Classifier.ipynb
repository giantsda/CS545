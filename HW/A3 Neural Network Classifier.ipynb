{
 "cells": [
  {
   "cell_type": "markdown",
   "metadata": {
    "toc": true
   },
   "source": [
    "<h1>Table of Contents<span class=\"tocSkip\"></span></h1>\n",
    "<div class=\"toc\"><ul class=\"toc-item\"><li><span><a href=\"#Neural-Network-Classifier\" data-toc-modified-id=\"Neural-Network-Classifier-1\">Neural Network Classifier</a></span></li><li><span><a href=\"#Apply-NeuralNetworkClassifier-to-Handwritten-Digits\" data-toc-modified-id=\"Apply-NeuralNetworkClassifier-to-Handwritten-Digits-2\">Apply <code>NeuralNetworkClassifier</code> to Handwritten Digits</a></span></li><li><span><a href=\"#Experiments\" data-toc-modified-id=\"Experiments-3\">Experiments</a></span></li><li><span><a href=\"#Grading\" data-toc-modified-id=\"Grading-4\">Grading</a></span></li><li><span><a href=\"#Extra-Credit\" data-toc-modified-id=\"Extra-Credit-5\">Extra Credit</a></span></li></ul></div>"
   ]
  },
  {
   "cell_type": "markdown",
   "metadata": {},
   "source": [
    "# Neural Network Classifier\n",
    "\n",
    "You may start with your `NeuralNetwork` class from A2, or start with the [implementation defined here](https://www.cs.colostate.edu/~anderson/cs545/notebooks/A2solution.tar) in which all functions meant be called by other functions in this class start with an underscore character. Implement the subclass `NeuralNetworkClassifier` that extends `NeuralNetwork` as discussed in class.  Your `NeuralNetworkClassifier` implementation should rely on inheriting functions from `NeuralNetwork` as much as possible. \n",
    "\n",
    "Your `neuralnetworks.py` file (notice it is plural) will now contain two classes, `NeuralNetwork` and `NeuralNetworkClassifier`.\n",
    "\n",
    "In `NeuralNetworkClassifier` replace the `error_f` function with one called `_neg_log_likelihood_f` and pass it instead of `error_f` into the optimization functions."
   ]
  },
  {
   "cell_type": "markdown",
   "metadata": {},
   "source": [
    "Here are some example tests."
   ]
  },
  {
   "cell_type": "code",
   "execution_count": 2,
   "metadata": {
    "ExecuteTime": {
     "end_time": "2021-09-24T18:23:36.114569Z",
     "start_time": "2021-09-24T18:23:36.106951Z"
    }
   },
   "outputs": [],
   "source": [
    "%load_ext autoreload\n",
    "%autoreload 2"
   ]
  },
  {
   "cell_type": "code",
   "execution_count": 48,
   "metadata": {
    "ExecuteTime": {
     "end_time": "2021-09-24T18:25:40.384936Z",
     "start_time": "2021-09-24T18:25:40.310801Z"
    }
   },
   "outputs": [],
   "source": [
    "import numpy as np\n",
    "import neuralnetworks as nn\n",
    "import matplotlib.pyplot as plt\n",
    "%matplotlib notebook"
   ]
  },
  {
   "cell_type": "code",
   "execution_count": 40,
   "metadata": {
    "ExecuteTime": {
     "end_time": "2021-09-24T18:25:22.379902Z",
     "start_time": "2021-09-24T18:25:22.358849Z"
    }
   },
   "outputs": [
    {
     "data": {
      "text/plain": [
       "(array([[0, 0],\n",
       "        [1, 0],\n",
       "        [0, 1],\n",
       "        [1, 1]]),\n",
       " array([[0],\n",
       "        [1],\n",
       "        [1],\n",
       "        [0]]))"
      ]
     },
     "execution_count": 40,
     "metadata": {},
     "output_type": "execute_result"
    }
   ],
   "source": [
    "X = np.array([[0, 0], [1, 0], [0, 1], [1, 1]])\n",
    "T = np.array([[0], [1], [1], [0]])\n",
    "X, T"
   ]
  },
  {
   "cell_type": "code",
   "execution_count": 41,
   "metadata": {
    "ExecuteTime": {
     "end_time": "2021-09-24T18:25:22.769270Z",
     "start_time": "2021-09-24T18:25:22.746279Z"
    }
   },
   "outputs": [],
   "source": [
    "np.random.seed(111)\n",
    "nnet = nn.NeuralNetworkClassifier(2, [10], 2)"
   ]
  },
  {
   "cell_type": "code",
   "execution_count": 42,
   "metadata": {
    "ExecuteTime": {
     "end_time": "2021-09-24T18:25:23.267703Z",
     "start_time": "2021-09-24T18:25:23.245179Z"
    }
   },
   "outputs": [
    {
     "name": "stdout",
     "output_type": "stream",
     "text": [
      "NeuralNetworkClassifier(2, [10], 2)\n"
     ]
    }
   ],
   "source": [
    "print(nnet)"
   ]
  },
  {
   "cell_type": "code",
   "execution_count": 43,
   "metadata": {
    "ExecuteTime": {
     "end_time": "2021-09-24T18:25:23.656050Z",
     "start_time": "2021-09-24T18:25:23.632259Z"
    }
   },
   "outputs": [
    {
     "data": {
      "text/plain": [
       "[array([[0.35343662, 0.09761247, 0.25175879, 0.4441339 , 0.17050614,\n",
       "         0.08611927, 0.01297787, 0.24261672, 0.1378032 , 0.19494589],\n",
       "        [0.57198811, 0.13725143, 0.0468766 , 0.38659388, 0.35867477,\n",
       "         0.15834035, 0.26917306, 0.06833965, 0.04269942, 0.52006221],\n",
       "        [0.4583945 , 0.48530311, 0.47066025, 0.57212805, 0.3332892 ,\n",
       "         0.46982855, 0.24324799, 0.01584709, 0.26219591, 0.06081004]]),\n",
       " array([[0.24640112, 0.21037283],\n",
       "        [0.17043996, 0.08268264],\n",
       "        [0.30105116, 0.04162125],\n",
       "        [0.18555481, 0.14624395],\n",
       "        [0.12212025, 0.21945476],\n",
       "        [0.09733206, 0.12076903],\n",
       "        [0.09617199, 0.28559813],\n",
       "        [0.27700099, 0.24538331],\n",
       "        [0.01027463, 0.28443762],\n",
       "        [0.28656819, 0.24319635],\n",
       "        [0.14511079, 0.29148887]])]"
      ]
     },
     "execution_count": 43,
     "metadata": {},
     "output_type": "execute_result"
    }
   ],
   "source": [
    "nnet.Ws"
   ]
  },
  {
   "cell_type": "markdown",
   "metadata": {},
   "source": [
    "The `softmax` function can produce errors if the denominator is close to zero.  Here is an implentation you may use to avoid some of those errors.  This assumes you have the following import in your `neuralnetworks.py` file.\n",
    "\n",
    "`sys.float_info.epsilon` is also useful in your `_neg_log_likehood_f` function to avoid taking the `log` of zero."
   ]
  },
  {
   "cell_type": "code",
   "execution_count": 44,
   "metadata": {
    "ExecuteTime": {
     "end_time": "2021-09-24T18:25:24.837645Z",
     "start_time": "2021-09-24T18:25:24.829299Z"
    }
   },
   "outputs": [],
   "source": [
    "import sys  # for sys.float_info.epsilon "
   ]
  },
  {
   "cell_type": "code",
   "execution_count": 45,
   "metadata": {
    "ExecuteTime": {
     "end_time": "2021-09-24T18:25:25.274470Z",
     "start_time": "2021-09-24T18:25:25.249705Z"
    }
   },
   "outputs": [],
   "source": [
    "    def _softmax(self, Y):\n",
    "        '''Apply to final layer weighted sum outputs'''\n",
    "        # Trick to avoid overflow\n",
    "        maxY = Y.max()       \n",
    "        expY = np.exp(Y - maxY)\n",
    "        denom = expY.sum(1).reshape((-1, 1))\n",
    "        Y = expY / (denom + sys.float_info.epsilon)\n",
    "        return Y"
   ]
  },
  {
   "cell_type": "markdown",
   "metadata": {},
   "source": [
    "Replace the `error_f` function with `neg_log_likelihood`.  If you add some print statements in `_neg_log_likelihood` functions, you can compare your output to the following results."
   ]
  },
  {
   "cell_type": "code",
   "execution_count": 46,
   "metadata": {
    "ExecuteTime": {
     "end_time": "2021-09-24T18:25:26.072982Z",
     "start_time": "2021-09-24T18:25:26.056402Z"
    }
   },
   "outputs": [
    {
     "name": "stdout",
     "output_type": "stream",
     "text": [
      "In _neg_log_likelihood: arguments are\n",
      "X (standardized):\n",
      "[[-1. -1.]\n",
      " [ 1. -1.]\n",
      " [-1.  1.]\n",
      " [ 1.  1.]]\n",
      "T (indicator variables):\n",
      "[[1. 0.]\n",
      " [0. 1.]\n",
      " [0. 1.]\n",
      " [1. 0.]]\n",
      "Result of call to self._forward is:\n",
      "[array([[-1., -1.],\n",
      "       [ 1., -1.],\n",
      "       [-1.,  1.],\n",
      "       [ 1.,  1.]]), array([[-0.58953038, -0.48150531, -0.25969195, -0.47351226, -0.47882438,\n",
      "        -0.49453789, -0.46167913,  0.15711762, -0.16555425, -0.36784308],\n",
      "       [ 0.43579667, -0.24533148, -0.17034781,  0.25298534,  0.19342389,\n",
      "        -0.2216293 ,  0.03888332,  0.28683059, -0.08151204,  0.57448929],\n",
      "       [ 0.23534746,  0.41832842,  0.58861387,  0.55782361,  0.14411034,\n",
      "         0.37789996, -0.01294648,  0.18786598,  0.34283332, -0.25831891],\n",
      "       [ 0.88180361,  0.61701274,  0.64651969,  0.88596738,  0.69752815,\n",
      "         0.61335879,  0.48185615,  0.31564563,  0.41587875,  0.65029988]]), array([[-0.42630616, -0.41545364],\n",
      "       [ 0.31734218,  0.46562438],\n",
      "       [ 0.69926796,  0.6394112 ],\n",
      "       [ 1.2877482 ,  1.35607311]])]\n",
      "Result of _softmax is:\n",
      "[[0.4972869  0.5027131 ]\n",
      " [0.46299723 0.53700277]\n",
      " [0.51495972 0.48504028]\n",
      " [0.48292541 0.51707459]]\n",
      "Result of np.log(Y + sys.float_info.epsilon) is:\n",
      "[[-0.69858816 -0.68773564]\n",
      " [-0.77003422 -0.62175202]\n",
      " [-0.66366659 -0.72352334]\n",
      " [-0.72789306 -0.65956815]]\n",
      "_neg_log_likelihood_f returns:\n",
      "0.34646957280290763\n",
      "sgd: Epoch 1 ObjectiveF=0.70718\n"
     ]
    },
    {
     "data": {
      "text/plain": [
       "NeuralNetworkClassifier(2, [10], 2)"
      ]
     },
     "execution_count": 46,
     "metadata": {},
     "output_type": "execute_result"
    }
   ],
   "source": [
    "nnet.train(X, T, n_epochs=1, method='sgd', learning_rate=0.01)"
   ]
  },
  {
   "cell_type": "code",
   "execution_count": 47,
   "metadata": {
    "ExecuteTime": {
     "end_time": "2021-09-24T18:25:26.839004Z",
     "start_time": "2021-09-24T18:25:26.830767Z"
    }
   },
   "outputs": [
    {
     "name": "stdout",
     "output_type": "stream",
     "text": [
      "NeuralNetworkClassifier(2, [10], 2)\n",
      " Trained for 1 epochs.\n",
      " Final data likelihood 0.7072.\n"
     ]
    }
   ],
   "source": [
    "print(nnet)"
   ]
  },
  {
   "cell_type": "markdown",
   "metadata": {},
   "source": [
    "Now if you comment out those print statements, you can run for more epochs without tons of output."
   ]
  },
  {
   "cell_type": "code",
   "execution_count": 49,
   "metadata": {
    "ExecuteTime": {
     "end_time": "2021-09-24T18:25:45.819326Z",
     "start_time": "2021-09-24T18:25:45.807629Z"
    }
   },
   "outputs": [],
   "source": [
    "np.random.seed(111)\n",
    "nnet = nn.NeuralNetworkClassifier(2, [10], 2)"
   ]
  },
  {
   "cell_type": "code",
   "execution_count": 50,
   "metadata": {
    "ExecuteTime": {
     "end_time": "2021-09-24T18:25:46.520206Z",
     "start_time": "2021-09-24T18:25:46.501689Z"
    }
   },
   "outputs": [
    {
     "name": "stdout",
     "output_type": "stream",
     "text": [
      "SCG: Epoch 10 ObjectiveF=0.99632\n",
      "SCG: Epoch 20 ObjectiveF=0.99996\n",
      "SCG: Epoch 30 ObjectiveF=1.00000\n"
     ]
    },
    {
     "data": {
      "text/plain": [
       "NeuralNetworkClassifier(2, [10], 2)"
      ]
     },
     "execution_count": 50,
     "metadata": {},
     "output_type": "execute_result"
    }
   ],
   "source": [
    "nnet.train(X, T, 100, method='scg')"
   ]
  },
  {
   "cell_type": "markdown",
   "metadata": {},
   "source": [
    "The `use()` function returns two `numpy` arrays. The first one are the class predictions for eachs sample, containing values from the set of unique values in `T` passed into the `train()` function.\n",
    "\n",
    "The second value are the probabilities of each class for each sample. This should a column for each unique value in `T`."
   ]
  },
  {
   "cell_type": "code",
   "execution_count": 51,
   "metadata": {
    "ExecuteTime": {
     "end_time": "2021-09-24T18:25:47.618829Z",
     "start_time": "2021-09-24T18:25:47.605349Z"
    }
   },
   "outputs": [
    {
     "data": {
      "text/plain": [
       "(array([[0],\n",
       "        [1],\n",
       "        [1],\n",
       "        [0]]),\n",
       " array([[9.99999991e-01, 9.37757740e-09],\n",
       "        [1.13191230e-08, 9.99999989e-01],\n",
       "        [8.63046907e-09, 9.99999991e-01],\n",
       "        [9.99999990e-01, 9.87393193e-09]]))"
      ]
     },
     "execution_count": 51,
     "metadata": {},
     "output_type": "execute_result"
    }
   ],
   "source": [
    "nnet.use(X)"
   ]
  },
  {
   "cell_type": "code",
   "execution_count": 52,
   "metadata": {
    "ExecuteTime": {
     "end_time": "2021-09-24T18:25:48.138607Z",
     "start_time": "2021-09-24T18:25:48.117505Z"
    }
   },
   "outputs": [],
   "source": [
    "def percent_correct(Y, T):\n",
    "    return np.mean(T == Y) * 100"
   ]
  },
  {
   "cell_type": "code",
   "execution_count": 53,
   "metadata": {
    "ExecuteTime": {
     "end_time": "2021-09-24T18:25:48.913883Z",
     "start_time": "2021-09-24T18:25:48.904446Z"
    }
   },
   "outputs": [
    {
     "data": {
      "text/plain": [
       "100.0"
      ]
     },
     "execution_count": 53,
     "metadata": {},
     "output_type": "execute_result"
    }
   ],
   "source": [
    "percent_correct(nnet.use(X)[0], T)"
   ]
  },
  {
   "cell_type": "markdown",
   "metadata": {},
   "source": [
    "Works!  The XOR problem was used early in the history of neural networks as a problem that cannot be solved with a linear model.  Let's try it.  It turns out our neural network code can do this if we use an empty list for the hidden unit structure!"
   ]
  },
  {
   "cell_type": "code",
   "execution_count": 54,
   "metadata": {
    "ExecuteTime": {
     "end_time": "2021-09-24T18:25:49.930009Z",
     "start_time": "2021-09-24T18:25:49.919549Z"
    }
   },
   "outputs": [
    {
     "data": {
      "text/plain": [
       "NeuralNetworkClassifier(2, [], 2)"
      ]
     },
     "execution_count": 54,
     "metadata": {},
     "output_type": "execute_result"
    }
   ],
   "source": [
    "nnet = nn.NeuralNetworkClassifier(2, [], 2)\n",
    "nnet.train(X, T, 100, method='scg')"
   ]
  },
  {
   "cell_type": "code",
   "execution_count": 55,
   "metadata": {
    "ExecuteTime": {
     "end_time": "2021-09-24T18:25:50.477779Z",
     "start_time": "2021-09-24T18:25:50.450527Z"
    }
   },
   "outputs": [
    {
     "data": {
      "text/plain": [
       "(array([[0],\n",
       "        [1],\n",
       "        [0],\n",
       "        [1]]),\n",
       " array([[0.5, 0.5],\n",
       "        [0.5, 0.5],\n",
       "        [0.5, 0.5],\n",
       "        [0.5, 0.5]]))"
      ]
     },
     "execution_count": 55,
     "metadata": {},
     "output_type": "execute_result"
    }
   ],
   "source": [
    "nnet.use(X)"
   ]
  },
  {
   "cell_type": "code",
   "execution_count": 56,
   "metadata": {
    "ExecuteTime": {
     "end_time": "2021-09-24T18:25:51.030958Z",
     "start_time": "2021-09-24T18:25:51.003631Z"
    }
   },
   "outputs": [
    {
     "data": {
      "text/plain": [
       "50.0"
      ]
     },
     "execution_count": 56,
     "metadata": {},
     "output_type": "execute_result"
    }
   ],
   "source": [
    "percent_correct(nnet.use(X)[0], T)"
   ]
  },
  {
   "cell_type": "markdown",
   "metadata": {},
   "source": [
    "A second way to evaluate a classifier is to calculate a confusion matrix. This shows the percent accuracy for each class, and also shows which classes are predicted in error.\n",
    "\n",
    "Here is a function you can use to show a confusion matrix."
   ]
  },
  {
   "cell_type": "code",
   "execution_count": 57,
   "metadata": {
    "ExecuteTime": {
     "end_time": "2021-09-24T18:25:53.392283Z",
     "start_time": "2021-09-24T18:25:53.383369Z"
    }
   },
   "outputs": [],
   "source": [
    "import pandas\n",
    "\n",
    "def confusion_matrix(Y_classes, T):\n",
    "    class_names = np.unique(T)\n",
    "    table = []\n",
    "    for true_class in class_names:\n",
    "        row = []\n",
    "        for Y_class in class_names:\n",
    "            row.append(100 * np.mean(Y_classes[T == true_class] == Y_class))\n",
    "        table.append(row)\n",
    "    conf_matrix = pandas.DataFrame(table, index=class_names, columns=class_names)\n",
    "    # cf.style.background_gradient(cmap='Blues').format(\"{:.1f} %\")\n",
    "    print('Percent Correct')\n",
    "    return conf_matrix.style.background_gradient(cmap='Blues').format(\"{:.1f}\")"
   ]
  },
  {
   "cell_type": "code",
   "execution_count": 58,
   "metadata": {
    "ExecuteTime": {
     "end_time": "2021-09-24T18:25:54.376110Z",
     "start_time": "2021-09-24T18:25:54.361173Z"
    }
   },
   "outputs": [
    {
     "name": "stdout",
     "output_type": "stream",
     "text": [
      "Percent Correct\n"
     ]
    },
    {
     "data": {
      "text/html": [
       "<style type=\"text/css\">\n",
       "#T_5f560_row0_col0, #T_5f560_row0_col1, #T_5f560_row1_col0, #T_5f560_row1_col1 {\n",
       "  background-color: #f7fbff;\n",
       "  color: #000000;\n",
       "}\n",
       "</style>\n",
       "<table id=\"T_5f560_\">\n",
       "  <thead>\n",
       "    <tr>\n",
       "      <th class=\"blank level0\" >&nbsp;</th>\n",
       "      <th class=\"col_heading level0 col0\" >0</th>\n",
       "      <th class=\"col_heading level0 col1\" >1</th>\n",
       "    </tr>\n",
       "  </thead>\n",
       "  <tbody>\n",
       "    <tr>\n",
       "      <th id=\"T_5f560_level0_row0\" class=\"row_heading level0 row0\" >0</th>\n",
       "      <td id=\"T_5f560_row0_col0\" class=\"data row0 col0\" >50.0</td>\n",
       "      <td id=\"T_5f560_row0_col1\" class=\"data row0 col1\" >50.0</td>\n",
       "    </tr>\n",
       "    <tr>\n",
       "      <th id=\"T_5f560_level0_row1\" class=\"row_heading level0 row1\" >1</th>\n",
       "      <td id=\"T_5f560_row1_col0\" class=\"data row1 col0\" >50.0</td>\n",
       "      <td id=\"T_5f560_row1_col1\" class=\"data row1 col1\" >50.0</td>\n",
       "    </tr>\n",
       "  </tbody>\n",
       "</table>\n"
      ],
      "text/plain": [
       "<pandas.io.formats.style.Styler at 0x7f1340d92d00>"
      ]
     },
     "execution_count": 58,
     "metadata": {},
     "output_type": "execute_result"
    }
   ],
   "source": [
    "confusion_matrix(nnet.use(X)[0], T)"
   ]
  },
  {
   "cell_type": "markdown",
   "metadata": {},
   "source": [
    "# Apply `NeuralNetworkClassifier` to Handwritten Digits"
   ]
  },
  {
   "cell_type": "markdown",
   "metadata": {},
   "source": [
    "Apply your `NeuralNetworkClassifier` to the [MNIST digits dataset](https://www.cs.colostate.edu/~anderson/cs545/notebooks/mnist.pkl.gz)."
   ]
  },
  {
   "cell_type": "code",
   "execution_count": 59,
   "metadata": {
    "ExecuteTime": {
     "end_time": "2021-09-24T18:26:20.510347Z",
     "start_time": "2021-09-24T18:26:20.498151Z"
    }
   },
   "outputs": [],
   "source": [
    "import pickle\n",
    "import gzip"
   ]
  },
  {
   "cell_type": "code",
   "execution_count": 60,
   "metadata": {
    "ExecuteTime": {
     "end_time": "2021-09-24T18:26:21.598636Z",
     "start_time": "2021-09-24T18:26:20.981257Z"
    }
   },
   "outputs": [
    {
     "name": "stdout",
     "output_type": "stream",
     "text": [
      "(50000, 784) (50000, 1) (10000, 784) (10000, 1) (10000, 784) (10000, 1)\n"
     ]
    }
   ],
   "source": [
    "with gzip.open('mnist.pkl.gz', 'rb') as f:\n",
    "    train_set, valid_set, test_set = pickle.load(f, encoding='latin1')\n",
    "\n",
    "Xtrain = train_set[0]\n",
    "Ttrain = train_set[1].reshape(-1, 1)\n",
    "\n",
    "Xval = valid_set[0]\n",
    "Tval = valid_set[1].reshape(-1, 1)\n",
    "\n",
    "Xtest = test_set[0]\n",
    "Ttest = test_set[1].reshape(-1, 1)\n",
    "\n",
    "print(Xtrain.shape, Ttrain.shape,  Xval.shape, Tval.shape,  Xtest.shape, Ttest.shape)"
   ]
  },
  {
   "cell_type": "code",
   "execution_count": 61,
   "metadata": {
    "ExecuteTime": {
     "end_time": "2021-09-24T18:26:21.609303Z",
     "start_time": "2021-09-24T18:26:21.599676Z"
    }
   },
   "outputs": [
    {
     "data": {
      "text/plain": [
       "784"
      ]
     },
     "execution_count": 61,
     "metadata": {},
     "output_type": "execute_result"
    }
   ],
   "source": [
    "28*28"
   ]
  },
  {
   "cell_type": "code",
   "execution_count": 62,
   "metadata": {
    "ExecuteTime": {
     "end_time": "2021-09-24T18:26:22.187860Z",
     "start_time": "2021-09-24T18:26:22.162227Z"
    }
   },
   "outputs": [],
   "source": [
    "def draw_image(image, label):\n",
    "    plt.imshow(-image.reshape(28, 28), cmap='gray')\n",
    "    plt.xticks([])\n",
    "    plt.yticks([])\n",
    "    plt.axis('off')\n",
    "    plt.title(label)"
   ]
  },
  {
   "cell_type": "code",
   "execution_count": 63,
   "metadata": {
    "ExecuteTime": {
     "end_time": "2021-09-24T18:26:24.129141Z",
     "start_time": "2021-09-24T18:26:22.682916Z"
    }
   },
   "outputs": [
    {
     "data": {
      "application/javascript": [
       "/* Put everything inside the global mpl namespace */\n",
       "/* global mpl */\n",
       "window.mpl = {};\n",
       "\n",
       "mpl.get_websocket_type = function () {\n",
       "    if (typeof WebSocket !== 'undefined') {\n",
       "        return WebSocket;\n",
       "    } else if (typeof MozWebSocket !== 'undefined') {\n",
       "        return MozWebSocket;\n",
       "    } else {\n",
       "        alert(\n",
       "            'Your browser does not have WebSocket support. ' +\n",
       "                'Please try Chrome, Safari or Firefox ≥ 6. ' +\n",
       "                'Firefox 4 and 5 are also supported but you ' +\n",
       "                'have to enable WebSockets in about:config.'\n",
       "        );\n",
       "    }\n",
       "};\n",
       "\n",
       "mpl.figure = function (figure_id, websocket, ondownload, parent_element) {\n",
       "    this.id = figure_id;\n",
       "\n",
       "    this.ws = websocket;\n",
       "\n",
       "    this.supports_binary = this.ws.binaryType !== undefined;\n",
       "\n",
       "    if (!this.supports_binary) {\n",
       "        var warnings = document.getElementById('mpl-warnings');\n",
       "        if (warnings) {\n",
       "            warnings.style.display = 'block';\n",
       "            warnings.textContent =\n",
       "                'This browser does not support binary websocket messages. ' +\n",
       "                'Performance may be slow.';\n",
       "        }\n",
       "    }\n",
       "\n",
       "    this.imageObj = new Image();\n",
       "\n",
       "    this.context = undefined;\n",
       "    this.message = undefined;\n",
       "    this.canvas = undefined;\n",
       "    this.rubberband_canvas = undefined;\n",
       "    this.rubberband_context = undefined;\n",
       "    this.format_dropdown = undefined;\n",
       "\n",
       "    this.image_mode = 'full';\n",
       "\n",
       "    this.root = document.createElement('div');\n",
       "    this.root.setAttribute('style', 'display: inline-block');\n",
       "    this._root_extra_style(this.root);\n",
       "\n",
       "    parent_element.appendChild(this.root);\n",
       "\n",
       "    this._init_header(this);\n",
       "    this._init_canvas(this);\n",
       "    this._init_toolbar(this);\n",
       "\n",
       "    var fig = this;\n",
       "\n",
       "    this.waiting = false;\n",
       "\n",
       "    this.ws.onopen = function () {\n",
       "        fig.send_message('supports_binary', { value: fig.supports_binary });\n",
       "        fig.send_message('send_image_mode', {});\n",
       "        if (fig.ratio !== 1) {\n",
       "            fig.send_message('set_dpi_ratio', { dpi_ratio: fig.ratio });\n",
       "        }\n",
       "        fig.send_message('refresh', {});\n",
       "    };\n",
       "\n",
       "    this.imageObj.onload = function () {\n",
       "        if (fig.image_mode === 'full') {\n",
       "            // Full images could contain transparency (where diff images\n",
       "            // almost always do), so we need to clear the canvas so that\n",
       "            // there is no ghosting.\n",
       "            fig.context.clearRect(0, 0, fig.canvas.width, fig.canvas.height);\n",
       "        }\n",
       "        fig.context.drawImage(fig.imageObj, 0, 0);\n",
       "    };\n",
       "\n",
       "    this.imageObj.onunload = function () {\n",
       "        fig.ws.close();\n",
       "    };\n",
       "\n",
       "    this.ws.onmessage = this._make_on_message_function(this);\n",
       "\n",
       "    this.ondownload = ondownload;\n",
       "};\n",
       "\n",
       "mpl.figure.prototype._init_header = function () {\n",
       "    var titlebar = document.createElement('div');\n",
       "    titlebar.classList =\n",
       "        'ui-dialog-titlebar ui-widget-header ui-corner-all ui-helper-clearfix';\n",
       "    var titletext = document.createElement('div');\n",
       "    titletext.classList = 'ui-dialog-title';\n",
       "    titletext.setAttribute(\n",
       "        'style',\n",
       "        'width: 100%; text-align: center; padding: 3px;'\n",
       "    );\n",
       "    titlebar.appendChild(titletext);\n",
       "    this.root.appendChild(titlebar);\n",
       "    this.header = titletext;\n",
       "};\n",
       "\n",
       "mpl.figure.prototype._canvas_extra_style = function (_canvas_div) {};\n",
       "\n",
       "mpl.figure.prototype._root_extra_style = function (_canvas_div) {};\n",
       "\n",
       "mpl.figure.prototype._init_canvas = function () {\n",
       "    var fig = this;\n",
       "\n",
       "    var canvas_div = (this.canvas_div = document.createElement('div'));\n",
       "    canvas_div.setAttribute(\n",
       "        'style',\n",
       "        'border: 1px solid #ddd;' +\n",
       "            'box-sizing: content-box;' +\n",
       "            'clear: both;' +\n",
       "            'min-height: 1px;' +\n",
       "            'min-width: 1px;' +\n",
       "            'outline: 0;' +\n",
       "            'overflow: hidden;' +\n",
       "            'position: relative;' +\n",
       "            'resize: both;'\n",
       "    );\n",
       "\n",
       "    function on_keyboard_event_closure(name) {\n",
       "        return function (event) {\n",
       "            return fig.key_event(event, name);\n",
       "        };\n",
       "    }\n",
       "\n",
       "    canvas_div.addEventListener(\n",
       "        'keydown',\n",
       "        on_keyboard_event_closure('key_press')\n",
       "    );\n",
       "    canvas_div.addEventListener(\n",
       "        'keyup',\n",
       "        on_keyboard_event_closure('key_release')\n",
       "    );\n",
       "\n",
       "    this._canvas_extra_style(canvas_div);\n",
       "    this.root.appendChild(canvas_div);\n",
       "\n",
       "    var canvas = (this.canvas = document.createElement('canvas'));\n",
       "    canvas.classList.add('mpl-canvas');\n",
       "    canvas.setAttribute('style', 'box-sizing: content-box;');\n",
       "\n",
       "    this.context = canvas.getContext('2d');\n",
       "\n",
       "    var backingStore =\n",
       "        this.context.backingStorePixelRatio ||\n",
       "        this.context.webkitBackingStorePixelRatio ||\n",
       "        this.context.mozBackingStorePixelRatio ||\n",
       "        this.context.msBackingStorePixelRatio ||\n",
       "        this.context.oBackingStorePixelRatio ||\n",
       "        this.context.backingStorePixelRatio ||\n",
       "        1;\n",
       "\n",
       "    this.ratio = (window.devicePixelRatio || 1) / backingStore;\n",
       "\n",
       "    var rubberband_canvas = (this.rubberband_canvas = document.createElement(\n",
       "        'canvas'\n",
       "    ));\n",
       "    rubberband_canvas.setAttribute(\n",
       "        'style',\n",
       "        'box-sizing: content-box; position: absolute; left: 0; top: 0; z-index: 1;'\n",
       "    );\n",
       "\n",
       "    // Apply a ponyfill if ResizeObserver is not implemented by browser.\n",
       "    if (this.ResizeObserver === undefined) {\n",
       "        if (window.ResizeObserver !== undefined) {\n",
       "            this.ResizeObserver = window.ResizeObserver;\n",
       "        } else {\n",
       "            var obs = _JSXTOOLS_RESIZE_OBSERVER({});\n",
       "            this.ResizeObserver = obs.ResizeObserver;\n",
       "        }\n",
       "    }\n",
       "\n",
       "    this.resizeObserverInstance = new this.ResizeObserver(function (entries) {\n",
       "        var nentries = entries.length;\n",
       "        for (var i = 0; i < nentries; i++) {\n",
       "            var entry = entries[i];\n",
       "            var width, height;\n",
       "            if (entry.contentBoxSize) {\n",
       "                if (entry.contentBoxSize instanceof Array) {\n",
       "                    // Chrome 84 implements new version of spec.\n",
       "                    width = entry.contentBoxSize[0].inlineSize;\n",
       "                    height = entry.contentBoxSize[0].blockSize;\n",
       "                } else {\n",
       "                    // Firefox implements old version of spec.\n",
       "                    width = entry.contentBoxSize.inlineSize;\n",
       "                    height = entry.contentBoxSize.blockSize;\n",
       "                }\n",
       "            } else {\n",
       "                // Chrome <84 implements even older version of spec.\n",
       "                width = entry.contentRect.width;\n",
       "                height = entry.contentRect.height;\n",
       "            }\n",
       "\n",
       "            // Keep the size of the canvas and rubber band canvas in sync with\n",
       "            // the canvas container.\n",
       "            if (entry.devicePixelContentBoxSize) {\n",
       "                // Chrome 84 implements new version of spec.\n",
       "                canvas.setAttribute(\n",
       "                    'width',\n",
       "                    entry.devicePixelContentBoxSize[0].inlineSize\n",
       "                );\n",
       "                canvas.setAttribute(\n",
       "                    'height',\n",
       "                    entry.devicePixelContentBoxSize[0].blockSize\n",
       "                );\n",
       "            } else {\n",
       "                canvas.setAttribute('width', width * fig.ratio);\n",
       "                canvas.setAttribute('height', height * fig.ratio);\n",
       "            }\n",
       "            canvas.setAttribute(\n",
       "                'style',\n",
       "                'width: ' + width + 'px; height: ' + height + 'px;'\n",
       "            );\n",
       "\n",
       "            rubberband_canvas.setAttribute('width', width);\n",
       "            rubberband_canvas.setAttribute('height', height);\n",
       "\n",
       "            // And update the size in Python. We ignore the initial 0/0 size\n",
       "            // that occurs as the element is placed into the DOM, which should\n",
       "            // otherwise not happen due to the minimum size styling.\n",
       "            if (fig.ws.readyState == 1 && width != 0 && height != 0) {\n",
       "                fig.request_resize(width, height);\n",
       "            }\n",
       "        }\n",
       "    });\n",
       "    this.resizeObserverInstance.observe(canvas_div);\n",
       "\n",
       "    function on_mouse_event_closure(name) {\n",
       "        return function (event) {\n",
       "            return fig.mouse_event(event, name);\n",
       "        };\n",
       "    }\n",
       "\n",
       "    rubberband_canvas.addEventListener(\n",
       "        'mousedown',\n",
       "        on_mouse_event_closure('button_press')\n",
       "    );\n",
       "    rubberband_canvas.addEventListener(\n",
       "        'mouseup',\n",
       "        on_mouse_event_closure('button_release')\n",
       "    );\n",
       "    rubberband_canvas.addEventListener(\n",
       "        'dblclick',\n",
       "        on_mouse_event_closure('dblclick')\n",
       "    );\n",
       "    // Throttle sequential mouse events to 1 every 20ms.\n",
       "    rubberband_canvas.addEventListener(\n",
       "        'mousemove',\n",
       "        on_mouse_event_closure('motion_notify')\n",
       "    );\n",
       "\n",
       "    rubberband_canvas.addEventListener(\n",
       "        'mouseenter',\n",
       "        on_mouse_event_closure('figure_enter')\n",
       "    );\n",
       "    rubberband_canvas.addEventListener(\n",
       "        'mouseleave',\n",
       "        on_mouse_event_closure('figure_leave')\n",
       "    );\n",
       "\n",
       "    canvas_div.addEventListener('wheel', function (event) {\n",
       "        if (event.deltaY < 0) {\n",
       "            event.step = 1;\n",
       "        } else {\n",
       "            event.step = -1;\n",
       "        }\n",
       "        on_mouse_event_closure('scroll')(event);\n",
       "    });\n",
       "\n",
       "    canvas_div.appendChild(canvas);\n",
       "    canvas_div.appendChild(rubberband_canvas);\n",
       "\n",
       "    this.rubberband_context = rubberband_canvas.getContext('2d');\n",
       "    this.rubberband_context.strokeStyle = '#000000';\n",
       "\n",
       "    this._resize_canvas = function (width, height, forward) {\n",
       "        if (forward) {\n",
       "            canvas_div.style.width = width + 'px';\n",
       "            canvas_div.style.height = height + 'px';\n",
       "        }\n",
       "    };\n",
       "\n",
       "    // Disable right mouse context menu.\n",
       "    this.rubberband_canvas.addEventListener('contextmenu', function (_e) {\n",
       "        event.preventDefault();\n",
       "        return false;\n",
       "    });\n",
       "\n",
       "    function set_focus() {\n",
       "        canvas.focus();\n",
       "        canvas_div.focus();\n",
       "    }\n",
       "\n",
       "    window.setTimeout(set_focus, 100);\n",
       "};\n",
       "\n",
       "mpl.figure.prototype._init_toolbar = function () {\n",
       "    var fig = this;\n",
       "\n",
       "    var toolbar = document.createElement('div');\n",
       "    toolbar.classList = 'mpl-toolbar';\n",
       "    this.root.appendChild(toolbar);\n",
       "\n",
       "    function on_click_closure(name) {\n",
       "        return function (_event) {\n",
       "            return fig.toolbar_button_onclick(name);\n",
       "        };\n",
       "    }\n",
       "\n",
       "    function on_mouseover_closure(tooltip) {\n",
       "        return function (event) {\n",
       "            if (!event.currentTarget.disabled) {\n",
       "                return fig.toolbar_button_onmouseover(tooltip);\n",
       "            }\n",
       "        };\n",
       "    }\n",
       "\n",
       "    fig.buttons = {};\n",
       "    var buttonGroup = document.createElement('div');\n",
       "    buttonGroup.classList = 'mpl-button-group';\n",
       "    for (var toolbar_ind in mpl.toolbar_items) {\n",
       "        var name = mpl.toolbar_items[toolbar_ind][0];\n",
       "        var tooltip = mpl.toolbar_items[toolbar_ind][1];\n",
       "        var image = mpl.toolbar_items[toolbar_ind][2];\n",
       "        var method_name = mpl.toolbar_items[toolbar_ind][3];\n",
       "\n",
       "        if (!name) {\n",
       "            /* Instead of a spacer, we start a new button group. */\n",
       "            if (buttonGroup.hasChildNodes()) {\n",
       "                toolbar.appendChild(buttonGroup);\n",
       "            }\n",
       "            buttonGroup = document.createElement('div');\n",
       "            buttonGroup.classList = 'mpl-button-group';\n",
       "            continue;\n",
       "        }\n",
       "\n",
       "        var button = (fig.buttons[name] = document.createElement('button'));\n",
       "        button.classList = 'mpl-widget';\n",
       "        button.setAttribute('role', 'button');\n",
       "        button.setAttribute('aria-disabled', 'false');\n",
       "        button.addEventListener('click', on_click_closure(method_name));\n",
       "        button.addEventListener('mouseover', on_mouseover_closure(tooltip));\n",
       "\n",
       "        var icon_img = document.createElement('img');\n",
       "        icon_img.src = '_images/' + image + '.png';\n",
       "        icon_img.srcset = '_images/' + image + '_large.png 2x';\n",
       "        icon_img.alt = tooltip;\n",
       "        button.appendChild(icon_img);\n",
       "\n",
       "        buttonGroup.appendChild(button);\n",
       "    }\n",
       "\n",
       "    if (buttonGroup.hasChildNodes()) {\n",
       "        toolbar.appendChild(buttonGroup);\n",
       "    }\n",
       "\n",
       "    var fmt_picker = document.createElement('select');\n",
       "    fmt_picker.classList = 'mpl-widget';\n",
       "    toolbar.appendChild(fmt_picker);\n",
       "    this.format_dropdown = fmt_picker;\n",
       "\n",
       "    for (var ind in mpl.extensions) {\n",
       "        var fmt = mpl.extensions[ind];\n",
       "        var option = document.createElement('option');\n",
       "        option.selected = fmt === mpl.default_extension;\n",
       "        option.innerHTML = fmt;\n",
       "        fmt_picker.appendChild(option);\n",
       "    }\n",
       "\n",
       "    var status_bar = document.createElement('span');\n",
       "    status_bar.classList = 'mpl-message';\n",
       "    toolbar.appendChild(status_bar);\n",
       "    this.message = status_bar;\n",
       "};\n",
       "\n",
       "mpl.figure.prototype.request_resize = function (x_pixels, y_pixels) {\n",
       "    // Request matplotlib to resize the figure. Matplotlib will then trigger a resize in the client,\n",
       "    // which will in turn request a refresh of the image.\n",
       "    this.send_message('resize', { width: x_pixels, height: y_pixels });\n",
       "};\n",
       "\n",
       "mpl.figure.prototype.send_message = function (type, properties) {\n",
       "    properties['type'] = type;\n",
       "    properties['figure_id'] = this.id;\n",
       "    this.ws.send(JSON.stringify(properties));\n",
       "};\n",
       "\n",
       "mpl.figure.prototype.send_draw_message = function () {\n",
       "    if (!this.waiting) {\n",
       "        this.waiting = true;\n",
       "        this.ws.send(JSON.stringify({ type: 'draw', figure_id: this.id }));\n",
       "    }\n",
       "};\n",
       "\n",
       "mpl.figure.prototype.handle_save = function (fig, _msg) {\n",
       "    var format_dropdown = fig.format_dropdown;\n",
       "    var format = format_dropdown.options[format_dropdown.selectedIndex].value;\n",
       "    fig.ondownload(fig, format);\n",
       "};\n",
       "\n",
       "mpl.figure.prototype.handle_resize = function (fig, msg) {\n",
       "    var size = msg['size'];\n",
       "    if (size[0] !== fig.canvas.width || size[1] !== fig.canvas.height) {\n",
       "        fig._resize_canvas(size[0], size[1], msg['forward']);\n",
       "        fig.send_message('refresh', {});\n",
       "    }\n",
       "};\n",
       "\n",
       "mpl.figure.prototype.handle_rubberband = function (fig, msg) {\n",
       "    var x0 = msg['x0'] / fig.ratio;\n",
       "    var y0 = (fig.canvas.height - msg['y0']) / fig.ratio;\n",
       "    var x1 = msg['x1'] / fig.ratio;\n",
       "    var y1 = (fig.canvas.height - msg['y1']) / fig.ratio;\n",
       "    x0 = Math.floor(x0) + 0.5;\n",
       "    y0 = Math.floor(y0) + 0.5;\n",
       "    x1 = Math.floor(x1) + 0.5;\n",
       "    y1 = Math.floor(y1) + 0.5;\n",
       "    var min_x = Math.min(x0, x1);\n",
       "    var min_y = Math.min(y0, y1);\n",
       "    var width = Math.abs(x1 - x0);\n",
       "    var height = Math.abs(y1 - y0);\n",
       "\n",
       "    fig.rubberband_context.clearRect(\n",
       "        0,\n",
       "        0,\n",
       "        fig.canvas.width / fig.ratio,\n",
       "        fig.canvas.height / fig.ratio\n",
       "    );\n",
       "\n",
       "    fig.rubberband_context.strokeRect(min_x, min_y, width, height);\n",
       "};\n",
       "\n",
       "mpl.figure.prototype.handle_figure_label = function (fig, msg) {\n",
       "    // Updates the figure title.\n",
       "    fig.header.textContent = msg['label'];\n",
       "};\n",
       "\n",
       "mpl.figure.prototype.handle_cursor = function (fig, msg) {\n",
       "    var cursor = msg['cursor'];\n",
       "    switch (cursor) {\n",
       "        case 0:\n",
       "            cursor = 'pointer';\n",
       "            break;\n",
       "        case 1:\n",
       "            cursor = 'default';\n",
       "            break;\n",
       "        case 2:\n",
       "            cursor = 'crosshair';\n",
       "            break;\n",
       "        case 3:\n",
       "            cursor = 'move';\n",
       "            break;\n",
       "    }\n",
       "    fig.rubberband_canvas.style.cursor = cursor;\n",
       "};\n",
       "\n",
       "mpl.figure.prototype.handle_message = function (fig, msg) {\n",
       "    fig.message.textContent = msg['message'];\n",
       "};\n",
       "\n",
       "mpl.figure.prototype.handle_draw = function (fig, _msg) {\n",
       "    // Request the server to send over a new figure.\n",
       "    fig.send_draw_message();\n",
       "};\n",
       "\n",
       "mpl.figure.prototype.handle_image_mode = function (fig, msg) {\n",
       "    fig.image_mode = msg['mode'];\n",
       "};\n",
       "\n",
       "mpl.figure.prototype.handle_history_buttons = function (fig, msg) {\n",
       "    for (var key in msg) {\n",
       "        if (!(key in fig.buttons)) {\n",
       "            continue;\n",
       "        }\n",
       "        fig.buttons[key].disabled = !msg[key];\n",
       "        fig.buttons[key].setAttribute('aria-disabled', !msg[key]);\n",
       "    }\n",
       "};\n",
       "\n",
       "mpl.figure.prototype.handle_navigate_mode = function (fig, msg) {\n",
       "    if (msg['mode'] === 'PAN') {\n",
       "        fig.buttons['Pan'].classList.add('active');\n",
       "        fig.buttons['Zoom'].classList.remove('active');\n",
       "    } else if (msg['mode'] === 'ZOOM') {\n",
       "        fig.buttons['Pan'].classList.remove('active');\n",
       "        fig.buttons['Zoom'].classList.add('active');\n",
       "    } else {\n",
       "        fig.buttons['Pan'].classList.remove('active');\n",
       "        fig.buttons['Zoom'].classList.remove('active');\n",
       "    }\n",
       "};\n",
       "\n",
       "mpl.figure.prototype.updated_canvas_event = function () {\n",
       "    // Called whenever the canvas gets updated.\n",
       "    this.send_message('ack', {});\n",
       "};\n",
       "\n",
       "// A function to construct a web socket function for onmessage handling.\n",
       "// Called in the figure constructor.\n",
       "mpl.figure.prototype._make_on_message_function = function (fig) {\n",
       "    return function socket_on_message(evt) {\n",
       "        if (evt.data instanceof Blob) {\n",
       "            var img = evt.data;\n",
       "            if (img.type !== 'image/png') {\n",
       "                /* FIXME: We get \"Resource interpreted as Image but\n",
       "                 * transferred with MIME type text/plain:\" errors on\n",
       "                 * Chrome.  But how to set the MIME type?  It doesn't seem\n",
       "                 * to be part of the websocket stream */\n",
       "                img.type = 'image/png';\n",
       "            }\n",
       "\n",
       "            /* Free the memory for the previous frames */\n",
       "            if (fig.imageObj.src) {\n",
       "                (window.URL || window.webkitURL).revokeObjectURL(\n",
       "                    fig.imageObj.src\n",
       "                );\n",
       "            }\n",
       "\n",
       "            fig.imageObj.src = (window.URL || window.webkitURL).createObjectURL(\n",
       "                img\n",
       "            );\n",
       "            fig.updated_canvas_event();\n",
       "            fig.waiting = false;\n",
       "            return;\n",
       "        } else if (\n",
       "            typeof evt.data === 'string' &&\n",
       "            evt.data.slice(0, 21) === 'data:image/png;base64'\n",
       "        ) {\n",
       "            fig.imageObj.src = evt.data;\n",
       "            fig.updated_canvas_event();\n",
       "            fig.waiting = false;\n",
       "            return;\n",
       "        }\n",
       "\n",
       "        var msg = JSON.parse(evt.data);\n",
       "        var msg_type = msg['type'];\n",
       "\n",
       "        // Call the  \"handle_{type}\" callback, which takes\n",
       "        // the figure and JSON message as its only arguments.\n",
       "        try {\n",
       "            var callback = fig['handle_' + msg_type];\n",
       "        } catch (e) {\n",
       "            console.log(\n",
       "                \"No handler for the '\" + msg_type + \"' message type: \",\n",
       "                msg\n",
       "            );\n",
       "            return;\n",
       "        }\n",
       "\n",
       "        if (callback) {\n",
       "            try {\n",
       "                // console.log(\"Handling '\" + msg_type + \"' message: \", msg);\n",
       "                callback(fig, msg);\n",
       "            } catch (e) {\n",
       "                console.log(\n",
       "                    \"Exception inside the 'handler_\" + msg_type + \"' callback:\",\n",
       "                    e,\n",
       "                    e.stack,\n",
       "                    msg\n",
       "                );\n",
       "            }\n",
       "        }\n",
       "    };\n",
       "};\n",
       "\n",
       "// from http://stackoverflow.com/questions/1114465/getting-mouse-location-in-canvas\n",
       "mpl.findpos = function (e) {\n",
       "    //this section is from http://www.quirksmode.org/js/events_properties.html\n",
       "    var targ;\n",
       "    if (!e) {\n",
       "        e = window.event;\n",
       "    }\n",
       "    if (e.target) {\n",
       "        targ = e.target;\n",
       "    } else if (e.srcElement) {\n",
       "        targ = e.srcElement;\n",
       "    }\n",
       "    if (targ.nodeType === 3) {\n",
       "        // defeat Safari bug\n",
       "        targ = targ.parentNode;\n",
       "    }\n",
       "\n",
       "    // pageX,Y are the mouse positions relative to the document\n",
       "    var boundingRect = targ.getBoundingClientRect();\n",
       "    var x = e.pageX - (boundingRect.left + document.body.scrollLeft);\n",
       "    var y = e.pageY - (boundingRect.top + document.body.scrollTop);\n",
       "\n",
       "    return { x: x, y: y };\n",
       "};\n",
       "\n",
       "/*\n",
       " * return a copy of an object with only non-object keys\n",
       " * we need this to avoid circular references\n",
       " * http://stackoverflow.com/a/24161582/3208463\n",
       " */\n",
       "function simpleKeys(original) {\n",
       "    return Object.keys(original).reduce(function (obj, key) {\n",
       "        if (typeof original[key] !== 'object') {\n",
       "            obj[key] = original[key];\n",
       "        }\n",
       "        return obj;\n",
       "    }, {});\n",
       "}\n",
       "\n",
       "mpl.figure.prototype.mouse_event = function (event, name) {\n",
       "    var canvas_pos = mpl.findpos(event);\n",
       "\n",
       "    if (name === 'button_press') {\n",
       "        this.canvas.focus();\n",
       "        this.canvas_div.focus();\n",
       "    }\n",
       "\n",
       "    var x = canvas_pos.x * this.ratio;\n",
       "    var y = canvas_pos.y * this.ratio;\n",
       "\n",
       "    this.send_message(name, {\n",
       "        x: x,\n",
       "        y: y,\n",
       "        button: event.button,\n",
       "        step: event.step,\n",
       "        guiEvent: simpleKeys(event),\n",
       "    });\n",
       "\n",
       "    /* This prevents the web browser from automatically changing to\n",
       "     * the text insertion cursor when the button is pressed.  We want\n",
       "     * to control all of the cursor setting manually through the\n",
       "     * 'cursor' event from matplotlib */\n",
       "    event.preventDefault();\n",
       "    return false;\n",
       "};\n",
       "\n",
       "mpl.figure.prototype._key_event_extra = function (_event, _name) {\n",
       "    // Handle any extra behaviour associated with a key event\n",
       "};\n",
       "\n",
       "mpl.figure.prototype.key_event = function (event, name) {\n",
       "    // Prevent repeat events\n",
       "    if (name === 'key_press') {\n",
       "        if (event.key === this._key) {\n",
       "            return;\n",
       "        } else {\n",
       "            this._key = event.key;\n",
       "        }\n",
       "    }\n",
       "    if (name === 'key_release') {\n",
       "        this._key = null;\n",
       "    }\n",
       "\n",
       "    var value = '';\n",
       "    if (event.ctrlKey && event.key !== 'Control') {\n",
       "        value += 'ctrl+';\n",
       "    }\n",
       "    else if (event.altKey && event.key !== 'Alt') {\n",
       "        value += 'alt+';\n",
       "    }\n",
       "    else if (event.shiftKey && event.key !== 'Shift') {\n",
       "        value += 'shift+';\n",
       "    }\n",
       "\n",
       "    value += 'k' + event.key;\n",
       "\n",
       "    this._key_event_extra(event, name);\n",
       "\n",
       "    this.send_message(name, { key: value, guiEvent: simpleKeys(event) });\n",
       "    return false;\n",
       "};\n",
       "\n",
       "mpl.figure.prototype.toolbar_button_onclick = function (name) {\n",
       "    if (name === 'download') {\n",
       "        this.handle_save(this, null);\n",
       "    } else {\n",
       "        this.send_message('toolbar_button', { name: name });\n",
       "    }\n",
       "};\n",
       "\n",
       "mpl.figure.prototype.toolbar_button_onmouseover = function (tooltip) {\n",
       "    this.message.textContent = tooltip;\n",
       "};\n",
       "\n",
       "///////////////// REMAINING CONTENT GENERATED BY embed_js.py /////////////////\n",
       "// prettier-ignore\n",
       "var _JSXTOOLS_RESIZE_OBSERVER=function(A){var t,i=new WeakMap,n=new WeakMap,a=new WeakMap,r=new WeakMap,o=new Set;function s(e){if(!(this instanceof s))throw new TypeError(\"Constructor requires 'new' operator\");i.set(this,e)}function h(){throw new TypeError(\"Function is not a constructor\")}function c(e,t,i,n){e=0 in arguments?Number(arguments[0]):0,t=1 in arguments?Number(arguments[1]):0,i=2 in arguments?Number(arguments[2]):0,n=3 in arguments?Number(arguments[3]):0,this.right=(this.x=this.left=e)+(this.width=i),this.bottom=(this.y=this.top=t)+(this.height=n),Object.freeze(this)}function d(){t=requestAnimationFrame(d);var s=new WeakMap,p=new Set;o.forEach((function(t){r.get(t).forEach((function(i){var r=t instanceof window.SVGElement,o=a.get(t),d=r?0:parseFloat(o.paddingTop),f=r?0:parseFloat(o.paddingRight),l=r?0:parseFloat(o.paddingBottom),u=r?0:parseFloat(o.paddingLeft),g=r?0:parseFloat(o.borderTopWidth),m=r?0:parseFloat(o.borderRightWidth),w=r?0:parseFloat(o.borderBottomWidth),b=u+f,F=d+l,v=(r?0:parseFloat(o.borderLeftWidth))+m,W=g+w,y=r?0:t.offsetHeight-W-t.clientHeight,E=r?0:t.offsetWidth-v-t.clientWidth,R=b+v,z=F+W,M=r?t.width:parseFloat(o.width)-R-E,O=r?t.height:parseFloat(o.height)-z-y;if(n.has(t)){var k=n.get(t);if(k[0]===M&&k[1]===O)return}n.set(t,[M,O]);var S=Object.create(h.prototype);S.target=t,S.contentRect=new c(u,d,M,O),s.has(i)||(s.set(i,[]),p.add(i)),s.get(i).push(S)}))})),p.forEach((function(e){i.get(e).call(e,s.get(e),e)}))}return s.prototype.observe=function(i){if(i instanceof window.Element){r.has(i)||(r.set(i,new Set),o.add(i),a.set(i,window.getComputedStyle(i)));var n=r.get(i);n.has(this)||n.add(this),cancelAnimationFrame(t),t=requestAnimationFrame(d)}},s.prototype.unobserve=function(i){if(i instanceof window.Element&&r.has(i)){var n=r.get(i);n.has(this)&&(n.delete(this),n.size||(r.delete(i),o.delete(i))),n.size||r.delete(i),o.size||cancelAnimationFrame(t)}},A.DOMRectReadOnly=c,A.ResizeObserver=s,A.ResizeObserverEntry=h,A}; // eslint-disable-line\n",
       "mpl.toolbar_items = [[\"Home\", \"Reset original view\", \"fa fa-home icon-home\", \"home\"], [\"Back\", \"Back to previous view\", \"fa fa-arrow-left icon-arrow-left\", \"back\"], [\"Forward\", \"Forward to next view\", \"fa fa-arrow-right icon-arrow-right\", \"forward\"], [\"\", \"\", \"\", \"\"], [\"Pan\", \"Left button pans, Right button zooms\\nx/y fixes axis, CTRL fixes aspect\", \"fa fa-arrows icon-move\", \"pan\"], [\"Zoom\", \"Zoom to rectangle\\nx/y fixes axis, CTRL fixes aspect\", \"fa fa-square-o icon-check-empty\", \"zoom\"], [\"\", \"\", \"\", \"\"], [\"Download\", \"Download plot\", \"fa fa-floppy-o icon-save\", \"download\"]];\n",
       "\n",
       "mpl.extensions = [\"eps\", \"jpeg\", \"pgf\", \"pdf\", \"png\", \"ps\", \"raw\", \"svg\", \"tif\"];\n",
       "\n",
       "mpl.default_extension = \"png\";/* global mpl */\n",
       "\n",
       "var comm_websocket_adapter = function (comm) {\n",
       "    // Create a \"websocket\"-like object which calls the given IPython comm\n",
       "    // object with the appropriate methods. Currently this is a non binary\n",
       "    // socket, so there is still some room for performance tuning.\n",
       "    var ws = {};\n",
       "\n",
       "    ws.binaryType = comm.kernel.ws.binaryType;\n",
       "    ws.readyState = comm.kernel.ws.readyState;\n",
       "    function updateReadyState(_event) {\n",
       "        if (comm.kernel.ws) {\n",
       "            ws.readyState = comm.kernel.ws.readyState;\n",
       "        } else {\n",
       "            ws.readyState = 3; // Closed state.\n",
       "        }\n",
       "    }\n",
       "    comm.kernel.ws.addEventListener('open', updateReadyState);\n",
       "    comm.kernel.ws.addEventListener('close', updateReadyState);\n",
       "    comm.kernel.ws.addEventListener('error', updateReadyState);\n",
       "\n",
       "    ws.close = function () {\n",
       "        comm.close();\n",
       "    };\n",
       "    ws.send = function (m) {\n",
       "        //console.log('sending', m);\n",
       "        comm.send(m);\n",
       "    };\n",
       "    // Register the callback with on_msg.\n",
       "    comm.on_msg(function (msg) {\n",
       "        //console.log('receiving', msg['content']['data'], msg);\n",
       "        var data = msg['content']['data'];\n",
       "        if (data['blob'] !== undefined) {\n",
       "            data = {\n",
       "                data: new Blob(msg['buffers'], { type: data['blob'] }),\n",
       "            };\n",
       "        }\n",
       "        // Pass the mpl event to the overridden (by mpl) onmessage function.\n",
       "        ws.onmessage(data);\n",
       "    });\n",
       "    return ws;\n",
       "};\n",
       "\n",
       "mpl.mpl_figure_comm = function (comm, msg) {\n",
       "    // This is the function which gets called when the mpl process\n",
       "    // starts-up an IPython Comm through the \"matplotlib\" channel.\n",
       "\n",
       "    var id = msg.content.data.id;\n",
       "    // Get hold of the div created by the display call when the Comm\n",
       "    // socket was opened in Python.\n",
       "    var element = document.getElementById(id);\n",
       "    var ws_proxy = comm_websocket_adapter(comm);\n",
       "\n",
       "    function ondownload(figure, _format) {\n",
       "        window.open(figure.canvas.toDataURL());\n",
       "    }\n",
       "\n",
       "    var fig = new mpl.figure(id, ws_proxy, ondownload, element);\n",
       "\n",
       "    // Call onopen now - mpl needs it, as it is assuming we've passed it a real\n",
       "    // web socket which is closed, not our websocket->open comm proxy.\n",
       "    ws_proxy.onopen();\n",
       "\n",
       "    fig.parent_element = element;\n",
       "    fig.cell_info = mpl.find_output_cell(\"<div id='\" + id + \"'></div>\");\n",
       "    if (!fig.cell_info) {\n",
       "        console.error('Failed to find cell for figure', id, fig);\n",
       "        return;\n",
       "    }\n",
       "    fig.cell_info[0].output_area.element.on(\n",
       "        'cleared',\n",
       "        { fig: fig },\n",
       "        fig._remove_fig_handler\n",
       "    );\n",
       "};\n",
       "\n",
       "mpl.figure.prototype.handle_close = function (fig, msg) {\n",
       "    var width = fig.canvas.width / fig.ratio;\n",
       "    fig.cell_info[0].output_area.element.off(\n",
       "        'cleared',\n",
       "        fig._remove_fig_handler\n",
       "    );\n",
       "    fig.resizeObserverInstance.unobserve(fig.canvas_div);\n",
       "\n",
       "    // Update the output cell to use the data from the current canvas.\n",
       "    fig.push_to_output();\n",
       "    var dataURL = fig.canvas.toDataURL();\n",
       "    // Re-enable the keyboard manager in IPython - without this line, in FF,\n",
       "    // the notebook keyboard shortcuts fail.\n",
       "    IPython.keyboard_manager.enable();\n",
       "    fig.parent_element.innerHTML =\n",
       "        '<img src=\"' + dataURL + '\" width=\"' + width + '\">';\n",
       "    fig.close_ws(fig, msg);\n",
       "};\n",
       "\n",
       "mpl.figure.prototype.close_ws = function (fig, msg) {\n",
       "    fig.send_message('closing', msg);\n",
       "    // fig.ws.close()\n",
       "};\n",
       "\n",
       "mpl.figure.prototype.push_to_output = function (_remove_interactive) {\n",
       "    // Turn the data on the canvas into data in the output cell.\n",
       "    var width = this.canvas.width / this.ratio;\n",
       "    var dataURL = this.canvas.toDataURL();\n",
       "    this.cell_info[1]['text/html'] =\n",
       "        '<img src=\"' + dataURL + '\" width=\"' + width + '\">';\n",
       "};\n",
       "\n",
       "mpl.figure.prototype.updated_canvas_event = function () {\n",
       "    // Tell IPython that the notebook contents must change.\n",
       "    IPython.notebook.set_dirty(true);\n",
       "    this.send_message('ack', {});\n",
       "    var fig = this;\n",
       "    // Wait a second, then push the new image to the DOM so\n",
       "    // that it is saved nicely (might be nice to debounce this).\n",
       "    setTimeout(function () {\n",
       "        fig.push_to_output();\n",
       "    }, 1000);\n",
       "};\n",
       "\n",
       "mpl.figure.prototype._init_toolbar = function () {\n",
       "    var fig = this;\n",
       "\n",
       "    var toolbar = document.createElement('div');\n",
       "    toolbar.classList = 'btn-toolbar';\n",
       "    this.root.appendChild(toolbar);\n",
       "\n",
       "    function on_click_closure(name) {\n",
       "        return function (_event) {\n",
       "            return fig.toolbar_button_onclick(name);\n",
       "        };\n",
       "    }\n",
       "\n",
       "    function on_mouseover_closure(tooltip) {\n",
       "        return function (event) {\n",
       "            if (!event.currentTarget.disabled) {\n",
       "                return fig.toolbar_button_onmouseover(tooltip);\n",
       "            }\n",
       "        };\n",
       "    }\n",
       "\n",
       "    fig.buttons = {};\n",
       "    var buttonGroup = document.createElement('div');\n",
       "    buttonGroup.classList = 'btn-group';\n",
       "    var button;\n",
       "    for (var toolbar_ind in mpl.toolbar_items) {\n",
       "        var name = mpl.toolbar_items[toolbar_ind][0];\n",
       "        var tooltip = mpl.toolbar_items[toolbar_ind][1];\n",
       "        var image = mpl.toolbar_items[toolbar_ind][2];\n",
       "        var method_name = mpl.toolbar_items[toolbar_ind][3];\n",
       "\n",
       "        if (!name) {\n",
       "            /* Instead of a spacer, we start a new button group. */\n",
       "            if (buttonGroup.hasChildNodes()) {\n",
       "                toolbar.appendChild(buttonGroup);\n",
       "            }\n",
       "            buttonGroup = document.createElement('div');\n",
       "            buttonGroup.classList = 'btn-group';\n",
       "            continue;\n",
       "        }\n",
       "\n",
       "        button = fig.buttons[name] = document.createElement('button');\n",
       "        button.classList = 'btn btn-default';\n",
       "        button.href = '#';\n",
       "        button.title = name;\n",
       "        button.innerHTML = '<i class=\"fa ' + image + ' fa-lg\"></i>';\n",
       "        button.addEventListener('click', on_click_closure(method_name));\n",
       "        button.addEventListener('mouseover', on_mouseover_closure(tooltip));\n",
       "        buttonGroup.appendChild(button);\n",
       "    }\n",
       "\n",
       "    if (buttonGroup.hasChildNodes()) {\n",
       "        toolbar.appendChild(buttonGroup);\n",
       "    }\n",
       "\n",
       "    // Add the status bar.\n",
       "    var status_bar = document.createElement('span');\n",
       "    status_bar.classList = 'mpl-message pull-right';\n",
       "    toolbar.appendChild(status_bar);\n",
       "    this.message = status_bar;\n",
       "\n",
       "    // Add the close button to the window.\n",
       "    var buttongrp = document.createElement('div');\n",
       "    buttongrp.classList = 'btn-group inline pull-right';\n",
       "    button = document.createElement('button');\n",
       "    button.classList = 'btn btn-mini btn-primary';\n",
       "    button.href = '#';\n",
       "    button.title = 'Stop Interaction';\n",
       "    button.innerHTML = '<i class=\"fa fa-power-off icon-remove icon-large\"></i>';\n",
       "    button.addEventListener('click', function (_evt) {\n",
       "        fig.handle_close(fig, {});\n",
       "    });\n",
       "    button.addEventListener(\n",
       "        'mouseover',\n",
       "        on_mouseover_closure('Stop Interaction')\n",
       "    );\n",
       "    buttongrp.appendChild(button);\n",
       "    var titlebar = this.root.querySelector('.ui-dialog-titlebar');\n",
       "    titlebar.insertBefore(buttongrp, titlebar.firstChild);\n",
       "};\n",
       "\n",
       "mpl.figure.prototype._remove_fig_handler = function (event) {\n",
       "    var fig = event.data.fig;\n",
       "    if (event.target !== this) {\n",
       "        // Ignore bubbled events from children.\n",
       "        return;\n",
       "    }\n",
       "    fig.close_ws(fig, {});\n",
       "};\n",
       "\n",
       "mpl.figure.prototype._root_extra_style = function (el) {\n",
       "    el.style.boxSizing = 'content-box'; // override notebook setting of border-box.\n",
       "};\n",
       "\n",
       "mpl.figure.prototype._canvas_extra_style = function (el) {\n",
       "    // this is important to make the div 'focusable\n",
       "    el.setAttribute('tabindex', 0);\n",
       "    // reach out to IPython and tell the keyboard manager to turn it's self\n",
       "    // off when our div gets focus\n",
       "\n",
       "    // location in version 3\n",
       "    if (IPython.notebook.keyboard_manager) {\n",
       "        IPython.notebook.keyboard_manager.register_events(el);\n",
       "    } else {\n",
       "        // location in version 2\n",
       "        IPython.keyboard_manager.register_events(el);\n",
       "    }\n",
       "};\n",
       "\n",
       "mpl.figure.prototype._key_event_extra = function (event, _name) {\n",
       "    var manager = IPython.notebook.keyboard_manager;\n",
       "    if (!manager) {\n",
       "        manager = IPython.keyboard_manager;\n",
       "    }\n",
       "\n",
       "    // Check for shift+enter\n",
       "    if (event.shiftKey && event.which === 13) {\n",
       "        this.canvas_div.blur();\n",
       "        // select the cell after this one\n",
       "        var index = IPython.notebook.find_cell_index(this.cell_info[0]);\n",
       "        IPython.notebook.select(index + 1);\n",
       "    }\n",
       "};\n",
       "\n",
       "mpl.figure.prototype.handle_save = function (fig, _msg) {\n",
       "    fig.ondownload(fig, null);\n",
       "};\n",
       "\n",
       "mpl.find_output_cell = function (html_output) {\n",
       "    // Return the cell and output element which can be found *uniquely* in the notebook.\n",
       "    // Note - this is a bit hacky, but it is done because the \"notebook_saving.Notebook\"\n",
       "    // IPython event is triggered only after the cells have been serialised, which for\n",
       "    // our purposes (turning an active figure into a static one), is too late.\n",
       "    var cells = IPython.notebook.get_cells();\n",
       "    var ncells = cells.length;\n",
       "    for (var i = 0; i < ncells; i++) {\n",
       "        var cell = cells[i];\n",
       "        if (cell.cell_type === 'code') {\n",
       "            for (var j = 0; j < cell.output_area.outputs.length; j++) {\n",
       "                var data = cell.output_area.outputs[j];\n",
       "                if (data.data) {\n",
       "                    // IPython >= 3 moved mimebundle to data attribute of output\n",
       "                    data = data.data;\n",
       "                }\n",
       "                if (data['text/html'] === html_output) {\n",
       "                    return [cell, data, j];\n",
       "                }\n",
       "            }\n",
       "        }\n",
       "    }\n",
       "};\n",
       "\n",
       "// Register the function which deals with the matplotlib target/channel.\n",
       "// The kernel may be null if the page has been refreshed.\n",
       "if (IPython.notebook.kernel !== null) {\n",
       "    IPython.notebook.kernel.comm_manager.register_target(\n",
       "        'matplotlib',\n",
       "        mpl.mpl_figure_comm\n",
       "    );\n",
       "}\n"
      ],
      "text/plain": [
       "<IPython.core.display.Javascript object>"
      ]
     },
     "metadata": {},
     "output_type": "display_data"
    },
    {
     "data": {
      "text/html": [
       "<img src=\"data:image/png;base64,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\" width=\"699.999984827909\">"
      ],
      "text/plain": [
       "<IPython.core.display.HTML object>"
      ]
     },
     "metadata": {},
     "output_type": "display_data"
    }
   ],
   "source": [
    "plt.figure(figsize=(7, 7))\n",
    "for i in range(100):\n",
    "    plt.subplot(10, 10, i+1)\n",
    "    draw_image(Xtrain[i], Ttrain[i,0])\n",
    "plt.tight_layout()"
   ]
  },
  {
   "cell_type": "code",
   "execution_count": 64,
   "metadata": {
    "ExecuteTime": {
     "end_time": "2021-09-24T18:26:35.559448Z",
     "start_time": "2021-09-24T18:26:24.848046Z"
    }
   },
   "outputs": [
    {
     "name": "stdout",
     "output_type": "stream",
     "text": [
      "SCG: Epoch 4 ObjectiveF=0.95819\n",
      "SCG: Epoch 8 ObjectiveF=0.96994\n",
      "SCG: Epoch 12 ObjectiveF=0.97146\n",
      "SCG: Epoch 16 ObjectiveF=0.97146\n",
      "SCG: Epoch 20 ObjectiveF=0.97146\n",
      "SCG: Epoch 24 ObjectiveF=0.97273\n",
      "SCG: Epoch 28 ObjectiveF=0.97421\n",
      "SCG: Epoch 32 ObjectiveF=0.97475\n",
      "SCG: Epoch 36 ObjectiveF=0.97494\n",
      "SCG: Epoch 40 ObjectiveF=0.97496\n"
     ]
    },
    {
     "data": {
      "text/plain": [
       "NeuralNetworkClassifier(784, [], 10)"
      ]
     },
     "execution_count": 64,
     "metadata": {},
     "output_type": "execute_result"
    }
   ],
   "source": [
    "nnet = nn.NeuralNetworkClassifier(784, [], 10)\n",
    "nnet.train(Xtrain, Ttrain, n_epochs=40, method='scg')"
   ]
  },
  {
   "cell_type": "code",
   "execution_count": 65,
   "metadata": {
    "ExecuteTime": {
     "end_time": "2021-09-24T18:26:38.412114Z",
     "start_time": "2021-09-24T18:26:38.396704Z"
    }
   },
   "outputs": [
    {
     "name": "stdout",
     "output_type": "stream",
     "text": [
      "NeuralNetworkClassifier(784, [], 10)\n",
      " Trained for 40 epochs.\n",
      " Final data likelihood 0.975.\n"
     ]
    }
   ],
   "source": [
    "print(nnet)"
   ]
  },
  {
   "cell_type": "code",
   "execution_count": 66,
   "metadata": {
    "ExecuteTime": {
     "end_time": "2021-09-24T18:26:40.847453Z",
     "start_time": "2021-09-24T18:26:40.687447Z"
    }
   },
   "outputs": [
    {
     "data": {
      "text/plain": [
       "[93.138, 92.65, 92.28]"
      ]
     },
     "execution_count": 66,
     "metadata": {},
     "output_type": "execute_result"
    }
   ],
   "source": [
    "[percent_correct(nnet.use(X)[0], T) for X, T in zip([Xtrain, Xval, Xtest], [Ttrain, Tval, Ttest])]"
   ]
  },
  {
   "cell_type": "code",
   "execution_count": 67,
   "metadata": {
    "ExecuteTime": {
     "end_time": "2021-09-24T18:27:01.309178Z",
     "start_time": "2021-09-24T18:26:43.792019Z"
    }
   },
   "outputs": [
    {
     "name": "stdout",
     "output_type": "stream",
     "text": [
      "SCG: Epoch 4 ObjectiveF=0.88560\n",
      "SCG: Epoch 8 ObjectiveF=0.95820\n",
      "SCG: Epoch 12 ObjectiveF=0.97325\n",
      "SCG: Epoch 16 ObjectiveF=0.97961\n",
      "SCG: Epoch 20 ObjectiveF=0.98322\n",
      "SCG: Epoch 24 ObjectiveF=0.98575\n",
      "SCG: Epoch 28 ObjectiveF=0.98762\n",
      "SCG: Epoch 32 ObjectiveF=0.98896\n",
      "SCG: Epoch 36 ObjectiveF=0.98981\n",
      "SCG: Epoch 40 ObjectiveF=0.99067\n"
     ]
    },
    {
     "data": {
      "text/plain": [
       "NeuralNetworkClassifier(784, [20], 10)"
      ]
     },
     "execution_count": 67,
     "metadata": {},
     "output_type": "execute_result"
    }
   ],
   "source": [
    "nnet = nn.NeuralNetworkClassifier(784, [20], 10)\n",
    "nnet.train(Xtrain, Ttrain, n_epochs=40, method='scg')"
   ]
  },
  {
   "cell_type": "code",
   "execution_count": 68,
   "metadata": {
    "ExecuteTime": {
     "end_time": "2021-09-24T18:27:01.528413Z",
     "start_time": "2021-09-24T18:27:01.310339Z"
    }
   },
   "outputs": [
    {
     "data": {
      "text/plain": [
       "[97.47200000000001, 94.21000000000001, 93.62]"
      ]
     },
     "execution_count": 68,
     "metadata": {},
     "output_type": "execute_result"
    }
   ],
   "source": [
    "[percent_correct(nnet.use(X)[0], T) for X, T in zip([Xtrain, Xval, Xtest],\n",
    "                                                    [Ttrain, Tval, Ttest])]"
   ]
  },
  {
   "cell_type": "markdown",
   "metadata": {},
   "source": [
    "# Experiments\n",
    "\n",
    "For each method, try various hidden layer structures, learning rates, and numbers of epochs.  Use the validation percent accuracy to pick the best hidden layers, learning rates and numbers of epochs for each method (ignore learning rates for scg).  Report training, validation and test accuracy for your best validation results for each of the three methods.\n",
    "\n",
    "Include plots of data likelihood versus epochs, and confusion matrices, for best results for each method.\n",
    "\n",
    "Write at least 10 sentences about what you observe in the likelihood plots, the train, validation and test accuracies, and the confusion matrices."
   ]
  },
  {
   "cell_type": "markdown",
   "metadata": {
    "ExecuteTime": {
     "end_time": "2020-10-16T20:44:33.927450Z",
     "start_time": "2020-10-16T20:44:33.925092Z"
    }
   },
   "source": [
    "# Grading\n",
    "\n",
    "Download [A3grader.tar](https://www.cs.colostate.edu/~anderson/cs545/notebooks/A3grader.tar), extract `A3grader.py` before running the following cell."
   ]
  },
  {
   "cell_type": "code",
   "execution_count": null,
   "metadata": {
    "ExecuteTime": {
     "end_time": "2020-10-16T21:31:34.762274Z",
     "start_time": "2020-10-16T21:31:33.286016Z"
    }
   },
   "outputs": [],
   "source": [
    "%run -i A3grader.py"
   ]
  },
  {
   "cell_type": "markdown",
   "metadata": {},
   "source": [
    "# Extra Credit\n",
    "\n",
    "Repeat the above experiments with a different data set.  Randonly partition your data into training, validaton and test parts if not already provided.  Write in markdown cells descriptions of the data and your results."
   ]
  }
 ],
 "metadata": {
  "kernelspec": {
   "display_name": "Python 3 (ipykernel)",
   "language": "python",
   "name": "python3"
  },
  "language_info": {
   "codemirror_mode": {
    "name": "ipython",
    "version": 3
   },
   "file_extension": ".py",
   "mimetype": "text/x-python",
   "name": "python",
   "nbconvert_exporter": "python",
   "pygments_lexer": "ipython3",
   "version": "3.8.11"
  },
  "toc": {
   "base_numbering": 1,
   "nav_menu": {},
   "number_sections": false,
   "sideBar": true,
   "skip_h1_title": false,
   "title_cell": "Table of Contents",
   "title_sidebar": "Contents",
   "toc_cell": true,
   "toc_position": {},
   "toc_section_display": true,
   "toc_window_display": false
  }
 },
 "nbformat": 4,
 "nbformat_minor": 4
}
