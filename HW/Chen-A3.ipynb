{
 "cells": [
  {
   "cell_type": "markdown",
   "metadata": {
    "toc": true
   },
   "source": [
    "<h1>Table of Contents<span class=\"tocSkip\"></span></h1>\n",
    "<div class=\"toc\"><ul class=\"toc-item\"><li><span><a href=\"#Neural-Network-Classifier\" data-toc-modified-id=\"Neural-Network-Classifier-1\">Neural Network Classifier</a></span></li><li><span><a href=\"#Apply-NeuralNetworkClassifier-to-Handwritten-Digits\" data-toc-modified-id=\"Apply-NeuralNetworkClassifier-to-Handwritten-Digits-2\">Apply <code>NeuralNetworkClassifier</code> to Handwritten Digits</a></span></li><li><span><a href=\"#Experiments\" data-toc-modified-id=\"Experiments-3\">Experiments</a></span></li><li><span><a href=\"#Grading\" data-toc-modified-id=\"Grading-4\">Grading</a></span></li><li><span><a href=\"#Extra-Credit\" data-toc-modified-id=\"Extra-Credit-5\">Extra Credit</a></span></li></ul></div>"
   ]
  },
  {
   "cell_type": "markdown",
   "metadata": {},
   "source": [
    "# Neural Network Classifier\n",
    "\n",
    "You may start with your `NeuralNetwork` class from A2, or start with the [implementation defined here](https://www.cs.colostate.edu/~anderson/cs545/notebooks/A2solution.tar) in which all functions meant be called by other functions in this class start with an underscore character. Implement the subclass `NeuralNetworkClassifier` that extends `NeuralNetwork` as discussed in class.  Your `NeuralNetworkClassifier` implementation should rely on inheriting functions from `NeuralNetwork` as much as possible. \n",
    "\n",
    "Your `neuralnetworks.py` file (notice it is plural) will now contain two classes, `NeuralNetwork` and `NeuralNetworkClassifier`.\n",
    "\n",
    "In `NeuralNetworkClassifier` replace the `error_f` function with one called `_neg_log_likelihood_f` and pass it instead of `error_f` into the optimization functions."
   ]
  },
  {
   "cell_type": "markdown",
   "metadata": {},
   "source": [
    "Here are some example tests."
   ]
  },
  {
   "cell_type": "code",
   "execution_count": 30,
   "metadata": {
    "ExecuteTime": {
     "end_time": "2021-09-24T18:23:36.114569Z",
     "start_time": "2021-09-24T18:23:36.106951Z"
    }
   },
   "outputs": [
    {
     "name": "stdout",
     "output_type": "stream",
     "text": [
      "The autoreload extension is already loaded. To reload it, use:\n",
      "  %reload_ext autoreload\n"
     ]
    }
   ],
   "source": [
    "%load_ext autoreload\n",
    "%autoreload 2"
   ]
  },
  {
   "cell_type": "code",
   "execution_count": 31,
   "metadata": {
    "ExecuteTime": {
     "end_time": "2021-09-24T18:25:40.384936Z",
     "start_time": "2021-09-24T18:25:40.310801Z"
    }
   },
   "outputs": [],
   "source": [
    "import numpy as np\n",
    "import neuralnetworks as nn\n",
    "import matplotlib.pyplot as plt\n",
    "%matplotlib notebook"
   ]
  },
  {
   "cell_type": "code",
   "execution_count": 32,
   "metadata": {
    "ExecuteTime": {
     "end_time": "2021-09-24T18:25:22.379902Z",
     "start_time": "2021-09-24T18:25:22.358849Z"
    }
   },
   "outputs": [
    {
     "data": {
      "text/plain": [
       "(array([[0, 0],\n",
       "        [1, 0],\n",
       "        [0, 1],\n",
       "        [1, 1]]),\n",
       " array([[0],\n",
       "        [1],\n",
       "        [1],\n",
       "        [0]]))"
      ]
     },
     "execution_count": 32,
     "metadata": {},
     "output_type": "execute_result"
    }
   ],
   "source": [
    "X = np.array([[0, 0], [1, 0], [0, 1], [1, 1]])\n",
    "T = np.array([[0], [1], [1], [0]])\n",
    "X, T"
   ]
  },
  {
   "cell_type": "code",
   "execution_count": 33,
   "metadata": {
    "ExecuteTime": {
     "end_time": "2021-09-24T18:25:22.769270Z",
     "start_time": "2021-09-24T18:25:22.746279Z"
    }
   },
   "outputs": [],
   "source": [
    "np.random.seed(111)\n",
    "nnet = nn.NeuralNetworkClassifier(2, [10], 2)"
   ]
  },
  {
   "cell_type": "code",
   "execution_count": 34,
   "metadata": {
    "ExecuteTime": {
     "end_time": "2021-09-24T18:25:23.267703Z",
     "start_time": "2021-09-24T18:25:23.245179Z"
    }
   },
   "outputs": [
    {
     "name": "stdout",
     "output_type": "stream",
     "text": [
      "NeuralNetwork(2, [10], 2)\n"
     ]
    }
   ],
   "source": [
    "print(nnet)"
   ]
  },
  {
   "cell_type": "code",
   "execution_count": 35,
   "metadata": {
    "ExecuteTime": {
     "end_time": "2021-09-24T18:25:23.656050Z",
     "start_time": "2021-09-24T18:25:23.632259Z"
    }
   },
   "outputs": [
    {
     "data": {
      "text/plain": [
       "[array([[0.35343662, 0.09761247, 0.25175879, 0.4441339 , 0.17050614,\n",
       "         0.08611927, 0.01297787, 0.24261672, 0.1378032 , 0.19494589],\n",
       "        [0.57198811, 0.13725143, 0.0468766 , 0.38659388, 0.35867477,\n",
       "         0.15834035, 0.26917306, 0.06833965, 0.04269942, 0.52006221],\n",
       "        [0.4583945 , 0.48530311, 0.47066025, 0.57212805, 0.3332892 ,\n",
       "         0.46982855, 0.24324799, 0.01584709, 0.26219591, 0.06081004]]),\n",
       " array([[0.24640112, 0.21037283],\n",
       "        [0.17043996, 0.08268264],\n",
       "        [0.30105116, 0.04162125],\n",
       "        [0.18555481, 0.14624395],\n",
       "        [0.12212025, 0.21945476],\n",
       "        [0.09733206, 0.12076903],\n",
       "        [0.09617199, 0.28559813],\n",
       "        [0.27700099, 0.24538331],\n",
       "        [0.01027463, 0.28443762],\n",
       "        [0.28656819, 0.24319635],\n",
       "        [0.14511079, 0.29148887]])]"
      ]
     },
     "execution_count": 35,
     "metadata": {},
     "output_type": "execute_result"
    }
   ],
   "source": [
    "nnet.Ws"
   ]
  },
  {
   "cell_type": "markdown",
   "metadata": {},
   "source": [
    "The `softmax` function can produce errors if the denominator is close to zero.  Here is an implentation you may use to avoid some of those errors.  This assumes you have the following import in your `neuralnetworks.py` file.\n",
    "\n",
    "`sys.float_info.epsilon` is also useful in your `_neg_log_likehood_f` function to avoid taking the `log` of zero."
   ]
  },
  {
   "cell_type": "code",
   "execution_count": 36,
   "metadata": {
    "ExecuteTime": {
     "end_time": "2021-09-24T18:25:24.837645Z",
     "start_time": "2021-09-24T18:25:24.829299Z"
    }
   },
   "outputs": [],
   "source": [
    "import sys  # for sys.float_info.epsilon "
   ]
  },
  {
   "cell_type": "code",
   "execution_count": 37,
   "metadata": {
    "ExecuteTime": {
     "end_time": "2021-09-24T18:25:25.274470Z",
     "start_time": "2021-09-24T18:25:25.249705Z"
    }
   },
   "outputs": [],
   "source": [
    "    def _softmax(self, Y):\n",
    "        '''Apply to final layer weighted sum outputs'''\n",
    "        # Trick to avoid overflow\n",
    "        maxY = Y.max()       \n",
    "        expY = np.exp(Y - maxY)\n",
    "        denom = expY.sum(1).reshape((-1, 1))\n",
    "        Y = expY / (denom + sys.float_info.epsilon)\n",
    "        return Y"
   ]
  },
  {
   "cell_type": "markdown",
   "metadata": {},
   "source": [
    "Replace the `error_f` function with `neg_log_likelihood`.  If you add some print statements in `_neg_log_likelihood` functions, you can compare your output to the following results."
   ]
  },
  {
   "cell_type": "code",
   "execution_count": 38,
   "metadata": {
    "ExecuteTime": {
     "end_time": "2021-09-24T18:25:26.072982Z",
     "start_time": "2021-09-24T18:25:26.056402Z"
    }
   },
   "outputs": [
    {
     "name": "stdout",
     "output_type": "stream",
     "text": [
      "sgd: Epoch 1 ObjectiveF=0.70718\n"
     ]
    },
    {
     "data": {
      "text/plain": [
       "NeuralNetwork(2, [10], 2)"
      ]
     },
     "execution_count": 38,
     "metadata": {},
     "output_type": "execute_result"
    }
   ],
   "source": [
    "nnet.train(X, T, n_epochs=1, method='sgd', learning_rate=0.01)"
   ]
  },
  {
   "cell_type": "code",
   "execution_count": 39,
   "metadata": {
    "ExecuteTime": {
     "end_time": "2021-09-24T18:25:26.839004Z",
     "start_time": "2021-09-24T18:25:26.830767Z"
    }
   },
   "outputs": [
    {
     "name": "stdout",
     "output_type": "stream",
     "text": [
      "NeuralNetwork(2, [10], 2)\n",
      " Trained for 1 epochs.\n",
      " Final standardized training error 0.7072.\n"
     ]
    }
   ],
   "source": [
    "print(nnet)"
   ]
  },
  {
   "cell_type": "markdown",
   "metadata": {},
   "source": [
    "Now if you comment out those print statements, you can run for more epochs without tons of output."
   ]
  },
  {
   "cell_type": "code",
   "execution_count": 40,
   "metadata": {
    "ExecuteTime": {
     "end_time": "2021-09-24T18:25:45.819326Z",
     "start_time": "2021-09-24T18:25:45.807629Z"
    }
   },
   "outputs": [],
   "source": [
    "np.random.seed(111)\n",
    "nnet = nn.NeuralNetworkClassifier(2, [10], 2)"
   ]
  },
  {
   "cell_type": "code",
   "execution_count": 41,
   "metadata": {
    "ExecuteTime": {
     "end_time": "2021-09-24T18:25:46.520206Z",
     "start_time": "2021-09-24T18:25:46.501689Z"
    }
   },
   "outputs": [
    {
     "name": "stdout",
     "output_type": "stream",
     "text": [
      "SCG: Epoch 10 ObjectiveF=0.99632\n",
      "SCG: Epoch 20 ObjectiveF=0.99996\n",
      "SCG: Epoch 30 ObjectiveF=1.00000\n"
     ]
    },
    {
     "data": {
      "text/plain": [
       "NeuralNetwork(2, [10], 2)"
      ]
     },
     "execution_count": 41,
     "metadata": {},
     "output_type": "execute_result"
    }
   ],
   "source": [
    "nnet.train(X, T, 100, method='scg')"
   ]
  },
  {
   "cell_type": "markdown",
   "metadata": {},
   "source": [
    "The `use()` function returns two `numpy` arrays. The first one are the class predictions for eachs sample, containing values from the set of unique values in `T` passed into the `train()` function.\n",
    "\n",
    "The second value are the probabilities of each class for each sample. This should a column for each unique value in `T`."
   ]
  },
  {
   "cell_type": "code",
   "execution_count": 42,
   "metadata": {
    "ExecuteTime": {
     "end_time": "2021-09-24T18:25:47.618829Z",
     "start_time": "2021-09-24T18:25:47.605349Z"
    }
   },
   "outputs": [
    {
     "data": {
      "text/plain": [
       "(array([[0],\n",
       "        [1],\n",
       "        [1],\n",
       "        [0]]),\n",
       " array([[9.99999991e-01, 9.38296242e-09],\n",
       "        [1.13219617e-08, 9.99999989e-01],\n",
       "        [8.63243119e-09, 9.99999991e-01],\n",
       "        [9.99999990e-01, 9.87947201e-09]]))"
      ]
     },
     "execution_count": 42,
     "metadata": {},
     "output_type": "execute_result"
    }
   ],
   "source": [
    "nnet.use(X)"
   ]
  },
  {
   "cell_type": "code",
   "execution_count": 43,
   "metadata": {
    "ExecuteTime": {
     "end_time": "2021-09-24T18:25:48.138607Z",
     "start_time": "2021-09-24T18:25:48.117505Z"
    }
   },
   "outputs": [],
   "source": [
    "def percent_correct(Y, T):\n",
    "    return np.mean(T == Y) * 100"
   ]
  },
  {
   "cell_type": "code",
   "execution_count": 44,
   "metadata": {
    "ExecuteTime": {
     "end_time": "2021-09-24T18:25:48.913883Z",
     "start_time": "2021-09-24T18:25:48.904446Z"
    }
   },
   "outputs": [
    {
     "data": {
      "text/plain": [
       "100.0"
      ]
     },
     "execution_count": 44,
     "metadata": {},
     "output_type": "execute_result"
    }
   ],
   "source": [
    "percent_correct(nnet.use(X)[0], T)"
   ]
  },
  {
   "cell_type": "markdown",
   "metadata": {},
   "source": [
    "Works!  The XOR problem was used early in the history of neural networks as a problem that cannot be solved with a linear model.  Let's try it.  It turns out our neural network code can do this if we use an empty list for the hidden unit structure!"
   ]
  },
  {
   "cell_type": "code",
   "execution_count": 45,
   "metadata": {
    "ExecuteTime": {
     "end_time": "2021-09-24T18:25:49.930009Z",
     "start_time": "2021-09-24T18:25:49.919549Z"
    }
   },
   "outputs": [
    {
     "data": {
      "text/plain": [
       "NeuralNetwork(2, [], 2)"
      ]
     },
     "execution_count": 45,
     "metadata": {},
     "output_type": "execute_result"
    }
   ],
   "source": [
    "nnet = nn.NeuralNetworkClassifier(2, [], 2)\n",
    "nnet.train(X, T, 100, method='scg')"
   ]
  },
  {
   "cell_type": "code",
   "execution_count": 46,
   "metadata": {
    "ExecuteTime": {
     "end_time": "2021-09-24T18:25:50.477779Z",
     "start_time": "2021-09-24T18:25:50.450527Z"
    }
   },
   "outputs": [
    {
     "data": {
      "text/plain": [
       "(array([[0],\n",
       "        [1],\n",
       "        [0],\n",
       "        [1]]),\n",
       " array([[0.5, 0.5],\n",
       "        [0.5, 0.5],\n",
       "        [0.5, 0.5],\n",
       "        [0.5, 0.5]]))"
      ]
     },
     "execution_count": 46,
     "metadata": {},
     "output_type": "execute_result"
    }
   ],
   "source": [
    "nnet.use(X)"
   ]
  },
  {
   "cell_type": "code",
   "execution_count": 47,
   "metadata": {
    "ExecuteTime": {
     "end_time": "2021-09-24T18:25:51.030958Z",
     "start_time": "2021-09-24T18:25:51.003631Z"
    }
   },
   "outputs": [
    {
     "data": {
      "text/plain": [
       "50.0"
      ]
     },
     "execution_count": 47,
     "metadata": {},
     "output_type": "execute_result"
    }
   ],
   "source": [
    "percent_correct(nnet.use(X)[0], T)"
   ]
  },
  {
   "cell_type": "markdown",
   "metadata": {},
   "source": [
    "A second way to evaluate a classifier is to calculate a confusion matrix. This shows the percent accuracy for each class, and also shows which classes are predicted in error.\n",
    "\n",
    "Here is a function you can use to show a confusion matrix."
   ]
  },
  {
   "cell_type": "code",
   "execution_count": 64,
   "metadata": {
    "ExecuteTime": {
     "end_time": "2021-09-24T18:25:53.392283Z",
     "start_time": "2021-09-24T18:25:53.383369Z"
    }
   },
   "outputs": [],
   "source": [
    "import pandas\n",
    "\n",
    "def confusion_matrix(Y_classes, T):\n",
    "    class_names = np.unique(T)\n",
    "    table = []\n",
    "    for true_class in class_names:\n",
    "        row = []\n",
    "        for Y_class in class_names:\n",
    "            row.append(100 * np.mean(Y_classes[T == true_class] == Y_class))\n",
    "        table.append(row)\n",
    "    conf_matrix = pandas.DataFrame(table, index=class_names, columns=class_names)\n",
    "    # cf.style.background_gradient(cmap='Blues').format(\"{:.1f} %\")\n",
    "    print('Percent Correct')\n",
    "    return conf_matrix.style.background_gradient(cmap='Blues').format(\"{:.1f}\")"
   ]
  },
  {
   "cell_type": "code",
   "execution_count": 65,
   "metadata": {
    "ExecuteTime": {
     "end_time": "2021-09-24T18:25:54.376110Z",
     "start_time": "2021-09-24T18:25:54.361173Z"
    }
   },
   "outputs": [
    {
     "name": "stdout",
     "output_type": "stream",
     "text": [
      "Percent Correct\n"
     ]
    },
    {
     "data": {
      "text/html": [
       "<style  type=\"text/css\" >\n",
       "#T_5628b2fb_2ae3_11ec_a739_b3f8fba1700brow0_col0,#T_5628b2fb_2ae3_11ec_a739_b3f8fba1700brow0_col1,#T_5628b2fb_2ae3_11ec_a739_b3f8fba1700brow1_col0,#T_5628b2fb_2ae3_11ec_a739_b3f8fba1700brow1_col1{\n",
       "            background-color:  #f7fbff;\n",
       "            color:  #000000;\n",
       "        }</style><table id=\"T_5628b2fb_2ae3_11ec_a739_b3f8fba1700b\" ><thead>    <tr>        <th class=\"blank level0\" ></th>        <th class=\"col_heading level0 col0\" >0</th>        <th class=\"col_heading level0 col1\" >1</th>    </tr></thead><tbody>\n",
       "                <tr>\n",
       "                        <th id=\"T_5628b2fb_2ae3_11ec_a739_b3f8fba1700blevel0_row0\" class=\"row_heading level0 row0\" >0</th>\n",
       "                        <td id=\"T_5628b2fb_2ae3_11ec_a739_b3f8fba1700brow0_col0\" class=\"data row0 col0\" >50.0</td>\n",
       "                        <td id=\"T_5628b2fb_2ae3_11ec_a739_b3f8fba1700brow0_col1\" class=\"data row0 col1\" >50.0</td>\n",
       "            </tr>\n",
       "            <tr>\n",
       "                        <th id=\"T_5628b2fb_2ae3_11ec_a739_b3f8fba1700blevel0_row1\" class=\"row_heading level0 row1\" >1</th>\n",
       "                        <td id=\"T_5628b2fb_2ae3_11ec_a739_b3f8fba1700brow1_col0\" class=\"data row1 col0\" >50.0</td>\n",
       "                        <td id=\"T_5628b2fb_2ae3_11ec_a739_b3f8fba1700brow1_col1\" class=\"data row1 col1\" >50.0</td>\n",
       "            </tr>\n",
       "    </tbody></table>"
      ],
      "text/plain": [
       "<pandas.io.formats.style.Styler at 0x7ff18c0794c0>"
      ]
     },
     "execution_count": 65,
     "metadata": {},
     "output_type": "execute_result"
    }
   ],
   "source": [
    "confusion_matrix(nnet.use(X)[0], T)"
   ]
  },
  {
   "cell_type": "markdown",
   "metadata": {},
   "source": [
    "# Apply `NeuralNetworkClassifier` to Handwritten Digits"
   ]
  },
  {
   "cell_type": "markdown",
   "metadata": {},
   "source": [
    "Apply your `NeuralNetworkClassifier` to the [MNIST digits dataset](https://www.cs.colostate.edu/~anderson/cs545/notebooks/mnist.pkl.gz)."
   ]
  },
  {
   "cell_type": "code",
   "execution_count": 21,
   "metadata": {
    "ExecuteTime": {
     "end_time": "2021-09-24T18:26:20.510347Z",
     "start_time": "2021-09-24T18:26:20.498151Z"
    }
   },
   "outputs": [],
   "source": [
    "import pickle\n",
    "import gzip"
   ]
  },
  {
   "cell_type": "code",
   "execution_count": 22,
   "metadata": {
    "ExecuteTime": {
     "end_time": "2021-09-24T18:26:21.598636Z",
     "start_time": "2021-09-24T18:26:20.981257Z"
    }
   },
   "outputs": [
    {
     "name": "stdout",
     "output_type": "stream",
     "text": [
      "(50000, 784) (50000, 1) (10000, 784) (10000, 1) (10000, 784) (10000, 1)\n"
     ]
    }
   ],
   "source": [
    "with gzip.open('../code/mnist.pkl.gz', 'rb') as f:\n",
    "    train_set, valid_set, test_set = pickle.load(f, encoding='latin1')\n",
    "\n",
    "Xtrain = train_set[0]\n",
    "Ttrain = train_set[1].reshape(-1, 1)\n",
    "\n",
    "Xval = valid_set[0]\n",
    "Tval = valid_set[1].reshape(-1, 1)\n",
    "\n",
    "Xtest = test_set[0]\n",
    "Ttest = test_set[1].reshape(-1, 1)\n",
    "\n",
    "print(Xtrain.shape, Ttrain.shape,  Xval.shape, Tval.shape,  Xtest.shape, Ttest.shape)"
   ]
  },
  {
   "cell_type": "code",
   "execution_count": 23,
   "metadata": {
    "ExecuteTime": {
     "end_time": "2021-09-24T18:26:21.609303Z",
     "start_time": "2021-09-24T18:26:21.599676Z"
    }
   },
   "outputs": [
    {
     "data": {
      "text/plain": [
       "784"
      ]
     },
     "execution_count": 23,
     "metadata": {},
     "output_type": "execute_result"
    }
   ],
   "source": [
    "28*28"
   ]
  },
  {
   "cell_type": "code",
   "execution_count": 24,
   "metadata": {
    "ExecuteTime": {
     "end_time": "2021-09-24T18:26:22.187860Z",
     "start_time": "2021-09-24T18:26:22.162227Z"
    }
   },
   "outputs": [],
   "source": [
    "def draw_image(image, label):\n",
    "    plt.imshow(-image.reshape(28, 28), cmap='gray')\n",
    "    plt.xticks([])\n",
    "    plt.yticks([])\n",
    "    plt.axis('off')\n",
    "    plt.title(label)"
   ]
  },
  {
   "cell_type": "code",
   "execution_count": 25,
   "metadata": {
    "ExecuteTime": {
     "end_time": "2021-09-24T18:26:24.129141Z",
     "start_time": "2021-09-24T18:26:22.682916Z"
    }
   },
   "outputs": [
    {
     "data": {
      "application/javascript": [
       "/* Put everything inside the global mpl namespace */\n",
       "window.mpl = {};\n",
       "\n",
       "\n",
       "mpl.get_websocket_type = function() {\n",
       "    if (typeof(WebSocket) !== 'undefined') {\n",
       "        return WebSocket;\n",
       "    } else if (typeof(MozWebSocket) !== 'undefined') {\n",
       "        return MozWebSocket;\n",
       "    } else {\n",
       "        alert('Your browser does not have WebSocket support. ' +\n",
       "              'Please try Chrome, Safari or Firefox ≥ 6. ' +\n",
       "              'Firefox 4 and 5 are also supported but you ' +\n",
       "              'have to enable WebSockets in about:config.');\n",
       "    };\n",
       "}\n",
       "\n",
       "mpl.figure = function(figure_id, websocket, ondownload, parent_element) {\n",
       "    this.id = figure_id;\n",
       "\n",
       "    this.ws = websocket;\n",
       "\n",
       "    this.supports_binary = (this.ws.binaryType != undefined);\n",
       "\n",
       "    if (!this.supports_binary) {\n",
       "        var warnings = document.getElementById(\"mpl-warnings\");\n",
       "        if (warnings) {\n",
       "            warnings.style.display = 'block';\n",
       "            warnings.textContent = (\n",
       "                \"This browser does not support binary websocket messages. \" +\n",
       "                    \"Performance may be slow.\");\n",
       "        }\n",
       "    }\n",
       "\n",
       "    this.imageObj = new Image();\n",
       "\n",
       "    this.context = undefined;\n",
       "    this.message = undefined;\n",
       "    this.canvas = undefined;\n",
       "    this.rubberband_canvas = undefined;\n",
       "    this.rubberband_context = undefined;\n",
       "    this.format_dropdown = undefined;\n",
       "\n",
       "    this.image_mode = 'full';\n",
       "\n",
       "    this.root = $('<div/>');\n",
       "    this._root_extra_style(this.root)\n",
       "    this.root.attr('style', 'display: inline-block');\n",
       "\n",
       "    $(parent_element).append(this.root);\n",
       "\n",
       "    this._init_header(this);\n",
       "    this._init_canvas(this);\n",
       "    this._init_toolbar(this);\n",
       "\n",
       "    var fig = this;\n",
       "\n",
       "    this.waiting = false;\n",
       "\n",
       "    this.ws.onopen =  function () {\n",
       "            fig.send_message(\"supports_binary\", {value: fig.supports_binary});\n",
       "            fig.send_message(\"send_image_mode\", {});\n",
       "            if (mpl.ratio != 1) {\n",
       "                fig.send_message(\"set_dpi_ratio\", {'dpi_ratio': mpl.ratio});\n",
       "            }\n",
       "            fig.send_message(\"refresh\", {});\n",
       "        }\n",
       "\n",
       "    this.imageObj.onload = function() {\n",
       "            if (fig.image_mode == 'full') {\n",
       "                // Full images could contain transparency (where diff images\n",
       "                // almost always do), so we need to clear the canvas so that\n",
       "                // there is no ghosting.\n",
       "                fig.context.clearRect(0, 0, fig.canvas.width, fig.canvas.height);\n",
       "            }\n",
       "            fig.context.drawImage(fig.imageObj, 0, 0);\n",
       "        };\n",
       "\n",
       "    this.imageObj.onunload = function() {\n",
       "        fig.ws.close();\n",
       "    }\n",
       "\n",
       "    this.ws.onmessage = this._make_on_message_function(this);\n",
       "\n",
       "    this.ondownload = ondownload;\n",
       "}\n",
       "\n",
       "mpl.figure.prototype._init_header = function() {\n",
       "    var titlebar = $(\n",
       "        '<div class=\"ui-dialog-titlebar ui-widget-header ui-corner-all ' +\n",
       "        'ui-helper-clearfix\"/>');\n",
       "    var titletext = $(\n",
       "        '<div class=\"ui-dialog-title\" style=\"width: 100%; ' +\n",
       "        'text-align: center; padding: 3px;\"/>');\n",
       "    titlebar.append(titletext)\n",
       "    this.root.append(titlebar);\n",
       "    this.header = titletext[0];\n",
       "}\n",
       "\n",
       "\n",
       "\n",
       "mpl.figure.prototype._canvas_extra_style = function(canvas_div) {\n",
       "\n",
       "}\n",
       "\n",
       "\n",
       "mpl.figure.prototype._root_extra_style = function(canvas_div) {\n",
       "\n",
       "}\n",
       "\n",
       "mpl.figure.prototype._init_canvas = function() {\n",
       "    var fig = this;\n",
       "\n",
       "    var canvas_div = $('<div/>');\n",
       "\n",
       "    canvas_div.attr('style', 'position: relative; clear: both; outline: 0');\n",
       "\n",
       "    function canvas_keyboard_event(event) {\n",
       "        return fig.key_event(event, event['data']);\n",
       "    }\n",
       "\n",
       "    canvas_div.keydown('key_press', canvas_keyboard_event);\n",
       "    canvas_div.keyup('key_release', canvas_keyboard_event);\n",
       "    this.canvas_div = canvas_div\n",
       "    this._canvas_extra_style(canvas_div)\n",
       "    this.root.append(canvas_div);\n",
       "\n",
       "    var canvas = $('<canvas/>');\n",
       "    canvas.addClass('mpl-canvas');\n",
       "    canvas.attr('style', \"left: 0; top: 0; z-index: 0; outline: 0\")\n",
       "\n",
       "    this.canvas = canvas[0];\n",
       "    this.context = canvas[0].getContext(\"2d\");\n",
       "\n",
       "    var backingStore = this.context.backingStorePixelRatio ||\n",
       "\tthis.context.webkitBackingStorePixelRatio ||\n",
       "\tthis.context.mozBackingStorePixelRatio ||\n",
       "\tthis.context.msBackingStorePixelRatio ||\n",
       "\tthis.context.oBackingStorePixelRatio ||\n",
       "\tthis.context.backingStorePixelRatio || 1;\n",
       "\n",
       "    mpl.ratio = (window.devicePixelRatio || 1) / backingStore;\n",
       "\n",
       "    var rubberband = $('<canvas/>');\n",
       "    rubberband.attr('style', \"position: absolute; left: 0; top: 0; z-index: 1;\")\n",
       "\n",
       "    var pass_mouse_events = true;\n",
       "\n",
       "    canvas_div.resizable({\n",
       "        start: function(event, ui) {\n",
       "            pass_mouse_events = false;\n",
       "        },\n",
       "        resize: function(event, ui) {\n",
       "            fig.request_resize(ui.size.width, ui.size.height);\n",
       "        },\n",
       "        stop: function(event, ui) {\n",
       "            pass_mouse_events = true;\n",
       "            fig.request_resize(ui.size.width, ui.size.height);\n",
       "        },\n",
       "    });\n",
       "\n",
       "    function mouse_event_fn(event) {\n",
       "        if (pass_mouse_events)\n",
       "            return fig.mouse_event(event, event['data']);\n",
       "    }\n",
       "\n",
       "    rubberband.mousedown('button_press', mouse_event_fn);\n",
       "    rubberband.mouseup('button_release', mouse_event_fn);\n",
       "    // Throttle sequential mouse events to 1 every 20ms.\n",
       "    rubberband.mousemove('motion_notify', mouse_event_fn);\n",
       "\n",
       "    rubberband.mouseenter('figure_enter', mouse_event_fn);\n",
       "    rubberband.mouseleave('figure_leave', mouse_event_fn);\n",
       "\n",
       "    canvas_div.on(\"wheel\", function (event) {\n",
       "        event = event.originalEvent;\n",
       "        event['data'] = 'scroll'\n",
       "        if (event.deltaY < 0) {\n",
       "            event.step = 1;\n",
       "        } else {\n",
       "            event.step = -1;\n",
       "        }\n",
       "        mouse_event_fn(event);\n",
       "    });\n",
       "\n",
       "    canvas_div.append(canvas);\n",
       "    canvas_div.append(rubberband);\n",
       "\n",
       "    this.rubberband = rubberband;\n",
       "    this.rubberband_canvas = rubberband[0];\n",
       "    this.rubberband_context = rubberband[0].getContext(\"2d\");\n",
       "    this.rubberband_context.strokeStyle = \"#000000\";\n",
       "\n",
       "    this._resize_canvas = function(width, height) {\n",
       "        // Keep the size of the canvas, canvas container, and rubber band\n",
       "        // canvas in synch.\n",
       "        canvas_div.css('width', width)\n",
       "        canvas_div.css('height', height)\n",
       "\n",
       "        canvas.attr('width', width * mpl.ratio);\n",
       "        canvas.attr('height', height * mpl.ratio);\n",
       "        canvas.attr('style', 'width: ' + width + 'px; height: ' + height + 'px;');\n",
       "\n",
       "        rubberband.attr('width', width);\n",
       "        rubberband.attr('height', height);\n",
       "    }\n",
       "\n",
       "    // Set the figure to an initial 600x600px, this will subsequently be updated\n",
       "    // upon first draw.\n",
       "    this._resize_canvas(600, 600);\n",
       "\n",
       "    // Disable right mouse context menu.\n",
       "    $(this.rubberband_canvas).bind(\"contextmenu\",function(e){\n",
       "        return false;\n",
       "    });\n",
       "\n",
       "    function set_focus () {\n",
       "        canvas.focus();\n",
       "        canvas_div.focus();\n",
       "    }\n",
       "\n",
       "    window.setTimeout(set_focus, 100);\n",
       "}\n",
       "\n",
       "mpl.figure.prototype._init_toolbar = function() {\n",
       "    var fig = this;\n",
       "\n",
       "    var nav_element = $('<div/>');\n",
       "    nav_element.attr('style', 'width: 100%');\n",
       "    this.root.append(nav_element);\n",
       "\n",
       "    // Define a callback function for later on.\n",
       "    function toolbar_event(event) {\n",
       "        return fig.toolbar_button_onclick(event['data']);\n",
       "    }\n",
       "    function toolbar_mouse_event(event) {\n",
       "        return fig.toolbar_button_onmouseover(event['data']);\n",
       "    }\n",
       "\n",
       "    for(var toolbar_ind in mpl.toolbar_items) {\n",
       "        var name = mpl.toolbar_items[toolbar_ind][0];\n",
       "        var tooltip = mpl.toolbar_items[toolbar_ind][1];\n",
       "        var image = mpl.toolbar_items[toolbar_ind][2];\n",
       "        var method_name = mpl.toolbar_items[toolbar_ind][3];\n",
       "\n",
       "        if (!name) {\n",
       "            // put a spacer in here.\n",
       "            continue;\n",
       "        }\n",
       "        var button = $('<button/>');\n",
       "        button.addClass('ui-button ui-widget ui-state-default ui-corner-all ' +\n",
       "                        'ui-button-icon-only');\n",
       "        button.attr('role', 'button');\n",
       "        button.attr('aria-disabled', 'false');\n",
       "        button.click(method_name, toolbar_event);\n",
       "        button.mouseover(tooltip, toolbar_mouse_event);\n",
       "\n",
       "        var icon_img = $('<span/>');\n",
       "        icon_img.addClass('ui-button-icon-primary ui-icon');\n",
       "        icon_img.addClass(image);\n",
       "        icon_img.addClass('ui-corner-all');\n",
       "\n",
       "        var tooltip_span = $('<span/>');\n",
       "        tooltip_span.addClass('ui-button-text');\n",
       "        tooltip_span.html(tooltip);\n",
       "\n",
       "        button.append(icon_img);\n",
       "        button.append(tooltip_span);\n",
       "\n",
       "        nav_element.append(button);\n",
       "    }\n",
       "\n",
       "    var fmt_picker_span = $('<span/>');\n",
       "\n",
       "    var fmt_picker = $('<select/>');\n",
       "    fmt_picker.addClass('mpl-toolbar-option ui-widget ui-widget-content');\n",
       "    fmt_picker_span.append(fmt_picker);\n",
       "    nav_element.append(fmt_picker_span);\n",
       "    this.format_dropdown = fmt_picker[0];\n",
       "\n",
       "    for (var ind in mpl.extensions) {\n",
       "        var fmt = mpl.extensions[ind];\n",
       "        var option = $(\n",
       "            '<option/>', {selected: fmt === mpl.default_extension}).html(fmt);\n",
       "        fmt_picker.append(option);\n",
       "    }\n",
       "\n",
       "    // Add hover states to the ui-buttons\n",
       "    $( \".ui-button\" ).hover(\n",
       "        function() { $(this).addClass(\"ui-state-hover\");},\n",
       "        function() { $(this).removeClass(\"ui-state-hover\");}\n",
       "    );\n",
       "\n",
       "    var status_bar = $('<span class=\"mpl-message\"/>');\n",
       "    nav_element.append(status_bar);\n",
       "    this.message = status_bar[0];\n",
       "}\n",
       "\n",
       "mpl.figure.prototype.request_resize = function(x_pixels, y_pixels) {\n",
       "    // Request matplotlib to resize the figure. Matplotlib will then trigger a resize in the client,\n",
       "    // which will in turn request a refresh of the image.\n",
       "    this.send_message('resize', {'width': x_pixels, 'height': y_pixels});\n",
       "}\n",
       "\n",
       "mpl.figure.prototype.send_message = function(type, properties) {\n",
       "    properties['type'] = type;\n",
       "    properties['figure_id'] = this.id;\n",
       "    this.ws.send(JSON.stringify(properties));\n",
       "}\n",
       "\n",
       "mpl.figure.prototype.send_draw_message = function() {\n",
       "    if (!this.waiting) {\n",
       "        this.waiting = true;\n",
       "        this.ws.send(JSON.stringify({type: \"draw\", figure_id: this.id}));\n",
       "    }\n",
       "}\n",
       "\n",
       "\n",
       "mpl.figure.prototype.handle_save = function(fig, msg) {\n",
       "    var format_dropdown = fig.format_dropdown;\n",
       "    var format = format_dropdown.options[format_dropdown.selectedIndex].value;\n",
       "    fig.ondownload(fig, format);\n",
       "}\n",
       "\n",
       "\n",
       "mpl.figure.prototype.handle_resize = function(fig, msg) {\n",
       "    var size = msg['size'];\n",
       "    if (size[0] != fig.canvas.width || size[1] != fig.canvas.height) {\n",
       "        fig._resize_canvas(size[0], size[1]);\n",
       "        fig.send_message(\"refresh\", {});\n",
       "    };\n",
       "}\n",
       "\n",
       "mpl.figure.prototype.handle_rubberband = function(fig, msg) {\n",
       "    var x0 = msg['x0'] / mpl.ratio;\n",
       "    var y0 = (fig.canvas.height - msg['y0']) / mpl.ratio;\n",
       "    var x1 = msg['x1'] / mpl.ratio;\n",
       "    var y1 = (fig.canvas.height - msg['y1']) / mpl.ratio;\n",
       "    x0 = Math.floor(x0) + 0.5;\n",
       "    y0 = Math.floor(y0) + 0.5;\n",
       "    x1 = Math.floor(x1) + 0.5;\n",
       "    y1 = Math.floor(y1) + 0.5;\n",
       "    var min_x = Math.min(x0, x1);\n",
       "    var min_y = Math.min(y0, y1);\n",
       "    var width = Math.abs(x1 - x0);\n",
       "    var height = Math.abs(y1 - y0);\n",
       "\n",
       "    fig.rubberband_context.clearRect(\n",
       "        0, 0, fig.canvas.width / mpl.ratio, fig.canvas.height / mpl.ratio);\n",
       "\n",
       "    fig.rubberband_context.strokeRect(min_x, min_y, width, height);\n",
       "}\n",
       "\n",
       "mpl.figure.prototype.handle_figure_label = function(fig, msg) {\n",
       "    // Updates the figure title.\n",
       "    fig.header.textContent = msg['label'];\n",
       "}\n",
       "\n",
       "mpl.figure.prototype.handle_cursor = function(fig, msg) {\n",
       "    var cursor = msg['cursor'];\n",
       "    switch(cursor)\n",
       "    {\n",
       "    case 0:\n",
       "        cursor = 'pointer';\n",
       "        break;\n",
       "    case 1:\n",
       "        cursor = 'default';\n",
       "        break;\n",
       "    case 2:\n",
       "        cursor = 'crosshair';\n",
       "        break;\n",
       "    case 3:\n",
       "        cursor = 'move';\n",
       "        break;\n",
       "    }\n",
       "    fig.rubberband_canvas.style.cursor = cursor;\n",
       "}\n",
       "\n",
       "mpl.figure.prototype.handle_message = function(fig, msg) {\n",
       "    fig.message.textContent = msg['message'];\n",
       "}\n",
       "\n",
       "mpl.figure.prototype.handle_draw = function(fig, msg) {\n",
       "    // Request the server to send over a new figure.\n",
       "    fig.send_draw_message();\n",
       "}\n",
       "\n",
       "mpl.figure.prototype.handle_image_mode = function(fig, msg) {\n",
       "    fig.image_mode = msg['mode'];\n",
       "}\n",
       "\n",
       "mpl.figure.prototype.updated_canvas_event = function() {\n",
       "    // Called whenever the canvas gets updated.\n",
       "    this.send_message(\"ack\", {});\n",
       "}\n",
       "\n",
       "// A function to construct a web socket function for onmessage handling.\n",
       "// Called in the figure constructor.\n",
       "mpl.figure.prototype._make_on_message_function = function(fig) {\n",
       "    return function socket_on_message(evt) {\n",
       "        if (evt.data instanceof Blob) {\n",
       "            /* FIXME: We get \"Resource interpreted as Image but\n",
       "             * transferred with MIME type text/plain:\" errors on\n",
       "             * Chrome.  But how to set the MIME type?  It doesn't seem\n",
       "             * to be part of the websocket stream */\n",
       "            evt.data.type = \"image/png\";\n",
       "\n",
       "            /* Free the memory for the previous frames */\n",
       "            if (fig.imageObj.src) {\n",
       "                (window.URL || window.webkitURL).revokeObjectURL(\n",
       "                    fig.imageObj.src);\n",
       "            }\n",
       "\n",
       "            fig.imageObj.src = (window.URL || window.webkitURL).createObjectURL(\n",
       "                evt.data);\n",
       "            fig.updated_canvas_event();\n",
       "            fig.waiting = false;\n",
       "            return;\n",
       "        }\n",
       "        else if (typeof evt.data === 'string' && evt.data.slice(0, 21) == \"data:image/png;base64\") {\n",
       "            fig.imageObj.src = evt.data;\n",
       "            fig.updated_canvas_event();\n",
       "            fig.waiting = false;\n",
       "            return;\n",
       "        }\n",
       "\n",
       "        var msg = JSON.parse(evt.data);\n",
       "        var msg_type = msg['type'];\n",
       "\n",
       "        // Call the  \"handle_{type}\" callback, which takes\n",
       "        // the figure and JSON message as its only arguments.\n",
       "        try {\n",
       "            var callback = fig[\"handle_\" + msg_type];\n",
       "        } catch (e) {\n",
       "            console.log(\"No handler for the '\" + msg_type + \"' message type: \", msg);\n",
       "            return;\n",
       "        }\n",
       "\n",
       "        if (callback) {\n",
       "            try {\n",
       "                // console.log(\"Handling '\" + msg_type + \"' message: \", msg);\n",
       "                callback(fig, msg);\n",
       "            } catch (e) {\n",
       "                console.log(\"Exception inside the 'handler_\" + msg_type + \"' callback:\", e, e.stack, msg);\n",
       "            }\n",
       "        }\n",
       "    };\n",
       "}\n",
       "\n",
       "// from http://stackoverflow.com/questions/1114465/getting-mouse-location-in-canvas\n",
       "mpl.findpos = function(e) {\n",
       "    //this section is from http://www.quirksmode.org/js/events_properties.html\n",
       "    var targ;\n",
       "    if (!e)\n",
       "        e = window.event;\n",
       "    if (e.target)\n",
       "        targ = e.target;\n",
       "    else if (e.srcElement)\n",
       "        targ = e.srcElement;\n",
       "    if (targ.nodeType == 3) // defeat Safari bug\n",
       "        targ = targ.parentNode;\n",
       "\n",
       "    // jQuery normalizes the pageX and pageY\n",
       "    // pageX,Y are the mouse positions relative to the document\n",
       "    // offset() returns the position of the element relative to the document\n",
       "    var x = e.pageX - $(targ).offset().left;\n",
       "    var y = e.pageY - $(targ).offset().top;\n",
       "\n",
       "    return {\"x\": x, \"y\": y};\n",
       "};\n",
       "\n",
       "/*\n",
       " * return a copy of an object with only non-object keys\n",
       " * we need this to avoid circular references\n",
       " * http://stackoverflow.com/a/24161582/3208463\n",
       " */\n",
       "function simpleKeys (original) {\n",
       "  return Object.keys(original).reduce(function (obj, key) {\n",
       "    if (typeof original[key] !== 'object')\n",
       "        obj[key] = original[key]\n",
       "    return obj;\n",
       "  }, {});\n",
       "}\n",
       "\n",
       "mpl.figure.prototype.mouse_event = function(event, name) {\n",
       "    var canvas_pos = mpl.findpos(event)\n",
       "\n",
       "    if (name === 'button_press')\n",
       "    {\n",
       "        this.canvas.focus();\n",
       "        this.canvas_div.focus();\n",
       "    }\n",
       "\n",
       "    var x = canvas_pos.x * mpl.ratio;\n",
       "    var y = canvas_pos.y * mpl.ratio;\n",
       "\n",
       "    this.send_message(name, {x: x, y: y, button: event.button,\n",
       "                             step: event.step,\n",
       "                             guiEvent: simpleKeys(event)});\n",
       "\n",
       "    /* This prevents the web browser from automatically changing to\n",
       "     * the text insertion cursor when the button is pressed.  We want\n",
       "     * to control all of the cursor setting manually through the\n",
       "     * 'cursor' event from matplotlib */\n",
       "    event.preventDefault();\n",
       "    return false;\n",
       "}\n",
       "\n",
       "mpl.figure.prototype._key_event_extra = function(event, name) {\n",
       "    // Handle any extra behaviour associated with a key event\n",
       "}\n",
       "\n",
       "mpl.figure.prototype.key_event = function(event, name) {\n",
       "\n",
       "    // Prevent repeat events\n",
       "    if (name == 'key_press')\n",
       "    {\n",
       "        if (event.which === this._key)\n",
       "            return;\n",
       "        else\n",
       "            this._key = event.which;\n",
       "    }\n",
       "    if (name == 'key_release')\n",
       "        this._key = null;\n",
       "\n",
       "    var value = '';\n",
       "    if (event.ctrlKey && event.which != 17)\n",
       "        value += \"ctrl+\";\n",
       "    if (event.altKey && event.which != 18)\n",
       "        value += \"alt+\";\n",
       "    if (event.shiftKey && event.which != 16)\n",
       "        value += \"shift+\";\n",
       "\n",
       "    value += 'k';\n",
       "    value += event.which.toString();\n",
       "\n",
       "    this._key_event_extra(event, name);\n",
       "\n",
       "    this.send_message(name, {key: value,\n",
       "                             guiEvent: simpleKeys(event)});\n",
       "    return false;\n",
       "}\n",
       "\n",
       "mpl.figure.prototype.toolbar_button_onclick = function(name) {\n",
       "    if (name == 'download') {\n",
       "        this.handle_save(this, null);\n",
       "    } else {\n",
       "        this.send_message(\"toolbar_button\", {name: name});\n",
       "    }\n",
       "};\n",
       "\n",
       "mpl.figure.prototype.toolbar_button_onmouseover = function(tooltip) {\n",
       "    this.message.textContent = tooltip;\n",
       "};\n",
       "mpl.toolbar_items = [[\"Home\", \"Reset original view\", \"fa fa-home icon-home\", \"home\"], [\"Back\", \"Back to previous view\", \"fa fa-arrow-left icon-arrow-left\", \"back\"], [\"Forward\", \"Forward to next view\", \"fa fa-arrow-right icon-arrow-right\", \"forward\"], [\"\", \"\", \"\", \"\"], [\"Pan\", \"Pan axes with left mouse, zoom with right\", \"fa fa-arrows icon-move\", \"pan\"], [\"Zoom\", \"Zoom to rectangle\", \"fa fa-square-o icon-check-empty\", \"zoom\"], [\"\", \"\", \"\", \"\"], [\"Download\", \"Download plot\", \"fa fa-floppy-o icon-save\", \"download\"]];\n",
       "\n",
       "mpl.extensions = [\"eps\", \"pdf\", \"png\", \"ps\", \"raw\", \"svg\"];\n",
       "\n",
       "mpl.default_extension = \"png\";var comm_websocket_adapter = function(comm) {\n",
       "    // Create a \"websocket\"-like object which calls the given IPython comm\n",
       "    // object with the appropriate methods. Currently this is a non binary\n",
       "    // socket, so there is still some room for performance tuning.\n",
       "    var ws = {};\n",
       "\n",
       "    ws.close = function() {\n",
       "        comm.close()\n",
       "    };\n",
       "    ws.send = function(m) {\n",
       "        //console.log('sending', m);\n",
       "        comm.send(m);\n",
       "    };\n",
       "    // Register the callback with on_msg.\n",
       "    comm.on_msg(function(msg) {\n",
       "        //console.log('receiving', msg['content']['data'], msg);\n",
       "        // Pass the mpl event to the overridden (by mpl) onmessage function.\n",
       "        ws.onmessage(msg['content']['data'])\n",
       "    });\n",
       "    return ws;\n",
       "}\n",
       "\n",
       "mpl.mpl_figure_comm = function(comm, msg) {\n",
       "    // This is the function which gets called when the mpl process\n",
       "    // starts-up an IPython Comm through the \"matplotlib\" channel.\n",
       "\n",
       "    var id = msg.content.data.id;\n",
       "    // Get hold of the div created by the display call when the Comm\n",
       "    // socket was opened in Python.\n",
       "    var element = $(\"#\" + id);\n",
       "    var ws_proxy = comm_websocket_adapter(comm)\n",
       "\n",
       "    function ondownload(figure, format) {\n",
       "        window.open(figure.imageObj.src);\n",
       "    }\n",
       "\n",
       "    var fig = new mpl.figure(id, ws_proxy,\n",
       "                           ondownload,\n",
       "                           element.get(0));\n",
       "\n",
       "    // Call onopen now - mpl needs it, as it is assuming we've passed it a real\n",
       "    // web socket which is closed, not our websocket->open comm proxy.\n",
       "    ws_proxy.onopen();\n",
       "\n",
       "    fig.parent_element = element.get(0);\n",
       "    fig.cell_info = mpl.find_output_cell(\"<div id='\" + id + \"'></div>\");\n",
       "    if (!fig.cell_info) {\n",
       "        console.error(\"Failed to find cell for figure\", id, fig);\n",
       "        return;\n",
       "    }\n",
       "\n",
       "    var output_index = fig.cell_info[2]\n",
       "    var cell = fig.cell_info[0];\n",
       "\n",
       "};\n",
       "\n",
       "mpl.figure.prototype.handle_close = function(fig, msg) {\n",
       "    var width = fig.canvas.width/mpl.ratio\n",
       "    fig.root.unbind('remove')\n",
       "\n",
       "    // Update the output cell to use the data from the current canvas.\n",
       "    fig.push_to_output();\n",
       "    var dataURL = fig.canvas.toDataURL();\n",
       "    // Re-enable the keyboard manager in IPython - without this line, in FF,\n",
       "    // the notebook keyboard shortcuts fail.\n",
       "    IPython.keyboard_manager.enable()\n",
       "    $(fig.parent_element).html('<img src=\"' + dataURL + '\" width=\"' + width + '\">');\n",
       "    fig.close_ws(fig, msg);\n",
       "}\n",
       "\n",
       "mpl.figure.prototype.close_ws = function(fig, msg){\n",
       "    fig.send_message('closing', msg);\n",
       "    // fig.ws.close()\n",
       "}\n",
       "\n",
       "mpl.figure.prototype.push_to_output = function(remove_interactive) {\n",
       "    // Turn the data on the canvas into data in the output cell.\n",
       "    var width = this.canvas.width/mpl.ratio\n",
       "    var dataURL = this.canvas.toDataURL();\n",
       "    this.cell_info[1]['text/html'] = '<img src=\"' + dataURL + '\" width=\"' + width + '\">';\n",
       "}\n",
       "\n",
       "mpl.figure.prototype.updated_canvas_event = function() {\n",
       "    // Tell IPython that the notebook contents must change.\n",
       "    IPython.notebook.set_dirty(true);\n",
       "    this.send_message(\"ack\", {});\n",
       "    var fig = this;\n",
       "    // Wait a second, then push the new image to the DOM so\n",
       "    // that it is saved nicely (might be nice to debounce this).\n",
       "    setTimeout(function () { fig.push_to_output() }, 1000);\n",
       "}\n",
       "\n",
       "mpl.figure.prototype._init_toolbar = function() {\n",
       "    var fig = this;\n",
       "\n",
       "    var nav_element = $('<div/>');\n",
       "    nav_element.attr('style', 'width: 100%');\n",
       "    this.root.append(nav_element);\n",
       "\n",
       "    // Define a callback function for later on.\n",
       "    function toolbar_event(event) {\n",
       "        return fig.toolbar_button_onclick(event['data']);\n",
       "    }\n",
       "    function toolbar_mouse_event(event) {\n",
       "        return fig.toolbar_button_onmouseover(event['data']);\n",
       "    }\n",
       "\n",
       "    for(var toolbar_ind in mpl.toolbar_items){\n",
       "        var name = mpl.toolbar_items[toolbar_ind][0];\n",
       "        var tooltip = mpl.toolbar_items[toolbar_ind][1];\n",
       "        var image = mpl.toolbar_items[toolbar_ind][2];\n",
       "        var method_name = mpl.toolbar_items[toolbar_ind][3];\n",
       "\n",
       "        if (!name) { continue; };\n",
       "\n",
       "        var button = $('<button class=\"btn btn-default\" href=\"#\" title=\"' + name + '\"><i class=\"fa ' + image + ' fa-lg\"></i></button>');\n",
       "        button.click(method_name, toolbar_event);\n",
       "        button.mouseover(tooltip, toolbar_mouse_event);\n",
       "        nav_element.append(button);\n",
       "    }\n",
       "\n",
       "    // Add the status bar.\n",
       "    var status_bar = $('<span class=\"mpl-message\" style=\"text-align:right; float: right;\"/>');\n",
       "    nav_element.append(status_bar);\n",
       "    this.message = status_bar[0];\n",
       "\n",
       "    // Add the close button to the window.\n",
       "    var buttongrp = $('<div class=\"btn-group inline pull-right\"></div>');\n",
       "    var button = $('<button class=\"btn btn-mini btn-primary\" href=\"#\" title=\"Stop Interaction\"><i class=\"fa fa-power-off icon-remove icon-large\"></i></button>');\n",
       "    button.click(function (evt) { fig.handle_close(fig, {}); } );\n",
       "    button.mouseover('Stop Interaction', toolbar_mouse_event);\n",
       "    buttongrp.append(button);\n",
       "    var titlebar = this.root.find($('.ui-dialog-titlebar'));\n",
       "    titlebar.prepend(buttongrp);\n",
       "}\n",
       "\n",
       "mpl.figure.prototype._root_extra_style = function(el){\n",
       "    var fig = this\n",
       "    el.on(\"remove\", function(){\n",
       "\tfig.close_ws(fig, {});\n",
       "    });\n",
       "}\n",
       "\n",
       "mpl.figure.prototype._canvas_extra_style = function(el){\n",
       "    // this is important to make the div 'focusable\n",
       "    el.attr('tabindex', 0)\n",
       "    // reach out to IPython and tell the keyboard manager to turn it's self\n",
       "    // off when our div gets focus\n",
       "\n",
       "    // location in version 3\n",
       "    if (IPython.notebook.keyboard_manager) {\n",
       "        IPython.notebook.keyboard_manager.register_events(el);\n",
       "    }\n",
       "    else {\n",
       "        // location in version 2\n",
       "        IPython.keyboard_manager.register_events(el);\n",
       "    }\n",
       "\n",
       "}\n",
       "\n",
       "mpl.figure.prototype._key_event_extra = function(event, name) {\n",
       "    var manager = IPython.notebook.keyboard_manager;\n",
       "    if (!manager)\n",
       "        manager = IPython.keyboard_manager;\n",
       "\n",
       "    // Check for shift+enter\n",
       "    if (event.shiftKey && event.which == 13) {\n",
       "        this.canvas_div.blur();\n",
       "        // select the cell after this one\n",
       "        var index = IPython.notebook.find_cell_index(this.cell_info[0]);\n",
       "        IPython.notebook.select(index + 1);\n",
       "    }\n",
       "}\n",
       "\n",
       "mpl.figure.prototype.handle_save = function(fig, msg) {\n",
       "    fig.ondownload(fig, null);\n",
       "}\n",
       "\n",
       "\n",
       "mpl.find_output_cell = function(html_output) {\n",
       "    // Return the cell and output element which can be found *uniquely* in the notebook.\n",
       "    // Note - this is a bit hacky, but it is done because the \"notebook_saving.Notebook\"\n",
       "    // IPython event is triggered only after the cells have been serialised, which for\n",
       "    // our purposes (turning an active figure into a static one), is too late.\n",
       "    var cells = IPython.notebook.get_cells();\n",
       "    var ncells = cells.length;\n",
       "    for (var i=0; i<ncells; i++) {\n",
       "        var cell = cells[i];\n",
       "        if (cell.cell_type === 'code'){\n",
       "            for (var j=0; j<cell.output_area.outputs.length; j++) {\n",
       "                var data = cell.output_area.outputs[j];\n",
       "                if (data.data) {\n",
       "                    // IPython >= 3 moved mimebundle to data attribute of output\n",
       "                    data = data.data;\n",
       "                }\n",
       "                if (data['text/html'] == html_output) {\n",
       "                    return [cell, data, j];\n",
       "                }\n",
       "            }\n",
       "        }\n",
       "    }\n",
       "}\n",
       "\n",
       "// Register the function which deals with the matplotlib target/channel.\n",
       "// The kernel may be null if the page has been refreshed.\n",
       "if (IPython.notebook.kernel != null) {\n",
       "    IPython.notebook.kernel.comm_manager.register_target('matplotlib', mpl.mpl_figure_comm);\n",
       "}\n"
      ],
      "text/plain": [
       "<IPython.core.display.Javascript object>"
      ]
     },
     "metadata": {},
     "output_type": "display_data"
    },
    {
     "data": {
      "text/html": [
       "<img src=\"data:image/png;base64,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\" width=\"900\">"
      ],
      "text/plain": [
       "<IPython.core.display.HTML object>"
      ]
     },
     "metadata": {},
     "output_type": "display_data"
    }
   ],
   "source": [
    "plt.figure(figsize=(9, 9))\n",
    "for i in range(100):\n",
    "#     print(i)\n",
    "    plt.subplot(10, 10, i+1)\n",
    "    draw_image(Xtrain[i], Ttrain[i,0])\n",
    "plt.tight_layout()"
   ]
  },
  {
   "cell_type": "code",
   "execution_count": 26,
   "metadata": {
    "ExecuteTime": {
     "end_time": "2021-09-24T18:26:35.559448Z",
     "start_time": "2021-09-24T18:26:24.848046Z"
    }
   },
   "outputs": [
    {
     "name": "stdout",
     "output_type": "stream",
     "text": [
      "SCG: Epoch 4 ObjectiveF=0.95819\n",
      "SCG: Epoch 8 ObjectiveF=0.96994\n",
      "SCG: Epoch 12 ObjectiveF=0.97146\n",
      "SCG: Epoch 16 ObjectiveF=0.97146\n",
      "SCG: Epoch 20 ObjectiveF=0.97146\n",
      "SCG: Epoch 24 ObjectiveF=0.97273\n",
      "SCG: Epoch 28 ObjectiveF=0.97421\n",
      "SCG: Epoch 32 ObjectiveF=0.97475\n",
      "SCG: Epoch 36 ObjectiveF=0.97494\n",
      "SCG: Epoch 40 ObjectiveF=0.97496\n"
     ]
    },
    {
     "data": {
      "text/plain": [
       "NeuralNetwork(784, [], 10)"
      ]
     },
     "execution_count": 26,
     "metadata": {},
     "output_type": "execute_result"
    }
   ],
   "source": [
    "nnet = nn.NeuralNetworkClassifier(784, [], 10)\n",
    "nnet.train(Xtrain, Ttrain, n_epochs=40, method='scg')"
   ]
  },
  {
   "cell_type": "code",
   "execution_count": 27,
   "metadata": {
    "ExecuteTime": {
     "end_time": "2021-09-24T18:26:38.412114Z",
     "start_time": "2021-09-24T18:26:38.396704Z"
    }
   },
   "outputs": [
    {
     "name": "stdout",
     "output_type": "stream",
     "text": [
      "NeuralNetwork(784, [], 10)\n",
      " Trained for 40 epochs.\n",
      " Final standardized training error 0.975.\n"
     ]
    }
   ],
   "source": [
    "print(nnet)"
   ]
  },
  {
   "cell_type": "code",
   "execution_count": 30,
   "metadata": {
    "ExecuteTime": {
     "end_time": "2021-09-24T18:26:40.847453Z",
     "start_time": "2021-09-24T18:26:40.687447Z"
    }
   },
   "outputs": [
    {
     "data": {
      "text/plain": [
       "[93.138, 92.65, 92.28]"
      ]
     },
     "execution_count": 30,
     "metadata": {},
     "output_type": "execute_result"
    }
   ],
   "source": [
    "[percent_correct(nnet.use(X)[0], T) for X, T in zip([Xtrain, Xval, Xtest], [Ttrain, Tval, Ttest])]"
   ]
  },
  {
   "cell_type": "code",
   "execution_count": 31,
   "metadata": {
    "ExecuteTime": {
     "end_time": "2021-09-24T18:27:01.309178Z",
     "start_time": "2021-09-24T18:26:43.792019Z"
    }
   },
   "outputs": [
    {
     "name": "stdout",
     "output_type": "stream",
     "text": [
      "SCG: Epoch 4 ObjectiveF=0.88560\n",
      "SCG: Epoch 8 ObjectiveF=0.95820\n",
      "SCG: Epoch 12 ObjectiveF=0.97325\n",
      "SCG: Epoch 16 ObjectiveF=0.97961\n",
      "SCG: Epoch 20 ObjectiveF=0.98322\n",
      "SCG: Epoch 24 ObjectiveF=0.98575\n",
      "SCG: Epoch 28 ObjectiveF=0.98762\n",
      "SCG: Epoch 32 ObjectiveF=0.98896\n",
      "SCG: Epoch 36 ObjectiveF=0.98981\n",
      "SCG: Epoch 40 ObjectiveF=0.99067\n"
     ]
    },
    {
     "data": {
      "text/plain": [
       "NeuralNetwork(784, [20], 10)"
      ]
     },
     "execution_count": 31,
     "metadata": {},
     "output_type": "execute_result"
    }
   ],
   "source": [
    "nnet = nn.NeuralNetworkClassifier(784, [20], 10)\n",
    "nnet.train(Xtrain, Ttrain, n_epochs=40, method='scg')"
   ]
  },
  {
   "cell_type": "code",
   "execution_count": 32,
   "metadata": {
    "ExecuteTime": {
     "end_time": "2021-09-24T18:27:01.528413Z",
     "start_time": "2021-09-24T18:27:01.310339Z"
    }
   },
   "outputs": [
    {
     "data": {
      "text/plain": [
       "[97.47200000000001, 94.21000000000001, 93.62]"
      ]
     },
     "execution_count": 32,
     "metadata": {},
     "output_type": "execute_result"
    }
   ],
   "source": [
    "[percent_correct(nnet.use(X)[0], T) for X, T in zip([Xtrain, Xval, Xtest],\n",
    "                                                    [Ttrain, Tval, Ttest])]"
   ]
  },
  {
   "cell_type": "markdown",
   "metadata": {},
   "source": [
    "# Experiments\n",
    "\n",
    "For each method, try various hidden layer structures, learning rates, and numbers of epochs.  Use the validation percent accuracy to pick the best hidden layers, learning rates and numbers of epochs for each method (ignore learning rates for scg).  Report training, validation and test accuracy for your best validation results for each of the three methods.\n",
    "\n",
    "Include plots of data likelihood versus epochs, and confusion matrices, for best results for each method.\n",
    "\n",
    "Write at least 10 sentences about what you observe in the likelihood plots, the train, validation and test accuracies, and the confusion matrices."
   ]
  },
  {
   "cell_type": "markdown",
   "metadata": {},
   "source": [
    "# Showing Correctly downloaded and read the MNIST data.\n"
   ]
  },
  {
   "cell_type": "code",
   "execution_count": 75,
   "metadata": {},
   "outputs": [
    {
     "name": "stdout",
     "output_type": "stream",
     "text": [
      "  % Total    % Received % Xferd  Average Speed   Time    Time     Time  Current\n",
      "                                 Dload  Upload   Total   Spent    Left  Speed\n",
      "100 15.4M  100 15.4M    0     0  94.5M      0 --:--:-- --:--:-- --:--:-- 94.5M\n",
      "(50000, 784) (50000, 1) (10000, 784) (10000, 1) (10000, 784) (10000, 1)\n"
     ]
    }
   ],
   "source": [
    "import pickle\n",
    "import gzip\n",
    "\n",
    "!curl -O https://www.cs.colostate.edu/~anderson/cs545/notebooks/mnist.pkl.gz\n",
    "with gzip.open('./mnist.pkl.gz', 'rb') as f:\n",
    "    train_set, valid_set, test_set = pickle.load(f, encoding='latin1')\n",
    "\n",
    "Xtrain = train_set[0]\n",
    "Ttrain = train_set[1].reshape(-1, 1)\n",
    "\n",
    "Xval = valid_set[0]\n",
    "Tval = valid_set[1].reshape(-1, 1)\n",
    "\n",
    "Xtest = test_set[0]\n",
    "Ttest = test_set[1].reshape(-1, 1)\n",
    "\n",
    "print(Xtrain.shape, Ttrain.shape,  Xval.shape, Tval.shape,  Xtest.shape, Ttest.shape) \n",
    " \n"
   ]
  },
  {
   "cell_type": "code",
   "execution_count": 67,
   "metadata": {},
   "outputs": [
    {
     "data": {
      "text/plain": [
       "array([[0., 0., 0., ..., 0., 0., 0.],\n",
       "       [0., 0., 0., ..., 0., 0., 0.],\n",
       "       [0., 0., 0., ..., 0., 0., 0.],\n",
       "       ...,\n",
       "       [0., 0., 0., ..., 0., 0., 0.],\n",
       "       [0., 0., 0., ..., 0., 0., 0.],\n",
       "       [0., 0., 0., ..., 0., 0., 0.]], dtype=float32)"
      ]
     },
     "execution_count": 67,
     "metadata": {},
     "output_type": "execute_result"
    }
   ],
   "source": [
    "Xtrain\n"
   ]
  },
  {
   "cell_type": "code",
   "execution_count": 76,
   "metadata": {},
   "outputs": [
    {
     "name": "stdout",
     "output_type": "stream",
     "text": [
      "  % Total    % Received % Xferd  Average Speed   Time    Time     Time  Current\n",
      "                                 Dload  Upload   Total   Spent    Left  Speed\n",
      "100 15.4M  100 15.4M    0     0  96.9M      0 --:--:-- --:--:-- --:--:-- 96.9M\n",
      "(500, 784) (500, 1) (500, 784) (500, 1) (500, 784) (500, 1)\n",
      "0: ['scg', [], 0.01, 120];    80.80000000000001\n",
      "1: ['sgd', [], 0.02, 80];    78.0\n",
      "2: ['adam', [20, 20], 0.05, 40];    70.19999999999999\n",
      "3: ['sgd', [], 0.05, 20];    69.19999999999999\n",
      "4: ['adam', [20, 20], 0.005, 60];    75.2\n",
      "5: ['sgd', [5, 5, 5, 5], 0.02, 20];    10.0\n",
      "6: ['adam', [10, 15], 0.01, 40];    64.8\n",
      "7: ['scg', [2, 2, 2, 2, 2], 0.05, 120];    23.0\n",
      "8: ['scg', [20, 20], 0.05, 40];    76.8\n",
      "9: ['adam', [2, 2, 2, 2, 2], 0.01, 20];    23.799999999999997\n",
      "10: ['scg', [10, 15], 0.01, 40];    69.6\n"
     ]
    },
    {
     "ename": "KeyboardInterrupt",
     "evalue": "",
     "output_type": "error",
     "traceback": [
      "\u001b[0;31m---------------------------------------------------------------------------\u001b[0m",
      "\u001b[0;31mKeyboardInterrupt\u001b[0m                         Traceback (most recent call last)",
      "\u001b[0;32m~/Desktop/project/CS545/HW/A3grader.py\u001b[0m in \u001b[0;36m<module>\u001b[0;34m\u001b[0m\n\u001b[1;32m     65\u001b[0m     \u001b[0mnnet\u001b[0m \u001b[0;34m=\u001b[0m \u001b[0mnn\u001b[0m\u001b[0;34m.\u001b[0m\u001b[0mNeuralNetworkClassifier\u001b[0m\u001b[0;34m(\u001b[0m\u001b[0mXtrain\u001b[0m\u001b[0;34m.\u001b[0m\u001b[0mshape\u001b[0m\u001b[0;34m[\u001b[0m\u001b[0;36m1\u001b[0m\u001b[0;34m]\u001b[0m\u001b[0;34m,\u001b[0m \u001b[0mhiddens\u001b[0m\u001b[0;34m,\u001b[0m \u001b[0mn_classes\u001b[0m\u001b[0;34m)\u001b[0m\u001b[0;34m\u001b[0m\u001b[0;34m\u001b[0m\u001b[0m\n\u001b[1;32m     66\u001b[0m     \u001b[0;32mif\u001b[0m \u001b[0mmethod\u001b[0m \u001b[0;34m==\u001b[0m \u001b[0;34m'scg'\u001b[0m\u001b[0;34m:\u001b[0m\u001b[0;34m\u001b[0m\u001b[0;34m\u001b[0m\u001b[0m\n\u001b[0;32m---> 67\u001b[0;31m         \u001b[0mnnet\u001b[0m\u001b[0;34m.\u001b[0m\u001b[0mtrain\u001b[0m\u001b[0;34m(\u001b[0m\u001b[0mXtrain\u001b[0m\u001b[0;34m,\u001b[0m \u001b[0mTtrain\u001b[0m\u001b[0;34m,\u001b[0m \u001b[0mepochs\u001b[0m\u001b[0;34m,\u001b[0m \u001b[0mmethod\u001b[0m\u001b[0;34m,\u001b[0m \u001b[0mverbose\u001b[0m\u001b[0;34m=\u001b[0m\u001b[0;32mFalse\u001b[0m\u001b[0;34m)\u001b[0m\u001b[0;34m\u001b[0m\u001b[0;34m\u001b[0m\u001b[0m\n\u001b[0m\u001b[1;32m     68\u001b[0m     \u001b[0;32melse\u001b[0m\u001b[0;34m:\u001b[0m\u001b[0;34m\u001b[0m\u001b[0;34m\u001b[0m\u001b[0m\n\u001b[1;32m     69\u001b[0m         \u001b[0mnnet\u001b[0m\u001b[0;34m.\u001b[0m\u001b[0mtrain\u001b[0m\u001b[0;34m(\u001b[0m\u001b[0mXtrain\u001b[0m\u001b[0;34m,\u001b[0m \u001b[0mTtrain\u001b[0m\u001b[0;34m,\u001b[0m \u001b[0mepochs\u001b[0m\u001b[0;34m,\u001b[0m \u001b[0mmethod\u001b[0m\u001b[0;34m,\u001b[0m \u001b[0mlearning_rate\u001b[0m\u001b[0;34m,\u001b[0m \u001b[0mverbose\u001b[0m\u001b[0;34m=\u001b[0m\u001b[0;32mFalse\u001b[0m\u001b[0;34m)\u001b[0m\u001b[0;34m\u001b[0m\u001b[0;34m\u001b[0m\u001b[0m\n",
      "\u001b[0;32m~/Desktop/project/CS545/HW/neuralnetworks.py\u001b[0m in \u001b[0;36mtrain\u001b[0;34m(self, X, T, n_epochs, method, learning_rate, verbose)\u001b[0m\n\u001b[1;32m    275\u001b[0m                 \u001b[0;32melif\u001b[0m \u001b[0mmethod\u001b[0m \u001b[0;34m==\u001b[0m \u001b[0;34m'scg'\u001b[0m\u001b[0;34m:\u001b[0m\u001b[0;34m\u001b[0m\u001b[0;34m\u001b[0m\u001b[0m\n\u001b[1;32m    276\u001b[0m \u001b[0;34m\u001b[0m\u001b[0m\n\u001b[0;32m--> 277\u001b[0;31m \t\t\terror_trace = optimizer.scg(self._neg_log_likelihood_f, self._gradient_f,\n\u001b[0m\u001b[1;32m    278\u001b[0m                                                                                 \u001b[0mfargs\u001b[0m\u001b[0;34m=\u001b[0m\u001b[0;34m[\u001b[0m\u001b[0mX\u001b[0m\u001b[0;34m,\u001b[0m \u001b[0mT\u001b[0m\u001b[0;34m]\u001b[0m\u001b[0;34m,\u001b[0m \u001b[0mn_epochs\u001b[0m\u001b[0;34m=\u001b[0m\u001b[0mn_epochs\u001b[0m\u001b[0;34m,\u001b[0m\u001b[0;34m\u001b[0m\u001b[0;34m\u001b[0m\u001b[0m\n\u001b[1;32m    279\u001b[0m                                                                                 \u001b[0merror_convert_f\u001b[0m\u001b[0;34m=\u001b[0m\u001b[0mto_likelihood\u001b[0m\u001b[0;34m,\u001b[0m\u001b[0;34m\u001b[0m\u001b[0;34m\u001b[0m\u001b[0m\n",
      "\u001b[0;32m~/Desktop/project/CS545/HW/optimizers.py\u001b[0m in \u001b[0;36mscg\u001b[0;34m(self, error_f, gradient_f, fargs, n_epochs, error_convert_f, verbose, callback_f)\u001b[0m\n\u001b[1;32m    263\u001b[0m                                 \u001b[0mfold\u001b[0m \u001b[0;34m=\u001b[0m \u001b[0mfnew\u001b[0m\u001b[0;34m\u001b[0m\u001b[0;34m\u001b[0m\u001b[0m\n\u001b[1;32m    264\u001b[0m                                 \u001b[0mself\u001b[0m\u001b[0;34m.\u001b[0m\u001b[0mg_old\u001b[0m\u001b[0;34m[\u001b[0m\u001b[0;34m:\u001b[0m\u001b[0;34m]\u001b[0m \u001b[0;34m=\u001b[0m \u001b[0mself\u001b[0m\u001b[0;34m.\u001b[0m\u001b[0mg_new\u001b[0m\u001b[0;34m\u001b[0m\u001b[0;34m\u001b[0m\u001b[0m\n\u001b[0;32m--> 265\u001b[0;31m                                 \u001b[0mself\u001b[0m\u001b[0;34m.\u001b[0m\u001b[0mg_new\u001b[0m\u001b[0;34m[\u001b[0m\u001b[0;34m:\u001b[0m\u001b[0;34m]\u001b[0m \u001b[0;34m=\u001b[0m \u001b[0mgradient_f\u001b[0m\u001b[0;34m(\u001b[0m\u001b[0;34m*\u001b[0m\u001b[0mfargs\u001b[0m\u001b[0;34m)\u001b[0m\u001b[0;34m\u001b[0m\u001b[0;34m\u001b[0m\u001b[0m\n\u001b[0m\u001b[1;32m    266\u001b[0m \u001b[0;34m\u001b[0m\u001b[0m\n\u001b[1;32m    267\u001b[0m                                 \u001b[0;31m# If the gradient is zero then we are done.\u001b[0m\u001b[0;34m\u001b[0m\u001b[0;34m\u001b[0m\u001b[0;34m\u001b[0m\u001b[0m\n",
      "\u001b[0;32m~/Desktop/project/CS545/HW/neuralnetworks.py\u001b[0m in \u001b[0;36m_gradient_f\u001b[0;34m(self, X, T)\u001b[0m\n\u001b[1;32m    329\u001b[0m                 \u001b[0;31m# D is delta matrix to be back propagated\u001b[0m\u001b[0;34m\u001b[0m\u001b[0;34m\u001b[0m\u001b[0;34m\u001b[0m\u001b[0m\n\u001b[1;32m    330\u001b[0m                 \u001b[0mD\u001b[0m \u001b[0;34m=\u001b[0m \u001b[0;34m-\u001b[0m\u001b[0;34m(\u001b[0m\u001b[0mT\u001b[0m \u001b[0;34m-\u001b[0m \u001b[0mself\u001b[0m\u001b[0;34m.\u001b[0m\u001b[0m_softmax\u001b[0m\u001b[0;34m(\u001b[0m\u001b[0mself\u001b[0m\u001b[0;34m.\u001b[0m\u001b[0mYs\u001b[0m\u001b[0;34m[\u001b[0m\u001b[0;34m-\u001b[0m\u001b[0;36m1\u001b[0m\u001b[0;34m]\u001b[0m\u001b[0;34m)\u001b[0m\u001b[0;34m)\u001b[0m \u001b[0;34m/\u001b[0m \u001b[0;34m(\u001b[0m\u001b[0mn_samples\u001b[0m \u001b[0;34m*\u001b[0m \u001b[0mn_outputs\u001b[0m\u001b[0;34m)\u001b[0m \u001b[0;31m# See material 09\u001b[0m\u001b[0;34m\u001b[0m\u001b[0;34m\u001b[0m\u001b[0m\n\u001b[0;32m--> 331\u001b[0;31m                 \u001b[0mself\u001b[0m\u001b[0;34m.\u001b[0m\u001b[0m_backpropagate\u001b[0m\u001b[0;34m(\u001b[0m\u001b[0mD\u001b[0m\u001b[0;34m)\u001b[0m\u001b[0;34m\u001b[0m\u001b[0;34m\u001b[0m\u001b[0m\n\u001b[0m\u001b[1;32m    332\u001b[0m                 \u001b[0;32mreturn\u001b[0m \u001b[0mself\u001b[0m\u001b[0;34m.\u001b[0m\u001b[0mall_gradients\u001b[0m\u001b[0;34m\u001b[0m\u001b[0;34m\u001b[0m\u001b[0m\n\u001b[1;32m    333\u001b[0m \u001b[0;34m\u001b[0m\u001b[0m\n",
      "\u001b[0;32m~/Desktop/project/CS545/HW/neuralnetworks.py\u001b[0m in \u001b[0;36m_backpropagate\u001b[0;34m(self, D)\u001b[0m\n\u001b[1;32m    189\u001b[0m                 \u001b[0;32mfor\u001b[0m \u001b[0mlayeri\u001b[0m \u001b[0;32min\u001b[0m \u001b[0mrange\u001b[0m\u001b[0;34m(\u001b[0m\u001b[0mn_layers\u001b[0m \u001b[0;34m-\u001b[0m \u001b[0;36m1\u001b[0m\u001b[0;34m,\u001b[0m \u001b[0;34m-\u001b[0m\u001b[0;36m1\u001b[0m\u001b[0;34m,\u001b[0m \u001b[0;34m-\u001b[0m\u001b[0;36m1\u001b[0m\u001b[0;34m)\u001b[0m\u001b[0;34m:\u001b[0m\u001b[0;34m\u001b[0m\u001b[0;34m\u001b[0m\u001b[0m\n\u001b[1;32m    190\u001b[0m                         \u001b[0;31m# gradient of all but bias weights\u001b[0m\u001b[0;34m\u001b[0m\u001b[0;34m\u001b[0m\u001b[0;34m\u001b[0m\u001b[0m\n\u001b[0;32m--> 191\u001b[0;31m                         \u001b[0mself\u001b[0m\u001b[0;34m.\u001b[0m\u001b[0mGrads\u001b[0m\u001b[0;34m[\u001b[0m\u001b[0mlayeri\u001b[0m\u001b[0;34m]\u001b[0m\u001b[0;34m[\u001b[0m\u001b[0;36m1\u001b[0m\u001b[0;34m:\u001b[0m\u001b[0;34m,\u001b[0m \u001b[0;34m:\u001b[0m\u001b[0;34m]\u001b[0m \u001b[0;34m=\u001b[0m \u001b[0mself\u001b[0m\u001b[0;34m.\u001b[0m\u001b[0mYs\u001b[0m\u001b[0;34m[\u001b[0m\u001b[0mlayeri\u001b[0m\u001b[0;34m]\u001b[0m\u001b[0;34m.\u001b[0m\u001b[0mT\u001b[0m \u001b[0;34m@\u001b[0m \u001b[0mD\u001b[0m\u001b[0;34m\u001b[0m\u001b[0;34m\u001b[0m\u001b[0m\n\u001b[0m\u001b[1;32m    192\u001b[0m                         \u001b[0;31m# gradient of just the bias weights\u001b[0m\u001b[0;34m\u001b[0m\u001b[0;34m\u001b[0m\u001b[0;34m\u001b[0m\u001b[0m\n\u001b[1;32m    193\u001b[0m                         \u001b[0mself\u001b[0m\u001b[0;34m.\u001b[0m\u001b[0mGrads\u001b[0m\u001b[0;34m[\u001b[0m\u001b[0mlayeri\u001b[0m\u001b[0;34m]\u001b[0m\u001b[0;34m[\u001b[0m\u001b[0;36m0\u001b[0m\u001b[0;34m:\u001b[0m\u001b[0;36m1\u001b[0m\u001b[0;34m,\u001b[0m \u001b[0;34m:\u001b[0m\u001b[0;34m]\u001b[0m \u001b[0;34m=\u001b[0m \u001b[0mnp\u001b[0m\u001b[0;34m.\u001b[0m\u001b[0msum\u001b[0m\u001b[0;34m(\u001b[0m\u001b[0mD\u001b[0m\u001b[0;34m,\u001b[0m \u001b[0maxis\u001b[0m\u001b[0;34m=\u001b[0m\u001b[0;36m0\u001b[0m\u001b[0;34m)\u001b[0m\u001b[0;34m\u001b[0m\u001b[0;34m\u001b[0m\u001b[0m\n",
      "\u001b[0;31mKeyboardInterrupt\u001b[0m: "
     ]
    }
   ],
   "source": [
    "import pickle\n",
    "import gzip\n",
    "\n",
    "\n",
    "!curl -O https://www.cs.colostate.edu/~anderson/cs545/notebooks/mnist.pkl.gz\n",
    "\n",
    "\n",
    "import neuralnetworks as nn\n",
    "\n",
    "with gzip.open('./mnist.pkl.gz', 'rb') as f:\n",
    "    train_set, valid_set, test_set = pickle.load(f, encoding='latin1')\n",
    "\n",
    "\n",
    "def draw_image(image, label):\n",
    "    plt.imshow(-image.reshape(28, 28), cmap='gray')\n",
    "    plt.xticks([])\n",
    "    plt.yticks([])\n",
    "    plt.axis('off')\n",
    "    plt.title(label)\n",
    "\n",
    "\n",
    "N=500\n",
    "Xtrain = train_set[0][:N]\n",
    "Ttrain = train_set[1][:N].reshape(-1, 1)\n",
    "\n",
    "Xval = valid_set[0][:N]\n",
    "Tval = valid_set[1][:N].reshape(-1, 1)\n",
    "\n",
    "Xtest = test_set[0][:N]\n",
    "Ttest = test_set[1][:N].reshape(-1, 1)\n",
    "\n",
    "print(Xtrain.shape, Ttrain.shape,  Xval.shape, Tval.shape,  Xtest.shape, Ttest.shape)\n",
    "\n",
    "def percent_correct(Y, T):\n",
    "    return np.mean(T == Y) * 100\n",
    "\n",
    "\n",
    "def confusion_matrix(Y_classes, T):\n",
    "    class_names = np.unique(T)\n",
    "    table = []\n",
    "    for true_class in class_names:\n",
    "        row = []\n",
    "        for Y_class in class_names:\n",
    "            row.append(100 * np.mean(Y_classes[T == true_class] == Y_class))\n",
    "        table.append(row)\n",
    "    conf_matrix = pandas.DataFrame(table, index=class_names, columns=class_names)\n",
    "    # cf.style.background_gradient(cmap='Blues').format(\"{:.1f} %\")\n",
    "    print('Percent Correct')\n",
    "    return conf_matrix\n",
    "\n",
    "epochsS=[20, 40, 60, 80,100 ,120]\n",
    "hiddensS=[[],[20, 20],[5,5,5,5],[2,2,2,2,2],[10],[30],[10,15]]\n",
    "learning_rateS=[0.01, 0.05, 0.02,0.04,0.005]\n",
    "methods = [ 'scg', 'adam', 'sgd']\n",
    "\n",
    "BestAccuracy= -1000\n",
    "BestConfiguration=[]\n",
    "\n",
    "for i in range(100):\n",
    "    epochs=epochsS[np.random.randint(len(epochsS))]\n",
    "    hiddens=hiddensS[np.random.randint(len(hiddensS))]\n",
    "    learning_rate=learning_rateS[np.random.randint(len(learning_rateS))]\n",
    "    method=methods[np.random.randint(len(methods))]\n",
    "    n_classes = len(np.unique(Ttrain))\n",
    "    nnet = nn.NeuralNetworkClassifier(Xtrain.shape[1], hiddens, n_classes)\n",
    "    if method == 'scg':\n",
    "        nnet.train(Xtrain, Ttrain, epochs, method, verbose=False)\n",
    "    else:\n",
    "        nnet.train(Xtrain, Ttrain, epochs, method, learning_rate, verbose=False)\n",
    "#   conf_matrix=confusion_matrix(nnet.use(Xtest)[0], Ttest)\n",
    "#   conf_matrix = conf_matrix.round(2)\n",
    "#   print(conf_matrix)\n",
    "    accuracy=percent_correct(nnet.use(Xtest)[0], Ttest)\n",
    "    print(i, end = ': ')\n",
    "    print([method, hiddens,learning_rate,epochs],end = ';    ')\n",
    "    print(accuracy)\n",
    "    if (accuracy>BestAccuracy):\n",
    "        BestAccuracy=accuracy\n",
    "        BestConfiguration=[method, hiddens,learning_rate,epochs]\n",
    "\n",
    "print(\"---------------------------------------------\")\n",
    "print(BestAccuracy)\n",
    "print(BestConfiguration)\n",
    "\n",
    "[method, hiddens,learning_rate,epochs]=BestConfiguration\n",
    "\n",
    "\n",
    "n_classes = len(np.unique(Ttrain))\n",
    "nnet = nn.NeuralNetworkClassifier(Xtrain.shape[1], hiddens, n_classes)\n",
    "if method == 'scg':\n",
    "    nnet.train(Xtrain, Ttrain, epochs, method, verbose=False)\n",
    "else:\n",
    "    nnet.train(Xtrain, Ttrain, epochs, method, learning_rate, verbose=False)\n",
    "\n",
    "accuracy=percent_correct(nnet.use(Xtest)[0], Ttest)\n",
    "print(accuracy)\n",
    "conf_matrix=confusion_matrix(nnet.use(Xtest)[0], Ttest)\n",
    "conf_matrix = conf_matrix.round(2)\n",
    "print(conf_matrix)\n",
    "\n",
    "plt.figure()\n",
    "plt.plot(nnet.get_error_trace())\n",
    "plt.xlabel('Iteration')\n",
    "plt.ylabel('Data Likelihood');\n",
    "plt.show()\n",
    "\n"
   ]
  },
  {
   "cell_type": "markdown",
   "metadata": {},
   "source": [
    "# This is my Discussion:\n",
    "\n",
    "\n",
    "\n",
    "\n",
    "1. The Data set with 50000 images is too large, I used first 500 as traning and testing.\n",
    "2. Even remotly using HPC still take a long time. codewise, I would try to parallelize the test function with openMPI. I would like to try that if I have time. \n",
    "3.scg has oscillations because it is a  method using learning_rateS. it can overshoot sometimes when the error goes to 0\n",
    "4.Adam has oscillations at later iterationsbecause it is a  method using learning_rateS. it can overshoot sometimes when the error goes to 0\n",
    "5. For the same setup for method, learning rate, hidden layers, increaseing the epochs will generally get a  better resutl, becasue we are using gradient-based method.\n",
    "6. For the same setup for learning rate, hidden layers,epochs. SCG performs generally better than ADAM \n",
    "7. For the same setup for learning rate, hidden layers,epochs. SCG performs generally better than ADAM \n",
    "8. For the same setup for learning rate, hidden layers,epochs. ADAM performs generally better than SGD \n",
    "9.  For the same setup for learning rate, hidden layers,epochs. ADAM performs generally better than SGD \n",
    "10. the hidden layer  [2, 2, 2, 2, 2] generally does not result in good results. Interesting\n",
    "11. Put too many layer does not signifantly increase the results. computational cost should evenly distributed to \n",
    "number of layers and the number of neurons.\n",
    "12. For Big matrix calculations, instead of openMPI it by parallize the configuration, there are someways to paralleize the matrix calcutions. Should be promising, but will not be effcient as parallize by configurations.\n",
    "13. setting the learning_rate too big is not good for ADAM, but it can converge.\n",
    "14. setting the learning_rate too big is not good for SGD, Sometimes it can produce abnormally large values.\n",
    "15. The best configuration I got is:\n",
    "accuracy 82.8\n",
    "['scg', [30], 0.01, 40]. Looks like choosing the correct optimizer SCG is more important than other parameters.\n",
    "16. The MNIST data zip is 16MB. \n",
    "17. Unzip it produce a big 200~ MB files. The compress rate is just amazing. \n",
    "18. I wonder if it used a similar comression method like the \"PNG\" format.\n",
    "19. The first lines indicate the file is a numpy data format. \n",
    "20. Look into the gz file, it looks there are no big blocks of 0, indicating it is well compressed. However, if I delete a digits at some location, the whole file is corrupted, makes the compressing method weak when trensfered using SSB modulation or other simialr methods.\n",
    "\n",
    " "
   ]
  },
  {
   "cell_type": "code",
   "execution_count": null,
   "metadata": {},
   "outputs": [],
   "source": []
  },
  {
   "cell_type": "code",
   "execution_count": null,
   "metadata": {},
   "outputs": [],
   "source": []
  },
  {
   "cell_type": "markdown",
   "metadata": {
    "ExecuteTime": {
     "end_time": "2020-10-16T20:44:33.927450Z",
     "start_time": "2020-10-16T20:44:33.925092Z"
    }
   },
   "source": [
    "# Grading\n",
    "\n",
    "Download [A3grader.tar](https://www.cs.colostate.edu/~anderson/cs545/notebooks/A3grader.tar), extract `A3grader.py` before running the following cell."
   ]
  },
  {
   "cell_type": "code",
   "execution_count": 73,
   "metadata": {
    "ExecuteTime": {
     "end_time": "2020-10-16T21:31:34.762274Z",
     "start_time": "2020-10-16T21:31:33.286016Z"
    }
   },
   "outputs": [
    {
     "name": "stdout",
     "output_type": "stream",
     "text": [
      "\n",
      "======================= Code Execution =======================\n",
      "\n",
      "Extracting python code from notebook named 'Chen-A3.ipynb' and storing in notebookcode.py\n",
      "Removing all statements that are not function or class defs or import statements.\n",
      "\n",
      "## Testing inheritance ####################################################################\n",
      "\n",
      "    correct = issubclass(NeuralNetworkClassifier, NeuralNetwork)\n",
      "\n",
      "\n",
      "--- 10/10 points. NeuralNetworkClassifier correctly extends NeuralNetwork.\n",
      "\n",
      "## Testing inheritance ####################################################################\n",
      "\n",
      "    import inspect\n",
      "    forward_func = [f for f in inspect.classify_class_attrs(NeuralNetworkClassifier) if (f.name == 'forward' or f.name == '_forward')]\n",
      "    correct = forward_func[0].defining_class == NeuralNetwork\n",
      "\n",
      "\n",
      "--- 5/5 points. NeuralNetworkClassifier forward function correctly inherited from NeuralNetwork.\n",
      "\n",
      "## Testing inheritance ####################################################################\n",
      "\n",
      "    import inspect\n",
      "    str_func = [f for f in inspect.classify_class_attrs(NeuralNetworkClassifier) if (f.name == '__str__')]\n",
      "    correct = str_func[0].defining_class == NeuralNetworkClassifier\n",
      "\n",
      "\n",
      "--- 5/5 points. NeuralNetworkClassifier __str__ function correctly defined in NeuralNetworkClassifier.\n",
      "\n",
      "## Testing constructor ####################################################################\n",
      "\n",
      "    nnet = NeuralNetworkClassifier(2, [], 5)\n",
      "    W_shapes = [W.shape for W in nnet.Ws]\n",
      "\n",
      "\n",
      "--- 10/10 points. W_shapes is correct value of [(3, 5)]\n",
      "\n",
      "## Testing constructor ####################################################################\n",
      "\n",
      "    G_shapes = [G.shape for G in nnet.Grads]\n",
      "\n",
      "\n",
      "--- 10/10 points. G_shapes is correct value of [(3, 5)]\n",
      "\n",
      "## Testing train ####################################################################\n",
      "\n",
      "    np.random.seed(42)\n",
      "    X = np.random.uniform(0, 1, size=(100, 2))\n",
      "    T = (np.abs(X[:, 0:1] - 0.5) > 0.3).astype(int)\n",
      "    nnet = NeuralNetworkClassifier(2, [10, 5], len(np.unique(T)))\n",
      "    nnet.train(X, T, 20, method='scg')\n",
      "\n",
      "    Then check  nnet.get_error_trace()\n",
      "\n",
      "SCG: Epoch 2 ObjectiveF=0.71214\n",
      "SCG: Epoch 4 ObjectiveF=0.71641\n",
      "SCG: Epoch 6 ObjectiveF=0.72075\n",
      "SCG: Epoch 8 ObjectiveF=0.72434\n",
      "SCG: Epoch 10 ObjectiveF=0.74503\n",
      "SCG: Epoch 12 ObjectiveF=0.80855\n",
      "SCG: Epoch 14 ObjectiveF=0.87991\n",
      "SCG: Epoch 16 ObjectiveF=0.89298\n",
      "SCG: Epoch 18 ObjectiveF=0.91259\n",
      "SCG: Epoch 20 ObjectiveF=0.92974\n",
      "\n",
      "--- 10/10 points. Correct values in error_trace\n",
      "\n",
      "## Testing train ####################################################################\n",
      "\n",
      "    np.random.seed(43)\n",
      "    X = np.random.uniform(0, 1, size=(100, 2))\n",
      "    T = (np.abs(X[:, 0:1] - X[:, 1:2]) < 0.5).astype(int)\n",
      "    T[T == 0] = 10\n",
      "    T[T == 1] = 20\n",
      "    # Unique class labels are now 10 and 20!\n",
      "\n",
      "    nnet = NeuralNetworkClassifier(2, [10, 5], 2)\n",
      "    nnet.train(X, T, 200, method='scg')\n",
      "    classes, prob = nnet.use(X)\n",
      "\n",
      "SCG: Epoch 20 ObjectiveF=0.92768\n",
      "SCG: Epoch 40 ObjectiveF=0.98877\n",
      "SCG: Epoch 60 ObjectiveF=0.99984\n",
      "SCG: Epoch 80 ObjectiveF=1.00000\n",
      "SCG: Epoch 100 ObjectiveF=1.00000\n",
      "\n",
      "--- 10/10 points. Correct values in classes\n",
      "\n",
      "--- 10/10 points. Correct values in prob\n",
      "\n",
      "======================================================================\n",
      "HW Execution Grade is 70 / 70\n",
      "======================================================================\n",
      "\n",
      "\n",
      "__ / 5 points. Correctly downloaded and read the MNIST data.\n",
      "\n",
      "__ / 10 points. Experimented with different values of training parameters.\n",
      "\n",
      "__ / 5 points. Show confusion matrix for best neural network.\n",
      "\n",
      "__ / 10 points. Described results with at least 10 sentences.\n",
      "\n",
      "======================================================================\n",
      "HW Results and Discussion Grade is ___ / 30\n",
      "======================================================================\n",
      "\n",
      "======================================================================\n",
      "HW FINAL GRADE is  _  / 100\n",
      "======================================================================\n",
      "\n",
      "Extra Credit: \n",
      "Repeat the above experiments with a different data set. Randonly partition \n",
      "your data into training, validaton and test parts if not already provided.\n",
      "Write in markdown cells descriptions of the data and your results.\n",
      "\n",
      "HW EXTRA CREDIT is 0 / 1\n"
     ]
    }
   ],
   "source": [
    "%run -i A3grader.py"
   ]
  },
  {
   "cell_type": "markdown",
   "metadata": {},
   "source": [
    "# Extra Credit\n",
    "\n",
    "Repeat the above experiments with a different data set.  Randonly partition your data into training, validaton and test parts if not already provided.  Write in markdown cells descriptions of the data and your results."
   ]
  }
 ],
 "metadata": {
  "kernelspec": {
   "display_name": "Python 3",
   "language": "python",
   "name": "python3"
  },
  "language_info": {
   "codemirror_mode": {
    "name": "ipython",
    "version": 3
   },
   "file_extension": ".py",
   "mimetype": "text/x-python",
   "name": "python",
   "nbconvert_exporter": "python",
   "pygments_lexer": "ipython3",
   "version": "3.8.10"
  },
  "toc": {
   "base_numbering": 1,
   "nav_menu": {},
   "number_sections": false,
   "sideBar": true,
   "skip_h1_title": false,
   "title_cell": "Table of Contents",
   "title_sidebar": "Contents",
   "toc_cell": true,
   "toc_position": {},
   "toc_section_display": true,
   "toc_window_display": false
  }
 },
 "nbformat": 4,
 "nbformat_minor": 4
}
