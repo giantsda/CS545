{
 "cells": [
  {
   "cell_type": "markdown",
   "metadata": {},
   "source": [
    "# A2: NeuralNetwork Class"
   ]
  },
  {
   "cell_type": "markdown",
   "metadata": {
    "toc": true
   },
   "source": [
    "<h1>Table of Contents<span class=\"tocSkip\"></span></h1>\n",
    "<div class=\"toc\"><ul class=\"toc-item\"><li><span><a href=\"#Requirements\" data-toc-modified-id=\"Requirements-1\">Requirements</a></span></li><li><span><a href=\"#Code-for-NeuralNetwork-Class\" data-toc-modified-id=\"Code-for-NeuralNetwork-Class-2\">Code for <code>NeuralNetwork</code> Class</a></span></li><li><span><a href=\"#Example-Results\" data-toc-modified-id=\"Example-Results-3\">Example Results</a></span></li><li><span><a href=\"#Application-to-Boston-Housing-Data\" data-toc-modified-id=\"Application-to-Boston-Housing-Data-4\">Application to Boston Housing Data</a></span></li></ul></div>"
   ]
  },
  {
   "cell_type": "markdown",
   "metadata": {},
   "source": [
    "## Requirements"
   ]
  },
  {
   "cell_type": "markdown",
   "metadata": {},
   "source": [
    "In this assignment, you will complete the implementation of the `NeuralNetwork` class, starting with the code included in the next code cell.  Your implementation must meet the requirements described in the doc-strings.\n",
    "\n",
    "Download [optimizers.tar](https://www.cs.colostate.edu/~anderson/cs545/notebooks/optimizers.tar) and extract `optimizers.py` for use in this assignment.\n",
    "\n",
    "Then apply your `NeuralNetwork` class to the problem of predicting the value of houses in Boston as described below."
   ]
  },
  {
   "cell_type": "markdown",
   "metadata": {},
   "source": [
    "## Code for `NeuralNetwork` Class"
   ]
  },
  {
   "cell_type": "code",
   "execution_count": null,
   "metadata": {},
   "outputs": [],
   "source": [
    "%%writefile neuralnetwork.py\n",
    "\n",
    "import numpy as np\n",
    "import optimizers as opt\n",
    "\n",
    "\n",
    "class NeuralNetwork():\n",
    "    \"\"\"\n",
    "    A class that represents a neural network for nonlinear regression\n",
    "\n",
    "    Attributes\n",
    "    ----------\n",
    "    n_inputs : int\n",
    "        The number of values in each sample\n",
    "    n_hidden_units_by_layers: list of ints, or empty\n",
    "        The number of units in each hidden layer.\n",
    "        Its length specifies the number of hidden layers.\n",
    "    n_outputs: int\n",
    "        The number of units in output layer\n",
    "    all_weights : one-dimensional numpy array\n",
    "        Contains all weights of the network as a vector\n",
    "    Ws : list of two-dimensional numpy arrays\n",
    "        Contains matrices of weights in each layer,\n",
    "        as views into all_weights\n",
    "    all_gradients : one-dimensional numpy array\n",
    "        Contains all gradients of mean square error with\n",
    "        respect to each weight in the network as a vector\n",
    "    Grads : list of two-dimensional numpy arrays\n",
    "        Contains matrices of gradients weights in each layer,\n",
    "        as views into all_gradients\n",
    "    total_epochs : int\n",
    "        Total number of epochs trained so far\n",
    "    error_trace : list\n",
    "        Mean square error (standardized) after each epoch\n",
    "    X_means : one-dimensional numpy array\n",
    "        Means of the components, or features, across samples\n",
    "    X_stds : one-dimensional numpy array\n",
    "        Standard deviations of the components, or features, across samples\n",
    "    T_means : one-dimensional numpy array\n",
    "        Means of the components of the targets, across samples\n",
    "    T_stds : one-dimensional numpy array\n",
    "        Standard deviations of the components of the targets, across samples\n",
    "        \n",
    "    Methods\n",
    "    -------\n",
    "    make_weights_and_views(shapes)\n",
    "        Creates all initial weights and views for each layer\n",
    "\n",
    "    train(X, T, n_epochs, method='sgd', learning_rate=None, verbose=True)\n",
    "        Trains the network using samples by rows in X and T\n",
    "\n",
    "    use(X)\n",
    "        Applies network to inputs X and returns network's output\n",
    "    \"\"\"\n",
    "\n",
    "    def __init__(self, n_inputs, n_hidden_units_by_layers, n_outputs):\n",
    "        \"\"\"Creates a neural network with the given structure\n",
    "\n",
    "        Parameters\n",
    "        ----------\n",
    "        n_inputs : int\n",
    "            The number of values in each sample\n",
    "        n_hidden_units_by_layers : list of ints, or empty\n",
    "            The number of units in each hidden layer.\n",
    "            Its length specifies the number of hidden layers.\n",
    "        n_outputs : int\n",
    "            The number of units in output layer\n",
    "\n",
    "        Returns\n",
    "        -------\n",
    "        NeuralNetwork object\n",
    "        \"\"\"\n",
    "\n",
    "        # Assign attribute values. Set self.X_means to None to indicate\n",
    "        # that standardization parameters have not been calculated.\n",
    "        # ....\n",
    "  \n",
    "\n",
    "        # Build list of shapes for weight matrices in each layer\n",
    "        # ...\n",
    "        \n",
    "        # Call make_weights_and_views to create all_weights and Ws\n",
    "        # ...\n",
    "        \n",
    "        # Call make_weights_and_views to create all_gradients and Grads\n",
    "        # ...\n",
    "\n",
    "    def make_weights_and_views(self, shapes):\n",
    "        \"\"\"Creates vector of all weights and views for each layer\n",
    "\n",
    "        Parameters\n",
    "        ----------\n",
    "        shapes : list of pairs of ints\n",
    "            Each pair is number of rows and columns of weights in each layer\n",
    "\n",
    "        Returns\n",
    "        -------\n",
    "        Vector of all weights, and list of views into this vector for each layer\n",
    "        \"\"\"\n",
    "\n",
    "        # Create one-dimensional numpy array of all weights with random initial values\n",
    "        #  ...\n",
    "\n",
    "        # Build list of views by reshaping corresponding elements\n",
    "        # from vector of all weights into correct shape for each layer.        \n",
    "        # ...\n",
    "\n",
    "    def __repr__(self):\n",
    "        return f'NeuralNetwork({self.n_inputs}, ' + \\\n",
    "            f'{self.n_hidden_units_by_layers}, {self.n_outputs})'\n",
    "\n",
    "    def __str__(self):\n",
    "        s = self.__repr__()\n",
    "        if self.total_epochs > 0:\n",
    "            s += f'\\n Trained for {self.total_epochs} epochs.'\n",
    "            s += f'\\n Final standardized training error {self.error_trace[-1]:.4g}.'\n",
    "        return s\n",
    " \n",
    "    def train(self, X, T, n_epochs, method='sgd', learning_rate=None, verbose=True):\n",
    "        \"\"\"Updates the weights \n",
    "\n",
    "        Parameters\n",
    "        ----------\n",
    "        X : two-dimensional numpy array\n",
    "            number of samples  x  number of input components\n",
    "        T : two-dimensional numpy array\n",
    "            number of samples  x  number of output components\n",
    "        n_epochs : int\n",
    "            Number of passes to take through all samples\n",
    "        method : str\n",
    "            'sgd', 'adam', or 'scg'\n",
    "        learning_rate : float\n",
    "            Controls the step size of each update, only for sgd and adam\n",
    "        verbose: boolean\n",
    "            If True, progress is shown with print statements\n",
    "        \"\"\"\n",
    "\n",
    "        # Calculate and assign standardization parameters\n",
    "        # ...\n",
    "\n",
    "        # Standardize X and T\n",
    "        # ...\n",
    "\n",
    "        # Instantiate Optimizers object by giving it vector of all weights\n",
    "        optimizer = opt.Optimizers(self.all_weights)\n",
    "\n",
    "        error_convert_f = lambda err: (np.sqrt(err) * self.T_stds)[0]\n",
    "        \n",
    "        # Call the requested optimizer method to train the weights.\n",
    "\n",
    "        if method == 'sgd':\n",
    "\n",
    "            # ...\n",
    "\n",
    "        elif method == 'adam':\n",
    "\n",
    "            # ...\n",
    "\n",
    "        elif method == 'scg':\n",
    "\n",
    "            # ...\n",
    "\n",
    "        else:\n",
    "            raise Exception(\"method must be 'sgd', 'adam', or 'scg'\")\n",
    "\n",
    "        self.total_epochs += len(error_trace)\n",
    "        self.error_trace += error_trace\n",
    "\n",
    "        # Return neural network object to allow applying other methods\n",
    "        # after training, such as:    Y = nnet.train(X, T, 100, 0.01).use(X)\n",
    "\n",
    "        return self\n",
    "\n",
    "    def _forward(self, X):\n",
    "        \"\"\"Calculate outputs of each layer given inputs in X\n",
    "        \n",
    "        Parameters\n",
    "        ----------\n",
    "        X : input samples, standardized\n",
    "\n",
    "        Returns\n",
    "        -------\n",
    "        Outputs of all layers as list\n",
    "        \"\"\"\n",
    "        self.Ys = [X]\n",
    "        # Append output of each layer to list in self.Ys, then return it.\n",
    "        # ...\n",
    "\n",
    "    # Function to be minimized by optimizer method, mean squared error\n",
    "    def error_f(self, X, T):\n",
    "        \"\"\"Calculate output of net and its mean squared error \n",
    "\n",
    "        Parameters\n",
    "        ----------\n",
    "        X : two-dimensional numpy array\n",
    "            number of samples  x  number of input components\n",
    "        T : two-dimensional numpy array\n",
    "            number of samples  x  number of output components\n",
    "\n",
    "        Returns\n",
    "        -------\n",
    "        Mean square error as scalar float that is the mean\n",
    "        square error over all samples\n",
    "        \"\"\"\n",
    "        # Call _forward, calculate mean square error and return it.\n",
    "        # ...\n",
    "\n",
    "    # Gradient of function to be minimized for use by optimizer method\n",
    "    def gradient_f(self, X, T):\n",
    "        \"\"\"Returns gradient wrt all weights. Assumes _forward already called.\n",
    "\n",
    "        Parameters\n",
    "        ----------\n",
    "        X : two-dimensional numpy array\n",
    "            number of samples  x  number of input components\n",
    "        T : two-dimensional numpy array\n",
    "            number of samples  x  number of output components\n",
    "\n",
    "        Returns\n",
    "        -------\n",
    "        Vector of gradients of mean square error wrt all weights\n",
    "        \"\"\"\n",
    "\n",
    "        # Assumes forward_pass just called with layer outputs saved in self.Ys.\n",
    "        n_samples = X.shape[0]\n",
    "        n_outputs = T.shape[1]\n",
    "        n_layers = len(self.n_hidden_units_by_layers) + 1\n",
    "\n",
    "        # D is delta matrix to be back propagated\n",
    "        D = -(T - self.Ys[-1]) / (n_samples * n_outputs)\n",
    "\n",
    "        # Step backwards through the layers to back-propagate the error (D)\n",
    "        for layeri in range(n_layers - 1, -1, -1):\n",
    "            # gradient of all but bias weights\n",
    "            self.Grads[layeri][1:, :] = ...\n",
    "            # gradient of just the bias weights\n",
    "            self.Grads[layeri][0:1, :] = np.sum(D, axis=0)\n",
    "            # Back-propagate this layer's delta to previous layer\n",
    "            if layeri > 0:\n",
    "                D = ...\n",
    "\n",
    "        return self.all_gradients\n",
    "\n",
    "    def use(self, X):\n",
    "        \"\"\"Return the output of the network for input samples as rows in X\n",
    "\n",
    "        Parameters\n",
    "        ----------\n",
    "        X : two-dimensional numpy array\n",
    "            number of samples  x  number of input components, unstandardized\n",
    "\n",
    "        Returns\n",
    "        -------\n",
    "        Output of neural network, unstandardized, as numpy array\n",
    "        of shape  number of samples  x  number of outputs\n",
    "        \"\"\"\n",
    "\n",
    "        # Standardize X\n",
    "        # ...\n",
    "        \n",
    "        # Unstandardize output Y before returning it\n",
    "        return ...\n",
    "\n",
    "    def get_error_trace(self):\n",
    "        \"\"\"Returns list of standardized mean square error for each epoch\"\"\"\n",
    "        return self.error_trace"
   ]
  },
  {
   "cell_type": "markdown",
   "metadata": {},
   "source": [
    "## Example Results"
   ]
  },
  {
   "cell_type": "markdown",
   "metadata": {},
   "source": [
    "Here we test the `NeuralNetwork` class with some simple data.  \n"
   ]
  },
  {
   "cell_type": "code",
   "execution_count": 14,
   "metadata": {},
   "outputs": [
    {
     "name": "stdout",
     "output_type": "stream",
     "text": [
      "sgd: Epoch 5000 ObjectiveF=0.53656\n",
      "sgd: Epoch 10000 ObjectiveF=0.53630\n",
      "sgd: Epoch 15000 ObjectiveF=0.53614\n",
      "sgd: Epoch 20000 ObjectiveF=0.53594\n",
      "sgd: Epoch 25000 ObjectiveF=0.53536\n",
      "sgd: Epoch 30000 ObjectiveF=0.52071\n",
      "sgd: Epoch 35000 ObjectiveF=0.40487\n",
      "sgd: Epoch 40000 ObjectiveF=0.38776\n",
      "sgd: Epoch 45000 ObjectiveF=0.38651\n",
      "sgd: Epoch 50000 ObjectiveF=0.38610\n",
      "Adam: Epoch 5000 ObjectiveF=0.02938\n",
      "Adam: Epoch 10000 ObjectiveF=0.01566\n",
      "Adam: Epoch 15000 ObjectiveF=0.02178\n",
      "Adam: Epoch 20000 ObjectiveF=0.01410\n",
      "Adam: Epoch 25000 ObjectiveF=0.00511\n",
      "Adam: Epoch 30000 ObjectiveF=0.00449\n",
      "Adam: Epoch 35000 ObjectiveF=0.00468\n",
      "Adam: Epoch 40000 ObjectiveF=0.00369\n",
      "Adam: Epoch 45000 ObjectiveF=0.00465\n",
      "Adam: Epoch 50000 ObjectiveF=0.00304\n",
      "SCG: Epoch 5000 ObjectiveF=0.00693\n",
      "SCG: Epoch 10000 ObjectiveF=0.00506\n",
      "SCG: Epoch 15000 ObjectiveF=0.00395\n",
      "SCG: Epoch 20000 ObjectiveF=0.00233\n",
      "SCG: Epoch 25000 ObjectiveF=0.00193\n",
      "SCG: Epoch 30000 ObjectiveF=0.00180\n",
      "SCG: Epoch 35000 ObjectiveF=0.00167\n",
      "SCG: Epoch 40000 ObjectiveF=0.00159\n",
      "SCG: Epoch 45000 ObjectiveF=0.00151\n",
      "SCG: Epoch 50000 ObjectiveF=0.00145\n"
     ]
    },
    {
     "data": {
      "image/png": "[encoded data removed]",
      "text/plain": [
       "<Figure size 432x288 with 1 Axes>"
      ]
     },
     "metadata": {
      "needs_background": "light"
     },
     "output_type": "display_data"
    }
   ],
   "source": [
    "import numpy as np\n",
    "import matplotlib.pyplot as plt\n",
    "%matplotlib inline\n",
    "\n",
    "import neuralnetwork as nn\n",
    "\n",
    "X = np.arange(-2, 2, 0.05).reshape(-1, 1)\n",
    "T = np.sin(X) * np.sin(X * 10)\n",
    "\n",
    "errors = []\n",
    "n_epochs = 1000\n",
    "method_rhos = [('sgd', 0.01),\n",
    "               ('adam', 0.005),\n",
    "               ('scg', None)]\n",
    "\n",
    "for method, rho in method_rhos:\n",
    "    nnet = nn.NeuralNetwork(X.shape[1], [10, 10], 1)\n",
    "    nnet.train(X, T, 50000, method=method, learning_rate=rho)\n",
    "    Y = nnet.use(X)\n",
    "    plt.plot(X, Y, 'o-', label='Model ' + method)\n",
    "    errors.append(nnet.get_error_trace())\n",
    "\n",
    "plt.plot(X, T, 'o', label='Train')\n",
    "plt.xlabel('X')\n",
    "plt.ylabel('T or Y')\n",
    "plt.legend();"
   ]
  },
  {
   "cell_type": "code",
   "execution_count": 15,
   "metadata": {},
   "outputs": [
    {
     "data": {
      "image/png": "[encoded data removed]",
      "text/plain": [
       "<Figure size 432x288 with 1 Axes>"
      ]
     },
     "metadata": {
      "needs_background": "light"
     },
     "output_type": "display_data"
    }
   ],
   "source": [
    "plt.figure(2)\n",
    "plt.clf()\n",
    "for error_trace in errors:\n",
    "    plt.plot(error_trace)\n",
    "plt.xlabel('Epoch')\n",
    "plt.ylabel('Standardized error')\n",
    "plt.legend([mr[0] for mr in method_rhos]);"
   ]
  },
  {
   "cell_type": "markdown",
   "metadata": {},
   "source": [
    "Your results will not be the same, but your code should complete and make plots somewhat similar to these."
   ]
  },
  {
   "cell_type": "markdown",
   "metadata": {},
   "source": [
    "## Application to Boston Housing Data"
   ]
  },
  {
   "cell_type": "markdown",
   "metadata": {},
   "source": [
    "Download data from [Boston House Data at Kaggle](https://www.kaggle.com/fedesoriano/the-boston-houseprice-data). Read it into python using the `pandas.read_csv` function.  Assign the first 13 columns as inputs to `X` and the final column as target values to `T`.  Make sure `T` is two-dimensional."
   ]
  },
  {
   "cell_type": "markdown",
   "metadata": {},
   "source": [
    "Before training your neural networks, partition the data into training and testing partitions, as shown here."
   ]
  },
  {
   "cell_type": "code",
   "execution_count": 11,
   "metadata": {},
   "outputs": [],
   "source": [
    "def partition(X, T, train_fraction):\n",
    "    n_samples = X.shape[0]\n",
    "    rows = np.arange(n_samples)\n",
    "    np.random.shuffle(rows)\n",
    "    \n",
    "    n_train = round(n_amples * train_fraction)\n",
    "    \n",
    "    Xtrain = X[rows[:ntrain], :]\n",
    "    Ttrain = T[rows[:ntrain], :]\n",
    "    Xtest = X[rows[ntrain:], :]\n",
    "    Ttest = T[rows[ntrain:], :]\n",
    "    \n",
    "def rmse(T, Y):\n",
    "    return np.sqrt(np.mean((T - Y)**2))"
   ]
  },
  {
   "cell_type": "code",
   "execution_count": null,
   "metadata": {},
   "outputs": [],
   "source": [
    "# Assuming you have assigned `X` and `T` correctly.\n",
    "\n",
    "Xtrain, Train, Xtest, Ttest = partition(X, T, 0.8)  "
   ]
  },
  {
   "cell_type": "markdown",
   "metadata": {},
   "source": [
    "Write and run code using your `NeuralNetwork` class to model the Boston housing data. Experiment with all three optimization methods and a variety of neural network structures (numbers of hidden layer and units), learning rates, and numbers of epochs. Show results for at least three different network structures, learning rates, and numbers of epochs for each method.  Show your results using print statements that include the method, network structure, number of epochs, learning rate, and RMSE on training data and RMSE on testing data.\n",
    "\n",
    "Try to find good values for the RMSE on testing data.  Discuss your results, including how good you think the RMSE values are by considering the range of house values given in the data. "
   ]
  },
  {
   "cell_type": "markdown",
   "metadata": {},
   "source": [
    "# Grading\n",
    "\n",
    "<font color='red'>A2grader.tar is coming soon.</font>\n",
    "\n",
    "Your notebook will be run and graded automatically. Test this grading process by first downloading [A2grader.tar](http://www.cs.colostate.edu/~anderson/cs545/notebooks/A2grader.tar) and extract `A2grader.py` from it. Run the code in the following cell to demonstrate an example grading session.  The remaining 20 points will be based on your discussion of this assignment.\n",
    "\n",
    "A different, but similar, grading script will be used to grade your checked-in notebook. It will include additional tests. You should design and perform additional tests on all of your functions to be sure they run correctly before checking in your notebook.  \n",
    "\n",
    "For the grading script to run correctly, you must first name this notebook as 'Lastname-A2.ipynb' with 'Lastname' being your last name, and then save this notebook."
   ]
  },
  {
   "cell_type": "code",
   "execution_count": null,
   "metadata": {},
   "outputs": [],
   "source": [
    "%run -i A2grader.py"
   ]
  },
  {
   "cell_type": "markdown",
   "metadata": {},
   "source": [
    "# Check-In\n",
    "\n",
    "Do not include this section in your notebook.\n",
    "\n",
    "Name your notebook ```Lastname-A2.ipynb```.  So, for me it would be ```Anderson-A2.ipynb```.  Submit the file using the ```Assignment 2``` link on [Canvas](https://colostate.instructure.com/courses/131494)."
   ]
  },
  {
   "cell_type": "markdown",
   "metadata": {},
   "source": [
    "# Extra Credit\n",
    "\n",
    "Apply your multilayer neural network code to a regression problem using data that you choose \n",
    "from the [UCI Machine Learning Repository](http://archive.ics.uci.edu/ml/datasets.php). Pick a dataset that\n",
    "is listed as being appropriate for regression."
   ]
  }
 ],
 "metadata": {
  "kernelspec": {
   "display_name": "Python 3",
   "language": "python",
   "name": "python3"
  },
  "language_info": {
   "codemirror_mode": {
    "name": "ipython",
    "version": 3
   },
   "file_extension": ".py",
   "mimetype": "text/x-python",
   "name": "python",
   "nbconvert_exporter": "python",
   "pygments_lexer": "ipython3",
   "version": "3.8.10"
  },
  "toc": {
   "base_numbering": 1,
   "nav_menu": {},
   "number_sections": false,
   "sideBar": true,
   "skip_h1_title": true,
   "title_cell": "Table of Contents",
   "title_sidebar": "Contents",
   "toc_cell": true,
   "toc_position": {
    "height": "calc(100% - 180px)",
    "left": "10px",
    "top": "150px",
    "width": "512px"
   },
   "toc_section_display": true,
   "toc_window_display": false
  }
 },
 "nbformat": 4,
 "nbformat_minor": 4
}
