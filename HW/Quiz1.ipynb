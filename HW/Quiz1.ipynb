{
 "cells": [
  {
   "cell_type": "markdown",
   "metadata": {},
   "source": [
    "# Quiz 1: CS545 Fall 2021"
   ]
  },
  {
   "cell_type": "markdown",
   "metadata": {},
   "source": [
    "ChenShen"
   ]
  },
  {
   "cell_type": "markdown",
   "metadata": {
    "ExecuteTime": {
     "end_time": "2021-07-15T21:27:55.545924Z",
     "start_time": "2021-07-15T21:27:55.531888Z"
    }
   },
   "source": [
    "Type the AI and Machine Learning course names or numbers that you have taken and the semester and year.  Format them as a bulleted list, as shown. if you have taken relevant courses at other colleges, describe them here.\n",
    "\n",
    "For example:\n",
    "\n",
    " "
   ]
  },
  {
   "cell_type": "markdown",
   "metadata": {},
   "source": [
    "Have you used jupyter notebooks before? If yes, please briefly describe what you used them for.\n",
    "\n",
    "    yes"
   ]
  },
  {
   "cell_type": "markdown",
   "metadata": {},
   "source": [
    "Which editor do you like to use for writing python code?\n",
    "\n",
    "    sublime"
   ]
  },
  {
   "cell_type": "markdown",
   "metadata": {},
   "source": [
    "Edit the following list by deleting python packages that you have not used. Add others with which you are familiar.\n",
    "* numpy\n",
    "* matplotlib\n",
    "* scipy\n",
    "* pytorch\n",
    "* tensorflow"
   ]
  },
  {
   "cell_type": "markdown",
   "metadata": {},
   "source": [
    "Complete the following Latex expressions for the derivatives of functions $g$, $h$, and $k$ with respect to $x$.\n",
    " \n",
    "$$\n",
    "\n",
    "\n",
    "\n",
    "\\begin{align*}\n",
    "f(x) &= x^2  \\\\\n",
    "\\frac{\\partial f(x)}{\\partial x} &= 2x \\\\\n",
    "~ \\\\\n",
    "g(x) &= \\frac{1}{1 + e^{-ax}}\\\\\n",
    "\\frac{\\partial g(x)}{\\partial x} &= \\frac{ae^{ax}}{e^{ax}+1} \\\\\n",
    "~ \\\\\n",
    "h(x) &= \\tanh(42 x)\\\\\n",
    "\\frac{\\partial h(x)}{\\partial x} &= 42\\textrm{arcsec}^2{42x} \\\\\n",
    "~ \\\\\n",
    "k(x) &= (t - \\tanh(z x))^2\\\\\n",
    "\\frac{\\partial k(x)}{\\partial x} &= -z\\textrm{arcsec}^2(zx)\n",
    "\\end{align*}\n",
    "$$\n",
    "\n",
    "\n"
   ]
  },
  {
   "cell_type": "markdown",
   "metadata": {},
   "source": [
    "Add a code cell and in it type python statements to define the two matrices, $A$ and $B$, as `numpy` arrays, print them, and print their shapes.\n",
    "\n",
    "$$ A = \\begin{bmatrix} 1 & 2 & 3\\\\ 4 & 5 & 6 \\end{bmatrix} \\;\\;\\; \\text{ and } \\;\\;\\; B = \\begin{bmatrix} 10 & 20 \\\\ 30 & 40 \\\\ 50 & 60 \\end{bmatrix} $$"
   ]
  },
  {
   "cell_type": "code",
   "execution_count": 2,
   "metadata": {},
   "outputs": [
    {
     "name": "stdout",
     "output_type": "stream",
     "text": [
      "[[1 2 3]\n",
      " [4 5 6]]\n",
      "[[10 20]\n",
      " [30 40]\n",
      " [50 60]]\n",
      "(2, 3)\n",
      "(3, 2)\n"
     ]
    }
   ],
   "source": [
    "import numpy as np\n",
    "import matplotlib.pyplot as plt\n",
    "\n",
    "A= np.array([[1,2,3],[4, 5, 6]])\n",
    "B=np.array([[10,20],[30,40],[50,60]])\n",
    "print(A)\n",
    "print(B)\n",
    "print(A.shape)\n",
    "print(B.shape)\n"
   ]
  },
  {
   "cell_type": "markdown",
   "metadata": {},
   "source": [
    "Add another code cell here and write python statements to multiply $A$ and $B$ and print the answer. "
   ]
  },
  {
   "cell_type": "code",
   "execution_count": 7,
   "metadata": {},
   "outputs": [
    {
     "name": "stdout",
     "output_type": "stream",
     "text": [
      "[[220 280]\n",
      " [490 640]]\n"
     ]
    }
   ],
   "source": [
    "print(np.matmul(A,B))"
   ]
  },
  {
   "cell_type": "markdown",
   "metadata": {},
   "source": [
    "Add a code cell and write python statements that show\n",
    "$$ (A B)^T = B^T A^T$$"
   ]
  },
  {
   "cell_type": "code",
   "execution_count": 3,
   "metadata": {},
   "outputs": [
    {
     "name": "stdout",
     "output_type": "stream",
     "text": [
      "[[220 490]\n",
      " [280 640]]\n",
      "[[220 490]\n",
      " [280 640]]\n"
     ]
    }
   ],
   "source": [
    "L=(np.matmul(A,B)).transpose()\n",
    "print(L)\n",
    "R=np.matmul(B.transpose(),A.T)\n",
    "print(R)\n",
    "print(L-R)"
   ]
  },
  {
   "cell_type": "markdown",
   "metadata": {},
   "source": [
    "In another code cell, define a numpy array in variable $x$ of 20 values equally spaced from $-10$ to 10 using `np.linspace`.  Then plot $\\tanh(x)$ versus $x$ using the `matplotlib` package."
   ]
  },
  {
   "cell_type": "markdown",
   "metadata": {},
   "source": [
    "The following code cell defines a list of integers.  Write one line of python that uses a list comprehension to square each value of the original list."
   ]
  },
  {
   "cell_type": "code",
   "execution_count": 4,
   "metadata": {},
   "outputs": [
    {
     "data": {
      "text/plain": [
       "([1, 5, 15, 3, -42], [1, 25, 225, 9, 1764])"
      ]
     },
     "execution_count": 4,
     "metadata": {},
     "output_type": "execute_result"
    }
   ],
   "source": [
    "x = [1, 5, 15, 3, -42]\n",
    "x_squared = [number ** 2 for number in x]\n",
    "x, x_squared"
   ]
  },
  {
   "cell_type": "markdown",
   "metadata": {},
   "source": [
    "In another code cell, use `np.stack` and the transpose operator to combine `x` and `x_squared` into one `numpy` array of two columns with the first value in each row from `x` and the second value in the same row the value of `x` squared. Display the result."
   ]
  },
  {
   "cell_type": "code",
   "execution_count": 25,
   "metadata": {},
   "outputs": [
    {
     "data": {
      "text/plain": [
       "array([[   1,    5,   15,    3,  -42],\n",
       "       [   1,   25,  225,    9, 1764]])"
      ]
     },
     "execution_count": 25,
     "metadata": {},
     "output_type": "execute_result"
    }
   ],
   "source": [
    "haha=np.stack((np.array(x),np.array(x_squared)))\n",
    "haha"
   ]
  },
  {
   "cell_type": "markdown",
   "metadata": {},
   "source": [
    "In another code cell, make a plot of `x_squared` values versus `x` values, using the 'o' style."
   ]
  },
  {
   "cell_type": "code",
   "execution_count": 27,
   "metadata": {},
   "outputs": [
    {
     "data": {
      "text/plain": [
       "[<matplotlib.lines.Line2D at 0x7f970a680f70>]"
      ]
     },
     "execution_count": 27,
     "metadata": {},
     "output_type": "execute_result"
    },
    {
     "data": {
      "image/png": "[encoded data removed]",
      "text/plain": [
       "<Figure size 432x288 with 1 Axes>"
      ]
     },
     "metadata": {
      "needs_background": "light"
     },
     "output_type": "display_data"
    }
   ],
   "source": [
    "plt.plot(x, x_squared, 'o')"
   ]
  },
  {
   "cell_type": "markdown",
   "metadata": {},
   "source": [
    "How many hours did it take you to complete this quiz?  \n",
    "\n",
    "2"
   ]
  },
  {
   "cell_type": "markdown",
   "metadata": {},
   "source": [
    "**When you are done, save this notebook and submit it through our course Canvas webpage.**"
   ]
  }
 ],
 "metadata": {
  "kernelspec": {
   "display_name": "Python 3",
   "language": "python",
   "name": "python3"
  },
  "language_info": {
   "codemirror_mode": {
    "name": "ipython",
    "version": 3
   },
   "file_extension": ".py",
   "mimetype": "text/x-python",
   "name": "python",
   "nbconvert_exporter": "python",
   "pygments_lexer": "ipython3",
   "version": "3.8.10"
  },
  "toc": {
   "base_numbering": 1,
   "nav_menu": {},
   "number_sections": false,
   "sideBar": true,
   "skip_h1_title": false,
   "title_cell": "Table of Contents",
   "title_sidebar": "Contents",
   "toc_cell": false,
   "toc_position": {},
   "toc_section_display": true,
   "toc_window_display": true
  }
 },
 "nbformat": 4,
 "nbformat_minor": 2
}
