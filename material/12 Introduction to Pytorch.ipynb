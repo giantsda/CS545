{
 "cells": [
  {
   "cell_type": "markdown",
   "metadata": {},
   "source": [
    "Very helpful tutorials can be found at this site for [Pytorch tutorials](https://pytorch.org/tutorials/)."
   ]
  },
  {
   "cell_type": "code",
   "execution_count": 1,
   "metadata": {},
   "outputs": [
    {
     "name": "stdout",
     "output_type": "stream",
     "text": [
      "1.9.0\n"
     ]
    }
   ],
   "source": [
    "import numpy as np\n",
    "import torch\n",
    "\n",
    "print(torch.__version__)\n",
    "import time\n",
    "\n",
    "import matplotlib.pyplot as plt"
   ]
  },
  {
   "cell_type": "markdown",
   "metadata": {},
   "source": [
    "# torch.tensor"
   ]
  },
  {
   "cell_type": "markdown",
   "metadata": {},
   "source": [
    "The `torch` package contains classes and functions that are very similar to `numpy`.  It also provides functions to convert back and forth."
   ]
  },
  {
   "cell_type": "code",
   "execution_count": 2,
   "metadata": {},
   "outputs": [
    {
     "data": {
      "text/plain": [
       "[[0.1, 0.2, 0.3], [1.1, 1.2, 1.3], [2.1, 2.2, 2.3]]"
      ]
     },
     "execution_count": 2,
     "metadata": {},
     "output_type": "execute_result"
    }
   ],
   "source": [
    "data = [[0.1, 0.2, 0.3], [1.1, 1.2, 1.3], [2.1, 2.2, 2.3]]\n",
    "data"
   ]
  },
  {
   "cell_type": "code",
   "execution_count": 3,
   "metadata": {},
   "outputs": [
    {
     "data": {
      "text/plain": [
       "array([[0.1, 0.2, 0.3],\n",
       "       [1.1, 1.2, 1.3],\n",
       "       [2.1, 2.2, 2.3]])"
      ]
     },
     "execution_count": 3,
     "metadata": {},
     "output_type": "execute_result"
    }
   ],
   "source": [
    "a = np.array(data)\n",
    "a"
   ]
  },
  {
   "cell_type": "code",
   "execution_count": 4,
   "metadata": {},
   "outputs": [
    {
     "data": {
      "text/plain": [
       "(numpy.ndarray, dtype('float64'))"
      ]
     },
     "execution_count": 4,
     "metadata": {},
     "output_type": "execute_result"
    }
   ],
   "source": [
    "type(a), a.dtype"
   ]
  },
  {
   "cell_type": "code",
   "execution_count": 5,
   "metadata": {},
   "outputs": [
    {
     "data": {
      "text/plain": [
       "tensor([[0.1000, 0.2000, 0.3000],\n",
       "        [1.1000, 1.2000, 1.3000],\n",
       "        [2.1000, 2.2000, 2.3000]])"
      ]
     },
     "execution_count": 5,
     "metadata": {},
     "output_type": "execute_result"
    }
   ],
   "source": [
    "b = torch.tensor(data)\n",
    "b"
   ]
  },
  {
   "cell_type": "code",
   "execution_count": 6,
   "metadata": {},
   "outputs": [
    {
     "data": {
      "text/plain": [
       "(torch.Tensor, torch.float32)"
      ]
     },
     "execution_count": 6,
     "metadata": {},
     "output_type": "execute_result"
    }
   ],
   "source": [
    "type(b), b.dtype"
   ]
  },
  {
   "cell_type": "code",
   "execution_count": 7,
   "metadata": {},
   "outputs": [
    {
     "data": {
      "text/plain": [
       "tensor([[0.1000, 0.2000, 0.3000],\n",
       "        [1.1000, 1.2000, 1.3000],\n",
       "        [2.1000, 2.2000, 2.3000]], dtype=torch.float64)"
      ]
     },
     "execution_count": 7,
     "metadata": {},
     "output_type": "execute_result"
    }
   ],
   "source": [
    "c = torch.from_numpy(a)\n",
    "c"
   ]
  },
  {
   "cell_type": "code",
   "execution_count": 8,
   "metadata": {},
   "outputs": [
    {
     "data": {
      "text/plain": [
       "(torch.Tensor, torch.float64)"
      ]
     },
     "execution_count": 8,
     "metadata": {},
     "output_type": "execute_result"
    }
   ],
   "source": [
    "type(c), c.dtype"
   ]
  },
  {
   "cell_type": "code",
   "execution_count": 9,
   "metadata": {},
   "outputs": [
    {
     "data": {
      "text/plain": [
       "tensor([[0.1000, 0.2000, 0.3000],\n",
       "        [1.1000, 1.2000, 1.3000],\n",
       "        [2.1000, 2.2000, 2.3000]], dtype=torch.float64)"
      ]
     },
     "execution_count": 9,
     "metadata": {},
     "output_type": "execute_result"
    }
   ],
   "source": [
    "d = torch.as_tensor(a)\n",
    "d"
   ]
  },
  {
   "cell_type": "code",
   "execution_count": 10,
   "metadata": {},
   "outputs": [
    {
     "data": {
      "text/plain": [
       "(torch.Tensor, torch.float64)"
      ]
     },
     "execution_count": 10,
     "metadata": {},
     "output_type": "execute_result"
    }
   ],
   "source": [
    "type(d), d.dtype"
   ]
  },
  {
   "cell_type": "code",
   "execution_count": 11,
   "metadata": {},
   "outputs": [
    {
     "data": {
      "text/plain": [
       "array([[0.1, 0.2, 0.3],\n",
       "       [1.1, 1.2, 1.3],\n",
       "       [2.1, 2.2, 2.3]])"
      ]
     },
     "execution_count": 11,
     "metadata": {},
     "output_type": "execute_result"
    }
   ],
   "source": [
    "e = d.numpy()\n",
    "e"
   ]
  },
  {
   "cell_type": "code",
   "execution_count": 12,
   "metadata": {},
   "outputs": [
    {
     "data": {
      "text/plain": [
       "(numpy.ndarray, dtype('float64'))"
      ]
     },
     "execution_count": 12,
     "metadata": {},
     "output_type": "execute_result"
    }
   ],
   "source": [
    "type(e), e.dtype"
   ]
  },
  {
   "cell_type": "markdown",
   "metadata": {},
   "source": [
    "`torch.tensor` copies the data.  `torch.from_numpy` and `torch.as_tensor` do not copy the data."
   ]
  },
  {
   "cell_type": "code",
   "execution_count": 13,
   "metadata": {},
   "outputs": [
    {
     "data": {
      "text/plain": [
       "array([[0.1, 0.2, 0.3],\n",
       "       [1.1, 1.2, 1.3],\n",
       "       [2.1, 2.2, 2.3]])"
      ]
     },
     "execution_count": 13,
     "metadata": {},
     "output_type": "execute_result"
    }
   ],
   "source": [
    "a"
   ]
  },
  {
   "cell_type": "code",
   "execution_count": 14,
   "metadata": {},
   "outputs": [
    {
     "data": {
      "text/plain": [
       "tensor([[0.1000, 0.2000, 0.3000],\n",
       "        [1.1000, 1.2000, 1.3000],\n",
       "        [2.1000, 2.2000, 2.3000]], dtype=torch.float64)"
      ]
     },
     "execution_count": 14,
     "metadata": {},
     "output_type": "execute_result"
    }
   ],
   "source": [
    "b = torch.from_numpy(a)\n",
    "b"
   ]
  },
  {
   "cell_type": "code",
   "execution_count": 15,
   "metadata": {},
   "outputs": [
    {
     "data": {
      "text/plain": [
       "array([[42.42,  0.2 ,  0.3 ],\n",
       "       [ 1.1 ,  1.2 ,  1.3 ],\n",
       "       [ 2.1 ,  2.2 ,  2.3 ]])"
      ]
     },
     "execution_count": 15,
     "metadata": {},
     "output_type": "execute_result"
    }
   ],
   "source": [
    "a[0,0] = 42.42\n",
    "a"
   ]
  },
  {
   "cell_type": "code",
   "execution_count": 16,
   "metadata": {},
   "outputs": [
    {
     "data": {
      "text/plain": [
       "tensor([[42.4200,  0.2000,  0.3000],\n",
       "        [ 1.1000,  1.2000,  1.3000],\n",
       "        [ 2.1000,  2.2000,  2.3000]], dtype=torch.float64)"
      ]
     },
     "execution_count": 16,
     "metadata": {},
     "output_type": "execute_result"
    }
   ],
   "source": [
    "b"
   ]
  },
  {
   "cell_type": "code",
   "execution_count": 17,
   "metadata": {},
   "outputs": [
    {
     "data": {
      "text/plain": [
       "tensor([[42.4200,  0.2000,  0.3000],\n",
       "        [ 1.1000,  1.2000,  1.3000],\n",
       "        [ 2.1000,  2.2000,  2.3000]], dtype=torch.float64)"
      ]
     },
     "execution_count": 17,
     "metadata": {},
     "output_type": "execute_result"
    }
   ],
   "source": [
    "b = torch.tensor(a)\n",
    "b"
   ]
  },
  {
   "cell_type": "code",
   "execution_count": 18,
   "metadata": {},
   "outputs": [
    {
     "data": {
      "text/plain": [
       "array([[1.2345e+04, 2.0000e-01, 3.0000e-01],\n",
       "       [1.1000e+00, 1.2000e+00, 1.3000e+00],\n",
       "       [2.1000e+00, 2.2000e+00, 2.3000e+00]])"
      ]
     },
     "execution_count": 18,
     "metadata": {},
     "output_type": "execute_result"
    }
   ],
   "source": [
    "a[0,0] = 12345.0\n",
    "a"
   ]
  },
  {
   "cell_type": "code",
   "execution_count": 19,
   "metadata": {},
   "outputs": [
    {
     "data": {
      "text/plain": [
       "tensor([[42.4200,  0.2000,  0.3000],\n",
       "        [ 1.1000,  1.2000,  1.3000],\n",
       "        [ 2.1000,  2.2000,  2.3000]], dtype=torch.float64)"
      ]
     },
     "execution_count": 19,
     "metadata": {},
     "output_type": "execute_result"
    }
   ],
   "source": [
    "b"
   ]
  },
  {
   "cell_type": "markdown",
   "metadata": {},
   "source": [
    "We can even use `@` for matrix multiplcation as we do in `numpy`."
   ]
  },
  {
   "cell_type": "code",
   "execution_count": 20,
   "metadata": {},
   "outputs": [
    {
     "data": {
      "text/plain": [
       "(10, 20)"
      ]
     },
     "execution_count": 20,
     "metadata": {},
     "output_type": "execute_result"
    }
   ],
   "source": [
    "a = np.random.uniform(-0.1, 0.1, size=(10, 5))\n",
    "b = np.random.uniform(-0.1, 0.1, size=(5, 20))\n",
    "c = a @ b\n",
    "c.shape"
   ]
  },
  {
   "cell_type": "code",
   "execution_count": 21,
   "metadata": {},
   "outputs": [],
   "source": [
    "# torch.rand?"
   ]
  },
  {
   "cell_type": "code",
   "execution_count": 22,
   "metadata": {},
   "outputs": [
    {
     "data": {
      "text/plain": [
       "torch.Size([10, 20])"
      ]
     },
     "execution_count": 22,
     "metadata": {},
     "output_type": "execute_result"
    }
   ],
   "source": [
    "at = (torch.rand(size=(10, 5)) - 0.5) * 0.1\n",
    "bt = (torch.rand(size=(5, 20)) - 0.5) * 0.1\n",
    "ct = at @ bt\n",
    "ct.shape"
   ]
  },
  {
   "cell_type": "markdown",
   "metadata": {},
   "source": [
    "# Automatic Gradients using autograd"
   ]
  },
  {
   "cell_type": "markdown",
   "metadata": {},
   "source": [
    "What is the derivative of $\\sin(x)$?"
   ]
  },
  {
   "cell_type": "code",
   "execution_count": 23,
   "metadata": {},
   "outputs": [
    {
     "data": {
      "image/png": "[encoded data removed]",
      "text/plain": [
       "<Figure size 720x360 with 1 Axes>"
      ]
     },
     "metadata": {
      "needs_background": "light"
     },
     "output_type": "display_data"
    }
   ],
   "source": [
    "plt.figure(figsize=(10, 5))\n",
    "x = np.linspace(-2*np.pi, 2*np.pi, 100)\n",
    "y = np.sin(x)\n",
    "dy = np.cos(x)\n",
    "plt.plot(x, y)\n",
    "plt.plot(x, dy)\n",
    "plt.legend(('$\\sin(x)$', '$\\\\frac{d \\sin(x)}{dx} = \\cos(x)$',));"
   ]
  },
  {
   "cell_type": "code",
   "execution_count": 24,
   "metadata": {},
   "outputs": [
    {
     "data": {
      "text/plain": [
       "tensor([-6.2832, -6.1563, -6.0293, -5.9024, -5.7755, -5.6485, -5.5216, -5.3947,\n",
       "        -5.2677, -5.1408, -5.0139, -4.8869, -4.7600, -4.6331, -4.5061, -4.3792,\n",
       "        -4.2523, -4.1253, -3.9984, -3.8715, -3.7445, -3.6176, -3.4907, -3.3637,\n",
       "        -3.2368, -3.1099, -2.9829, -2.8560, -2.7291, -2.6021, -2.4752, -2.3483,\n",
       "        -2.2213, -2.0944, -1.9675, -1.8405, -1.7136, -1.5867, -1.4597, -1.3328,\n",
       "        -1.2059, -1.0789, -0.9520, -0.8251, -0.6981, -0.5712, -0.4443, -0.3173,\n",
       "        -0.1904, -0.0635,  0.0635,  0.1904,  0.3173,  0.4443,  0.5712,  0.6981,\n",
       "         0.8251,  0.9520,  1.0789,  1.2059,  1.3328,  1.4597,  1.5867,  1.7136,\n",
       "         1.8405,  1.9675,  2.0944,  2.2213,  2.3483,  2.4752,  2.6021,  2.7291,\n",
       "         2.8560,  2.9829,  3.1099,  3.2368,  3.3637,  3.4907,  3.6176,  3.7445,\n",
       "         3.8715,  3.9984,  4.1253,  4.2523,  4.3792,  4.5061,  4.6331,  4.7600,\n",
       "         4.8869,  5.0139,  5.1408,  5.2677,  5.3947,  5.5216,  5.6485,  5.7755,\n",
       "         5.9024,  6.0293,  6.1563,  6.2832], dtype=torch.float64)"
      ]
     },
     "execution_count": 24,
     "metadata": {},
     "output_type": "execute_result"
    }
   ],
   "source": [
    "xt = torch.from_numpy(x)\n",
    "xt"
   ]
  },
  {
   "cell_type": "code",
   "execution_count": 25,
   "metadata": {},
   "outputs": [
    {
     "data": {
      "text/plain": [
       "False"
      ]
     },
     "execution_count": 25,
     "metadata": {},
     "output_type": "execute_result"
    }
   ],
   "source": [
    "xt.requires_grad"
   ]
  },
  {
   "cell_type": "code",
   "execution_count": 26,
   "metadata": {},
   "outputs": [
    {
     "data": {
      "text/plain": [
       "tensor([-6.2832, -6.1563, -6.0293, -5.9024, -5.7755, -5.6485, -5.5216, -5.3947,\n",
       "        -5.2677, -5.1408, -5.0139, -4.8869, -4.7600, -4.6331, -4.5061, -4.3792,\n",
       "        -4.2523, -4.1253, -3.9984, -3.8715, -3.7445, -3.6176, -3.4907, -3.3637,\n",
       "        -3.2368, -3.1099, -2.9829, -2.8560, -2.7291, -2.6021, -2.4752, -2.3483,\n",
       "        -2.2213, -2.0944, -1.9675, -1.8405, -1.7136, -1.5867, -1.4597, -1.3328,\n",
       "        -1.2059, -1.0789, -0.9520, -0.8251, -0.6981, -0.5712, -0.4443, -0.3173,\n",
       "        -0.1904, -0.0635,  0.0635,  0.1904,  0.3173,  0.4443,  0.5712,  0.6981,\n",
       "         0.8251,  0.9520,  1.0789,  1.2059,  1.3328,  1.4597,  1.5867,  1.7136,\n",
       "         1.8405,  1.9675,  2.0944,  2.2213,  2.3483,  2.4752,  2.6021,  2.7291,\n",
       "         2.8560,  2.9829,  3.1099,  3.2368,  3.3637,  3.4907,  3.6176,  3.7445,\n",
       "         3.8715,  3.9984,  4.1253,  4.2523,  4.3792,  4.5061,  4.6331,  4.7600,\n",
       "         4.8869,  5.0139,  5.1408,  5.2677,  5.3947,  5.5216,  5.6485,  5.7755,\n",
       "         5.9024,  6.0293,  6.1563,  6.2832], dtype=torch.float64,\n",
       "       requires_grad=True)"
      ]
     },
     "execution_count": 26,
     "metadata": {},
     "output_type": "execute_result"
    }
   ],
   "source": [
    "xt.requires_grad_(True)"
   ]
  },
  {
   "cell_type": "code",
   "execution_count": 27,
   "metadata": {},
   "outputs": [
    {
     "data": {
      "text/plain": [
       "True"
      ]
     },
     "execution_count": 27,
     "metadata": {},
     "output_type": "execute_result"
    }
   ],
   "source": [
    "xt.requires_grad"
   ]
  },
  {
   "cell_type": "markdown",
   "metadata": {},
   "source": [
    "Now we can define our $\\sin$ function."
   ]
  },
  {
   "cell_type": "code",
   "execution_count": 28,
   "metadata": {},
   "outputs": [],
   "source": [
    "# y = torch.sin(x)\n",
    "# y"
   ]
  },
  {
   "cell_type": "code",
   "execution_count": 29,
   "metadata": {},
   "outputs": [
    {
     "data": {
      "text/plain": [
       "tensor([ 2.4493e-16,  1.2659e-01,  2.5115e-01,  3.7166e-01,  4.8620e-01,\n",
       "         5.9291e-01,  6.9008e-01,  7.7615e-01,  8.4973e-01,  9.0963e-01,\n",
       "         9.5490e-01,  9.8481e-01,  9.9887e-01,  9.9685e-01,  9.7880e-01,\n",
       "         9.4500e-01,  8.9599e-01,  8.3257e-01,  7.5575e-01,  6.6677e-01,\n",
       "         5.6706e-01,  4.5823e-01,  3.4202e-01,  2.2031e-01,  9.5056e-02,\n",
       "        -3.1728e-02, -1.5800e-01, -2.8173e-01, -4.0093e-01, -5.1368e-01,\n",
       "        -6.1816e-01, -7.1269e-01, -7.9576e-01, -8.6603e-01, -9.2235e-01,\n",
       "        -9.6384e-01, -9.8982e-01, -9.9987e-01, -9.9384e-01, -9.7181e-01,\n",
       "        -9.3415e-01, -8.8145e-01, -8.1458e-01, -7.3459e-01, -6.4279e-01,\n",
       "        -5.4064e-01, -4.2979e-01, -3.1203e-01, -1.8925e-01, -6.3424e-02,\n",
       "         6.3424e-02,  1.8925e-01,  3.1203e-01,  4.2979e-01,  5.4064e-01,\n",
       "         6.4279e-01,  7.3459e-01,  8.1458e-01,  8.8145e-01,  9.3415e-01,\n",
       "         9.7181e-01,  9.9384e-01,  9.9987e-01,  9.8982e-01,  9.6384e-01,\n",
       "         9.2235e-01,  8.6603e-01,  7.9576e-01,  7.1269e-01,  6.1816e-01,\n",
       "         5.1368e-01,  4.0093e-01,  2.8173e-01,  1.5800e-01,  3.1728e-02,\n",
       "        -9.5056e-02, -2.2031e-01, -3.4202e-01, -4.5823e-01, -5.6706e-01,\n",
       "        -6.6677e-01, -7.5575e-01, -8.3257e-01, -8.9599e-01, -9.4500e-01,\n",
       "        -9.7880e-01, -9.9685e-01, -9.9887e-01, -9.8481e-01, -9.5490e-01,\n",
       "        -9.0963e-01, -8.4973e-01, -7.7615e-01, -6.9008e-01, -5.9291e-01,\n",
       "        -4.8620e-01, -3.7166e-01, -2.5115e-01, -1.2659e-01, -2.4493e-16],\n",
       "       dtype=torch.float64, grad_fn=<SinBackward>)"
      ]
     },
     "execution_count": 29,
     "metadata": {},
     "output_type": "execute_result"
    }
   ],
   "source": [
    "yt = torch.sin(xt)\n",
    "yt"
   ]
  },
  {
   "cell_type": "code",
   "execution_count": 30,
   "metadata": {},
   "outputs": [
    {
     "data": {
      "text/plain": [
       "torch.Size([100])"
      ]
     },
     "execution_count": 30,
     "metadata": {},
     "output_type": "execute_result"
    }
   ],
   "source": [
    "xt.shape"
   ]
  },
  {
   "cell_type": "code",
   "execution_count": 31,
   "metadata": {},
   "outputs": [],
   "source": [
    "yt.backward(torch.ones(100))"
   ]
  },
  {
   "cell_type": "code",
   "execution_count": 32,
   "metadata": {},
   "outputs": [
    {
     "data": {
      "text/plain": [
       "tensor([ 1.0000,  0.9920,  0.9679,  0.9284,  0.8738,  0.8053,  0.7237,  0.6306,\n",
       "         0.5272,  0.4154,  0.2969,  0.1736,  0.0476, -0.0792, -0.2048, -0.3271,\n",
       "        -0.4441, -0.5539, -0.6549, -0.7453, -0.8237, -0.8888, -0.9397, -0.9754,\n",
       "        -0.9955, -0.9995, -0.9874, -0.9595, -0.9161, -0.8580, -0.7861, -0.7015,\n",
       "        -0.6056, -0.5000, -0.3863, -0.2665, -0.1423, -0.0159,  0.1108,  0.2358,\n",
       "         0.3569,  0.4723,  0.5801,  0.6785,  0.7660,  0.8413,  0.9029,  0.9501,\n",
       "         0.9819,  0.9980,  0.9980,  0.9819,  0.9501,  0.9029,  0.8413,  0.7660,\n",
       "         0.6785,  0.5801,  0.4723,  0.3569,  0.2358,  0.1108, -0.0159, -0.1423,\n",
       "        -0.2665, -0.3863, -0.5000, -0.6056, -0.7015, -0.7861, -0.8580, -0.9161,\n",
       "        -0.9595, -0.9874, -0.9995, -0.9955, -0.9754, -0.9397, -0.8888, -0.8237,\n",
       "        -0.7453, -0.6549, -0.5539, -0.4441, -0.3271, -0.2048, -0.0792,  0.0476,\n",
       "         0.1736,  0.2969,  0.4154,  0.5272,  0.6306,  0.7237,  0.8053,  0.8738,\n",
       "         0.9284,  0.9679,  0.9920,  1.0000], dtype=torch.float64)"
      ]
     },
     "execution_count": 32,
     "metadata": {},
     "output_type": "execute_result"
    }
   ],
   "source": [
    "xt.grad"
   ]
  },
  {
   "cell_type": "code",
   "execution_count": 33,
   "metadata": {
    "scrolled": true
   },
   "outputs": [
    {
     "data": {
      "image/png": "[encoded data removed]",
      "text/plain": [
       "<Figure size 720x360 with 1 Axes>"
      ]
     },
     "metadata": {
      "needs_background": "light"
     },
     "output_type": "display_data"
    }
   ],
   "source": [
    "plt.figure(figsize=(10, 5))\n",
    "plt.plot(xt.detach(), yt.detach())\n",
    "plt.plot(xt.detach(), xt.grad)\n",
    "plt.legend(('$\\sin(x)$', '$\\\\frac{d \\sin(x)}{dx} = \\cos(x)$'));"
   ]
  },
  {
   "cell_type": "code",
   "execution_count": 34,
   "metadata": {
    "scrolled": false
   },
   "outputs": [],
   "source": [
    "# yt.backward(torch.ones(100))"
   ]
  },
  {
   "cell_type": "code",
   "execution_count": 35,
   "metadata": {},
   "outputs": [
    {
     "data": {
      "text/plain": [
       "tensor([ 2.0000,  1.9839,  1.9359,  1.8567,  1.7477,  1.6105,  1.4475,  1.2611,\n",
       "         1.0545,  0.8308,  0.5938,  0.3473,  0.0952, -0.1585, -0.4096, -0.6541,\n",
       "        -0.8881, -1.1078, -1.3097, -1.4905, -1.6474, -1.7777, -1.8794, -1.9509,\n",
       "        -1.9909, -1.9990, -1.9749, -1.9190, -1.8322, -1.7160, -1.5721, -1.4029,\n",
       "        -1.2112, -1.0000, -0.7727, -0.5329, -0.2846, -0.0317,  0.2217,  0.4715,\n",
       "         0.7138,  0.9445,  1.1601,  1.3570,  1.5321,  1.6825,  1.8059,  1.9001,\n",
       "         1.9639,  1.9960,  1.9960,  1.9639,  1.9001,  1.8059,  1.6825,  1.5321,\n",
       "         1.3570,  1.1601,  0.9445,  0.7138,  0.4715,  0.2217, -0.0317, -0.2846,\n",
       "        -0.5329, -0.7727, -1.0000, -1.2112, -1.4029, -1.5721, -1.7160, -1.8322,\n",
       "        -1.9190, -1.9749, -1.9990, -1.9909, -1.9509, -1.8794, -1.7777, -1.6474,\n",
       "        -1.4905, -1.3097, -1.1078, -0.8881, -0.6541, -0.4096, -0.1585,  0.0952,\n",
       "         0.3473,  0.5938,  0.8308,  1.0545,  1.2611,  1.4475,  1.6105,  1.7477,\n",
       "         1.8567,  1.9359,  1.9839,  2.0000], dtype=torch.float64)"
      ]
     },
     "execution_count": 35,
     "metadata": {},
     "output_type": "execute_result"
    }
   ],
   "source": [
    "yt = torch.sin(xt)\n",
    "yt.backward(torch.ones(100))\n",
    "xt.grad"
   ]
  },
  {
   "cell_type": "code",
   "execution_count": 36,
   "metadata": {
    "scrolled": true
   },
   "outputs": [
    {
     "data": {
      "image/png": "[encoded data removed]",
      "text/plain": [
       "<Figure size 720x360 with 1 Axes>"
      ]
     },
     "metadata": {
      "needs_background": "light"
     },
     "output_type": "display_data"
    }
   ],
   "source": [
    "plt.figure(figsize=(10, 5))\n",
    "plt.plot(xt.detach(), yt.detach())\n",
    "plt.plot(xt.detach(), xt.grad)\n",
    "plt.legend(('$\\sin(x)$', '$\\\\frac{d \\sin(x)}{dx} = \\cos(x)$'));"
   ]
  },
  {
   "cell_type": "markdown",
   "metadata": {},
   "source": [
    "Above shows the magnitude of our derivative is twice what is should be.  This is because `backward` adds the gradient values to the previous values.  We must explicitly zero out the gradient first."
   ]
  },
  {
   "cell_type": "code",
   "execution_count": 37,
   "metadata": {},
   "outputs": [
    {
     "name": "stdout",
     "output_type": "stream",
     "text": [
      "tensor(1., dtype=torch.float64)\n",
      "tensor(2., dtype=torch.float64)\n",
      "tensor(3., dtype=torch.float64)\n",
      "tensor(4., dtype=torch.float64)\n",
      "tensor(5., dtype=torch.float64)\n",
      "tensor(6., dtype=torch.float64)\n",
      "tensor(7., dtype=torch.float64)\n",
      "tensor(8., dtype=torch.float64)\n",
      "tensor(9., dtype=torch.float64)\n",
      "tensor(10., dtype=torch.float64)\n"
     ]
    }
   ],
   "source": [
    "xt.grad.zero_()\n",
    "for i in range(10):\n",
    "    yt = torch.sin(xt)\n",
    "    yt.backward(torch.ones(100))\n",
    "    print(xt.grad[0])"
   ]
  },
  {
   "cell_type": "code",
   "execution_count": 38,
   "metadata": {},
   "outputs": [
    {
     "name": "stdout",
     "output_type": "stream",
     "text": [
      "tensor(1., dtype=torch.float64)\n",
      "tensor(1., dtype=torch.float64)\n",
      "tensor(1., dtype=torch.float64)\n",
      "tensor(1., dtype=torch.float64)\n",
      "tensor(1., dtype=torch.float64)\n",
      "tensor(1., dtype=torch.float64)\n",
      "tensor(1., dtype=torch.float64)\n",
      "tensor(1., dtype=torch.float64)\n",
      "tensor(1., dtype=torch.float64)\n",
      "tensor(1., dtype=torch.float64)\n"
     ]
    }
   ],
   "source": [
    "for i in range(10):\n",
    "    xt.grad.zero_()\n",
    "    yt = torch.sin(xt)\n",
    "    yt.backward(torch.ones(100))\n",
    "    print(xt.grad[0])"
   ]
  },
  {
   "cell_type": "markdown",
   "metadata": {},
   "source": [
    "# Train linear model of one variable using SGD in Pytorch"
   ]
  },
  {
   "cell_type": "markdown",
   "metadata": {},
   "source": [
    "## First in `numpy`."
   ]
  },
  {
   "cell_type": "code",
   "execution_count": 39,
   "metadata": {},
   "outputs": [
    {
     "data": {
      "image/png": "[encoded data removed]",
      "text/plain": [
       "<Figure size 432x288 with 1 Axes>"
      ]
     },
     "metadata": {
      "needs_background": "light"
     },
     "output_type": "display_data"
    }
   ],
   "source": [
    "X = np.arange(10).reshape((-1, 1))\n",
    "T = X ** 2\n",
    "\n",
    "n_samples = X.shape[0]\n",
    "n_outputs = T.shape[1]\n",
    "\n",
    "learning_rate = 0.01 / (n_samples * n_outputs)\n",
    "\n",
    "W = np.zeros((2, 1))\n",
    "\n",
    "for epoch in range(100):\n",
    "    \n",
    "    Y = X @ W[1:, :] + W[0:1, :]\n",
    "    \n",
    "    mse = ((T - Y) ** 2).mean()  # not used\n",
    "    \n",
    "    gradient = - X.T @ (T - Y)\n",
    "    W -= learning_rate * gradient\n",
    "\n",
    "plt.plot(X, T, 'o-', label='T')\n",
    "plt.plot(X, Y, 'o-', label='Y')\n",
    "plt.legend();"
   ]
  },
  {
   "cell_type": "markdown",
   "metadata": {},
   "source": [
    "## Now in `torch`."
   ]
  },
  {
   "cell_type": "code",
   "execution_count": 40,
   "metadata": {},
   "outputs": [
    {
     "ename": "RuntimeError",
     "evalue": "expected scalar type Long but found Float",
     "output_type": "error",
     "traceback": [
      "\u001b[0;31m---------------------------------------------------------------------------\u001b[0m",
      "\u001b[0;31mRuntimeError\u001b[0m                              Traceback (most recent call last)",
      "\u001b[0;32m/tmp/ipykernel_3064924/310353727.py\u001b[0m in \u001b[0;36m<module>\u001b[0;34m\u001b[0m\n\u001b[1;32m     13\u001b[0m \u001b[0;32mfor\u001b[0m \u001b[0mepoch\u001b[0m \u001b[0;32min\u001b[0m \u001b[0mrange\u001b[0m\u001b[0;34m(\u001b[0m\u001b[0;36m100\u001b[0m\u001b[0;34m)\u001b[0m\u001b[0;34m:\u001b[0m\u001b[0;34m\u001b[0m\u001b[0;34m\u001b[0m\u001b[0m\n\u001b[1;32m     14\u001b[0m \u001b[0;34m\u001b[0m\u001b[0m\n\u001b[0;32m---> 15\u001b[0;31m     \u001b[0mY\u001b[0m \u001b[0;34m=\u001b[0m \u001b[0mX\u001b[0m \u001b[0;34m@\u001b[0m \u001b[0mW\u001b[0m\u001b[0;34m[\u001b[0m\u001b[0;36m1\u001b[0m\u001b[0;34m:\u001b[0m\u001b[0;34m,\u001b[0m \u001b[0;34m:\u001b[0m\u001b[0;34m]\u001b[0m \u001b[0;34m+\u001b[0m \u001b[0mW\u001b[0m\u001b[0;34m[\u001b[0m\u001b[0;36m0\u001b[0m\u001b[0;34m:\u001b[0m\u001b[0;36m1\u001b[0m\u001b[0;34m,\u001b[0m \u001b[0;34m:\u001b[0m\u001b[0;34m]\u001b[0m\u001b[0;34m\u001b[0m\u001b[0;34m\u001b[0m\u001b[0m\n\u001b[0m\u001b[1;32m     16\u001b[0m \u001b[0;34m\u001b[0m\u001b[0m\n\u001b[1;32m     17\u001b[0m     \u001b[0mmse\u001b[0m \u001b[0;34m=\u001b[0m \u001b[0;34m(\u001b[0m\u001b[0;34m(\u001b[0m\u001b[0mT\u001b[0m \u001b[0;34m-\u001b[0m \u001b[0mY\u001b[0m\u001b[0;34m)\u001b[0m \u001b[0;34m**\u001b[0m \u001b[0;36m2\u001b[0m\u001b[0;34m)\u001b[0m\u001b[0;34m.\u001b[0m\u001b[0mmean\u001b[0m\u001b[0;34m(\u001b[0m\u001b[0;34m)\u001b[0m  \u001b[0;31m# not used\u001b[0m\u001b[0;34m\u001b[0m\u001b[0;34m\u001b[0m\u001b[0m\n",
      "\u001b[0;31mRuntimeError\u001b[0m: expected scalar type Long but found Float"
     ]
    }
   ],
   "source": [
    "X = np.arange(10).reshape((-1, 1))\n",
    "T = X ** 2\n",
    "n_samples = X.shape[0]\n",
    "n_outputs = T.shape[1]\n",
    "\n",
    "learning_rate = 0.01 / (n_samples * n_outputs)\n",
    "\n",
    "X = torch.from_numpy(X)\n",
    "T = torch.from_numpy(T)\n",
    "\n",
    "W = torch.zeros((2, 1))\n",
    "\n",
    "for epoch in range(100):\n",
    "    \n",
    "    Y = X @ W[1:, :] + W[0:1, :]\n",
    "    \n",
    "    mse = ((T - Y) ** 2).mean()  # not used\n",
    "    \n",
    "    gradient = - X.T @ (T - Y)\n",
    "    W -= learning_rate * gradient\n",
    "\n",
    "plt.plot(X, T, 'o-', label='T')\n",
    "plt.plot(X, Y, 'o-', label='Y')\n",
    "plt.legend();"
   ]
  },
  {
   "cell_type": "code",
   "execution_count": 41,
   "metadata": {},
   "outputs": [
    {
     "data": {
      "text/plain": [
       "torch.int64"
      ]
     },
     "execution_count": 41,
     "metadata": {},
     "output_type": "execute_result"
    }
   ],
   "source": [
    "X.dtype"
   ]
  },
  {
   "cell_type": "code",
   "execution_count": 42,
   "metadata": {
    "scrolled": true
   },
   "outputs": [
    {
     "data": {
      "image/png": "[encoded data removed]",
      "text/plain": [
       "<Figure size 432x288 with 1 Axes>"
      ]
     },
     "metadata": {
      "needs_background": "light"
     },
     "output_type": "display_data"
    }
   ],
   "source": [
    "X = np.arange(10).reshape((-1, 1))\n",
    "T = X ** 2\n",
    "n_samples = X.shape[0]\n",
    "n_outputs = T.shape[1]\n",
    "\n",
    "learning_rate = 0.01 / (n_samples * n_outputs)\n",
    "\n",
    "X = torch.from_numpy(X).float()  ## ADDED .float()\n",
    "T = torch.from_numpy(T)\n",
    "\n",
    "W = torch.zeros((2, 1))\n",
    "\n",
    "for epoch in range(100):\n",
    "    \n",
    "    Y = X @ W[1:, :] + W[0:1, :]\n",
    "    \n",
    "    mse = ((T - Y) ** 2).mean()  # not used\n",
    "        \n",
    "    gradient = - X.T @ (T - Y)\n",
    "    W -= learning_rate * gradient\n",
    "\n",
    "plt.plot(X.detach(), T, 'o-', label='T')\n",
    "plt.plot(X.detach(), Y.detach(), 'o-', label='Y')\n",
    "plt.legend();"
   ]
  },
  {
   "cell_type": "markdown",
   "metadata": {},
   "source": [
    "So why are we using `torch`?  Looks just like our `numpy` code?"
   ]
  },
  {
   "cell_type": "markdown",
   "metadata": {},
   "source": [
    "## Let's take advantage of `autograd`!!"
   ]
  },
  {
   "cell_type": "code",
   "execution_count": 43,
   "metadata": {},
   "outputs": [
    {
     "data": {
      "image/png": "[encoded data removed]",
      "text/plain": [
       "<Figure size 432x288 with 1 Axes>"
      ]
     },
     "metadata": {
      "needs_background": "light"
     },
     "output_type": "display_data"
    }
   ],
   "source": [
    "X = np.arange(10).reshape((-1, 1))\n",
    "T = X ** 2\n",
    "n_samples = X.shape[0]\n",
    "n_outputs = T.shape[1]\n",
    "\n",
    "learning_rate = 0.01 / (n_samples * n_outputs)\n",
    "\n",
    "X = torch.from_numpy(X).float()\n",
    "T = torch.from_numpy(T)\n",
    "\n",
    "W = torch.zeros((2, 1), requires_grad=True)\n",
    "\n",
    "for epoch in range(100):\n",
    "\n",
    "    Y = X @ W[1:, :] + W[0:1, :]\n",
    "    \n",
    "    mse = ((T - Y)**2).mean()\n",
    "    \n",
    "    mse.backward()  ##  NEW\n",
    "    \n",
    "    with torch.no_grad():  ## NEW\n",
    "        W -= learning_rate * W.grad\n",
    "        W.grad.zero_()\n",
    "\n",
    "plt.plot(X.detach(), T, 'o-', label='T')\n",
    "plt.plot(X.detach(), Y.detach(), 'o-', label='Y')\n",
    "plt.legend();"
   ]
  },
  {
   "cell_type": "markdown",
   "metadata": {},
   "source": [
    "## Using Predefined Optimizers"
   ]
  },
  {
   "cell_type": "code",
   "execution_count": 44,
   "metadata": {},
   "outputs": [
    {
     "data": {
      "image/png": "[encoded data removed]",
      "text/plain": [
       "<Figure size 432x288 with 1 Axes>"
      ]
     },
     "metadata": {
      "needs_background": "light"
     },
     "output_type": "display_data"
    }
   ],
   "source": [
    "X = np.arange(10).reshape((-1, 1))\n",
    "T = X ** 2\n",
    "n_samples = X.shape[0]\n",
    "n_outputs = T.shape[1]\n",
    "\n",
    "learning_rate = 0.01 / (n_samples * n_outputs)\n",
    "\n",
    "X = torch.from_numpy(X).float()\n",
    "T = torch.from_numpy(T)\n",
    "\n",
    "W = torch.zeros((2, 1), requires_grad=True)\n",
    "\n",
    "optimizer = torch.optim.SGD([W], lr=learning_rate)   ## NEW\n",
    "\n",
    "for epoch in range(100):\n",
    "\n",
    "    Y = X @ W[1:, :] + W[0:1, :]\n",
    "    \n",
    "    mse = ((T - Y)**2).mean()\n",
    "    mse.backward()\n",
    "    \n",
    "    optimizer.step()        ## NEW\n",
    "    optimizer.zero_grad()   ## NEW\n",
    "    \n",
    "plt.plot(X.detach(), T, 'o-', label='T')\n",
    "plt.plot(X.detach(), Y.detach(), 'o-', label='Y')\n",
    "plt.legend();"
   ]
  },
  {
   "cell_type": "code",
   "execution_count": 45,
   "metadata": {},
   "outputs": [],
   "source": [
    "# torch.optim."
   ]
  },
  {
   "cell_type": "markdown",
   "metadata": {},
   "source": [
    "## Using Predefined Loss Functions"
   ]
  },
  {
   "cell_type": "code",
   "execution_count": 48,
   "metadata": {},
   "outputs": [
    {
     "ename": "RuntimeError",
     "evalue": "Found dtype Long but expected Float",
     "output_type": "error",
     "traceback": [
      "\u001b[0;31m---------------------------------------------------------------------------\u001b[0m",
      "\u001b[0;31mRuntimeError\u001b[0m                              Traceback (most recent call last)",
      "\u001b[0;32m/tmp/ipykernel_3064924/2895492876.py\u001b[0m in \u001b[0;36m<module>\u001b[0;34m\u001b[0m\n\u001b[1;32m     20\u001b[0m \u001b[0;34m\u001b[0m\u001b[0m\n\u001b[1;32m     21\u001b[0m     \u001b[0mmse\u001b[0m \u001b[0;34m=\u001b[0m \u001b[0mmse_func\u001b[0m\u001b[0;34m(\u001b[0m\u001b[0mT\u001b[0m\u001b[0;34m,\u001b[0m \u001b[0mY\u001b[0m\u001b[0;34m)\u001b[0m    \u001b[0;31m## NEW\u001b[0m\u001b[0;34m\u001b[0m\u001b[0;34m\u001b[0m\u001b[0m\n\u001b[0;32m---> 22\u001b[0;31m     \u001b[0mmse\u001b[0m\u001b[0;34m.\u001b[0m\u001b[0mbackward\u001b[0m\u001b[0;34m(\u001b[0m\u001b[0;34m)\u001b[0m\u001b[0;34m\u001b[0m\u001b[0;34m\u001b[0m\u001b[0m\n\u001b[0m\u001b[1;32m     23\u001b[0m \u001b[0;34m\u001b[0m\u001b[0m\n\u001b[1;32m     24\u001b[0m     \u001b[0moptimizer\u001b[0m\u001b[0;34m.\u001b[0m\u001b[0mstep\u001b[0m\u001b[0;34m(\u001b[0m\u001b[0;34m)\u001b[0m\u001b[0;34m\u001b[0m\u001b[0;34m\u001b[0m\u001b[0m\n",
      "\u001b[0;32m~/anaconda3/lib/python3.8/site-packages/torch/_tensor.py\u001b[0m in \u001b[0;36mbackward\u001b[0;34m(self, gradient, retain_graph, create_graph, inputs)\u001b[0m\n\u001b[1;32m    253\u001b[0m                 \u001b[0mcreate_graph\u001b[0m\u001b[0;34m=\u001b[0m\u001b[0mcreate_graph\u001b[0m\u001b[0;34m,\u001b[0m\u001b[0;34m\u001b[0m\u001b[0;34m\u001b[0m\u001b[0m\n\u001b[1;32m    254\u001b[0m                 inputs=inputs)\n\u001b[0;32m--> 255\u001b[0;31m         \u001b[0mtorch\u001b[0m\u001b[0;34m.\u001b[0m\u001b[0mautograd\u001b[0m\u001b[0;34m.\u001b[0m\u001b[0mbackward\u001b[0m\u001b[0;34m(\u001b[0m\u001b[0mself\u001b[0m\u001b[0;34m,\u001b[0m \u001b[0mgradient\u001b[0m\u001b[0;34m,\u001b[0m \u001b[0mretain_graph\u001b[0m\u001b[0;34m,\u001b[0m \u001b[0mcreate_graph\u001b[0m\u001b[0;34m,\u001b[0m \u001b[0minputs\u001b[0m\u001b[0;34m=\u001b[0m\u001b[0minputs\u001b[0m\u001b[0;34m)\u001b[0m\u001b[0;34m\u001b[0m\u001b[0;34m\u001b[0m\u001b[0m\n\u001b[0m\u001b[1;32m    256\u001b[0m \u001b[0;34m\u001b[0m\u001b[0m\n\u001b[1;32m    257\u001b[0m     \u001b[0;32mdef\u001b[0m \u001b[0mregister_hook\u001b[0m\u001b[0;34m(\u001b[0m\u001b[0mself\u001b[0m\u001b[0;34m,\u001b[0m \u001b[0mhook\u001b[0m\u001b[0;34m)\u001b[0m\u001b[0;34m:\u001b[0m\u001b[0;34m\u001b[0m\u001b[0;34m\u001b[0m\u001b[0m\n",
      "\u001b[0;32m~/anaconda3/lib/python3.8/site-packages/torch/autograd/__init__.py\u001b[0m in \u001b[0;36mbackward\u001b[0;34m(tensors, grad_tensors, retain_graph, create_graph, grad_variables, inputs)\u001b[0m\n\u001b[1;32m    145\u001b[0m         \u001b[0mretain_graph\u001b[0m \u001b[0;34m=\u001b[0m \u001b[0mcreate_graph\u001b[0m\u001b[0;34m\u001b[0m\u001b[0;34m\u001b[0m\u001b[0m\n\u001b[1;32m    146\u001b[0m \u001b[0;34m\u001b[0m\u001b[0m\n\u001b[0;32m--> 147\u001b[0;31m     Variable._execution_engine.run_backward(\n\u001b[0m\u001b[1;32m    148\u001b[0m         \u001b[0mtensors\u001b[0m\u001b[0;34m,\u001b[0m \u001b[0mgrad_tensors_\u001b[0m\u001b[0;34m,\u001b[0m \u001b[0mretain_graph\u001b[0m\u001b[0;34m,\u001b[0m \u001b[0mcreate_graph\u001b[0m\u001b[0;34m,\u001b[0m \u001b[0minputs\u001b[0m\u001b[0;34m,\u001b[0m\u001b[0;34m\u001b[0m\u001b[0;34m\u001b[0m\u001b[0m\n\u001b[1;32m    149\u001b[0m         allow_unreachable=True, accumulate_grad=True)  # allow_unreachable flag\n",
      "\u001b[0;31mRuntimeError\u001b[0m: Found dtype Long but expected Float"
     ]
    }
   ],
   "source": [
    "X = np.arange(10).reshape((-1, 1))\n",
    "T = X ** 2\n",
    "n_samples = X.shape[0]\n",
    "n_outputs = T.shape[1]\n",
    "\n",
    "learning_rate = 0.01 / (n_samples * n_outputs)\n",
    "\n",
    "X = torch.from_numpy(X).float()\n",
    "T = torch.from_numpy(T)\n",
    "\n",
    "W = torch.zeros((2, 1), requires_grad=True)\n",
    "\n",
    "optimizer = torch.optim.SGD([W], lr=learning_rate)\n",
    "\n",
    "mse_func = torch.nn.MSELoss()  ## NEW\n",
    "\n",
    "for epoch in range(100):\n",
    "\n",
    "    Y = X @ W[1:, :] + W[0:1, :]\n",
    "    \n",
    "    mse = mse_func(T, Y)    ## NEW\n",
    "    mse.backward()\n",
    "    \n",
    "    optimizer.step() \n",
    "    optimizer.zero_grad()\n",
    "    \n",
    "plt.plot(X.detach(), T, 'o-', label='T')\n",
    "plt.plot(X.detach(), Y.detach(), 'o-', label='Y')\n",
    "plt.legend();"
   ]
  },
  {
   "cell_type": "code",
   "execution_count": 50,
   "metadata": {},
   "outputs": [
    {
     "data": {
      "image/png": "[encoded data removed]",
      "text/plain": [
       "<Figure size 432x288 with 1 Axes>"
      ]
     },
     "metadata": {
      "needs_background": "light"
     },
     "output_type": "display_data"
    }
   ],
   "source": [
    "X = np.arange(10).reshape((-1, 1))\n",
    "T = X ** 2\n",
    "n_samples = X.shape[0]\n",
    "n_outputs = T.shape[1]\n",
    "\n",
    "learning_rate = 0.01 / (n_samples * n_outputs)\n",
    "\n",
    "X = torch.from_numpy(X).float()\n",
    "T = torch.from_numpy(T).float()   # JUST ADDED THIS\n",
    "\n",
    "W = torch.zeros((2, 1), requires_grad=True)\n",
    "\n",
    "optimizer = torch.optim.SGD([W], lr=learning_rate)\n",
    "\n",
    "mse_func = torch.nn.MSELoss()  ## NEW\n",
    "\n",
    "for epoch in range(100):\n",
    "\n",
    "    Y = X @ W[1:, :] + W[0:1, :]\n",
    "    \n",
    "    mse = mse_func(T, Y)    ## NEW\n",
    "    mse.backward()\n",
    "    \n",
    "    optimizer.step() \n",
    "    optimizer.zero_grad()\n",
    "    \n",
    "plt.plot(X.detach(), T, 'o-', label='T')\n",
    "plt.plot(X.detach(), Y.detach(), 'o-', label='Y')\n",
    "plt.legend();"
   ]
  },
  {
   "cell_type": "markdown",
   "metadata": {},
   "source": [
    "## Using torch.nn module"
   ]
  },
  {
   "cell_type": "markdown",
   "metadata": {},
   "source": [
    "The `torch` module includes classes that simplify the constuction of our models.  It will not look simpler for our linear model, but will for multilayered models."
   ]
  },
  {
   "cell_type": "code",
   "execution_count": 51,
   "metadata": {},
   "outputs": [
    {
     "data": {
      "text/plain": [
       "Sequential(\n",
       "  (0): Linear(in_features=1, out_features=1, bias=True)\n",
       ")"
      ]
     },
     "execution_count": 51,
     "metadata": {},
     "output_type": "execute_result"
    }
   ],
   "source": [
    "n_inputs = 1\n",
    "n_outputs = 1\n",
    "\n",
    "model = torch.nn.Sequential(torch.nn.Linear(n_inputs, n_outputs))\n",
    "model"
   ]
  },
  {
   "cell_type": "code",
   "execution_count": 52,
   "metadata": {},
   "outputs": [
    {
     "data": {
      "text/plain": [
       "[Parameter containing:\n",
       " tensor([[-0.2606]], requires_grad=True),\n",
       " Parameter containing:\n",
       " tensor([-0.7839], requires_grad=True)]"
      ]
     },
     "execution_count": 52,
     "metadata": {},
     "output_type": "execute_result"
    }
   ],
   "source": [
    "list(model.parameters())"
   ]
  },
  {
   "cell_type": "code",
   "execution_count": 54,
   "metadata": {},
   "outputs": [
    {
     "data": {
      "image/png": "[encoded data removed]",
      "text/plain": [
       "<Figure size 432x288 with 1 Axes>"
      ]
     },
     "metadata": {
      "needs_background": "light"
     },
     "output_type": "display_data"
    }
   ],
   "source": [
    "X = np.arange(10).reshape((-1, 1))\n",
    "T = X ** 2\n",
    "n_samples, n_inputs = X.shape  ## NEW, added n_inputs\n",
    "n_outputs = T.shape[1]\n",
    "\n",
    "learning_rate = 0.01 / (n_samples * n_outputs)\n",
    "\n",
    "X = torch.from_numpy(X).float()\n",
    "T = torch.from_numpy(T).float()\n",
    "\n",
    "model = torch.nn.Sequential(torch.nn.Linear(n_inputs, n_outputs))\n",
    "\n",
    "optimizer = torch.optim.SGD(model.parameters(), lr=learning_rate)\n",
    "mse_func = torch.nn.MSELoss()\n",
    "\n",
    "for epoch in range(100):\n",
    "\n",
    "    Y = model(X)            ## NEW\n",
    "    \n",
    "    mse = mse_func(T, Y)\n",
    "    mse.backward()\n",
    "    \n",
    "    optimizer.step() \n",
    "    optimizer.zero_grad()\n",
    "    \n",
    "plt.plot(X.detach(), T, 'o-', label='T')\n",
    "plt.plot(X.detach(), Y.detach(), 'o-', label='Y')\n",
    "plt.legend();"
   ]
  },
  {
   "cell_type": "markdown",
   "metadata": {},
   "source": [
    "Now, add a hidden layer, or two."
   ]
  },
  {
   "cell_type": "code",
   "execution_count": 55,
   "metadata": {},
   "outputs": [
    {
     "data": {
      "image/png": "[encoded data removed]",
      "text/plain": [
       "<Figure size 432x288 with 1 Axes>"
      ]
     },
     "metadata": {
      "needs_background": "light"
     },
     "output_type": "display_data"
    }
   ],
   "source": [
    "X = np.arange(10).reshape((-1, 1))\n",
    "T = X ** 2\n",
    "n_samples, n_inputs = X.shape  ## NEW, added n_inputs\n",
    "n_outputs = T.shape[1]\n",
    "n_hiddens = [10, 10]\n",
    "\n",
    "learning_rate = 0.01 / (n_samples * n_outputs)\n",
    "\n",
    "X = torch.from_numpy(X).float()\n",
    "T = torch.from_numpy(T).float()\n",
    "\n",
    "model = torch.nn.Sequential(\n",
    "    torch.nn.Linear(n_inputs, n_hiddens[0]),\n",
    "    torch.nn.Tanh(),\n",
    "    torch.nn.Linear(n_hiddens[0], n_hiddens[1]),\n",
    "    torch.nn.Tanh(),\n",
    "    torch.nn.Linear(n_hiddens[1], n_outputs))\n",
    "\n",
    "optimizer = torch.optim.SGD(model.parameters(), lr=learning_rate)\n",
    "mse_func = torch.nn.MSELoss()\n",
    "\n",
    "for epoch in range(1000):\n",
    "\n",
    "    Y = model(X)            ## NEW\n",
    "    \n",
    "    mse = mse_func(T, Y)\n",
    "    mse.backward()\n",
    "    \n",
    "    optimizer.step() \n",
    "    optimizer.zero_grad()\n",
    "    \n",
    "plt.plot(X.detach(), T, 'o-', label='T')\n",
    "plt.plot(X.detach(), Y.detach(), 'o-', label='Y')\n",
    "plt.legend();"
   ]
  },
  {
   "cell_type": "markdown",
   "metadata": {},
   "source": [
    "Maybe Adam will do better."
   ]
  },
  {
   "cell_type": "code",
   "execution_count": 147,
   "metadata": {},
   "outputs": [],
   "source": [
    "# torch.optim.Adam?\n",
    "# torch.nn.Linear?"
   ]
  },
  {
   "cell_type": "code",
   "execution_count": 56,
   "metadata": {},
   "outputs": [
    {
     "data": {
      "image/png": "[encoded data removed]",
      "text/plain": [
       "<Figure size 432x288 with 1 Axes>"
      ]
     },
     "metadata": {
      "needs_background": "light"
     },
     "output_type": "display_data"
    }
   ],
   "source": [
    "X = np.arange(10).reshape((-1, 1))\n",
    "T = X ** 2\n",
    "n_samples, n_inputs = X.shape\n",
    "n_outputs = T.shape[1]\n",
    "n_hiddens = [10, 10]\n",
    "\n",
    "learning_rate = 0.5 / (n_samples * n_outputs)  ## Larger learning rate\n",
    "\n",
    "X = torch.from_numpy(X).float()\n",
    "T = torch.from_numpy(T).float()\n",
    "\n",
    "model = torch.nn.Sequential(\n",
    "    torch.nn.Linear(n_inputs, n_hiddens[0]),\n",
    "    torch.nn.Tanh(),\n",
    "    torch.nn.Linear(n_hiddens[0], n_hiddens[1]),\n",
    "    torch.nn.Tanh(),\n",
    "    torch.nn.Linear(n_hiddens[1], n_outputs))\n",
    "\n",
    "optimizer = torch.optim.Adam(model.parameters(), lr=learning_rate)\n",
    "mse_func = torch.nn.MSELoss()\n",
    "\n",
    "for epoch in range(1000):\n",
    "\n",
    "    Y = model(X)\n",
    "    \n",
    "    mse = mse_func(T, Y)\n",
    "    mse.backward()\n",
    "    \n",
    "    optimizer.step() \n",
    "    optimizer.zero_grad()\n",
    "    \n",
    "plt.plot(X.detach(), T, 'o-', label='T')\n",
    "plt.plot(X.detach(), Y.detach(), 'o-', label='Y')\n",
    "plt.legend();"
   ]
  },
  {
   "cell_type": "markdown",
   "metadata": {},
   "source": [
    "# Now for some Speed with a GPU"
   ]
  },
  {
   "cell_type": "markdown",
   "metadata": {},
   "source": [
    "It is trivial to move data and operations down to a GPU with pytorch."
   ]
  },
  {
   "cell_type": "code",
   "execution_count": 57,
   "metadata": {},
   "outputs": [
    {
     "name": "stdout",
     "output_type": "stream",
     "text": [
      "Took 5.134020805358887 seconds\n"
     ]
    },
    {
     "data": {
      "text/plain": [
       "(1000, 1000)"
      ]
     },
     "execution_count": 57,
     "metadata": {},
     "output_type": "execute_result"
    }
   ],
   "source": [
    "import time\n",
    "\n",
    "n = 1000\n",
    "a = np.random.uniform(-0.1, 0.1, size=(n, n)).astype(np.float32)\n",
    "b = np.random.uniform(-0.1, 0.1, size=(n, n)).astype(np.float32)\n",
    "\n",
    "start_time = time.time()\n",
    "for i in range(1000):\n",
    "    c = a @ b\n",
    "elapsed_time = time.time() - start_time\n",
    "\n",
    "print(f'Took {elapsed_time} seconds')\n",
    "c.shape"
   ]
  },
  {
   "cell_type": "code",
   "execution_count": 58,
   "metadata": {},
   "outputs": [
    {
     "data": {
      "text/plain": [
       "True"
      ]
     },
     "execution_count": 58,
     "metadata": {},
     "output_type": "execute_result"
    }
   ],
   "source": [
    "torch.cuda.is_available()"
   ]
  },
  {
   "cell_type": "code",
   "execution_count": 59,
   "metadata": {},
   "outputs": [
    {
     "name": "stdout",
     "output_type": "stream",
     "text": [
      "Took 2.518690586090088 seconds\n"
     ]
    },
    {
     "data": {
      "text/plain": [
       "torch.Size([1000, 1000])"
      ]
     },
     "execution_count": 59,
     "metadata": {},
     "output_type": "execute_result"
    }
   ],
   "source": [
    "n = 1000\n",
    "at = (torch.rand(size=(n, n)) - 0.5) * 0.2\n",
    "bt = (torch.rand(size=(n, n)) - 0.5) * 0.2\n",
    "\n",
    "# ct = torch.zeros((n, n))\n",
    "\n",
    "start_time = time.time()\n",
    "at = at.to('cuda')  ## Don't forget these assignments.  at.to('cuda') does not change at\n",
    "bt = bt.to('cuda')\n",
    "\n",
    "start_time = time.time()\n",
    "\n",
    "for i in range(10000):\n",
    "    ct = at @ bt\n",
    "\n",
    "ct = ct.to('cpu')\n",
    "elapsed_time = time.time() - start_time\n",
    "\n",
    "print(f'Took {elapsed_time} seconds')\n",
    "ct.shape"
   ]
  },
  {
   "cell_type": "code",
   "execution_count": 152,
   "metadata": {},
   "outputs": [
    {
     "data": {
      "text/plain": [
       "True"
      ]
     },
     "execution_count": 152,
     "metadata": {},
     "output_type": "execute_result"
    }
   ],
   "source": [
    "import subprocess\n",
    "\n",
    "def use_gpu(use=True):\n",
    "    if use:\n",
    "        subprocess.run(['system76-power', 'graphics', 'power', 'on'])\n",
    "        subprocess.run(['sudo', 'modprobe', 'nvidia'])\n",
    "    else:\n",
    "        subprocess.run(['sudo', 'rmmod', 'nvidia'])\n",
    "        subprocess.run(['system76-power', 'graphics', 'off'])\n",
    "        \n",
    "# use_gpu()  #  if running on my system76 laptop\n",
    "\n",
    "torch.cuda.is_available()"
   ]
  },
  {
   "cell_type": "markdown",
   "metadata": {},
   "source": [
    "Now let's compare speed of our `torch.nn` model on more data, without and with the GPU."
   ]
  },
  {
   "cell_type": "code",
   "execution_count": 153,
   "metadata": {},
   "outputs": [
    {
     "name": "stdout",
     "output_type": "stream",
     "text": [
      "Training took 9.45 seconds.\n"
     ]
    },
    {
     "data": {
      "image/png": "[encoded data removed]",
      "text/plain": [
       "<Figure size 432x288 with 1 Axes>"
      ]
     },
     "metadata": {
      "needs_background": "light"
     },
     "output_type": "display_data"
    }
   ],
   "source": [
    "use_gpu = False\n",
    "\n",
    "n_samples = 10000\n",
    "X = np.linspace(0, 10, n_samples).reshape((-1, 1))\n",
    "T = X ** 2\n",
    "n_samples, n_inputs = X.shape \n",
    "n_outputs = T.shape[1]\n",
    "\n",
    "n_hiddens = [100, 100]\n",
    "\n",
    "learning_rate = 0.1 #  / (n_samples * n_outputs)  ## Larger learning rate\n",
    "\n",
    "X = torch.from_numpy(X).float()\n",
    "T = torch.from_numpy(T).float()\n",
    "\n",
    "model = torch.nn.Sequential(\n",
    "    torch.nn.Linear(n_inputs, n_hiddens[0]),\n",
    "    torch.nn.Tanh(),\n",
    "    torch.nn.Linear(n_hiddens[0], n_hiddens[1]),\n",
    "    torch.nn.Tanh(),\n",
    "    torch.nn.Linear(n_hiddens[1], n_outputs))\n",
    "\n",
    "if use_gpu:\n",
    "    print('Moving data and model to GPU')\n",
    "    X = X.to('cuda')\n",
    "    T = T.to('cuda')\n",
    "    model.to('cuda')\n",
    "\n",
    "optimizer = torch.optim.Adam(model.parameters(), lr=learning_rate)\n",
    "mse_func = torch.nn.MSELoss()\n",
    "\n",
    "start_time = time.time()\n",
    "\n",
    "for epoch in range(1000):\n",
    "\n",
    "    Y = model(X)\n",
    "    \n",
    "    mse = mse_func(T, Y)\n",
    "    mse.backward()\n",
    "    \n",
    "    optimizer.step() \n",
    "    optimizer.zero_grad()\n",
    "\n",
    "elapsed_time = time.time() - start_time\n",
    "print(f'Training took {elapsed_time:.2f} seconds.')\n",
    "if use_gpu:\n",
    "    print('   with GPU')\n",
    "    \n",
    "plt.plot(X.cpu().detach(), T.cpu(), 'o-', label='T')\n",
    "plt.plot(X.cpu().detach(), Y.cpu().detach(), 'o-', label='Y')\n",
    "plt.legend();"
   ]
  },
  {
   "cell_type": "code",
   "execution_count": 154,
   "metadata": {},
   "outputs": [
    {
     "name": "stdout",
     "output_type": "stream",
     "text": [
      "Moving data and model to GPU\n",
      "Training took 2.52 seconds.\n",
      "   with GPU\n"
     ]
    },
    {
     "data": {
      "image/png": "[encoded data removed]",
      "text/plain": [
       "<Figure size 432x288 with 1 Axes>"
      ]
     },
     "metadata": {
      "needs_background": "light"
     },
     "output_type": "display_data"
    }
   ],
   "source": [
    "use_gpu = True\n",
    "\n",
    "n_samples = 10000\n",
    "X = np.linspace(0, 10, n_samples).reshape((-1, 1))\n",
    "T = X ** 2\n",
    "n_samples, n_inputs = X.shape \n",
    "n_outputs = T.shape[1]\n",
    "\n",
    "n_hiddens = [100, 100]\n",
    "\n",
    "learning_rate = 0.1 #  / (n_samples * n_outputs)  ## Larger learning rate\n",
    "\n",
    "X = torch.from_numpy(X).float()\n",
    "T = torch.from_numpy(T).float()\n",
    "\n",
    "model = torch.nn.Sequential(\n",
    "    torch.nn.Linear(n_inputs, n_hiddens[0]),\n",
    "    torch.nn.Tanh(),\n",
    "    torch.nn.Linear(n_hiddens[0], n_hiddens[1]),\n",
    "    torch.nn.Tanh(),\n",
    "    torch.nn.Linear(n_hiddens[1], n_outputs))\n",
    "\n",
    "if use_gpu:\n",
    "    print('Moving data and model to GPU')\n",
    "    X = X.to('cuda')\n",
    "    T = T.to('cuda')\n",
    "    model.to('cuda')\n",
    "\n",
    "optimizer = torch.optim.Adam(model.parameters(), lr=learning_rate)\n",
    "mse_func = torch.nn.MSELoss()\n",
    "\n",
    "start_time = time.time()\n",
    "\n",
    "for epoch in range(1000):\n",
    "\n",
    "    Y = model(X) \n",
    "    \n",
    "    mse = mse_func(T, Y)\n",
    "    mse.backward()\n",
    "    \n",
    "    optimizer.step() \n",
    "    optimizer.zero_grad()\n",
    "\n",
    "elapsed_time = time.time() - start_time\n",
    "print(f'Training took {elapsed_time:.2f} seconds.')\n",
    "if use_gpu:\n",
    "    print('   with GPU')\n",
    "    \n",
    "plt.plot(X.cpu().detach(), T.cpu(), 'o-', label='T')\n",
    "plt.plot(X.cpu().detach(), Y.cpu().detach(), 'o-', label='Y')\n",
    "plt.legend();"
   ]
  },
  {
   "cell_type": "markdown",
   "metadata": {},
   "source": [
    "# The torch.nn.Module.forward function"
   ]
  },
  {
   "cell_type": "markdown",
   "metadata": {},
   "source": [
    "We just saw how to implement the neural network using `torch.nn.Sequential` as a combination of `Linear` and `Tanh` layers.  The forward calculation for such a neural network is implicitly defined this way.  \n",
    "\n",
    "Alternatively, we can define a new class that extends `torch.nn.Module` and define the `forward` function explicitly."
   ]
  },
  {
   "cell_type": "code",
   "execution_count": 3,
   "metadata": {},
   "outputs": [
    {
     "name": "stdout",
     "output_type": "stream",
     "text": [
      "Moving data and model to GPU\n",
      "Training took 2.71 seconds.\n",
      "   with GPU\n"
     ]
    },
    {
     "data": {
      "image/png": "[encoded data removed]",
      "text/plain": [
       "<Figure size 432x288 with 1 Axes>"
      ]
     },
     "metadata": {
      "needs_background": "light"
     },
     "output_type": "display_data"
    }
   ],
   "source": [
    "use_gpu = True\n",
    "\n",
    "n_samples = 10000\n",
    "X = np.linspace(0, 10, n_samples).reshape((-1, 1))\n",
    "T = X ** 2\n",
    "n_samples, n_inputs = X.shape \n",
    "n_outputs = T.shape[1]\n",
    "\n",
    "\n",
    "X = torch.from_numpy(X).float()\n",
    "T = torch.from_numpy(T).float()\n",
    "\n",
    "class NNet(torch.nn.Module):\n",
    "    \n",
    "    def __init__(self, n_inputs, n_hiddens_list, n_outputs):\n",
    "        super().__init__()  # call parent class (torch.nn.Module) constructor\n",
    "            \n",
    "        self.hidden_layers = torch.nn.ModuleList()  # necessary for model.to('cuda')\n",
    "        for nh in n_hiddens_list:\n",
    "            self.hidden_layers.append( torch.nn.Sequential(\n",
    "                torch.nn.Linear(n_inputs, nh),\n",
    "                torch.nn.Tanh()))\n",
    "            \n",
    "            n_inputs = nh\n",
    "        self.output_layer = torch.nn.Linear(n_inputs, n_outputs)\n",
    "            \n",
    "    def forward(self, X):\n",
    "        Y = X\n",
    "        for hidden_layer in self.hidden_layers:\n",
    "            Y = hidden_layer(Y)\n",
    "        Y = self.output_layer(Y)\n",
    "        return Y\n",
    "\n",
    "n_hiddens = [100, 100]\n",
    "\n",
    "learning_rate = 0.1 #  / (n_samples * n_outputs)  ## Larger learning rate\n",
    "\n",
    "model = NNet(n_inputs, n_hiddens, n_outputs)\n",
    "\n",
    "if use_gpu:\n",
    "    print('Moving data and model to GPU')\n",
    "    X = X.to('cuda')\n",
    "    T = T.to('cuda')\n",
    "    model.to('cuda')   # or   model.cuda()\n",
    "\n",
    "optimizer = torch.optim.Adam(model.parameters(), lr=learning_rate)\n",
    "mse_func = torch.nn.MSELoss()\n",
    "\n",
    "start_time = time.time()\n",
    "\n",
    "for epoch in range(1000):\n",
    "\n",
    "    Y = model(X) \n",
    "    \n",
    "    mse = mse_func(T, Y)\n",
    "    mse.backward()\n",
    "    \n",
    "    optimizer.step() \n",
    "    optimizer.zero_grad()\n",
    "\n",
    "elapsed_time = time.time() - start_time\n",
    "print(f'Training took {elapsed_time:.2f} seconds.')\n",
    "if use_gpu:\n",
    "    print('   with GPU')\n",
    "    \n",
    "plt.plot(X.cpu().detach(), T.cpu(), 'o-', label='T')\n",
    "plt.plot(X.cpu().detach(), Y.cpu().detach(), 'o-', label='Y')\n",
    "plt.legend();\n"
   ]
  },
  {
   "cell_type": "code",
   "execution_count": null,
   "metadata": {},
   "outputs": [],
   "source": []
  }
 ],
 "metadata": {
  "kernelspec": {
   "display_name": "Python 3 (ipykernel)",
   "language": "python",
   "name": "python3"
  },
  "language_info": {
   "codemirror_mode": {
    "name": "ipython",
    "version": 3
   },
   "file_extension": ".py",
   "mimetype": "text/x-python",
   "name": "python",
   "nbconvert_exporter": "python",
   "pygments_lexer": "ipython3",
   "version": "3.8.11"
  },
  "toc": {
   "base_numbering": 1,
   "nav_menu": {},
   "number_sections": false,
   "sideBar": true,
   "skip_h1_title": false,
   "title_cell": "Table of Contents",
   "title_sidebar": "Contents",
   "toc_cell": false,
   "toc_position": {
    "height": "calc(100% - 180px)",
    "left": "10px",
    "top": "150px",
    "width": "341.391px"
   },
   "toc_section_display": true,
   "toc_window_display": true
  }
 },
 "nbformat": 4,
 "nbformat_minor": 2
}
