{
 "cells": [
  {
   "cell_type": "markdown",
   "metadata": {},
   "source": [
    "# Convolutional Neural Networks in Numpy"
   ]
  },
  {
   "cell_type": "markdown",
   "metadata": {},
   "source": [
    "In A4, you will be using the implementation of convolutional neural networks using `numpy`.  It is defined in class `NeuralNetworkClassifier_CNN` provided in the tar file in A4.  Here we will discuss its implementation."
   ]
  },
  {
   "cell_type": "code",
   "execution_count": 1,
   "metadata": {},
   "outputs": [],
   "source": [
    "import numpy as np\n",
    "import matplotlib.pyplot as plt\n",
    "%matplotlib inline\n",
    "import neuralnetworks_A4 as nn"
   ]
  },
  {
   "cell_type": "code",
   "execution_count": null,
   "metadata": {},
   "outputs": [],
   "source": [
    "# This code cell is not meant to be executed\n",
    "\n",
    "######################################################################\n",
    "## class NeuralNetworkClassifier_CNN(NeuralNetworkClassifier)\n",
    "######################################################################\n",
    "\n",
    "class NeuralNetworkClassifier_CNN(NeuralNetworkClassifier):\n",
    "\n",
    "    def __init__(self, n_inputs, conv_layers, fc_layers, classes):\n",
    "        '''\n",
    "        n_inputs: image size is n_inputs x n_inputs x n_channels\n",
    "        conv_layers: list of lists of ints, each being n_units, kernel_size, stride\n",
    "        fc_layers: list of n_units per fully-connected layers\n",
    "        classes: list of unique class labels\n",
    "        '''\n",
    "\n",
    "        self.n_inputs = n_inputs\n",
    "        self.classes = classes\n",
    "        self.n_outputs = len(classes)\n",
    "        self.layers = [{'n_units': nu, 'kernel': k, 'stride': s} for (nu, k, s) in conv_layers] + \\\n",
    "            [{'n_units': nu} for nu in fc_layers] + [{'n_units': self.n_outputs, 'final': True}]\n",
    "\n",
    "        # Build list of shapes for weight matrices in each layera\n",
    "        shapes = []\n",
    "        in_rc, in_rc, n_channels = n_inputs\n",
    "        \n",
    "        prev_layer = None\n",
    "        for layer in self.layers:\n",
    "            if 'kernel' in layer:\n",
    "                n_in = 1 + layer['kernel'] ** 2 * n_channels\n",
    "                W_shape = (n_in, layer['n_units'])\n",
    "                out_rc = (in_rc - layer['kernel']) // layer['stride'] + 1\n",
    "                if out_rc < 1:\n",
    "                    raise Exception(f'Layer {layer=} cannot be created for the input size of {in_rc=}')\n",
    "                layer.update({'in_channels': n_channels,\n",
    "                              'in_rc': in_rc,\n",
    "                              'out_rc': out_rc})\n",
    "                shapes.append(W_shape)\n",
    "                n_channels = layer['n_units']\n",
    "                in_rc = layer['out_rc']\n",
    "                prev_layer = layer\n",
    "            else:\n",
    "                if not prev_layer:\n",
    "                    n_in = 1 + in_rc ** 2 * n_channels\n",
    "                elif 'kernel' in prev_layer:\n",
    "                    n_in = 1 + in_rc ** 2 * prev_layer['n_units']\n",
    "                nu = layer['n_units']\n",
    "                shapes.append((n_in, nu))\n",
    "                n_in = 1 + nu\n",
    "                prev_layer = layer\n",
    "                \n",
    "        self.all_weights, self.Ws = self._make_weights_and_views(shapes)\n",
    "        self.all_gradients, self.Grads = self._make_weights_and_views(shapes)\n",
    "\n",
    "        # Store references to W and G in layer dictionaries\n",
    "        for layer, W, G in zip(self.layers, self.Ws, self.Grads):\n",
    "            layer['W'] = W\n",
    "            layer['G'] = G\n",
    "\n",
    "        self.total_epochs = 0\n",
    "        self.error_trace = []\n",
    "        self.X_means = None\n",
    "        self.X_stds = None\n",
    "        self.T_means = None\n",
    "        self.T_stds = None\n",
    "\n",
    "    def __repr__(self):\n",
    "        conv_layers = [(lay['n_units'], lay['kernel'], lay['stride']) for lay in self.layers if 'kernel' in lay]\n",
    "        fc_layers = [lay['n_units'] for lay in self.layers if 'kernel' not in lay]\n",
    "        details = ''\n",
    "        for i, layer in enumerate(self.layers):\n",
    "            if 'kernel' in layer:\n",
    "                details += (f\"\\n Layer {i}: n_units={layer['n_units']} \"\n",
    "                            f\"kernel={layer['kernel']} \"\n",
    "                            f\"stride={layer['stride']} \"\n",
    "                            f\"in_channels={layer['in_channels']} \"\n",
    "                            f\"in_rc={layer['in_rc']} \"\n",
    "                            f\"out_rc={layer['out_rc']}\")\n",
    "            else:\n",
    "                if i != len(self.layers) - 1:\n",
    "                    details += f\"\\n Layer {i}: n_units={layer['n_units']}\"\n",
    "                else:\n",
    "                    details += []\n",
    "        return f'{type(self).__name__}({self.n_inputs}, ' + \\\n",
    "            f'{conv_layers}, {fc_layers}, {self.n_classes})' + details\n",
    "                \n",
    "\n",
    "    def _forward(self, X):\n",
    "        '''X assumed to be standardized\n",
    "        '''\n",
    "        debug = False\n",
    "        \n",
    "        N = X.shape[0]\n",
    "        self.Ys = [X]\n",
    "        n_layers = len(self.layers)\n",
    "        for layer in self.layers:\n",
    "            if debug: print(f'     ======== Input {self.Ys[-1].shape=}')\n",
    "            W = layer['W']\n",
    "            if 'kernel' in layer:\n",
    "                Y = self._convolve(self.Ys[-1], layer)\n",
    "                Y = np.tanh(Y + W[np.newaxis, np.newaxis, np.newaxis, 0, :])\n",
    "            else:\n",
    "                Y = self.Ys[-1]\n",
    "                if Y.ndim > 2:\n",
    "                    Y = Y.reshape(N, -1)\n",
    "                Y = Y @ W[1:, :] + W[0:1, :]\n",
    "                if 'final' not in layer:\n",
    "                    Y = np.tanh(Y)\n",
    "            self.Ys.append(Y)\n",
    "            if debug: print(f'     ======== Output {self.Ys[-1].shape=}')\n",
    "\n",
    "        return self.Ys\n",
    "\n",
    "    # Gradient of function to be minimized for use by optimizer method\n",
    "    def _gradient_f(self, X, T):\n",
    "        # Assumes forward_pass just called with layer outputs saved in self.Ys.\n",
    "        n_samples = X.shape[0]\n",
    "        n_outputs = T.shape[1]\n",
    "\n",
    "        Y = self._softmax(self.Ys[-1])\n",
    "\n",
    "        Delta = -(T - Y) / (n_samples * n_outputs)\n",
    "        self._backpropagate(Delta)\n",
    "\n",
    "        return self.all_gradients\n",
    "\n",
    "    def _backpropagate(self, Delta):\n",
    "        # Step backwards through the convolutional layers to back-propagate the error (D)\n",
    "        # Assumes self.Ys from convolutional layers represented as patches, as computed by _forward\n",
    "\n",
    "        debug = False\n",
    "        \n",
    "        for layeri in range(len(self.layers) - 1, -1, -1):\n",
    "            if debug: print(f'{layeri=} {Delta.shape=}')\n",
    "            if layeri < len(self.layers) - 1:\n",
    "                Delta *= 1 - self.Ys[layeri + 1] ** 2\n",
    "            layer = self.layers[layeri]\n",
    "            W = layer['W']\n",
    "            if 'kernel' in layer:  # Convolutional layer\n",
    "                Yin_patches = self._make_patches(self.Ys[layeri], layer['kernel'], layer['stride'])\n",
    "                N, D, D, K, K, Uprev = Yin_patches.shape\n",
    "                N, D, D, U = Delta.shape\n",
    "                G = (Yin_patches.reshape(N * D * D, K * K * Uprev).T @ Delta.reshape(N * D * D, U))\n",
    "                layer['G'][1:, :] = G\n",
    "                layer['G'][0:1, :] = np.sum(Delta, axis=tuple(range(Delta.ndim - 1)))\n",
    "                if layeri > 0:\n",
    "                     # Delta = self._convolve_backprop(Delta, W[1:, :], layer['kernel'], layer['stride'])\n",
    "                    # prev_layer = self.layers[layeri - 1]\n",
    "                    Delta = self._convolve_backprop(Delta, W[1:, :], layer['kernel'], layer['stride'])\n",
    "                if debug: print(f'Backpropagating {Delta.shape=}')\n",
    "            else:\n",
    "                # Fully connected\n",
    "                N = Delta.shape[0]\n",
    "                layer['G'][1:, :] = self.Ys[layeri].reshape(N, -1).T @ Delta\n",
    "                layer['G'][0:1, :] = np.sum(Delta, axis=0)\n",
    "                Delta = Delta @ W[1:, :].T\n",
    "                Delta = Delta.reshape(self.Ys[layeri].shape)\n",
    "                \n",
    "        return self.all_gradients\n",
    "\n",
    "    def _make_patches(self, X, patch_size, stride=1):\n",
    "        '''\n",
    "        X: n_samples x n_rows x n_cols x n_channels (r_rows == n_cols)\n",
    "        patch_size: number of rows (= number of columns) in each patch\n",
    "        stride: number of pixels to shfit to next patch (n rows = n columns)\n",
    "        '''\n",
    "        X = np.ascontiguousarray(X)  # make sure X values are contiguous in memory\n",
    "\n",
    "        # print(f'make_patches: {X.shape=} {patch_size=} {stride=}')\n",
    "\n",
    "        n_samples = X.shape[0]\n",
    "        if X.ndim == 4:\n",
    "            # includes n_channels\n",
    "            n_channels = X.shape[3]\n",
    "        else:\n",
    "            n_channels = 1\n",
    "\n",
    "        image_size = X.shape[1]\n",
    "        n_patches = (image_size - patch_size) // stride + 1\n",
    "\n",
    "        nb = X.itemsize  # number of bytes each value\n",
    "\n",
    "        new_shape = [n_samples,\n",
    "                     n_patches,  # number of rows of patches\n",
    "                     n_patches,  # number of columns of patches\n",
    "                     patch_size,  # number of rows of pixels in each patch\n",
    "                     patch_size,  # number of columns of pixels in each patch\n",
    "                     n_channels]\n",
    "\n",
    "        new_strides = [image_size * image_size * n_channels * nb,  # nuber of bytes to next image (sample)\n",
    "                       image_size * stride * n_channels * nb,      # number of bytes to start of next patch in next row\n",
    "                       stride * n_channels * nb,                   # number of bytes to start of next patch in next column\n",
    "                       image_size * n_channels * nb,               # number of bytes to pixel in next row of patch\n",
    "                       n_channels * nb,                            # number of bytes to pixel in next column of patch\n",
    "                       nb]\n",
    "\n",
    "        X = np.lib.stride_tricks.as_strided(X, shape=new_shape, strides=new_strides)\n",
    "\n",
    "        # print(f'make_patches: Returning {X.shape=}')\n",
    "\n",
    "        return X\n",
    "\n",
    "    def _convolve(self, X, layer):\n",
    "        \"\"\"\n",
    "        Convolves X and W\n",
    "\n",
    "        Parameters\n",
    "        ----------\n",
    "        X : N x D x D x U\n",
    "            N is number of samples\n",
    "            D is number of rows and columns of input sample\n",
    "            U is number of channels\n",
    "        W: I x U\n",
    "            I is 1 + number of weights in kernel\n",
    "            U is number of units\n",
    "\n",
    "        Returns\n",
    "        -------\n",
    "        NeuralNetwork object\n",
    "        \"\"\"\n",
    "\n",
    "        debug = False\n",
    "\n",
    "        if debug: print(f'convolve: {X.shape=} {layer[\"W\"].shape=}') #  {kernel=} {stride=}')\n",
    "\n",
    "        Xp = self._make_patches(X, layer['kernel'], layer['stride'])\n",
    "        N, D, D, K, K, U = Xp.shape\n",
    "        Xp = Xp.reshape(-1, K * K * U)\n",
    "\n",
    "        W = layer['W']\n",
    "        Uw = W.shape[1]\n",
    "\n",
    "        XW = (Xp @ W[1:, :] + W[0:1, :])\n",
    "        XW = XW.reshape(N, D, D, Uw)\n",
    "        if debug: print(f'convolve: Returning {XW.shape=}\\n')\n",
    "\n",
    "        return XW  # , Xp.reshape(N, D, D, K, K, U)\n",
    "\n",
    "\n",
    "    def _convolve_backprop(self, Delta, W, kernel, stride):\n",
    "        \"\"\"\n",
    "        Back-propagate Delta through W in convolutional layer\n",
    "        Pads Delta then convolves with W to back-propagate\n",
    "        \"\"\"\n",
    "\n",
    "        debug = False\n",
    "        \n",
    "        N, D, _, U = Delta.shape\n",
    "        n_zeros_edge = kernel - 1\n",
    "        n_zeros_between = stride - 1\n",
    "        # Start with zero array of correct size for DeltaZ\n",
    "        DZrowcol = D + 2 * n_zeros_edge + n_zeros_between * (D - 1)\n",
    "        DeltaZ = np.zeros([N] + [DZrowcol] * 2 + [U])\n",
    "        # copy Delta into correct positions of zero array\n",
    "\n",
    "        N, Dz, Dz, U = DeltaZ.shape\n",
    "\n",
    "        if debug: print(f'bp_cnn_convolve: {Delta.shape=} {W.shape=}, {kernel=}, {stride=}, {DeltaZ.shape=}')\n",
    "\n",
    "        DeltaZ[:,\n",
    "               n_zeros_edge:n_zeros_edge + Dz - 2 * n_zeros_edge:n_zeros_between + 1,\n",
    "               n_zeros_edge:n_zeros_edge + Dz - 2 * n_zeros_edge:n_zeros_between + 1,\n",
    "               :] = Delta\n",
    "        DeltaZp = self._make_patches(DeltaZ, kernel, stride=1)  # use stride of 1, not actual layer stride value\n",
    "        if debug: print(f'bp_cnn_convolve: {DeltaZp.shape=}')\n",
    "\n",
    "        DZrowcolp = DeltaZp.shape[1]\n",
    "\n",
    "        # ni, n_units = W.shape\n",
    "        if debug: print(f'bp_cnn_convolve: {W.shape=}')\n",
    "        n_units = W.shape[-1]\n",
    "        W = W.reshape(kernel, kernel, -1, n_units)\n",
    "        if debug: print(f'bp_cnn_convolve: reshaped {W.shape=}')\n",
    "        W = np.swapaxes(W, 2, 3)\n",
    "        if debug: print(f'bp_cnn_convolve: swapaxes {W.shape=}')\n",
    "\n",
    "        W_flipped = np.flip(W, axis=(0, 1))\n",
    "\n",
    "        if debug: print(f'bp_cnn_convolve: DeltaZp.reshaped {DeltaZp.reshape(N * DZrowcolp * DZrowcolp, kernel * kernel * n_units).shape} {W_flipped.reshape(kernel*kernel*n_units,-1).shape=}')\n",
    "\n",
    "        Delta_bp = DeltaZp.reshape(N * DZrowcolp * DZrowcolp, kernel * kernel * n_units) @ W_flipped.reshape(kernel * kernel * n_units, -1)\n",
    "\n",
    "        if debug: print(f'bp_cnn_convolve: {Delta_bp.shape=}')\n",
    "\n",
    "        n = int(np.sqrt(Delta_bp.shape[0] / N))\n",
    "        Delta_bp = Delta_bp.reshape(N, n, n, -1)\n",
    "\n",
    "        if debug: print(f'bp_cnn_convolve: reshaped {Delta_bp.shape=}\\n')\n",
    "\n",
    "        return Delta_bp"
   ]
  },
  {
   "cell_type": "markdown",
   "metadata": {},
   "source": [
    "Here is an example use of this class.  We will use the MNIST data again, but just the first 5,000 samples from the training set."
   ]
  },
  {
   "cell_type": "code",
   "execution_count": 2,
   "metadata": {},
   "outputs": [
    {
     "data": {
      "text/plain": [
       "((5000, 28, 28, 1), (5000, 1), (10000, 28, 28, 1), (10000, 1))"
      ]
     },
     "execution_count": 2,
     "metadata": {},
     "output_type": "execute_result"
    }
   ],
   "source": [
    "import pickle\n",
    "import gzip\n",
    "with gzip.open('mnist.pkl.gz', 'rb') as f:\n",
    "    train_set, valid_set, test_set = pickle.load(f, encoding='latin1')\n",
    "\n",
    "n = 5000  \n",
    "Xtrain = train_set[0][:n].reshape(-1, 28, 28, 1)\n",
    "Ttrain = train_set[1][:n].reshape(-1, 1)\n",
    "Xtest = test_set[0].reshape(-1, 28, 28, 1)\n",
    "Ttest = test_set[1].reshape(-1, 1)\n",
    "\n",
    "Xtrain.shape, Ttrain.shape, Xtest.shape, Ttest.shape"
   ]
  },
  {
   "cell_type": "markdown",
   "metadata": {},
   "source": [
    "First, let's use our fully-connected network from A3."
   ]
  },
  {
   "cell_type": "code",
   "execution_count": 4,
   "metadata": {},
   "outputs": [],
   "source": [
    "class_labels = np.arange(10)"
   ]
  },
  {
   "cell_type": "code",
   "execution_count": 7,
   "metadata": {},
   "outputs": [
    {
     "name": "stdout",
     "output_type": "stream",
     "text": [
      "SCG: Epoch 10 ObjectiveF=0.82717\n",
      "SCG: Epoch 20 ObjectiveF=0.91273\n",
      "SCG: Epoch 30 ObjectiveF=0.94445\n",
      "SCG: Epoch 40 ObjectiveF=0.97455\n",
      "SCG: Epoch 50 ObjectiveF=0.98541\n",
      "SCG: Epoch 60 ObjectiveF=0.98970\n",
      "SCG: Epoch 70 ObjectiveF=0.99156\n",
      "SCG: Epoch 80 ObjectiveF=0.99310\n",
      "SCG: Epoch 90 ObjectiveF=0.99371\n",
      "SCG: Epoch 100 ObjectiveF=0.99463\n",
      "NeuralNetworkClassifier(784, [10, 10], 10)\n",
      " Trained for 100 epochs.\n",
      " Final objective value is 0.9946.\n",
      "MNIST Test 86.33% correct, 8070 weights\n"
     ]
    },
    {
     "data": {
      "image/png": "[encoded data removed]",
      "text/plain": [
       "<Figure size 432x288 with 1 Axes>"
      ]
     },
     "metadata": {
      "needs_background": "light"
     },
     "output_type": "display_data"
    }
   ],
   "source": [
    "nnet = nn.NeuralNetworkClassifier(28*28, [10, 10], class_labels)\n",
    "nnet.train(Xtrain.reshape(-1, 784), Ttrain, 100, 'scg')\n",
    "Ytest, _ = nnet.use(Xtest.reshape(-1, 784))\n",
    "print(nnet)\n",
    "plt.plot(nnet.get_error_trace())\n",
    "print(f'MNIST Test {100 * np.mean(Ytest == Ttest)}% correct, {nnet.all_weights.size} weights')"
   ]
  },
  {
   "cell_type": "markdown",
   "metadata": {},
   "source": [
    "Now, try a convolutional neural network.  Our hidden layer structure here is specified as\n",
    "\n",
    "    [[4, 8, 2]], [5]\n",
    "    \n",
    "This represents one convolutional layer with 4 units, each having a kernel size of `8 x 8` and stride of `2 x 2`, followed by one fully-connected layer with 5 units.  The output layer will have 10 units as before."
   ]
  },
  {
   "cell_type": "code",
   "execution_count": 14,
   "metadata": {},
   "outputs": [
    {
     "name": "stdout",
     "output_type": "stream",
     "text": [
      "SCG: Epoch 10 ObjectiveF=0.90483\n",
      "SCG: Epoch 20 ObjectiveF=0.94394\n",
      "SCG: Epoch 30 ObjectiveF=0.96120\n",
      "SCG: Epoch 40 ObjectiveF=0.97216\n",
      "SCG: Epoch 50 ObjectiveF=0.97896\n",
      "SCG: Epoch 60 ObjectiveF=0.98404\n",
      "SCG: Epoch 70 ObjectiveF=0.98822\n",
      "SCG: Epoch 80 ObjectiveF=0.99103\n",
      "SCG: Epoch 90 ObjectiveF=0.99244\n",
      "SCG: Epoch 100 ObjectiveF=0.99349\n",
      "NeuralNetworkClassifier_CNN([28, 28, 1], [(4, 8, 2)], [5, 10], [0 1 2 3 4 5 6 7 8 9])\n",
      " Layer 0: n_units=4 kernel=8 stride=2 in_channels=1 in_rc=28 out_rc=11\n",
      " Layer 1: n_units=5\n",
      " Trained for 100 epochs.\n",
      " Final objective value is 0.9935.\n",
      "MNIST CNN Test 88.38000000000001 % correct, with 2745 weights\n"
     ]
    },
    {
     "data": {
      "image/png": "[encoded data removed]",
      "text/plain": [
       "<Figure size 432x288 with 1 Axes>"
      ]
     },
     "metadata": {
      "needs_background": "light"
     },
     "output_type": "display_data"
    }
   ],
   "source": [
    "cnn = nn.NeuralNetworkClassifier_CNN([28, 28, 1], [(4, 8, 2)], [5], class_labels)\n",
    "cnn.train(Xtrain, Ttrain, 100, 'scg')\n",
    "Ytest, _ = cnn.use(Xtest)\n",
    "print(cnn)\n",
    "plt.plot(cnn.get_error_trace())\n",
    "print(f'MNIST CNN Test {100 * np.mean(Ytest == Ttest)} % correct, with {cnn.all_weights.size} weights')"
   ]
  },
  {
   "cell_type": "markdown",
   "metadata": {},
   "source": [
    "Let's take a look at the filters learned in the first layer."
   ]
  },
  {
   "cell_type": "code",
   "execution_count": 15,
   "metadata": {},
   "outputs": [
    {
     "data": {
      "text/plain": [
       "(65, 4)"
      ]
     },
     "execution_count": 15,
     "metadata": {},
     "output_type": "execute_result"
    }
   ],
   "source": [
    "W = cnn.Ws[0]\n",
    "W.shape"
   ]
  },
  {
   "cell_type": "code",
   "execution_count": 16,
   "metadata": {},
   "outputs": [
    {
     "data": {
      "text/plain": [
       "(64, 4)"
      ]
     },
     "execution_count": 16,
     "metadata": {},
     "output_type": "execute_result"
    }
   ],
   "source": [
    "W = W[1:, :]\n",
    "W.shape"
   ]
  },
  {
   "cell_type": "code",
   "execution_count": 18,
   "metadata": {},
   "outputs": [
    {
     "data": {
      "image/png": "[encoded data removed]",
      "text/plain": [
       "<Figure size 432x288 with 4 Axes>"
      ]
     },
     "metadata": {
      "needs_background": "light"
     },
     "output_type": "display_data"
    }
   ],
   "source": [
    "n_units = W.shape[-1]\n",
    "ploti = 0\n",
    "for i in range(n_units):\n",
    "    ploti += 1\n",
    "    plt.subplot(2, 2, ploti)\n",
    "    plt.imshow(W[:, i].reshape(8, 8));"
   ]
  },
  {
   "cell_type": "code",
   "execution_count": null,
   "metadata": {},
   "outputs": [],
   "source": []
  },
  {
   "cell_type": "code",
   "execution_count": null,
   "metadata": {},
   "outputs": [],
   "source": []
  }
 ],
 "metadata": {
  "kernelspec": {
   "display_name": "Python 3 (ipykernel)",
   "language": "python",
   "name": "python3"
  },
  "language_info": {
   "codemirror_mode": {
    "name": "ipython",
    "version": 3
   },
   "file_extension": ".py",
   "mimetype": "text/x-python",
   "name": "python",
   "nbconvert_exporter": "python",
   "pygments_lexer": "ipython3",
   "version": "3.8.11"
  },
  "toc": {
   "base_numbering": 1,
   "nav_menu": {},
   "number_sections": false,
   "sideBar": true,
   "skip_h1_title": false,
   "title_cell": "Table of Contents",
   "title_sidebar": "Contents",
   "toc_cell": false,
   "toc_position": {},
   "toc_section_display": true,
   "toc_window_display": false
  }
 },
 "nbformat": 4,
 "nbformat_minor": 2
}
