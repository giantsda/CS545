{
 "cells": [
  {
   "cell_type": "markdown",
   "metadata": {},
   "source": [
    "# Searching for Good Weights in a Linear Model"
   ]
  },
  {
   "cell_type": "code",
   "execution_count": 2,
   "metadata": {
    "ExecuteTime": {
     "end_time": "2021-07-27T20:40:15.095369Z",
     "start_time": "2021-07-27T20:40:13.648165Z"
    }
   },
   "outputs": [],
   "source": [
    "import numpy as np\n",
    "import matplotlib.pyplot as plt\n",
    "%matplotlib inline\n",
    "\n",
    "import pandas  # for reading csv file\n",
    "from IPython.display import display, clear_output  # for animations later in this notebook"
   ]
  },
  {
   "cell_type": "markdown",
   "metadata": {},
   "source": [
    "First, let's find and download some interesting data.  The [machine learning repository at the University of California, Irvine](http://archive.ics.uci.edu/ml), is a great resource for publicly available data with explanations for machine learning researchers.  Here we download the air quality data set.  If `curl` is not available on your system, you may use the above link to find and download this data.  It is useful to go the link and find the page describing this data set. That page is [here](http://archive.ics.uci.edu/ml/datasets/Air+quality)."
   ]
  },
  {
   "cell_type": "code",
   "execution_count": 3,
   "metadata": {
    "ExecuteTime": {
     "end_time": "2021-07-27T20:40:18.038732Z",
     "start_time": "2021-07-27T20:40:16.966000Z"
    }
   },
   "outputs": [
    {
     "name": "stdout",
     "output_type": "stream",
     "text": [
      "  % Total    % Received % Xferd  Average Speed   Time    Time     Time  Current\n",
      "                                 Dload  Upload   Total   Spent    Left  Speed\n",
      "100 1507k  100 1507k    0     0  2599k      0 --:--:-- --:--:-- --:--:-- 2595k\n",
      "Archive:  AirQualityUCI.zip\n",
      "  inflating: AirQualityUCI.csv       \n",
      "  inflating: AirQualityUCI.xlsx      \n"
     ]
    }
   ],
   "source": [
    "!curl -O https://archive.ics.uci.edu/ml/machine-learning-databases/00360/AirQualityUCI.zip\n",
    "!unzip -o AirQualityUCI.zip"
   ]
  },
  {
   "cell_type": "markdown",
   "metadata": {},
   "source": [
    "We will use the [pandas](https://pandas.pydata.org/) package to read this data.  The `pandas.read_csv` function is extremely useful for reading in all kinds of data with various peculiarities.  Here are the first few lines of `AirQualityUCI.csv`."
   ]
  },
  {
   "cell_type": "code",
   "execution_count": 4,
   "metadata": {
    "ExecuteTime": {
     "end_time": "2021-07-27T20:40:19.554008Z",
     "start_time": "2021-07-27T20:40:19.413089Z"
    }
   },
   "outputs": [
    {
     "name": "stdout",
     "output_type": "stream",
     "text": [
      "Date;Time;CO(GT);PT08.S1(CO);NMHC(GT);C6H6(GT);PT08.S2(NMHC);NOx(GT);PT08.S3(NOx);NO2(GT);PT08.S4(NO2);PT08.S5(O3);T;RH;AH;;\r",
      "\r\n",
      "10/03/2004;18.00.00;2,6;1360;150;11,9;1046;166;1056;113;1692;1268;13,6;48,9;0,7578;;\r",
      "\r\n",
      "10/03/2004;19.00.00;2;1292;112;9,4;955;103;1174;92;1559;972;13,3;47,7;0,7255;;\r",
      "\r\n",
      "10/03/2004;20.00.00;2,2;1402;88;9,0;939;131;1140;114;1555;1074;11,9;54,0;0,7502;;\r",
      "\r\n",
      "10/03/2004;21.00.00;2,2;1376;80;9,2;948;172;1092;122;1584;1203;11,0;60,0;0,7867;;\r",
      "\r\n",
      "10/03/2004;22.00.00;1,6;1272;51;6,5;836;131;1205;116;1490;1110;11,2;59,6;0,7888;;\r",
      "\r\n",
      "10/03/2004;23.00.00;1,2;1197;38;4,7;750;89;1337;96;1393;949;11,2;59,2;0,7848;;\r",
      "\r\n",
      "11/03/2004;00.00.00;1,2;1185;31;3,6;690;62;1462;77;1333;733;11,3;56,8;0,7603;;\r",
      "\r\n",
      "11/03/2004;01.00.00;1;1136;31;3,3;672;62;1453;76;1333;730;10,7;60,0;0,7702;;\r",
      "\r\n",
      "11/03/2004;02.00.00;0,9;1094;24;2,3;609;45;1579;60;1276;620;10,7;59,7;0,7648;;\r",
      "\r\n"
     ]
    }
   ],
   "source": [
    "!head AirQualityUCI.csv"
   ]
  },
  {
   "cell_type": "markdown",
   "metadata": {},
   "source": [
    "Notice a few things.  Fields are separated by semi-colons.  The first line is names for each variable, appearing in separate columns.  Each row is one sample.  Each line ends with two semi-colons. Not immediately obvious is that the decimal values follow the European convention of using a comma instead of decimal point.  Not demonstrated in these first few lines is the fact that missing measurements are given the value -200.\n",
    "\n",
    "All of these issues can be dealt with directly in the call to `pandas.read_csv`.  I don't mean to imply that I got this right on my first try.  The two most puzzling issues were the two semi-colons at the end of each line and the commas for decimal points.  The double semi-colons caused the data returned by `pandas.read_csv` to have more columns than I expected.\n",
    "\n",
    "Very good [pandas tutorials](http://pandas.pydata.org/pandas-docs/stable/tutorials.html) are available."
   ]
  },
  {
   "cell_type": "code",
   "execution_count": 5,
   "metadata": {
    "ExecuteTime": {
     "end_time": "2021-07-27T20:40:21.216699Z",
     "start_time": "2021-07-27T20:40:21.119517Z"
    }
   },
   "outputs": [
    {
     "data": {
      "text/plain": [
       "(827, 15)"
      ]
     },
     "execution_count": 5,
     "metadata": {},
     "output_type": "execute_result"
    }
   ],
   "source": [
    "data = pandas.read_csv('AirQualityUCI.csv', delimiter=';', decimal=',', usecols=range(15), na_values=-200)\n",
    "data = data.dropna(axis=0)\n",
    "data.shape"
   ]
  },
  {
   "cell_type": "markdown",
   "metadata": {},
   "source": [
    "So, we have 827 rows and 15 columns of data.  This means that we read 827 samples that do not have missing values, and each sample contains 15 values.  Let's look at the first few rows of this data matrix, called a `DataFrame` in `pandas`."
   ]
  },
  {
   "cell_type": "code",
   "execution_count": 6,
   "metadata": {
    "ExecuteTime": {
     "end_time": "2021-07-27T20:40:22.816488Z",
     "start_time": "2021-07-27T20:40:22.728640Z"
    }
   },
   "outputs": [
    {
     "data": {
      "text/html": [
       "<div>\n",
       "<style scoped>\n",
       "    .dataframe tbody tr th:only-of-type {\n",
       "        vertical-align: middle;\n",
       "    }\n",
       "\n",
       "    .dataframe tbody tr th {\n",
       "        vertical-align: top;\n",
       "    }\n",
       "\n",
       "    .dataframe thead th {\n",
       "        text-align: right;\n",
       "    }\n",
       "</style>\n",
       "<table border=\"1\" class=\"dataframe\">\n",
       "  <thead>\n",
       "    <tr style=\"text-align: right;\">\n",
       "      <th></th>\n",
       "      <th>Date</th>\n",
       "      <th>Time</th>\n",
       "      <th>CO(GT)</th>\n",
       "      <th>PT08.S1(CO)</th>\n",
       "      <th>NMHC(GT)</th>\n",
       "      <th>C6H6(GT)</th>\n",
       "      <th>PT08.S2(NMHC)</th>\n",
       "      <th>NOx(GT)</th>\n",
       "      <th>PT08.S3(NOx)</th>\n",
       "      <th>NO2(GT)</th>\n",
       "      <th>PT08.S4(NO2)</th>\n",
       "      <th>PT08.S5(O3)</th>\n",
       "      <th>T</th>\n",
       "      <th>RH</th>\n",
       "      <th>AH</th>\n",
       "    </tr>\n",
       "  </thead>\n",
       "  <tbody>\n",
       "    <tr>\n",
       "      <th>0</th>\n",
       "      <td>10/03/2004</td>\n",
       "      <td>18.00.00</td>\n",
       "      <td>2.6</td>\n",
       "      <td>1360.0</td>\n",
       "      <td>150.0</td>\n",
       "      <td>11.9</td>\n",
       "      <td>1046.0</td>\n",
       "      <td>166.0</td>\n",
       "      <td>1056.0</td>\n",
       "      <td>113.0</td>\n",
       "      <td>1692.0</td>\n",
       "      <td>1268.0</td>\n",
       "      <td>13.6</td>\n",
       "      <td>48.9</td>\n",
       "      <td>0.7578</td>\n",
       "    </tr>\n",
       "    <tr>\n",
       "      <th>1</th>\n",
       "      <td>10/03/2004</td>\n",
       "      <td>19.00.00</td>\n",
       "      <td>2.0</td>\n",
       "      <td>1292.0</td>\n",
       "      <td>112.0</td>\n",
       "      <td>9.4</td>\n",
       "      <td>955.0</td>\n",
       "      <td>103.0</td>\n",
       "      <td>1174.0</td>\n",
       "      <td>92.0</td>\n",
       "      <td>1559.0</td>\n",
       "      <td>972.0</td>\n",
       "      <td>13.3</td>\n",
       "      <td>47.7</td>\n",
       "      <td>0.7255</td>\n",
       "    </tr>\n",
       "    <tr>\n",
       "      <th>2</th>\n",
       "      <td>10/03/2004</td>\n",
       "      <td>20.00.00</td>\n",
       "      <td>2.2</td>\n",
       "      <td>1402.0</td>\n",
       "      <td>88.0</td>\n",
       "      <td>9.0</td>\n",
       "      <td>939.0</td>\n",
       "      <td>131.0</td>\n",
       "      <td>1140.0</td>\n",
       "      <td>114.0</td>\n",
       "      <td>1555.0</td>\n",
       "      <td>1074.0</td>\n",
       "      <td>11.9</td>\n",
       "      <td>54.0</td>\n",
       "      <td>0.7502</td>\n",
       "    </tr>\n",
       "    <tr>\n",
       "      <th>3</th>\n",
       "      <td>10/03/2004</td>\n",
       "      <td>21.00.00</td>\n",
       "      <td>2.2</td>\n",
       "      <td>1376.0</td>\n",
       "      <td>80.0</td>\n",
       "      <td>9.2</td>\n",
       "      <td>948.0</td>\n",
       "      <td>172.0</td>\n",
       "      <td>1092.0</td>\n",
       "      <td>122.0</td>\n",
       "      <td>1584.0</td>\n",
       "      <td>1203.0</td>\n",
       "      <td>11.0</td>\n",
       "      <td>60.0</td>\n",
       "      <td>0.7867</td>\n",
       "    </tr>\n",
       "    <tr>\n",
       "      <th>4</th>\n",
       "      <td>10/03/2004</td>\n",
       "      <td>22.00.00</td>\n",
       "      <td>1.6</td>\n",
       "      <td>1272.0</td>\n",
       "      <td>51.0</td>\n",
       "      <td>6.5</td>\n",
       "      <td>836.0</td>\n",
       "      <td>131.0</td>\n",
       "      <td>1205.0</td>\n",
       "      <td>116.0</td>\n",
       "      <td>1490.0</td>\n",
       "      <td>1110.0</td>\n",
       "      <td>11.2</td>\n",
       "      <td>59.6</td>\n",
       "      <td>0.7888</td>\n",
       "    </tr>\n",
       "    <tr>\n",
       "      <th>5</th>\n",
       "      <td>10/03/2004</td>\n",
       "      <td>23.00.00</td>\n",
       "      <td>1.2</td>\n",
       "      <td>1197.0</td>\n",
       "      <td>38.0</td>\n",
       "      <td>4.7</td>\n",
       "      <td>750.0</td>\n",
       "      <td>89.0</td>\n",
       "      <td>1337.0</td>\n",
       "      <td>96.0</td>\n",
       "      <td>1393.0</td>\n",
       "      <td>949.0</td>\n",
       "      <td>11.2</td>\n",
       "      <td>59.2</td>\n",
       "      <td>0.7848</td>\n",
       "    </tr>\n",
       "    <tr>\n",
       "      <th>6</th>\n",
       "      <td>11/03/2004</td>\n",
       "      <td>00.00.00</td>\n",
       "      <td>1.2</td>\n",
       "      <td>1185.0</td>\n",
       "      <td>31.0</td>\n",
       "      <td>3.6</td>\n",
       "      <td>690.0</td>\n",
       "      <td>62.0</td>\n",
       "      <td>1462.0</td>\n",
       "      <td>77.0</td>\n",
       "      <td>1333.0</td>\n",
       "      <td>733.0</td>\n",
       "      <td>11.3</td>\n",
       "      <td>56.8</td>\n",
       "      <td>0.7603</td>\n",
       "    </tr>\n",
       "    <tr>\n",
       "      <th>7</th>\n",
       "      <td>11/03/2004</td>\n",
       "      <td>01.00.00</td>\n",
       "      <td>1.0</td>\n",
       "      <td>1136.0</td>\n",
       "      <td>31.0</td>\n",
       "      <td>3.3</td>\n",
       "      <td>672.0</td>\n",
       "      <td>62.0</td>\n",
       "      <td>1453.0</td>\n",
       "      <td>76.0</td>\n",
       "      <td>1333.0</td>\n",
       "      <td>730.0</td>\n",
       "      <td>10.7</td>\n",
       "      <td>60.0</td>\n",
       "      <td>0.7702</td>\n",
       "    </tr>\n",
       "    <tr>\n",
       "      <th>8</th>\n",
       "      <td>11/03/2004</td>\n",
       "      <td>02.00.00</td>\n",
       "      <td>0.9</td>\n",
       "      <td>1094.0</td>\n",
       "      <td>24.0</td>\n",
       "      <td>2.3</td>\n",
       "      <td>609.0</td>\n",
       "      <td>45.0</td>\n",
       "      <td>1579.0</td>\n",
       "      <td>60.0</td>\n",
       "      <td>1276.0</td>\n",
       "      <td>620.0</td>\n",
       "      <td>10.7</td>\n",
       "      <td>59.7</td>\n",
       "      <td>0.7648</td>\n",
       "    </tr>\n",
       "    <tr>\n",
       "      <th>11</th>\n",
       "      <td>11/03/2004</td>\n",
       "      <td>05.00.00</td>\n",
       "      <td>0.7</td>\n",
       "      <td>1066.0</td>\n",
       "      <td>8.0</td>\n",
       "      <td>1.1</td>\n",
       "      <td>512.0</td>\n",
       "      <td>16.0</td>\n",
       "      <td>1918.0</td>\n",
       "      <td>28.0</td>\n",
       "      <td>1182.0</td>\n",
       "      <td>422.0</td>\n",
       "      <td>11.0</td>\n",
       "      <td>56.2</td>\n",
       "      <td>0.7366</td>\n",
       "    </tr>\n",
       "  </tbody>\n",
       "</table>\n",
       "</div>"
      ],
      "text/plain": [
       "          Date      Time  CO(GT)  PT08.S1(CO)  NMHC(GT)  C6H6(GT)  \\\n",
       "0   10/03/2004  18.00.00     2.6       1360.0     150.0      11.9   \n",
       "1   10/03/2004  19.00.00     2.0       1292.0     112.0       9.4   \n",
       "2   10/03/2004  20.00.00     2.2       1402.0      88.0       9.0   \n",
       "3   10/03/2004  21.00.00     2.2       1376.0      80.0       9.2   \n",
       "4   10/03/2004  22.00.00     1.6       1272.0      51.0       6.5   \n",
       "5   10/03/2004  23.00.00     1.2       1197.0      38.0       4.7   \n",
       "6   11/03/2004  00.00.00     1.2       1185.0      31.0       3.6   \n",
       "7   11/03/2004  01.00.00     1.0       1136.0      31.0       3.3   \n",
       "8   11/03/2004  02.00.00     0.9       1094.0      24.0       2.3   \n",
       "11  11/03/2004  05.00.00     0.7       1066.0       8.0       1.1   \n",
       "\n",
       "    PT08.S2(NMHC)  NOx(GT)  PT08.S3(NOx)  NO2(GT)  PT08.S4(NO2)  PT08.S5(O3)  \\\n",
       "0          1046.0    166.0        1056.0    113.0        1692.0       1268.0   \n",
       "1           955.0    103.0        1174.0     92.0        1559.0        972.0   \n",
       "2           939.0    131.0        1140.0    114.0        1555.0       1074.0   \n",
       "3           948.0    172.0        1092.0    122.0        1584.0       1203.0   \n",
       "4           836.0    131.0        1205.0    116.0        1490.0       1110.0   \n",
       "5           750.0     89.0        1337.0     96.0        1393.0        949.0   \n",
       "6           690.0     62.0        1462.0     77.0        1333.0        733.0   \n",
       "7           672.0     62.0        1453.0     76.0        1333.0        730.0   \n",
       "8           609.0     45.0        1579.0     60.0        1276.0        620.0   \n",
       "11          512.0     16.0        1918.0     28.0        1182.0        422.0   \n",
       "\n",
       "       T    RH      AH  \n",
       "0   13.6  48.9  0.7578  \n",
       "1   13.3  47.7  0.7255  \n",
       "2   11.9  54.0  0.7502  \n",
       "3   11.0  60.0  0.7867  \n",
       "4   11.2  59.6  0.7888  \n",
       "5   11.2  59.2  0.7848  \n",
       "6   11.3  56.8  0.7603  \n",
       "7   10.7  60.0  0.7702  \n",
       "8   10.7  59.7  0.7648  \n",
       "11  11.0  56.2  0.7366  "
      ]
     },
     "execution_count": 6,
     "metadata": {},
     "output_type": "execute_result"
    }
   ],
   "source": [
    "data.head(10)"
   ]
  },
  {
   "cell_type": "markdown",
   "metadata": {},
   "source": [
    "Let's create a simple problem for playing with this data.  Let's say we want to predict the level of carbon monoxide from the time of day.  The column `Time` contains the hour, but not just the hour.  9am will appear as 09.00.00.  Whoopee!  This will give us a chance to practice our skills at extracting substrings, converting strings to integers, and doing these steps for all of the `Time` values within a concise little list comprehension.  You don't know what this is?  Well, it is time to get comfortable not knowing, and typing 'python list comprehension' into your favorite web search engine."
   ]
  },
  {
   "cell_type": "code",
   "execution_count": 7,
   "metadata": {
    "ExecuteTime": {
     "end_time": "2021-07-27T20:40:24.305980Z",
     "start_time": "2021-07-27T20:40:24.283448Z"
    },
    "scrolled": true
   },
   "outputs": [
    {
     "data": {
      "text/plain": [
       "0     18.00.00\n",
       "1     19.00.00\n",
       "2     20.00.00\n",
       "3     21.00.00\n",
       "4     22.00.00\n",
       "5     23.00.00\n",
       "6     00.00.00\n",
       "7     01.00.00\n",
       "8     02.00.00\n",
       "11    05.00.00\n",
       "Name: Time, dtype: object"
      ]
     },
     "execution_count": 7,
     "metadata": {},
     "output_type": "execute_result"
    }
   ],
   "source": [
    "data['Time'][:10]"
   ]
  },
  {
   "cell_type": "code",
   "execution_count": 8,
   "metadata": {
    "ExecuteTime": {
     "end_time": "2021-07-27T20:40:25.073091Z",
     "start_time": "2021-07-27T20:40:25.055319Z"
    }
   },
   "outputs": [
    {
     "data": {
      "text/plain": [
       "['18.00.00',\n",
       " '19.00.00',\n",
       " '20.00.00',\n",
       " '21.00.00',\n",
       " '22.00.00',\n",
       " '23.00.00',\n",
       " '00.00.00',\n",
       " '01.00.00',\n",
       " '02.00.00',\n",
       " '05.00.00']"
      ]
     },
     "execution_count": 8,
     "metadata": {},
     "output_type": "execute_result"
    }
   ],
   "source": [
    "[t for t in data['Time'][:10]]"
   ]
  },
  {
   "cell_type": "code",
   "execution_count": 9,
   "metadata": {
    "ExecuteTime": {
     "end_time": "2021-07-27T20:40:25.582572Z",
     "start_time": "2021-07-27T20:40:25.569115Z"
    }
   },
   "outputs": [
    {
     "data": {
      "text/plain": [
       "['18', '19', '20', '21', '22', '23', '00', '01', '02', '05']"
      ]
     },
     "execution_count": 9,
     "metadata": {},
     "output_type": "execute_result"
    }
   ],
   "source": [
    "[t[:2] for t in data['Time'][:10]]"
   ]
  },
  {
   "cell_type": "code",
   "execution_count": 10,
   "metadata": {
    "ExecuteTime": {
     "end_time": "2021-07-27T20:40:26.121000Z",
     "start_time": "2021-07-27T20:40:26.103021Z"
    }
   },
   "outputs": [
    {
     "data": {
      "text/plain": [
       "[18, 19, 20, 21, 22, 23, 0, 1, 2, 5]"
      ]
     },
     "execution_count": 10,
     "metadata": {},
     "output_type": "execute_result"
    }
   ],
   "source": [
    "[int(t[:2]) for t in data['Time'][:10]]"
   ]
  },
  {
   "cell_type": "code",
   "execution_count": 11,
   "metadata": {
    "ExecuteTime": {
     "end_time": "2021-07-27T20:40:26.777393Z",
     "start_time": "2021-07-27T20:40:26.766588Z"
    }
   },
   "outputs": [],
   "source": [
    "hour = [int(t[:2]) for t in data['Time']]"
   ]
  },
  {
   "cell_type": "markdown",
   "metadata": {},
   "source": [
    "To get the carbon monoxide measurements for each sample, you can read the data description at the UCI web site to learn that column `CO(GT)` is the ground truth measurement of carbon monoxide."
   ]
  },
  {
   "cell_type": "code",
   "execution_count": 12,
   "metadata": {
    "ExecuteTime": {
     "end_time": "2021-07-27T20:40:27.729898Z",
     "start_time": "2021-07-27T20:40:27.718578Z"
    }
   },
   "outputs": [
    {
     "data": {
      "text/plain": [
       "Index(['Date', 'Time', 'CO(GT)', 'PT08.S1(CO)', 'NMHC(GT)', 'C6H6(GT)',\n",
       "       'PT08.S2(NMHC)', 'NOx(GT)', 'PT08.S3(NOx)', 'NO2(GT)', 'PT08.S4(NO2)',\n",
       "       'PT08.S5(O3)', 'T', 'RH', 'AH'],\n",
       "      dtype='object')"
      ]
     },
     "execution_count": 12,
     "metadata": {},
     "output_type": "execute_result"
    }
   ],
   "source": [
    "data.columns"
   ]
  },
  {
   "cell_type": "code",
   "execution_count": 13,
   "metadata": {
    "ExecuteTime": {
     "end_time": "2021-07-27T20:40:28.284456Z",
     "start_time": "2021-07-27T20:40:28.267697Z"
    },
    "scrolled": true
   },
   "outputs": [
    {
     "data": {
      "text/plain": [
       "0     2.6\n",
       "1     2.0\n",
       "2     2.2\n",
       "3     2.2\n",
       "4     1.6\n",
       "5     1.2\n",
       "6     1.2\n",
       "7     1.0\n",
       "8     0.9\n",
       "11    0.7\n",
       "Name: CO(GT), dtype: float64"
      ]
     },
     "execution_count": 13,
     "metadata": {},
     "output_type": "execute_result"
    }
   ],
   "source": [
    "CO = data['CO(GT)']\n",
    "CO[:10]"
   ]
  },
  {
   "cell_type": "markdown",
   "metadata": {},
   "source": [
    "Here I will introduce a convention I will follow throughout this class.  Inputs to a model are given in a matrix named `X`.  Samples are in rows, and the components, measurements, variables, thingies of each sample are given in the columns.  The desired, correct outputs for each sample are given in a matrix named `T`, for **T**argets.  The $i^{th}$ row of `X` is Sample $i$ whose correct target output is in row $i$ of `T`.  Yes, you excellent software developers, `X` and `T` are parallel arrays, which should set of alarms in your coding brains.  As long as we remember that we cannot reorder the rows n `X` without doing the same reording of rows in `T`, we will be okay.\n",
    "\n",
    "Let's set this up for our hour to CO problem."
   ]
  },
  {
   "cell_type": "code",
   "execution_count": 14,
   "metadata": {
    "ExecuteTime": {
     "end_time": "2021-07-27T20:40:29.557985Z",
     "start_time": "2021-07-27T20:40:29.538968Z"
    }
   },
   "outputs": [
    {
     "name": "stdout",
     "output_type": "stream",
     "text": [
      "X.shape = (827, 1) Xnames = ['Hour'] T.shape = (827, 1) Tnames = ['CO']\n",
      "X.shape=(827, 1) Xnames=['Hour'] T.shape=(827, 1) Tnames=['CO']\n"
     ]
    }
   ],
   "source": [
    "T = CO\n",
    "T = np.array(T).reshape((-1, 1))  # make T have one column and as many rows as needed to hold the values of T\n",
    "Tnames = ['CO']\n",
    "X = np.array(hour).reshape((-1, 1))\n",
    "Xnames = ['Hour']\n",
    "print('X.shape =', X.shape, 'Xnames =', Xnames, 'T.shape =', T.shape, 'Tnames =', Tnames)\n",
    "# or, using the latest formatting ability in python strings,\n",
    "print(f'{X.shape=} {Xnames=} {T.shape=} {Tnames=}')"
   ]
  },
  {
   "cell_type": "markdown",
   "metadata": {},
   "source": [
    "Say after me...plot early and often!  We can never have too many visualizations.  This next plot verifies that we have defined `X` and `T` correctly.  What else do you notice?"
   ]
  },
  {
   "cell_type": "code",
   "execution_count": 15,
   "metadata": {
    "ExecuteTime": {
     "end_time": "2021-07-27T20:40:31.351646Z",
     "start_time": "2021-07-27T20:40:31.064239Z"
    }
   },
   "outputs": [
    {
     "data": {
      "image/png": "[encoded data removed]",
      "text/plain": [
       "<Figure size 432x288 with 1 Axes>"
      ]
     },
     "metadata": {
      "needs_background": "light"
     },
     "output_type": "display_data"
    }
   ],
   "source": [
    "plt.plot(X, T, '.')\n",
    "plt.xlabel(Xnames[0])\n",
    "plt.ylabel(Tnames[0]);  # semi-colon here prevents printing the cryptic result of call to plt.ylabel()"
   ]
  },
  {
   "cell_type": "markdown",
   "metadata": {},
   "source": [
    "Well, what do you think?  Will we be able to predict `CO` from `Hour` with a linear model?  The predictions of linear model must appear as a straight line in this plot."
   ]
  },
  {
   "cell_type": "markdown",
   "metadata": {},
   "source": [
    "What is a linear model?  Well, a linear model of one variable is specified with a y-intercept and a slope.  These are the two parameters of the linear model.  Let's call them `w0` and `w1`.  If the output of the linear model is `y`, then we have `y = w0 + x * w1`.  Let's wrap this up in a little function."
   ]
  },
  {
   "cell_type": "code",
   "execution_count": 16,
   "metadata": {
    "ExecuteTime": {
     "end_time": "2021-07-27T20:40:32.988877Z",
     "start_time": "2021-07-27T20:40:32.981688Z"
    }
   },
   "outputs": [],
   "source": [
    "def linear_model(x, w0, w1):\n",
    "    return w0 + x * w1"
   ]
  },
  {
   "cell_type": "markdown",
   "metadata": {},
   "source": [
    "So, what values should we use for `w0` and `w1` to make a good prediction of `CO`?  What method shall we use to find good values?  How about good old guessing, or maybe we could call this trial and error.  We will just pick some values and plot the predictions."
   ]
  },
  {
   "cell_type": "markdown",
   "metadata": {},
   "source": [
    "## Manual Guessing"
   ]
  },
  {
   "cell_type": "code",
   "execution_count": 17,
   "metadata": {
    "ExecuteTime": {
     "end_time": "2021-07-27T20:40:35.427886Z",
     "start_time": "2021-07-27T20:40:35.120149Z"
    }
   },
   "outputs": [
    {
     "data": {
      "image/png": "[encoded data removed]",
      "text/plain": [
       "<Figure size 432x288 with 1 Axes>"
      ]
     },
     "metadata": {
      "needs_background": "light"
     },
     "output_type": "display_data"
    }
   ],
   "source": [
    "w0 = 0\n",
    "w1 = 1\n",
    "\n",
    "Y = linear_model(X, w0, w1)\n",
    "\n",
    "plt.plot(X, T, '.', label='Actual CO')\n",
    "plt.plot(X, Y, 'r.-', label='Predicted CO')\n",
    "plt.xlabel(Xnames[0])\n",
    "plt.ylabel(Tnames[0])\n",
    "plt.legend();  # make legend using the label strings"
   ]
  },
  {
   "cell_type": "markdown",
   "metadata": {},
   "source": [
    "Well, clearly our predictions are climbing much too quickly  The slope, or `w1`, is too high.  Try a smaller value."
   ]
  },
  {
   "cell_type": "code",
   "execution_count": 18,
   "metadata": {
    "ExecuteTime": {
     "end_time": "2021-07-27T20:40:37.037756Z",
     "start_time": "2021-07-27T20:40:36.653069Z"
    }
   },
   "outputs": [
    {
     "data": {
      "image/png": "[encoded data removed]",
      "text/plain": [
       "<Figure size 432x288 with 1 Axes>"
      ]
     },
     "metadata": {
      "needs_background": "light"
     },
     "output_type": "display_data"
    }
   ],
   "source": [
    "w1 = 0.1\n",
    "Y = linear_model(X, w0, w1)\n",
    "\n",
    "plt.plot(X, T, '.', label='Actual CO')\n",
    "plt.plot(X, Y, 'r.-', label='Predicted CO')\n",
    "plt.xlabel(Xnames[0])\n",
    "plt.ylabel(Tnames[0])\n",
    "plt.legend(); "
   ]
  },
  {
   "cell_type": "markdown",
   "metadata": {},
   "source": [
    "Maybe too low."
   ]
  },
  {
   "cell_type": "code",
   "execution_count": 19,
   "metadata": {
    "ExecuteTime": {
     "end_time": "2021-07-27T20:40:37.726179Z",
     "start_time": "2021-07-27T20:40:37.360566Z"
    }
   },
   "outputs": [
    {
     "data": {
      "image/png": "[encoded data removed]",
      "text/plain": [
       "<Figure size 432x288 with 1 Axes>"
      ]
     },
     "metadata": {
      "needs_background": "light"
     },
     "output_type": "display_data"
    }
   ],
   "source": [
    "w1 = 0.3\n",
    "Y = linear_model(X, w0, w1)\n",
    "\n",
    "plt.plot(X, T, '.', label='Actual CO')\n",
    "plt.plot(X, Y, 'r.-', label='Predicted CO')\n",
    "plt.xlabel(Xnames[0])\n",
    "plt.ylabel(Tnames[0])\n",
    "plt.legend(); "
   ]
  },
  {
   "cell_type": "markdown",
   "metadata": {},
   "source": [
    "Okay.  Now we can try to increase the y-intercept, `w0`, a bit."
   ]
  },
  {
   "cell_type": "code",
   "execution_count": 20,
   "metadata": {
    "ExecuteTime": {
     "end_time": "2021-07-27T20:40:38.986813Z",
     "start_time": "2021-07-27T20:40:38.678548Z"
    }
   },
   "outputs": [
    {
     "data": {
      "image/png": "[encoded data removed]",
      "text/plain": [
       "<Figure size 432x288 with 1 Axes>"
      ]
     },
     "metadata": {
      "needs_background": "light"
     },
     "output_type": "display_data"
    }
   ],
   "source": [
    "w0 = 0.4\n",
    "Y = linear_model(X, w0, w1)\n",
    "\n",
    "plt.plot(X, T, '.', label='Actual CO')\n",
    "plt.plot(X, Y, 'r.-', label='Predicted CO')\n",
    "plt.xlabel(Xnames[0])\n",
    "plt.ylabel(Tnames[0])\n",
    "plt.legend(); "
   ]
  },
  {
   "cell_type": "markdown",
   "metadata": {},
   "source": [
    "We could do this all day.  (Well, maybe a few more times.)  What we really need is a way to quantify how good our linear model is doing.  Let's define a function to calculate the error by calling `linear_model` to get our predictions, `Y`,  and compare them to the target `T` values.  The comparison will be done with the common root-mean-square-error, or RMSE, approach, for which the difference between `T` and `Y` is squared, averaged, and the square root of the result is returned."
   ]
  },
  {
   "cell_type": "code",
   "execution_count": 21,
   "metadata": {
    "ExecuteTime": {
     "end_time": "2021-07-27T20:40:39.998081Z",
     "start_time": "2021-07-27T20:40:39.990048Z"
    }
   },
   "outputs": [],
   "source": [
    "def rmse(X, T, w0, w1):\n",
    "    Y = linear_model(X, w0, w1)\n",
    "    return np.sqrt(np.mean((T - Y)**2))"
   ]
  },
  {
   "cell_type": "markdown",
   "metadata": {},
   "source": [
    "Now we are ready to automate the guessing approach we attempted above.  Let's define a search algorithm that\n",
    "\n",
    "   - bumps a weight up and down to determine which direction decreases the error,\n",
    "   - repeatedly shift that weight in that direction until the error increases, and\n",
    "   - repeat these steps with the other weight, and\n",
    "   - repeat all steps multiple times.\n",
    "   \n",
    "This search algorithm is sometimes called [coordinate descent](https://en.wikipedia.org/wiki/Coordinate_descent)."
   ]
  },
  {
   "cell_type": "markdown",
   "metadata": {},
   "source": [
    "## Coordinate Descent"
   ]
  },
  {
   "cell_type": "code",
   "execution_count": 22,
   "metadata": {
    "ExecuteTime": {
     "end_time": "2021-07-27T20:40:41.514328Z",
     "start_time": "2021-07-27T20:40:41.468226Z"
    }
   },
   "outputs": [
    {
     "name": "stdout",
     "output_type": "stream",
     "text": [
      "w0= 0.30 new_error=5.13781\n",
      "w0= 0.20 new_error=5.06018\n",
      "w0= 0.10 new_error=4.98335\n",
      "w0= 0.00 new_error=4.90736\n",
      "w0=-0.10 new_error=4.83224\n",
      "w0=-0.20 new_error=4.75804\n",
      "w0=-0.30 new_error=4.68480\n",
      "w0=-0.40 new_error=4.61256\n",
      "w0=-0.50 new_error=4.54138\n",
      "w0=-0.60 new_error=4.47129\n",
      "w0=-0.70 new_error=4.40237\n",
      "w0=-0.80 new_error=4.33466\n",
      "w0=-0.90 new_error=4.26821\n",
      "w0=-1.00 new_error=4.20309\n",
      "w0=-1.10 new_error=4.13937\n",
      "w0=-1.20 new_error=4.07710\n",
      "w0=-1.30 new_error=4.01636\n",
      "w0=-1.40 new_error=3.95721\n",
      "w0=-1.50 new_error=3.89973\n",
      "w0=-1.60 new_error=3.84399\n",
      "w0=-1.70 new_error=3.79007\n",
      "w0=-1.80 new_error=3.73805\n",
      "w0=-1.90 new_error=3.68801\n",
      "w0=-2.00 new_error=3.64003\n",
      "w0=-2.10 new_error=3.59419\n",
      "w0=-2.20 new_error=3.55057\n",
      "w0=-2.30 new_error=3.50926\n",
      "w0=-2.40 new_error=3.47035\n",
      "w0=-2.50 new_error=3.43390\n",
      "w0=-2.60 new_error=3.40001\n",
      "w0=-2.70 new_error=3.36875\n",
      "w0=-2.80 new_error=3.34018\n",
      "w0=-2.90 new_error=3.31439\n",
      "w0=-3.00 new_error=3.29144\n",
      "w0=-3.10 new_error=3.27139\n",
      "w0=-3.20 new_error=3.25428\n",
      "w0=-3.30 new_error=3.24017\n",
      "w0=-3.40 new_error=3.22910\n",
      "w0=-3.50 new_error=3.22110\n",
      "w0=-3.60 new_error=3.21619\n",
      "w0=-3.70 new_error=3.21438\n",
      "w0=-3.80 new_error=3.21568\n"
     ]
    }
   ],
   "source": [
    "w0 = 0.4\n",
    "w1 = 0.5\n",
    "dw = 0.1   # How much to change a weight's value.\n",
    "\n",
    "current_error = rmse(X, T, w0, w1)\n",
    "up_error = rmse(X, T, w0 + dw, w1)\n",
    "down_error = rmse(X, T, w0 - dw, w1)\n",
    "\n",
    "if down_error < current_error:\n",
    "    dw = -dw\n",
    "    new_error = down_error\n",
    "else:\n",
    "    new_error = up_error\n",
    "    \n",
    "while new_error <= current_error:\n",
    "    current_error = new_error\n",
    "    w0 = w0 + dw\n",
    "    new_error = rmse(X, T, w0, w1)\n",
    "    print(f'{w0=:5.2f} {new_error=:.5f}')"
   ]
  },
  {
   "cell_type": "code",
   "execution_count": 23,
   "metadata": {
    "ExecuteTime": {
     "end_time": "2021-07-27T20:40:42.138687Z",
     "start_time": "2021-07-27T20:40:42.120835Z"
    }
   },
   "outputs": [
    {
     "name": "stdout",
     "output_type": "stream",
     "text": [
      "w1 = 0.40 new_error = 2.91349\n",
      "w1 = 0.30 new_error = 3.24243\n"
     ]
    }
   ],
   "source": [
    "dw = 0.1\n",
    "current_error = rmse(X, T, w0, w1)\n",
    "up_error = rmse(X, T, w0, w1 + dw)\n",
    "down_error = rmse(X, T, w0, w1 - dw)\n",
    "\n",
    "if down_error < current_error:\n",
    "    dw = -dw\n",
    "    new_error = down_error\n",
    "else:\n",
    "    new_error = up_error\n",
    "    \n",
    "while new_error <= current_error:\n",
    "    current_error = new_error\n",
    "    w1 = w1 + dw\n",
    "    new_error = rmse(X, T, w0, w1)\n",
    "    print('w1 = {:.2f} new_error = {:.5f}'.format(w1, new_error))"
   ]
  },
  {
   "cell_type": "markdown",
   "metadata": {},
   "source": [
    "Lot's of repeated code here.  We don't want to copy and paste for each iteration.  All steps are put together in the following function."
   ]
  },
  {
   "cell_type": "code",
   "execution_count": 24,
   "metadata": {
    "ExecuteTime": {
     "end_time": "2021-07-27T20:40:44.438468Z",
     "start_time": "2021-07-27T20:40:44.293065Z"
    }
   },
   "outputs": [],
   "source": [
    "# Need a function for this.  Let's optimize w_bias then w\n",
    "def coordinate_descent(errorF, X, T, w0, w1, dw, nSteps):\n",
    "    step = 0\n",
    "    current_error = errorF(X, T, w0, w1)\n",
    "    error_sequence = [current_error]\n",
    "    W_sequence = [[w0, w1]]\n",
    "    changed = False\n",
    "\n",
    "    while step < nSteps:\n",
    "\n",
    "        step += 1\n",
    "        \n",
    "        if not changed:\n",
    "            dw = dw * 0.1\n",
    "            \n",
    "        changed = False\n",
    "        \n",
    "        # first vary w_bias\n",
    "        up_error = errorF(X, T, w0 + dw, w1)\n",
    "        down_error = errorF(X, T, w0 - dw, w1)\n",
    "        \n",
    "        if down_error < current_error:\n",
    "            dw = -dw\n",
    "            \n",
    "        while True:\n",
    "            new_w0 = w0 + dw\n",
    "            new_error = errorF(X, T, new_w0, w1)\n",
    "            if new_error >= current_error or step > nSteps:\n",
    "                break\n",
    "            changed = True\n",
    "            w0 = new_w0\n",
    "            W_sequence.append([w0, w1])\n",
    "            error_sequence.append(new_error)\n",
    "            current_error = new_error\n",
    "            step += 1\n",
    "\n",
    "        # now vary w\n",
    "        up_error = errorF(X, T, w0, w1 + dw)\n",
    "        down_error = errorF(X, T, w0, w1 - dw)\n",
    "        \n",
    "        if down_error < current_error:\n",
    "            dw = -dw\n",
    "            \n",
    "        while True:\n",
    "            new_w1 = w1 + dw\n",
    "            new_error = errorF(X, T, w0, new_w1)\n",
    "            if new_error >= current_error or step > nSteps:\n",
    "                break\n",
    "            changed = True\n",
    "            w1 = new_w1\n",
    "            W_sequence.append([w0, w1])\n",
    "            error_sequence.append(new_error)\n",
    "            current_error = new_error\n",
    "            step += 1\n",
    "\n",
    "    return w0, w1, error_sequence, W_sequence"
   ]
  },
  {
   "cell_type": "markdown",
   "metadata": {},
   "source": [
    "We will need some functions to help us create plots showing the error going down and the sequence of weight values that were tried."
   ]
  },
  {
   "cell_type": "code",
   "execution_count": 25,
   "metadata": {
    "ExecuteTime": {
     "end_time": "2021-07-27T20:40:46.087551Z",
     "start_time": "2021-07-27T20:40:46.030272Z"
    }
   },
   "outputs": [],
   "source": [
    "def plot_sequence(error_sequence, W_sequence, label):\n",
    "    plt.subplot(1, 2, 1)\n",
    "    plt.plot(error_sequence, 'o-', label=label)\n",
    "    plt.xlabel('Steps')\n",
    "    plt.ylabel('Error')\n",
    "    plt.legend()\n",
    "    plt.subplot(1, 2, 2)\n",
    "    W_sequence = np.array(W_sequence)\n",
    "    plt.plot(W_sequence[:, 0], W_sequence[:, 1], '.-', label=label)\n",
    "    plot_error_surface()\n",
    "\n",
    "def plot_error_surface():\n",
    "    n = 20\n",
    "    w0s = np.linspace(-5, 5, n) \n",
    "    w1s = np.linspace(-0.5, 1.0, n) \n",
    "    w0s, w1s = np.meshgrid(w0s, w1s)\n",
    "    surface = []\n",
    "    for w0i in range(n):\n",
    "        for w1i in range(n):\n",
    "            surface.append(rmse(X, T, w0s[w0i, w1i], w1s[w0i, w1i]))\n",
    "    plt.contourf(w0s, w1s, np.array(surface).reshape((n, n)), cmap='bone')\n",
    "    # plt.colorbar()\n",
    "    plt.xlabel('w_bias')\n",
    "    plt.ylabel('w')\n",
    "    \n",
    "def show_animation(model, error_sequence, W_sequence, X, T, label):\n",
    "    W_sequence = np.array(W_sequence)\n",
    "    fig = plt.figure(figsize=(15, 8))\n",
    "    plt.subplot(1, 3, 1)\n",
    "    error_line, = plt.plot([], [])\n",
    "    plt.xlim(0, len(error_sequence))\n",
    "    plt.ylim(0, max(error_sequence))\n",
    "\n",
    "    plt.subplot(1, 3, 2)\n",
    "    plot_error_surface()\n",
    " \n",
    "    w_line, = plt.plot([], [], '.-', label=label)\n",
    "    plt.legend()\n",
    "\n",
    "    plt.subplot(1, 3, 3)\n",
    "    plt.plot(X, T, 'o')\n",
    "    model_line, = plt.plot([], [], 'r-', lw=3, alpha=0.5, label=label)\n",
    "    plt.xlim(0, 24)\n",
    "    plt.ylim(np.min(T), np.max(T))\n",
    "\n",
    "    for i in range(len(W_sequence)):\n",
    "        \n",
    "        error_line.set_data(range(i), error_sequence[:i])\n",
    "        w_line.set_data(W_sequence[:i, 0], W_sequence[:i, 1])\n",
    "        Y = model(X, W_sequence[i, 0], W_sequence[i, 1])\n",
    "        model_line.set_data(X, Y)\n",
    "\n",
    "        plt.pause(0.001)\n",
    "\n",
    "        clear_output(wait=True)\n",
    "        display(fig)"
   ]
  },
  {
   "cell_type": "code",
   "execution_count": 26,
   "metadata": {
    "ExecuteTime": {
     "end_time": "2021-07-27T20:40:46.930137Z",
     "start_time": "2021-07-27T20:40:46.886416Z"
    },
    "scrolled": true
   },
   "outputs": [
    {
     "name": "stdout",
     "output_type": "stream",
     "text": [
      "Coordinate Descent: Error is 1.33   W is 1.21, 0.09\n"
     ]
    }
   ],
   "source": [
    "w0 = -2\n",
    "w1 = 0.5\n",
    "nSteps = 200\n",
    "dw = 10\n",
    "w0, w1, error_sequence, W_sequence = coordinate_descent(rmse, X, T, w0, w1, dw, nSteps)\n",
    "print(f'Coordinate Descent: Error is {rmse(X, T, w0, w1):.2f}   W is {w0:.2f}, {w1:.2f}')"
   ]
  },
  {
   "cell_type": "code",
   "execution_count": 27,
   "metadata": {
    "ExecuteTime": {
     "end_time": "2021-07-27T20:40:50.380612Z",
     "start_time": "2021-07-27T20:40:49.865992Z"
    },
    "lines_to_next_cell": 1
   },
   "outputs": [
    {
     "data": {
      "image/png": "[encoded data removed]",
      "text/plain": [
       "<Figure size 1080x576 with 3 Axes>"
      ]
     },
     "metadata": {},
     "output_type": "display_data"
    }
   ],
   "source": [
    "show_animation(linear_model, error_sequence, W_sequence, X, T, 'coord desc')"
   ]
  },
  {
   "cell_type": "markdown",
   "metadata": {},
   "source": [
    "Okay, well that's fun, but this becomes kind of silly when we try to apply this to other models that have more weights, like thousands, or millions.  Instead, we need a way to find a direction in which we can change both weights, meaning all weights, on each step.  "
   ]
  },
  {
   "cell_type": "markdown",
   "metadata": {
    "collapsed": true
   },
   "source": [
    "## Run and Twiddle"
   ]
  },
  {
   "cell_type": "markdown",
   "metadata": {},
   "source": [
    "How about this?  Take a step in some direction.  If error decreases, continue in that direction.  If error does not decrease, pick a random direction.  Repeat.\n",
    "\n",
    "This has been called \"run and twiddle\", or \"run and tumble\".  [This Wikipedia page](https://en.wikipedia.org/wiki/Flagellum#Motor) describes how single cell organisms use cilia in their cell membranes to provide locomotion, either in the current direction as they move in a coordinated fashion, or to cause a spin to change direction.\n",
    "\n",
    "Now we will be changing w_bias and w together, so that we can step through the 2-d weight space in particular directions.  Representing our two weights as a two-component vector, and rewriting some functions to accept a vector, simplifies the code a bit.  We will actually represent the weights, W, as a column matrix of two components.  It will look like\n",
    "\n",
    "$$W =\\begin{bmatrix} w_{bias}  \\\\ w  \\end{bmatrix}$$"
   ]
  },
  {
   "cell_type": "markdown",
   "metadata": {},
   "source": [
    "Let's add a couple of functions to code the application of our model to data, and to calculate the root-mean-square error that we wish to minimize.  Then we will modify a bit the plotting functions to accept the name of the model function.  We will use a different model towards the end of these notes."
   ]
  },
  {
   "cell_type": "code",
   "execution_count": null,
   "metadata": {
    "ExecuteTime": {
     "end_time": "2021-07-27T20:41:46.468411Z",
     "start_time": "2021-07-27T20:41:46.455415Z"
    }
   },
   "outputs": [],
   "source": [
    "def linear_model(X, W):\n",
    "    # W is column vector\n",
    "    return X @ W[1:, :] + W[0, :]\n",
    "\n",
    "def rmse(model, X, T, W):\n",
    "    Y = model(X, W)\n",
    "    return np.sqrt(np.mean((T - Y)**2))"
   ]
  },
  {
   "cell_type": "code",
   "execution_count": null,
   "metadata": {
    "ExecuteTime": {
     "end_time": "2021-07-27T20:41:48.319478Z",
     "start_time": "2021-07-27T20:41:48.299789Z"
    }
   },
   "outputs": [],
   "source": [
    "######################################################################\n",
    "\n",
    "def vector_length(v):\n",
    "    return np.sqrt(v.T @ v)\n",
    "\n",
    "def run_and_twiddle(model_f, rmse_f, X, T, W, dW, nSteps):\n",
    "    step = 0\n",
    "    current_error = rmse_f(model_f, X, T, W)\n",
    "    error_sequence = [current_error]\n",
    "    W_sequence = [W.flatten()]\n",
    "    nFails = 0\n",
    "    \n",
    "    while step < nSteps:\n",
    "        # print(step)\n",
    "        new_direction = np.random.uniform(-1, 1, size=(2, 1))\n",
    "        # print(nFails, new_direction)\n",
    "        new_direction = dW * new_direction / vector_length(new_direction)\n",
    "        if nFails > 10:\n",
    "            dW = dW * 0.8\n",
    "        while step < nSteps:\n",
    "            new_W = W.copy() + new_direction\n",
    "            new_error = rmse_f(model_f, X, T, new_W)\n",
    "            step += 1\n",
    "            if new_error >= current_error:\n",
    "                nFails += 1\n",
    "                break\n",
    "            nFails = 0\n",
    "            # print('good', new_direction)\n",
    "            W = new_W\n",
    "            W_sequence.append(W.flatten())\n",
    "            error_sequence.append(new_error)\n",
    "            current_error = new_error\n",
    "\n",
    "    return W, error_sequence, W_sequence"
   ]
  },
  {
   "cell_type": "code",
   "execution_count": null,
   "metadata": {
    "ExecuteTime": {
     "end_time": "2021-07-27T20:41:47.271535Z",
     "start_time": "2021-07-27T20:41:47.233213Z"
    },
    "lines_to_next_cell": 1
   },
   "outputs": [],
   "source": [
    "def plot_error_surface(model):\n",
    "    n = 20\n",
    "    wbiass = np.linspace(-5, 5, n)\n",
    "    ws = np.linspace(-0.5, 1.0, n)\n",
    "    wbiass, ws = np.meshgrid(wbiass, ws)\n",
    "    surface = []\n",
    "    for wbi in range(n):\n",
    "        for wi in range(n):\n",
    "            W = np.array([wbiass[wbi, wi], ws[wbi, wi]]).reshape(-1, 1)\n",
    "            surface.append(rmse(model, X, T, W))\n",
    "    plt.contourf(wbiass, ws, np.array(surface).reshape((n, n)), cmap='bone')\n",
    "    # plt.colorbar()\n",
    "    plt.xlabel('w_bias')\n",
    "    plt.ylabel('w')\n",
    "    \n",
    "def show_animation(model, error_sequence, W_sequence, X, T, label):\n",
    "    W_sequence = np.array(W_sequence)\n",
    "    fig = plt.figure(figsize=(15, 8))\n",
    "    plt.subplot(1, 3, 1)\n",
    "    error_line, = plt.plot([], [])\n",
    "    plt.xlim(0, len(error_sequence))\n",
    "    plt.ylim(0, max(error_sequence))\n",
    "\n",
    "    plt.subplot(1, 3, 2)\n",
    "    plot_error_surface(model)\n",
    " \n",
    "    w_line, = plt.plot([], [], '.-', label=label)\n",
    "    plt.legend()\n",
    "\n",
    "    plt.subplot(1, 3, 3)\n",
    "    plt.plot(X, T, 'o')\n",
    "    model_line, = plt.plot([], [], 'r-', lw=3, alpha=0.5, label=label)\n",
    "    plt.xlim(0, 24)\n",
    "    plt.ylim(np.min(T), np.max(T))\n",
    "\n",
    "    for i in range(len(W_sequence)):\n",
    "        \n",
    "        error_line.set_data(range(i), error_sequence[:i])\n",
    "        w_line.set_data(W_sequence[:i, 0], W_sequence[:i, 1])\n",
    "        Y = model(X, W_sequence[i:i + 1, :].T)\n",
    "        model_line.set_data(X, Y)\n",
    "\n",
    "        plt.pause(0.001)\n",
    "\n",
    "        clear_output(wait=True)\n",
    "        display(fig)"
   ]
  },
  {
   "cell_type": "code",
   "execution_count": null,
   "metadata": {
    "ExecuteTime": {
     "end_time": "2021-07-27T20:41:49.364103Z",
     "start_time": "2021-07-27T20:41:49.284450Z"
    },
    "lines_to_next_cell": 2
   },
   "outputs": [],
   "source": [
    "w_bias = -2 # 10\n",
    "w = 0.5\n",
    "W = np.array([w_bias, w]).reshape(-1, 1)\n",
    "\n",
    "nSteps = 400\n",
    "dW = 10\n",
    "\n",
    "W, error_sequence, W_sequence = run_and_twiddle(linear_model, rmse, X, T, W, dW, nSteps)\n",
    "print('Run and Twiddle:  Error is {:.2f}   W is {:.2f}, {:.2f}'.format(rmse(linear_model, X, T, W), W[0,0], W[1,0]))"
   ]
  },
  {
   "cell_type": "code",
   "execution_count": null,
   "metadata": {
    "ExecuteTime": {
     "end_time": "2021-07-27T20:41:51.605702Z",
     "start_time": "2021-07-27T20:41:50.902106Z"
    }
   },
   "outputs": [],
   "source": [
    "show_animation(linear_model, error_sequence, W_sequence, X, T, 'run & twiddle')"
   ]
  },
  {
   "cell_type": "markdown",
   "metadata": {},
   "source": [
    "## Gradient Descent"
   ]
  },
  {
   "cell_type": "markdown",
   "metadata": {},
   "source": [
    "Let's call the output of our model `Y` and the error being minimized `E`. \n",
    "\n",
    "To perform gradient descent, we need $\\frac{\\partial E}{\\partial W}$.  Let's call this `dEdW`.  The calculation of this can be divided into two factors, using the chain rule.\n",
    "\n",
    "$$\\begin{align*}\n",
    "  \\frac{\\partial E}{\\partial W} &= \\frac{\\partial E}{\\partial Y} \\frac{\\partial Y}{\\partial W}\n",
    "  \\end{align*}$$\n",
    "  \n",
    "The error we want to minimize is the squared error, $(T - Y)^2$, and $Y =X W$, so\n",
    "\n",
    "$$\\begin{align*}\n",
    "  \\frac{\\partial E}{\\partial W} &= \\frac{\\partial E}{\\partial Y} \\frac{\\partial Y}{\\partial W} \\\\\n",
    "  \\frac{\\partial E}{\\partial W} &= \\frac{\\partial (T-Y)^2}{\\partial Y} \\frac{\\partial X W}{\\partial W} \\\\\n",
    "  \\frac{\\partial E}{\\partial W} &= -2 (T - Y) X \n",
    "    \\end{align*}$$\n",
    "    \n",
    "In python, we have\n",
    "\n",
    "    dYdW = X\n",
    "    dEdY = -2 (T - Y)\n",
    "    dEdW = dEdY.T @ dYdW\n",
    "    \n",
    "with some other subtle things to allow us to include the bias weight $w_0$ in the calculations.\n",
    "    "
   ]
  },
  {
   "cell_type": "code",
   "execution_count": null,
   "metadata": {
    "ExecuteTime": {
     "end_time": "2021-07-27T20:42:55.468691Z",
     "start_time": "2021-07-27T20:42:55.465943Z"
    }
   },
   "outputs": [],
   "source": [
    "# Still using linear_model as defined above\n",
    "\n",
    "#def linear_model(X, W):\n",
    "#    # W is column vector\n",
    "#    return X @ W[1:, :] + W[0,:]"
   ]
  },
  {
   "cell_type": "code",
   "execution_count": null,
   "metadata": {
    "ExecuteTime": {
     "end_time": "2021-07-27T20:42:56.039270Z",
     "start_time": "2021-07-27T20:42:56.025028Z"
    }
   },
   "outputs": [],
   "source": [
    "def dYdW(X, T, W):\n",
    "    # One row per sample in X,T.  One column per W component.\n",
    "    # For first one, is constant 1.\n",
    "    # For second one, is value of X\n",
    "    return np.insert(X, 0, 1, axis=1)\n",
    "\n",
    "def dEdY(X, T, W):\n",
    "    Y = linear_model(X, W)\n",
    "    return -2 * (T - Y)\n",
    "    \n",
    "def dEdW(X, T, W):\n",
    "    result = dEdY(X, T, W).T @ dYdW(X, T, W) / (X.shape[0])\n",
    "    return result.T"
   ]
  },
  {
   "cell_type": "code",
   "execution_count": null,
   "metadata": {
    "ExecuteTime": {
     "end_time": "2021-07-27T20:42:56.705602Z",
     "start_time": "2021-07-27T20:42:56.693274Z"
    }
   },
   "outputs": [],
   "source": [
    "def gradient_descent(model_f, gradient_f, rmse_f, X, T, W, rho, nSteps):\n",
    "    error_sequence = []\n",
    "    W_sequence = []\n",
    "    for step in range(nSteps):\n",
    "        \n",
    "        error_sequence.append(rmse_f(model_f, X, T, W))\n",
    "        W_sequence.append(W.flatten())\n",
    "        \n",
    "        W -= rho * gradient_f(X, T, W)  # HERE IS THE WHOLE ALGORITHM!!\n",
    "        \n",
    "    return W, error_sequence, W_sequence"
   ]
  },
  {
   "cell_type": "code",
   "execution_count": null,
   "metadata": {
    "ExecuteTime": {
     "end_time": "2021-07-27T20:42:57.450671Z",
     "start_time": "2021-07-27T20:42:57.323818Z"
    },
    "scrolled": false
   },
   "outputs": [],
   "source": [
    "w_bias = -2 # 10\n",
    "w = 0.5\n",
    "W = np.array([w_bias, w]).reshape(-1, 1)\n",
    "\n",
    "nSteps = 200\n",
    "rho = 0.005\n",
    "\n",
    "W, error_sequence, W_sequence = gradient_descent(linear_model, dEdW, rmse, X, T, W, rho, nSteps)\n",
    "print('Gradient Descent:  Error is {:.2f}   W is {}'.format(rmse(linear_model, X, T, W), W))"
   ]
  },
  {
   "cell_type": "code",
   "execution_count": null,
   "metadata": {
    "ExecuteTime": {
     "end_time": "2021-07-27T20:42:58.747517Z",
     "start_time": "2021-07-27T20:42:58.209562Z"
    }
   },
   "outputs": [],
   "source": [
    "show_animation(linear_model, error_sequence, W_sequence, X, T, 'gradient descent')"
   ]
  },
  {
   "cell_type": "markdown",
   "metadata": {},
   "source": [
    "Now let's try a recently developed variation of the gradient descent method, called Adam, for adaptive moment estimation.  See [ADAM: A Method for Stochastic Optimization](https://arxiv.org/pdf/1412.6980.pdf) by Diederik P. Kingma and Jimmy Lei Ba."
   ]
  },
  {
   "cell_type": "code",
   "execution_count": null,
   "metadata": {
    "ExecuteTime": {
     "end_time": "2021-07-27T20:43:57.180881Z",
     "start_time": "2021-07-27T20:43:57.171000Z"
    }
   },
   "outputs": [],
   "source": [
    "def gradient_descent_adam(model_f, gradient_f, rmse_f, X, T, W, rho, nSteps):\n",
    "    # Commonly used parameter values\n",
    "    alpha = rho\n",
    "    beta1 = 0.9\n",
    "    beta2 = 0.999\n",
    "    epsilon = 1e-8\n",
    "    m = 0\n",
    "    v = 0\n",
    "    \n",
    "    error_sequence = []\n",
    "    W_sequence = []\n",
    "    for step in range(nSteps):\n",
    "        error_sequence.append(rmse_f(model_f, X, T, W))\n",
    "        W_sequence.append(W.flatten())\n",
    "        \n",
    "        g = gradient_f(X, T, W)\n",
    "        \n",
    "        m = beta1 * m + (1 - beta1) * g\n",
    "        v = beta2 * v + (1 - beta2) * g * g\n",
    "        mhat = m / (1 - beta1 ** (step+1))\n",
    "        vhat = v / (1 - beta2 ** (step+1))\n",
    "        \n",
    "        W -= alpha * mhat / (np.sqrt(vhat) + epsilon)\n",
    "        \n",
    "    return W, error_sequence, W_sequence"
   ]
  },
  {
   "cell_type": "code",
   "execution_count": null,
   "metadata": {
    "ExecuteTime": {
     "end_time": "2021-07-27T20:43:58.038546Z",
     "start_time": "2021-07-27T20:43:57.886379Z"
    },
    "scrolled": false
   },
   "outputs": [],
   "source": [
    "w_bias = -2 # 10\n",
    "w = 0.5\n",
    "W = np.array([w_bias, w]).reshape(-1, 1)\n",
    "\n",
    "rho = 0.01\n",
    "nSteps = 200\n",
    "\n",
    "W, error_sequence, W_sequence = gradient_descent_adam(linear_model, dEdW, rmse, X, T, W, rho, nSteps)\n",
    "print('Adam:  Error is {:.2f}   W is {:.2f}, {:.2f}'.format(rmse(linear_model, X, T, W), W[0,0], W[1,0]))"
   ]
  },
  {
   "cell_type": "code",
   "execution_count": null,
   "metadata": {
    "ExecuteTime": {
     "end_time": "2021-07-27T20:43:59.866145Z",
     "start_time": "2021-07-27T20:43:59.431938Z"
    }
   },
   "outputs": [],
   "source": [
    "show_animation(linear_model, error_sequence, W_sequence, X, T, 'gradient descent adam')"
   ]
  },
  {
   "cell_type": "markdown",
   "metadata": {},
   "source": [
    "# Let's Try a Slightly Nonlinear Model"
   ]
  },
  {
   "cell_type": "markdown",
   "metadata": {},
   "source": [
    "Let's make a quadratic model now.  The equation for the output of this model for the $i^{th}$ sample is\n",
    "\n",
    "$$ y_i = w_0 + w_1 x_i + w_2 x_i^2$$"
   ]
  },
  {
   "cell_type": "code",
   "execution_count": null,
   "metadata": {},
   "outputs": [],
   "source": [
    "X"
   ]
  },
  {
   "cell_type": "code",
   "execution_count": null,
   "metadata": {},
   "outputs": [],
   "source": [
    "X ** 2"
   ]
  },
  {
   "cell_type": "code",
   "execution_count": null,
   "metadata": {},
   "outputs": [],
   "source": [
    "X ** [1, 2]"
   ]
  },
  {
   "cell_type": "code",
   "execution_count": null,
   "metadata": {},
   "outputs": [],
   "source": [
    "max_degree = 2"
   ]
  },
  {
   "cell_type": "code",
   "execution_count": null,
   "metadata": {},
   "outputs": [],
   "source": [
    "X ** [0, 1, 2]"
   ]
  },
  {
   "cell_type": "code",
   "execution_count": null,
   "metadata": {},
   "outputs": [],
   "source": [
    "range(max_degree)"
   ]
  },
  {
   "cell_type": "code",
   "execution_count": null,
   "metadata": {},
   "outputs": [],
   "source": [
    "list(range(max_degree))"
   ]
  },
  {
   "cell_type": "code",
   "execution_count": null,
   "metadata": {},
   "outputs": [],
   "source": [
    "list(range(max_degree + 1))"
   ]
  },
  {
   "cell_type": "code",
   "execution_count": null,
   "metadata": {},
   "outputs": [],
   "source": [
    "X_powers = X ** range(max_degree + 1)\n",
    "X_powers"
   ]
  },
  {
   "cell_type": "code",
   "execution_count": null,
   "metadata": {
    "ExecuteTime": {
     "end_time": "2021-07-27T20:45:10.800374Z",
     "start_time": "2021-07-27T20:45:10.789283Z"
    }
   },
   "outputs": [],
   "source": [
    "def nonlinear_model(X_powers, W):\n",
    "    # W is column vector\n",
    "    return X_powers @ W"
   ]
  },
  {
   "cell_type": "code",
   "execution_count": null,
   "metadata": {
    "ExecuteTime": {
     "end_time": "2021-07-27T20:45:11.503979Z",
     "start_time": "2021-07-27T20:45:11.492224Z"
    }
   },
   "outputs": [],
   "source": [
    "def dYdW(X_powers, T, W):\n",
    "    return X_powers\n",
    "\n",
    "def dEdY(X_powers, T, W):\n",
    "    Y = nonlinear_model(X_powers, W)\n",
    "    return -2 * (T - Y)\n",
    "    \n",
    "# dEdW from before does not need to be changed."
   ]
  },
  {
   "cell_type": "code",
   "execution_count": null,
   "metadata": {
    "ExecuteTime": {
     "end_time": "2021-07-27T20:45:12.416552Z",
     "start_time": "2021-07-27T20:45:12.150149Z"
    },
    "scrolled": false
   },
   "outputs": [],
   "source": [
    "max_degree = 5\n",
    "\n",
    "w_bias = -2 # 10\n",
    "w_linear = 0.5\n",
    "\n",
    "w_bias = 0\n",
    "w_linear = 0\n",
    "\n",
    "ws_nonlinear = np.zeros(max_degree + 1 - 2)\n",
    "\n",
    "W = np.hstack((w_bias, w_linear, *ws_nonlinear)).reshape(-1, 1)\n",
    "print(f'{W=}')\n",
    "\n",
    "rho = 0.01\n",
    "nSteps = 400\n",
    "X_powers = X ** range(max_degree + 1)\n",
    "\n",
    "W, error_sequence, W_sequence = gradient_descent_adam(nonlinear_model, dEdW, rmse, X_powers, T, W, rho, nSteps)\n",
    "print('Adam:  Error is {:.2f}   W is {:.2f}, {:.2f} {:.2f}'.format(rmse(nonlinear_model, X, T, W), W[0,0], W[1,0], W[2,0]))"
   ]
  },
  {
   "cell_type": "markdown",
   "metadata": {},
   "source": [
    "Demonstrate    debugging    here"
   ]
  },
  {
   "cell_type": "code",
   "execution_count": null,
   "metadata": {
    "ExecuteTime": {
     "end_time": "2021-07-27T20:45:14.331343Z",
     "start_time": "2021-07-27T20:45:13.898503Z"
    }
   },
   "outputs": [],
   "source": [
    "plt.figure(figsize=(10,8))\n",
    "plt.plot(X + np.random.uniform(-0.1, 0.1, X.shape), T, '.', label='Training Data')\n",
    "\n",
    "plt.plot(X, nonlinear_model(X_powers, W), 'ro', label='Prediction on Training Data')\n",
    "\n",
    "plt.xlabel(Xnames[0])\n",
    "plt.ylabel(Tnames[0])\n",
    "\n",
    "plt.legend();"
   ]
  },
  {
   "cell_type": "markdown",
   "metadata": {},
   "source": [
    "How would you change the previous code cell to plot a continuous red line?"
   ]
  },
  {
   "cell_type": "code",
   "execution_count": null,
   "metadata": {
    "ExecuteTime": {
     "end_time": "2021-07-27T20:45:14.331343Z",
     "start_time": "2021-07-27T20:45:13.898503Z"
    }
   },
   "outputs": [],
   "source": [
    "plt.figure(figsize=(10,8))\n",
    "plt.plot(X + np.random.uniform(-0.1, 0.1, X.shape), T, '.', label='Training Data')\n",
    "\n",
    "plt.plot(X, nonlinear_model(X_powers, W), 'r', label='Prediction on Training Data')\n",
    "#   only change is here --------------------^\n",
    "plt.xlabel(Xnames[0])\n",
    "plt.ylabel(Tnames[0])\n",
    "\n",
    "plt.legend();"
   ]
  },
  {
   "cell_type": "markdown",
   "metadata": {},
   "source": [
    "Whoops."
   ]
  },
  {
   "cell_type": "code",
   "execution_count": null,
   "metadata": {},
   "outputs": [],
   "source": [
    "plt.figure(figsize=(10,8))\n",
    "plt.plot(X, T, '.', label='Training Data')\n",
    "\n",
    "order = np.argsort(X, axis=0).ravel()  # change to 1-dimensional vector\n",
    "plt.plot(X[order], nonlinear_model(X_powers, W)[order], 'r', label='Prediction on Training Data')\n",
    "\n",
    "plt.xlabel(Xnames[0])\n",
    "plt.ylabel(Tnames[0])\n",
    "\n",
    "plt.legend();"
   ]
  },
  {
   "cell_type": "code",
   "execution_count": null,
   "metadata": {},
   "outputs": [],
   "source": []
  }
 ],
 "metadata": {
  "jupytext": {
   "formats": "ipynb,py:light"
  },
  "kernelspec": {
   "display_name": "Python 3",
   "language": "python",
   "name": "python3"
  },
  "language_info": {
   "codemirror_mode": {
    "name": "ipython",
    "version": 3
   },
   "file_extension": ".py",
   "mimetype": "text/x-python",
   "name": "python",
   "nbconvert_exporter": "python",
   "pygments_lexer": "ipython3",
   "version": "3.8.10"
  },
  "toc": {
   "base_numbering": 1,
   "nav_menu": {},
   "number_sections": true,
   "sideBar": true,
   "skip_h1_title": false,
   "title_cell": "Table of Contents",
   "title_sidebar": "Contents",
   "toc_cell": false,
   "toc_position": {},
   "toc_section_display": true,
   "toc_window_display": false
  },
  "varInspector": {
   "cols": {
    "lenName": 16,
    "lenType": 16,
    "lenVar": 40
   },
   "kernels_config": {
    "python": {
     "delete_cmd_postfix": "",
     "delete_cmd_prefix": "del ",
     "library": "var_list.py",
     "varRefreshCmd": "print(var_dic_list())"
    },
    "r": {
     "delete_cmd_postfix": ") ",
     "delete_cmd_prefix": "rm(",
     "library": "var_list.r",
     "varRefreshCmd": "cat(var_dic_list()) "
    }
   },
   "types_to_exclude": [
    "module",
    "function",
    "builtin_function_or_method",
    "instance",
    "_Feature"
   ],
   "window_display": false
  }
 },
 "nbformat": 4,
 "nbformat_minor": 2
}
