{
 "cells": [
  {
   "cell_type": "markdown",
   "id": "ffdc67e6",
   "metadata": {},
   "source": [
    "# Recurrent Neural Networks"
   ]
  },
  {
   "cell_type": "markdown",
   "id": "f486c16f",
   "metadata": {
    "ExecuteTime": {
     "end_time": "2021-11-09T17:57:07.283442Z",
     "start_time": "2021-11-09T17:57:07.273226Z"
    }
   },
   "source": [
    "<img src='https://www.cs.colostate.edu/~anderson/cs545/notebooks/recurrent.png' width='600'>"
   ]
  },
  {
   "cell_type": "code",
   "execution_count": 87,
   "id": "0eab982f",
   "metadata": {
    "ExecuteTime": {
     "end_time": "2021-11-09T19:04:48.671710Z",
     "start_time": "2021-11-09T19:04:48.667682Z"
    }
   },
   "outputs": [],
   "source": [
    "import numpy as np\n",
    "import optimizers_A4 as opt\n",
    "import gzip\n",
    "import pickle\n",
    "import sys\n",
    "import matplotlib.pyplot as plt\n",
    "%matplotlib inline\n",
    "from IPython.display import display, clear_output"
   ]
  },
  {
   "cell_type": "markdown",
   "id": "7052f65e",
   "metadata": {
    "ExecuteTime": {
     "end_time": "2021-11-09T18:05:27.852372Z",
     "start_time": "2021-11-09T18:05:27.848746Z"
    }
   },
   "source": [
    "    N number of samples (in time)\n",
    "    S  number of samples per sequence\n",
    "    I number of components in each sample\n",
    "    H number of units in hidden recurrent layer\n",
    "    O number of units in linear output layer\n",
    "\n",
    "    X:  N x S x I\n",
    "    Vx: I x H   Vz: H x H    Vb: 1 x H\n",
    "    Z:  N x S+1 X H\n",
    "    Wz: H x 0   Wb: 1 x O\n",
    "    Y:  N x O\n",
    "    T:  N x O   only use times when T not nan for training\n",
    "\n",
    "    Dy: N x O   Dz:  N x H\n",
    "    Gvx:  N x I x H    Gvz:  N x H x H    Gvb:  N x H\n",
    "    Gwz:  N x H x O    Gwb:  N x O"
   ]
  },
  {
   "cell_type": "code",
   "execution_count": 88,
   "id": "fe68d9e2",
   "metadata": {
    "ExecuteTime": {
     "end_time": "2021-11-09T19:04:48.682613Z",
     "start_time": "2021-11-09T19:04:48.673167Z"
    }
   },
   "outputs": [],
   "source": [
    "def make_indicator_variables(T):\n",
    "    '''Assumes argument is N x 1, N samples each being integer class label.'''\n",
    "    classes = np.unique(T).reshape(-1)\n",
    "    # Make sure T is two-dimensional. Should be nSamples x 1.\n",
    "    if T.ndim == 1:\n",
    "        T = T.reshape((-1, 1))    \n",
    "    return (T == classes).astype(float)  # to work on GPU\n",
    "\n",
    "def softmax(Y):\n",
    "    '''Apply to final layer weighted sum outputs'''\n",
    "    # Trick to avoid overflow\n",
    "    # maxY = max(0, self.max(Y))\n",
    "    maxY = Y.max()  #self.max(Y))        \n",
    "    expY = np.exp(Y - maxY)\n",
    "    denom = expY.sum(1).reshape((-1, 1))\n",
    "    Y = expY / (denom + sys.float_info.epsilon)\n",
    "    return Y"
   ]
  },
  {
   "cell_type": "code",
   "execution_count": 89,
   "id": "b514028e",
   "metadata": {
    "ExecuteTime": {
     "end_time": "2021-11-09T19:04:48.693289Z",
     "start_time": "2021-11-09T19:04:48.683787Z"
    }
   },
   "outputs": [],
   "source": [
    "def make_weights(I, H, O):\n",
    "    n_weights = I * H + H * H + H + H * O + O\n",
    "    all_weights = np.random.uniform(-1, 1, n_weights)\n",
    "\n",
    "    first = 0\n",
    "    last = first + I * H\n",
    "    Vx = all_weights[first:last].reshape(I, H)\n",
    "    Vx[:] /= np.sqrt(I + H + 1)\n",
    "    first = last\n",
    "    last = first + H * H\n",
    "    Vz = all_weights[first:last].reshape(H, H)\n",
    "    Vz[:] /= np.sqrt(I + H + 1)\n",
    "    first = last\n",
    "    last = first + H\n",
    "    Vb = all_weights[first:last].reshape(1, H)\n",
    "    Vb[:] /= np.sqrt(I + H + 1)\n",
    "\n",
    "    first = last\n",
    "    last = first + H * O\n",
    "    Wz = all_weights[first:last].reshape(H, O)\n",
    "    Wz[:] /= np.sqrt(H + 1)\n",
    "    first = last\n",
    "    last = first + O\n",
    "    Wb = all_weights[first:last].reshape(1, O)\n",
    "    Wb /= np.sqrt(H + 1)\n",
    "\n",
    "    Ws = [Vx, Vz, Vb, Wz, Wb]\n",
    "\n",
    "    return all_weights, Ws"
   ]
  },
  {
   "cell_type": "code",
   "execution_count": 90,
   "id": "f797751e",
   "metadata": {
    "ExecuteTime": {
     "end_time": "2021-11-09T19:04:48.709626Z",
     "start_time": "2021-11-09T19:04:48.694788Z"
    }
   },
   "outputs": [],
   "source": [
    "# make these global\n",
    "Z = None\n",
    "Y = None\n",
    "\n",
    "def forward(X, T):  # , Ws):\n",
    "\n",
    "    global Z, Y\n",
    "\n",
    "    N, S, I = X.shape\n",
    "    _, O = T.shape\n",
    "    _, H = Ws[0].shape\n",
    "\n",
    "    Vx, Vz, Vb, Wz, Wb = Ws\n",
    "\n",
    "    Z = np.zeros((N, S + 1, H))\n",
    "    Y = np.zeros((N, O))\n",
    "\n",
    "    XV = X @ Vx\n",
    "    for n in range(N):\n",
    "        for seq in range(S):\n",
    "            Z[n, seq + 1 :] = np.tanh(XV[n, seq, :] + Z[n, seq, :] @ Vz + Vb)\n",
    "    Y[:] = Z[:, -1, :] @ Wz + Wb"
   ]
  },
  {
   "cell_type": "code",
   "execution_count": 91,
   "id": "6d9b013a",
   "metadata": {
    "ExecuteTime": {
     "end_time": "2021-11-09T19:04:48.723481Z",
     "start_time": "2021-11-09T19:04:48.710881Z"
    }
   },
   "outputs": [],
   "source": [
    "def error_f(X, Ti):  \n",
    "\n",
    "    forward(X, Ti)\n",
    "    Ysm = softmax(Y)\n",
    "    return -np.mean(Ti * np.log(Ysm + sys.float_info.epsilon))\n",
    "\n",
    "def gradient_f(X, Ti):\n",
    "\n",
    "    N, S, I = X.shape\n",
    "    _, O = Ti.shape\n",
    "    _, H = Ws[0].shape\n",
    "\n",
    "    Vx, Vz, Vb, Wz, Wb = Ws\n",
    "    Gvx, Gvz, Gvb, Gwz, Gwb = Gs\n",
    "\n",
    "    Ysm = softmax(Y)\n",
    "    \n",
    "    # Set Dy for nan targets to 0\n",
    "    Dy = -2 * (Ti - Ysm)\n",
    "    Gwz[:] = Z[:, -1, :].T @ Dy  # Z for last sample in sequence\n",
    "    Gwb[:] = Dy.sum(0)\n",
    "\n",
    "    # For each sample, BPTT to calculate gradient for that sample\n",
    "    Dz = np.zeros((N, H))\n",
    "    Gvx[:] = 0\n",
    "    Gvz[:] = 0\n",
    "    Gvb[:] = 0\n",
    "\n",
    "    n_bptt_steps = 0\n",
    "    for n in range(N):\n",
    "        Dz = Dy[n:n+1, :] @ Wz.T\n",
    "        for seq in range(S - 1, -1, -1):\n",
    "            # Backprop Dz\n",
    "            Dz = (Dz @ Vz.T * (1 - Z[n, seq:seq + 1, :]**2))\n",
    "            Gvx += X[n:n + 1, seq, :].T @ Dz\n",
    "            Gvz += Z[n:n + 1, seq, :].T @ Dz\n",
    "            Gvb += Dz\n",
    "\n",
    "    return all_gradients / S"
   ]
  },
  {
   "cell_type": "code",
   "execution_count": 92,
   "id": "b4e3c3b1",
   "metadata": {
    "ExecuteTime": {
     "end_time": "2021-11-09T19:04:48.739384Z",
     "start_time": "2021-11-09T19:04:48.724544Z"
    }
   },
   "outputs": [],
   "source": [
    "def load_mnist():\n",
    "    with gzip.open('mnist.pkl.gz', 'rb') as f:\n",
    "        train_set, valid_set, test_set = pickle.load(f, encoding='latin1')\n",
    "    Xtrain = train_set[0]\n",
    "    Ttrain = train_set[1].reshape(-1, 1)\n",
    "    Xval = valid_set[0]\n",
    "    Tval = valid_set[1].reshape(-1, 1)\n",
    "    Xtest = test_set[0]\n",
    "    Ttest = test_set[1].reshape(-1, 1)\n",
    "    Xtrain = np.vstack((Xtrain, Xval))\n",
    "    Ttrain = np.vstack((Ttrain, Tval))\n",
    "    return Xtrain, Ttrain, Xtest, Ttest"
   ]
  },
  {
   "cell_type": "code",
   "execution_count": 93,
   "id": "4bfffebc",
   "metadata": {
    "ExecuteTime": {
     "end_time": "2021-11-09T19:04:49.344471Z",
     "start_time": "2021-11-09T19:04:48.740825Z"
    }
   },
   "outputs": [],
   "source": [
    "Xtrain, Ttrain, Xtest, Ttest = load_mnist()\n",
    "Xtrain = Xtrain.reshape(-1, 28, 28)\n",
    "Xtest = Xtest.reshape(-1, 28, 28)"
   ]
  },
  {
   "cell_type": "code",
   "execution_count": 94,
   "id": "db78c756",
   "metadata": {
    "ExecuteTime": {
     "end_time": "2021-11-09T19:04:49.348210Z",
     "start_time": "2021-11-09T19:04:49.345486Z"
    }
   },
   "outputs": [],
   "source": [
    "def get_batch(X, T, batch_size=100):\n",
    "    n_samples = X.shape[0]\n",
    "    rows = np.arange(n_samples)\n",
    "    np.random.shuffle(rows)\n",
    "    X = X[rows]\n",
    "    T = T[rows]\n",
    "    for first in range(0, n_samples, batch_size):\n",
    "        last = first + batch_size\n",
    "        yield X[first:last], T[first:last]\n",
    "    # should return last batch of n_samples not evenly divided by batch_size"
   ]
  },
  {
   "cell_type": "code",
   "execution_count": 95,
   "id": "a04806bf",
   "metadata": {
    "ExecuteTime": {
     "end_time": "2021-11-09T19:04:49.355930Z",
     "start_time": "2021-11-09T19:04:49.349605Z"
    }
   },
   "outputs": [],
   "source": [
    "# Xtrain = Xtrain[:10000, ...]\n",
    "# Ttrain = Ttrain[:10000, ...]"
   ]
  },
  {
   "cell_type": "code",
   "execution_count": 96,
   "id": "2b263a26",
   "metadata": {
    "ExecuteTime": {
     "end_time": "2021-11-09T19:04:49.365759Z",
     "start_time": "2021-11-09T19:04:49.356741Z"
    }
   },
   "outputs": [],
   "source": [
    "N, S, I = Xtrain.shape\n",
    "O = 10\n",
    "H = 100\n",
    "\n",
    "all_weights, Ws = make_weights(I, H, O)\n",
    "all_gradients, Gs = make_weights(I, H, O)"
   ]
  },
  {
   "cell_type": "code",
   "execution_count": 97,
   "id": "a5c9f3d1",
   "metadata": {
    "ExecuteTime": {
     "end_time": "2021-11-09T19:45:42.670638Z",
     "start_time": "2021-11-09T19:04:49.366727Z"
    }
   },
   "outputs": [
    {
     "data": {
      "image/png": "[encoded data removed]",
      "text/plain": [
       "<Figure size 720x360 with 2 Axes>"
      ]
     },
     "metadata": {
      "needs_background": "light"
     },
     "output_type": "display_data"
    }
   ],
   "source": [
    "graphics = True\n",
    "\n",
    "if graphics:\n",
    "    fig = plt.figure(figsize=(10, 5))\n",
    "\n",
    "rho = 0.001\n",
    "n_epochs = 20\n",
    "batch_size = 500\n",
    "\n",
    "error_trace = []\n",
    "percent_wrong = []\n",
    "optimizer = opt.Adam(all_weights)\n",
    "Ttraini = make_indicator_variables(Ttrain)\n",
    "\n",
    "for epoch in range(n_epochs):\n",
    "    for i, (X, Ti) in enumerate(get_batch(Xtrain, Ttraini, batch_size)):\n",
    "\n",
    "        error = optimizer.step(error_f, gradient_f,\n",
    "                               fargs=[X, Ti],\n",
    "                               learning_rate=rho, momentum=0.9)\n",
    "        \n",
    "        error_trace.append(np.exp(-error))\n",
    "        Yc = Y.argmax(1).reshape(-1, 1)\n",
    "        Tc = Ti.argmax(1).reshape(-1, 1)\n",
    "        percent = (sum(Yc != Tc)/len(Tc))[0]*100\n",
    "        percent_wrong.append(percent)\n",
    "        \n",
    "        if graphics:\n",
    "            fig.clf()\n",
    "            plt.subplot(2, 1, 1)\n",
    "            plt.plot(error_trace)\n",
    "            plt.ylabel('Data Likelihood')\n",
    "            plt.subplot(2, 1, 2)\n",
    "            plt.plot(percent_wrong)\n",
    "            plt.ylabel('% wrong')\n",
    "            plt.xlabel('batches')\n",
    "            clear_output(wait=True)\n",
    "            display(fig)\n",
    "\n",
    "    Yc = Y.argmax(1).reshape(-1, 1)\n",
    "    Tc = Ti.argmax(1).reshape(-1, 1)\n",
    "    print(f'Epoch {epoch+1} Batch {i+1} {error=:.2f} {percent:.2f} % incorrect')\n",
    "    \n",
    "if graphics:\n",
    "    clear_output(wait=True)"
   ]
  },
  {
   "cell_type": "code",
   "execution_count": null,
   "id": "e49eaf15",
   "metadata": {},
   "outputs": [],
   "source": []
  }
 ],
 "metadata": {
  "kernelspec": {
   "display_name": "Python 3 (ipykernel)",
   "language": "python",
   "name": "python3"
  },
  "language_info": {
   "codemirror_mode": {
    "name": "ipython",
    "version": 3
   },
   "file_extension": ".py",
   "mimetype": "text/x-python",
   "name": "python",
   "nbconvert_exporter": "python",
   "pygments_lexer": "ipython3",
   "version": "3.8.12"
  },
  "toc": {
   "base_numbering": 1,
   "nav_menu": {},
   "number_sections": false,
   "sideBar": true,
   "skip_h1_title": false,
   "title_cell": "Table of Contents",
   "title_sidebar": "Contents",
   "toc_cell": false,
   "toc_position": {},
   "toc_section_display": true,
   "toc_window_display": false
  }
 },
 "nbformat": 4,
 "nbformat_minor": 5
}
