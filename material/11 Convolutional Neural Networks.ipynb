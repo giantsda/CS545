{
 "cells": [
  {
   "cell_type": "markdown",
   "metadata": {},
   "source": [
    "# Convolutional Neural Networks"
   ]
  },
  {
   "cell_type": "markdown",
   "metadata": {},
   "source": [
    "## Introduction"
   ]
  },
  {
   "cell_type": "markdown",
   "metadata": {},
   "source": [
    "How many weights are in a fully-connected classification neural network for MNIST digits that has 20 units in one hidden layer and 10 units in the output layer?\n",
    "\n",
    "Each unit in hidden layer has 28 x 28 = 784 plus 1 weights, so the hidden layer has (784 + 1) x 20.  The output layer has (20 + 1) x 10 weights."
   ]
  },
  {
   "cell_type": "code",
   "execution_count": 6,
   "metadata": {},
   "outputs": [
    {
     "data": {
      "text/plain": [
       "15910"
      ]
     },
     "execution_count": 6,
     "metadata": {},
     "output_type": "execute_result"
    }
   ],
   "source": [
    "785 * 20 + 21 * 10"
   ]
  },
  {
   "cell_type": "markdown",
   "metadata": {},
   "source": [
    "That's quite a few weights.  Can this number be reduced?  Remember, larger numbers of weights probably require more samples to train them.\n",
    "\n",
    "Well, we could provide each hidden unit with just part of the image, such as a 10 x 10 patch.  We could assign each unit a random patch.  Then we would have (100 + 1) x 20 + 21 * 10 weights."
   ]
  },
  {
   "cell_type": "code",
   "execution_count": 7,
   "metadata": {},
   "outputs": [
    {
     "data": {
      "text/plain": [
       "2230"
      ]
     },
     "execution_count": 7,
     "metadata": {},
     "output_type": "execute_result"
    }
   ],
   "source": [
    "101 * 20 + 21 * 10"
   ]
  },
  {
   "cell_type": "code",
   "execution_count": 8,
   "metadata": {},
   "outputs": [
    {
     "data": {
      "text/plain": [
       "0.14016341923318668"
      ]
     },
     "execution_count": 8,
     "metadata": {},
     "output_type": "execute_result"
    }
   ],
   "source": [
    "2230 / 15910"
   ]
  },
  {
   "cell_type": "markdown",
   "metadata": {},
   "source": [
    "Wow, a little over one tenth the number of weights.\n",
    "\n",
    "But this assignment of patches to each unit may end of missing parts of an image that are critical for correct classification.  We could add more units to cover more parts, but now our number of weights is growing.  Can we cover more parts of the image without increasing the number of weights in each unit and the number of units?"
   ]
  },
  {
   "cell_type": "markdown",
   "metadata": {},
   "source": [
    "The answer, no surprise, is yes!  We can apply a hidden unit that receives 10 x 10 image patches to all 10 x 10 patches from an image.  Imagine that a unit has a lens that only sees a 10 x 10 patch.  That lens can be shifted around an image, each time passing the viewed patch through the unit and producing a scalar output.  Each of these outputs can be assembled into another image.\n",
    "\n",
    "For our 10 x 10 unit, this would result in the following process.  Our 28 x 28 image of digits will result in a 2 x 2 set of 10 x 10 non-overlapping patches, with 8 pixels left over on right and bottom parts of the image.  Applying one hidden unit to these four patches produces four outputs that are arranged in a 2 x 2 image.  Each of these outputs represents how well the pattern in the unit's weights match the intensities in each patch.\n",
    "\n",
    "This process of shifting the focus of a unit across an image is a [convolution](https://setosa.io/ev/image-kernels/).  The weights in a hidden unit are often called a kernel or a filter.\n",
    "\n",
    "With 20 units in the hidden layer, we will have 20 much smaller images produced.  The weights in one unit might be values that result in the largest output when the patch has a vertical edge.  The weights in a second unit might be values that result in the largest output when the patch has a curve like a smile or like the bottom of a hand-drawn digit 3."
   ]
  },
  {
   "cell_type": "markdown",
   "metadata": {},
   "source": [
    "We now have a network with 2230 weights that can process an entire image, at the cost of some processing time to do the convolution and some storage for storing the smaller images as the output of a convolutional layer. For our simple example the additional computation and storage cost is small.\n",
    "\n",
    "What if we allow overlapping patches?  Let's shift, or \"stride\", the lens of each unit by one pixel left-to-right, and top-to-bottom.  How many patches does this make?  Left-to-right gives us 28 - 10 + 1 = 19 patches, and similarly going top-to-bottom.  So each unit will be applied 19 x 19 times to produce a new image that is 19 x 19 = 361.  So, each hidden unit now produces 361 values. When we were not convolving, each unit produced 1 value, so the output layer received 20 values, one for each unit.  Now our output layer receives 361 values for each unit, or 361 x 20 = 7220 values.  "
   ]
  },
  {
   "cell_type": "markdown",
   "metadata": {},
   "source": [
    "Anyway, let's move on to some actual examples of images, patches, and convolutions."
   ]
  },
  {
   "cell_type": "code",
   "execution_count": 9,
   "metadata": {},
   "outputs": [],
   "source": [
    "import numpy as np\n",
    "import matplotlib.pyplot as plt\n",
    "# %matplotlib notebook  # We don't need the interaction with our plots in this notebook\n",
    "\n",
    "import pickle\n",
    "import gzip"
   ]
  },
  {
   "cell_type": "code",
   "execution_count": 10,
   "metadata": {},
   "outputs": [
    {
     "name": "stdout",
     "output_type": "stream",
     "text": [
      "(50000, 784) (50000, 1) (10000, 784) (10000, 1) (10000, 784) (10000, 1)\n"
     ]
    }
   ],
   "source": [
    "with gzip.open('../code/mnist.pkl.gz', 'rb') as f:\n",
    "    train_set, valid_set, test_set = pickle.load(f, encoding='latin1')\n",
    "\n",
    "Xtrain = train_set[0]\n",
    "Ttrain = train_set[1].reshape(-1, 1)\n",
    "\n",
    "Xval = valid_set[0]\n",
    "Tval = valid_set[1].reshape(-1, 1)\n",
    "\n",
    "Xtest = test_set[0]\n",
    "Ttest = test_set[1].reshape(-1, 1)\n",
    "\n",
    "print(Xtrain.shape, Ttrain.shape,  Xval.shape, Tval.shape,  Xtest.shape, Ttest.shape)"
   ]
  },
  {
   "cell_type": "code",
   "execution_count": 11,
   "metadata": {},
   "outputs": [
    {
     "data": {
      "text/plain": [
       "array([[5],\n",
       "       [0],\n",
       "       [4],\n",
       "       [1],\n",
       "       [9],\n",
       "       [2],\n",
       "       [1],\n",
       "       [3],\n",
       "       [1],\n",
       "       [4]])"
      ]
     },
     "execution_count": 11,
     "metadata": {},
     "output_type": "execute_result"
    }
   ],
   "source": [
    "Ttrain[:10]"
   ]
  },
  {
   "cell_type": "code",
   "execution_count": 12,
   "metadata": {},
   "outputs": [
    {
     "data": {
      "text/plain": [
       "array([3])"
      ]
     },
     "execution_count": 12,
     "metadata": {},
     "output_type": "execute_result"
    }
   ],
   "source": [
    "Ttrain[7]"
   ]
  },
  {
   "cell_type": "code",
   "execution_count": 13,
   "metadata": {},
   "outputs": [],
   "source": [
    "three = Xtrain[7, :].reshape(28, 28)"
   ]
  },
  {
   "cell_type": "code",
   "execution_count": 14,
   "metadata": {},
   "outputs": [],
   "source": [
    "def draw_image(image, label):\n",
    "    plt.imshow(image, cmap='gray')\n",
    "    plt.xticks([])\n",
    "    plt.yticks([])\n",
    "    plt.title(label)"
   ]
  },
  {
   "cell_type": "code",
   "execution_count": 15,
   "metadata": {
    "scrolled": true
   },
   "outputs": [
    {
     "data": {
      "image/png": "[encoded data removed]",
      "text/plain": [
       "<Figure size 432x288 with 1 Axes>"
      ]
     },
     "metadata": {},
     "output_type": "display_data"
    }
   ],
   "source": [
    "plt.figure()\n",
    "draw_image(three, 3)"
   ]
  },
  {
   "cell_type": "markdown",
   "metadata": {},
   "source": [
    "Let's invert the values, so the bright 3 is dark, like an actual pencil drawing."
   ]
  },
  {
   "cell_type": "code",
   "execution_count": 16,
   "metadata": {},
   "outputs": [],
   "source": [
    "def draw_neg_image(image, label):\n",
    "    plt.imshow(-image, cmap='gray')\n",
    "    plt.xticks([])\n",
    "    plt.yticks([])\n",
    "    plt.title(label)"
   ]
  },
  {
   "cell_type": "code",
   "execution_count": 17,
   "metadata": {
    "scrolled": true
   },
   "outputs": [
    {
     "data": {
      "image/png": "[encoded data removed]",
      "text/plain": [
       "<Figure size 432x288 with 1 Axes>"
      ]
     },
     "metadata": {},
     "output_type": "display_data"
    }
   ],
   "source": [
    "draw_neg_image(three, 3)"
   ]
  },
  {
   "cell_type": "markdown",
   "metadata": {},
   "source": [
    "Instead of 10 x 10 patches, let's extract non-overlapping 7 x 7 patches from this image.  We can use two for loops: an inner loop to step across columns left-to-right and an outer loop to step down the rows top-to-bottom, and collect each patch into a list called `patches`."
   ]
  },
  {
   "cell_type": "code",
   "execution_count": 18,
   "metadata": {},
   "outputs": [
    {
     "data": {
      "text/plain": [
       "16"
      ]
     },
     "execution_count": 18,
     "metadata": {},
     "output_type": "execute_result"
    }
   ],
   "source": [
    "patches = []\n",
    "for row in range(0, 28, 7):\n",
    "    for col in range(0, 28, 7):\n",
    "        patches.append(three[row:row + 7, col:col + 7])\n",
    "len(patches)"
   ]
  },
  {
   "cell_type": "code",
   "execution_count": 19,
   "metadata": {},
   "outputs": [
    {
     "data": {
      "image/png": "[encoded data removed]",
      "text/plain": [
       "<Figure size 576x576 with 16 Axes>"
      ]
     },
     "metadata": {},
     "output_type": "display_data"
    }
   ],
   "source": [
    "plt.figure(figsize=(8, 8))\n",
    "ploti = 0\n",
    "for patch in patches:\n",
    "    ploti += 1\n",
    "    plt.subplot(4, 4, ploti)\n",
    "    draw_neg_image(patch, '')\n",
    "plt.tight_layout()"
   ]
  },
  {
   "cell_type": "code",
   "execution_count": 20,
   "metadata": {},
   "outputs": [],
   "source": [
    "def draw_neg_image(image, label):\n",
    "    plt.imshow(-image, cmap='gray', vmin=-1, vmax=0)  # <-- New part\n",
    "    plt.xticks([])\n",
    "    plt.yticks([])\n",
    "    plt.title(label)"
   ]
  },
  {
   "cell_type": "code",
   "execution_count": 21,
   "metadata": {},
   "outputs": [
    {
     "data": {
      "image/png": "[encoded data removed]",
      "text/plain": [
       "<Figure size 576x576 with 16 Axes>"
      ]
     },
     "metadata": {},
     "output_type": "display_data"
    }
   ],
   "source": [
    "plt.figure(figsize=(8, 8))\n",
    "ploti = 0\n",
    "for patch in patches:\n",
    "    ploti += 1\n",
    "    plt.subplot(4, 4, ploti)\n",
    "    draw_neg_image(patch, '')\n",
    "plt.tight_layout()"
   ]
  },
  {
   "cell_type": "markdown",
   "metadata": {},
   "source": [
    "Those all black patches are because all intensities there are 0.  Fix this by specifying min and max values to coloring each image."
   ]
  },
  {
   "cell_type": "markdown",
   "metadata": {},
   "source": [
    "What if we want some overlap?  7 x 7 patches that shift by 2 columns and 2 rows."
   ]
  },
  {
   "cell_type": "code",
   "execution_count": 22,
   "metadata": {},
   "outputs": [
    {
     "data": {
      "text/plain": [
       "196"
      ]
     },
     "execution_count": 22,
     "metadata": {},
     "output_type": "execute_result"
    }
   ],
   "source": [
    "patches = []\n",
    "for row in range(0, 28, 2):\n",
    "    for col in range(0, 28, 2):\n",
    "        patches.append(three[row:row + 7, col:col + 7])\n",
    "len(patches)"
   ]
  },
  {
   "cell_type": "code",
   "execution_count": 23,
   "metadata": {},
   "outputs": [
    {
     "data": {
      "text/plain": [
       "14.0"
      ]
     },
     "execution_count": 23,
     "metadata": {},
     "output_type": "execute_result"
    }
   ],
   "source": [
    "np.sqrt(len(patches))"
   ]
  },
  {
   "cell_type": "code",
   "execution_count": 24,
   "metadata": {},
   "outputs": [
    {
     "data": {
      "image/png": "[encoded data removed]",
      "text/plain": [
       "<Figure size 576x576 with 196 Axes>"
      ]
     },
     "metadata": {},
     "output_type": "display_data"
    }
   ],
   "source": [
    "n_plot_rows = int(np.sqrt(len(patches)))\n",
    "plt.figure(figsize=(8, 8))\n",
    "ploti = 0\n",
    "for patch in patches:\n",
    "    ploti += 1\n",
    "    plt.subplot(n_plot_rows, n_plot_rows, ploti)\n",
    "    draw_neg_image(patch, '')"
   ]
  },
  {
   "cell_type": "markdown",
   "metadata": {},
   "source": [
    "We will need all patches to be the same size, so we must discard the smaller ones on the right and the bottom.  Alternatively, we can pad the original image to guarantee all patches are the same size."
   ]
  },
  {
   "cell_type": "code",
   "execution_count": 25,
   "metadata": {},
   "outputs": [
    {
     "data": {
      "text/plain": [
       "121"
      ]
     },
     "execution_count": 25,
     "metadata": {},
     "output_type": "execute_result"
    }
   ],
   "source": [
    "patches = []\n",
    "for row in range(0, 28, 2):\n",
    "    for col in range(0, 28, 2):\n",
    "        if row + 7 < 28 and col + 7 < 28:\n",
    "            patches.append(three[row:row + 7, col:col + 7])\n",
    "len(patches)"
   ]
  },
  {
   "cell_type": "code",
   "execution_count": 26,
   "metadata": {},
   "outputs": [
    {
     "data": {
      "text/plain": [
       "11.0"
      ]
     },
     "execution_count": 26,
     "metadata": {},
     "output_type": "execute_result"
    }
   ],
   "source": [
    "np.sqrt(len(patches))"
   ]
  },
  {
   "cell_type": "code",
   "execution_count": 27,
   "metadata": {},
   "outputs": [
    {
     "data": {
      "image/png": "[encoded data removed]",
      "text/plain": [
       "<Figure size 576x576 with 121 Axes>"
      ]
     },
     "metadata": {},
     "output_type": "display_data"
    }
   ],
   "source": [
    "n_plot_rows = int(np.sqrt(len(patches)))\n",
    "plt.figure(figsize=(8, 8))\n",
    "ploti = 0\n",
    "for patch in patches:\n",
    "    ploti += 1\n",
    "    plt.subplot(n_plot_rows, n_plot_rows, ploti)\n",
    "    draw_neg_image(patch, '')"
   ]
  },
  {
   "cell_type": "markdown",
   "metadata": {},
   "source": [
    "Are these patches using lots of storage, or are they just views onto the original image array?  Hopefully they are just views.  Test this by modifying the original image in the upper left corner and that redrawing the patches."
   ]
  },
  {
   "cell_type": "code",
   "execution_count": 28,
   "metadata": {},
   "outputs": [
    {
     "data": {
      "text/plain": [
       "array([[0., 0., 0., 0.],\n",
       "       [0., 0., 0., 0.],\n",
       "       [0., 0., 0., 0.],\n",
       "       [0., 0., 0., 0.]], dtype=float32)"
      ]
     },
     "execution_count": 28,
     "metadata": {},
     "output_type": "execute_result"
    }
   ],
   "source": [
    "three[0:4, 0:4]"
   ]
  },
  {
   "cell_type": "code",
   "execution_count": 29,
   "metadata": {},
   "outputs": [],
   "source": [
    "three[0:4, 0:4] = 1.0"
   ]
  },
  {
   "cell_type": "code",
   "execution_count": 30,
   "metadata": {},
   "outputs": [
    {
     "data": {
      "image/png": "[encoded data removed]",
      "text/plain": [
       "<Figure size 576x576 with 121 Axes>"
      ]
     },
     "metadata": {},
     "output_type": "display_data"
    }
   ],
   "source": [
    "n_plot_rows = int(np.sqrt(len(patches)))\n",
    "plt.figure(figsize=(8, 8))\n",
    "ploti = 0\n",
    "for patch in patches:\n",
    "    ploti += 1\n",
    "    plt.subplot(n_plot_rows, n_plot_rows, ploti)\n",
    "    draw_neg_image(patch, '')"
   ]
  },
  {
   "cell_type": "markdown",
   "metadata": {},
   "source": [
    "Yep, just views. Good!\n",
    "\n",
    "Now let's reset those pixels."
   ]
  },
  {
   "cell_type": "code",
   "execution_count": 31,
   "metadata": {},
   "outputs": [],
   "source": [
    "three[0:4, 0:4] = 0.0"
   ]
  },
  {
   "cell_type": "markdown",
   "metadata": {},
   "source": [
    "## Weight matrix as kernel or filter"
   ]
  },
  {
   "cell_type": "markdown",
   "metadata": {},
   "source": [
    "Now, how would we create a unit as a kernel or filter and apply it to all patches?  \n",
    "\n",
    "It is just a 7 x 7 matrix.  Let's make one that detects diagonal edges from lower left to upper right."
   ]
  },
  {
   "cell_type": "code",
   "execution_count": 32,
   "metadata": {},
   "outputs": [
    {
     "data": {
      "text/plain": [
       "array([[-1, -1, -1, -1, -1, -1, -1],\n",
       "       [-1, -1, -1, -1, -1, -1,  1],\n",
       "       [-1, -1, -1, -1, -1,  1,  1],\n",
       "       [-1, -1, -1, -1,  1,  1,  1],\n",
       "       [-1, -1, -1,  1,  1,  1,  1],\n",
       "       [-1, -1,  1,  1,  1,  1,  1],\n",
       "       [-1,  1,  1,  1,  1,  1,  1]])"
      ]
     },
     "execution_count": 32,
     "metadata": {},
     "output_type": "execute_result"
    }
   ],
   "source": [
    "weights = np.array([[-1, -1, -1, -1, -1, -1, -1],\n",
    "                    [-1, -1, -1, -1, -1, -1,  1],\n",
    "                    [-1, -1, -1, -1, -1,  1,  1],\n",
    "                    [-1, -1, -1, -1,  1,  1,  1],\n",
    "                    [-1, -1, -1,  1,  1,  1,  1],\n",
    "                    [-1, -1,  1,  1,  1,  1,  1],\n",
    "                    [-1,  1,  1,  1,  1,  1,  1]])\n",
    "weights"
   ]
  },
  {
   "cell_type": "code",
   "execution_count": 33,
   "metadata": {},
   "outputs": [
    {
     "data": {
      "image/png": "[encoded data removed]",
      "text/plain": [
       "<Figure size 432x288 with 2 Axes>"
      ]
     },
     "metadata": {
      "needs_background": "light"
     },
     "output_type": "display_data"
    }
   ],
   "source": [
    "plt.imshow(weights, cmap='gray')\n",
    "plt.colorbar();"
   ]
  },
  {
   "cell_type": "markdown",
   "metadata": {},
   "source": [
    "Which of the above patches do you think will result in large positive values and large negative values.\n",
    "\n",
    "Okay, let's apply this filter to all of the patches.  To do this, we just need to multiply the intensities in a patch by the corresponding weight and sum them up."
   ]
  },
  {
   "cell_type": "code",
   "execution_count": 34,
   "metadata": {},
   "outputs": [
    {
     "data": {
      "text/plain": [
       "array([  0.        ,   0.        ,   0.7109375 ,   2.78515625,\n",
       "         6.1640625 ,   8.55859375,   9.3984375 ,   7.56640625,\n",
       "         4.328125  ,   0.3828125 ,  -1.015625  ,   0.        ,\n",
       "         0.        ,   3.80078125,   9.7265625 ,  13.00390625,\n",
       "         9.80859375,   7.33203125,   6.828125  ,   3.02734375,\n",
       "        -2.53125   ,  -3.8671875 ,   0.        ,   0.        ,\n",
       "         3.9296875 ,   6.953125  ,   1.87890625,  -5.94140625,\n",
       "        -4.44921875,  -0.90625   ,  -2.390625  , -10.3515625 ,\n",
       "        -8.80859375,   0.        ,   0.        ,   1.1171875 ,\n",
       "        -3.37109375, -10.13671875, -11.8671875 ,  -4.65234375,\n",
       "         2.14453125,  -8.50390625, -17.91015625, -11.0859375 ,\n",
       "         0.        ,   0.17578125,   1.328125  ,   2.67578125,\n",
       "         4.921875  ,   5.38671875,  10.796875  ,   2.0703125 ,\n",
       "       -14.62890625, -18.84765625,  -7.41015625,   0.        ,\n",
       "         0.3515625 ,   5.27734375,  10.50390625,   8.62109375,\n",
       "         6.91796875,   4.390625  ,  -7.3515625 , -17.4296875 ,\n",
       "       -13.390625  ,  -3.52734375,   0.        ,   0.3515625 ,\n",
       "         4.67578125,   2.22265625,  -4.19921875,  -9.2109375 ,\n",
       "        -6.3671875 , -12.109375  , -14.15625   ,  -9.44921875,\n",
       "        -0.94140625,   0.97265625,   2.3984375 ,   0.9140625 ,\n",
       "        -6.15234375, -10.32421875,  -8.2421875 ,   1.08203125,\n",
       "        -3.734375  , -12.515625  ,  -7.7578125 ,   0.        ,\n",
       "         4.56640625,   9.51953125,   7.77734375,   2.484375  ,\n",
       "         6.140625  ,   9.8203125 ,   9.52734375,  -8.01171875,\n",
       "       -15.5546875 ,  -6.62109375,   0.        ,   5.3984375 ,\n",
       "         9.484375  ,   5.9453125 ,   3.9609375 ,   4.890625  ,\n",
       "         3.08203125,  -7.7265625 , -16.703125  , -11.640625  ,\n",
       "        -4.07421875,   0.        ,   1.84765625,  -0.34765625,\n",
       "        -3.08984375,  -8.30078125,  -9.75390625, -13.17578125,\n",
       "       -15.8828125 , -11.7421875 ,  -5.84375   ,  -1.52734375,\n",
       "         0.        ])"
      ]
     },
     "execution_count": 34,
     "metadata": {},
     "output_type": "execute_result"
    }
   ],
   "source": [
    "new_image = []\n",
    "for patch in patches:\n",
    "    new_image.append( np.sum(patch * weights) )\n",
    "new_image = np.array(new_image)\n",
    "new_image"
   ]
  },
  {
   "cell_type": "markdown",
   "metadata": {},
   "source": [
    "Bleech.  Can't understand that.  Let's make it into an image and draw it."
   ]
  },
  {
   "cell_type": "code",
   "execution_count": 35,
   "metadata": {},
   "outputs": [
    {
     "data": {
      "text/plain": [
       "11"
      ]
     },
     "execution_count": 35,
     "metadata": {},
     "output_type": "execute_result"
    }
   ],
   "source": [
    "new_image_dim = int(np.sqrt(len(new_image)))\n",
    "new_image_dim"
   ]
  },
  {
   "cell_type": "code",
   "execution_count": 36,
   "metadata": {},
   "outputs": [
    {
     "data": {
      "image/png": "[encoded data removed]",
      "text/plain": [
       "<Figure size 432x288 with 2 Axes>"
      ]
     },
     "metadata": {
      "needs_background": "light"
     },
     "output_type": "display_data"
    }
   ],
   "source": [
    "new_image = new_image.reshape(new_image_dim, new_image_dim)\n",
    "draw_image(new_image, '')\n",
    "plt.colorbar();"
   ]
  },
  {
   "cell_type": "markdown",
   "metadata": {},
   "source": [
    "We can apply our weights filter to all of the patches with one matrix multiplication!"
   ]
  },
  {
   "cell_type": "code",
   "execution_count": 37,
   "metadata": {},
   "outputs": [
    {
     "data": {
      "text/plain": [
       "(11, 11)"
      ]
     },
     "execution_count": 37,
     "metadata": {},
     "output_type": "execute_result"
    }
   ],
   "source": [
    "new_image.shape"
   ]
  },
  {
   "cell_type": "code",
   "execution_count": 38,
   "metadata": {},
   "outputs": [
    {
     "data": {
      "text/plain": [
       "(121, (7, 7))"
      ]
     },
     "execution_count": 38,
     "metadata": {},
     "output_type": "execute_result"
    }
   ],
   "source": [
    "len(patches), patches[0].shape"
   ]
  },
  {
   "cell_type": "code",
   "execution_count": 39,
   "metadata": {},
   "outputs": [
    {
     "data": {
      "text/plain": [
       "(121, 7, 7)"
      ]
     },
     "execution_count": 39,
     "metadata": {},
     "output_type": "execute_result"
    }
   ],
   "source": [
    "patches_array = np.array(patches)\n",
    "patches_array.shape"
   ]
  },
  {
   "cell_type": "code",
   "execution_count": 40,
   "metadata": {},
   "outputs": [
    {
     "data": {
      "text/plain": [
       "(7, 7)"
      ]
     },
     "execution_count": 40,
     "metadata": {},
     "output_type": "execute_result"
    }
   ],
   "source": [
    "weights.shape"
   ]
  },
  {
   "cell_type": "code",
   "execution_count": 41,
   "metadata": {},
   "outputs": [
    {
     "data": {
      "text/plain": [
       "(121, 1)"
      ]
     },
     "execution_count": 41,
     "metadata": {},
     "output_type": "execute_result"
    }
   ],
   "source": [
    "new_image = patches_array.reshape(121, -1) @ weights.reshape(-1, 1)\n",
    "new_image.shape"
   ]
  },
  {
   "cell_type": "code",
   "execution_count": 42,
   "metadata": {},
   "outputs": [
    {
     "data": {
      "image/png": "[encoded data removed]",
      "text/plain": [
       "<Figure size 432x288 with 2 Axes>"
      ]
     },
     "metadata": {
      "needs_background": "light"
     },
     "output_type": "display_data"
    }
   ],
   "source": [
    "new_image = new_image.reshape(new_image_dim, new_image_dim)\n",
    "draw_image(new_image, '')\n",
    "plt.colorbar();"
   ]
  },
  {
   "cell_type": "markdown",
   "metadata": {},
   "source": [
    "Now the idea is to come up with a number of such weight matrices to use as filters that extract the features of the image that are useful for classifying the digit.  How can we do this?\n",
    "\n",
    "Each unit in the hidden layer is a convolutional unit with a 7 x 7 weight matrix, plus 1 weight for the constant 1 input.  Then we can just backpropagate an error from the output layer through the hidden convolutional layer to update each unit's weights, as we have been doing all along!\n",
    "\n",
    "Backpropagation through a convolutional layer is tricky, because each unit is applied multiple times to all of the patches and we must sum up all of the resulting weight changes resulting from applying a unit to each patch.  This sum is then used to make the update to the weights.\n",
    "\n",
    "Before we jump into code for doing this, let's revisit the method for dividing an image up into patches. We used two nested for loops, and we know for loops in python are slow.  Since convolution is a common procedure for many signal and image processing applications, the `numpy` function `numpy.lib.as_strided` function is available to do this. Thank the numpy developers! See [Using stride tricks with NumPy](https://ipython-books.github.io/46-using-stride-tricks-with-numpy/) for an example use."
   ]
  },
  {
   "cell_type": "code",
   "execution_count": 43,
   "metadata": {},
   "outputs": [],
   "source": [
    "import numpy.lib.stride_tricks\n",
    "\n",
    "def make_patches(X, patch_size, stride=1):\n",
    "    '''X: n_samples x n_pixels  (flattened square images)'''\n",
    "    X = np.ascontiguousarray(X)  # make sure X values are contiguous in memory\n",
    "    \n",
    "    n_samples = X.shape[0]\n",
    "    image_size = int(np.sqrt(X.shape[1]))\n",
    "    n_patches = (image_size - patch_size ) // stride + 1\n",
    "    \n",
    "    nb = X.itemsize  # number of bytes each value\n",
    "\n",
    "    new_shape = [n_samples, \n",
    "                 n_patches,  # number of rows of patches\n",
    "                 n_patches,  # number of columns of patches\n",
    "                 patch_size, # number of rows of pixels in each patch\n",
    "                 patch_size] # number of columns of pixels in each patch\n",
    "    \n",
    "    new_strides = [image_size * image_size * nb,  # nuber of bytes to next image (sample)\n",
    "                   image_size * stride * nb,      # number of bytes to start of next patch in next row\n",
    "                   stride * nb,                   # number of bytes to start of next patch in next column\n",
    "                   image_size * nb,               # number of bytes to pixel in next row of patch\n",
    "                   nb]                            # number of bytes to pixel in next column of patch\n",
    "    \n",
    "    X = np.lib.stride_tricks.as_strided(X, shape=new_shape, strides=new_strides)\n",
    "    \n",
    "    # Reshape the set of patches to two-dimensional matrix, of shape  N x P x S,\n",
    "    #   N is number of samples,  P is number of patches,  S is number of pixels per patch\n",
    "    X = X.reshape(n_samples, n_patches * n_patches, patch_size * patch_size)\n",
    "    \n",
    "    return X"
   ]
  },
  {
   "cell_type": "code",
   "execution_count": 44,
   "metadata": {},
   "outputs": [
    {
     "data": {
      "text/plain": [
       "(50000, 784)"
      ]
     },
     "execution_count": 44,
     "metadata": {},
     "output_type": "execute_result"
    }
   ],
   "source": [
    "Xtrain.shape"
   ]
  },
  {
   "cell_type": "markdown",
   "metadata": {},
   "source": [
    "Let's test this on the first two images.  Make patches of shape 7 x 7, with strides of 2 pixels."
   ]
  },
  {
   "cell_type": "code",
   "execution_count": 45,
   "metadata": {},
   "outputs": [],
   "source": [
    "patches = make_patches(Xtrain[:2], 7, 2)"
   ]
  },
  {
   "cell_type": "code",
   "execution_count": 46,
   "metadata": {},
   "outputs": [
    {
     "data": {
      "text/plain": [
       "(2, 121, 49)"
      ]
     },
     "execution_count": 46,
     "metadata": {},
     "output_type": "execute_result"
    }
   ],
   "source": [
    "patches.shape"
   ]
  },
  {
   "cell_type": "code",
   "execution_count": 47,
   "metadata": {},
   "outputs": [
    {
     "data": {
      "text/plain": [
       "(121, 49)"
      ]
     },
     "execution_count": 47,
     "metadata": {},
     "output_type": "execute_result"
    }
   ],
   "source": [
    "11 * 11, 7 * 7"
   ]
  },
  {
   "cell_type": "markdown",
   "metadata": {},
   "source": [
    "Good.  2 images,  121 patches (11 x 11 patches), and 49 pixels per patch (7 x 7)"
   ]
  },
  {
   "cell_type": "code",
   "execution_count": 48,
   "metadata": {},
   "outputs": [
    {
     "name": "stdout",
     "output_type": "stream",
     "text": [
      "[5]\n",
      "[0]\n"
     ]
    },
    {
     "data": {
      "image/png": "[encoded data removed]",
      "text/plain": [
       "<Figure size 576x576 with 121 Axes>"
      ]
     },
     "metadata": {},
     "output_type": "display_data"
    },
    {
     "data": {
      "image/png": "[encoded data removed]",
      "text/plain": [
       "<Figure size 576x576 with 121 Axes>"
      ]
     },
     "metadata": {},
     "output_type": "display_data"
    }
   ],
   "source": [
    "n_plot_rows = int(np.sqrt(patches.shape[1]))\n",
    "patch_size = int(np.sqrt(patches.shape[2]))\n",
    "\n",
    "for patchi in range(patches.shape[0]):\n",
    "    print(Ttrain[patchi])\n",
    "    plt.figure(figsize=(8, 8))\n",
    "    ploti = 0\n",
    "    for patch in patches[patchi, :, :]:\n",
    "        ploti += 1\n",
    "        plt.subplot(n_plot_rows, n_plot_rows, ploti)\n",
    "        draw_neg_image(patch.reshape(patch_size, patch_size), '')"
   ]
  },
  {
   "cell_type": "markdown",
   "metadata": {},
   "source": [
    "Remember our weights matrix?"
   ]
  },
  {
   "cell_type": "code",
   "execution_count": 49,
   "metadata": {},
   "outputs": [
    {
     "data": {
      "text/plain": [
       "(7, 7)"
      ]
     },
     "execution_count": 49,
     "metadata": {},
     "output_type": "execute_result"
    }
   ],
   "source": [
    "weights.shape"
   ]
  },
  {
   "cell_type": "code",
   "execution_count": 50,
   "metadata": {},
   "outputs": [
    {
     "data": {
      "image/png": "[encoded data removed]",
      "text/plain": [
       "<Figure size 432x288 with 1 Axes>"
      ]
     },
     "metadata": {
      "needs_background": "light"
     },
     "output_type": "display_data"
    }
   ],
   "source": [
    "plt.imshow(weights, cmap='gray');"
   ]
  },
  {
   "cell_type": "markdown",
   "metadata": {},
   "source": [
    "Let's make a second filter as the above one flipped vertically (over the rows)."
   ]
  },
  {
   "cell_type": "code",
   "execution_count": 51,
   "metadata": {},
   "outputs": [
    {
     "data": {
      "image/png": "[encoded data removed]",
      "text/plain": [
       "<Figure size 432x288 with 1 Axes>"
      ]
     },
     "metadata": {
      "needs_background": "light"
     },
     "output_type": "display_data"
    }
   ],
   "source": [
    "weights_flipped = np.flipud(weights)\n",
    "plt.imshow(weights_flipped, cmap='gray');"
   ]
  },
  {
   "cell_type": "code",
   "execution_count": 52,
   "metadata": {},
   "outputs": [
    {
     "data": {
      "text/plain": [
       "(49, 1)"
      ]
     },
     "execution_count": 52,
     "metadata": {},
     "output_type": "execute_result"
    }
   ],
   "source": [
    "weights = weights.reshape(49, 1)\n",
    "weights.shape"
   ]
  },
  {
   "cell_type": "code",
   "execution_count": 53,
   "metadata": {},
   "outputs": [
    {
     "data": {
      "text/plain": [
       "(49, 1)"
      ]
     },
     "execution_count": 53,
     "metadata": {},
     "output_type": "execute_result"
    }
   ],
   "source": [
    "weights_flipped = weights_flipped.reshape(49, 1)\n",
    "weights_flipped.shape"
   ]
  },
  {
   "cell_type": "code",
   "execution_count": 54,
   "metadata": {},
   "outputs": [],
   "source": [
    "weights_both = np.hstack((weights, weights_flipped))"
   ]
  },
  {
   "cell_type": "code",
   "execution_count": 55,
   "metadata": {},
   "outputs": [
    {
     "data": {
      "text/plain": [
       "(49, 2)"
      ]
     },
     "execution_count": 55,
     "metadata": {},
     "output_type": "execute_result"
    }
   ],
   "source": [
    "weights_both.shape"
   ]
  },
  {
   "cell_type": "code",
   "execution_count": 56,
   "metadata": {},
   "outputs": [
    {
     "data": {
      "image/png": "[encoded data removed]",
      "text/plain": [
       "<Figure size 432x288 with 2 Axes>"
      ]
     },
     "metadata": {
      "needs_background": "light"
     },
     "output_type": "display_data"
    }
   ],
   "source": [
    "plt.subplot(1, 2, 1)\n",
    "plt.imshow(weights_both[:, 0].reshape(7, 7), cmap='gray')\n",
    "plt.subplot(1, 2, 2)\n",
    "plt.imshow(weights_both[:, 1].reshape(7, 7), cmap='gray');"
   ]
  },
  {
   "cell_type": "code",
   "execution_count": 57,
   "metadata": {},
   "outputs": [
    {
     "data": {
      "text/plain": [
       "((2, 121, 49), (49, 2))"
      ]
     },
     "execution_count": 57,
     "metadata": {},
     "output_type": "execute_result"
    }
   ],
   "source": [
    "patches.shape, weights_both.shape"
   ]
  },
  {
   "cell_type": "code",
   "execution_count": 58,
   "metadata": {},
   "outputs": [
    {
     "data": {
      "text/plain": [
       "(2, 121, 2)"
      ]
     },
     "execution_count": 58,
     "metadata": {},
     "output_type": "execute_result"
    }
   ],
   "source": [
    "output = patches @ weights_both\n",
    "output.shape"
   ]
  },
  {
   "cell_type": "code",
   "execution_count": 59,
   "metadata": {},
   "outputs": [
    {
     "data": {
      "image/png": "[encoded data removed]",
      "text/plain": [
       "<Figure size 432x288 with 2 Axes>"
      ]
     },
     "metadata": {},
     "output_type": "display_data"
    },
    {
     "data": {
      "image/png": "[encoded data removed]",
      "text/plain": [
       "<Figure size 432x288 with 2 Axes>"
      ]
     },
     "metadata": {},
     "output_type": "display_data"
    }
   ],
   "source": [
    "for i in range(2):\n",
    "    plt.figure()\n",
    "    for j in range(2):\n",
    "        plt.subplot(1, 2, j+1)\n",
    "        output_image = output[i, :, j].reshape(11, 11)\n",
    "        draw_image(output_image, '')"
   ]
  }
 ],
 "metadata": {
  "kernelspec": {
   "display_name": "Python 3 (ipykernel)",
   "language": "python",
   "name": "python3"
  },
  "language_info": {
   "codemirror_mode": {
    "name": "ipython",
    "version": 3
   },
   "file_extension": ".py",
   "mimetype": "text/x-python",
   "name": "python",
   "nbconvert_exporter": "python",
   "pygments_lexer": "ipython3",
   "version": "3.8.10"
  },
  "toc": {
   "base_numbering": 1,
   "nav_menu": {},
   "number_sections": true,
   "sideBar": true,
   "skip_h1_title": false,
   "title_cell": "Table of Contents",
   "title_sidebar": "Contents",
   "toc_cell": false,
   "toc_position": {},
   "toc_section_display": true,
   "toc_window_display": false
  }
 },
 "nbformat": 4,
 "nbformat_minor": 4
}
