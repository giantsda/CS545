{
 "cells": [
  {
   "cell_type": "markdown",
   "metadata": {},
   "source": [
    "$$\\newcommand{\\Rv}{\\mathbf{R}}\n",
    "\\newcommand{\\rv}{\\mathbf{r}}\n",
    "\\newcommand{\\Qv}{\\mathbf{Q}}\n",
    "\\newcommand{\\Qnv}{\\mathbf{Qn}}\n",
    "\\newcommand{\\Av}{\\mathbf{A}}\n",
    "\\newcommand{\\Aiv}{\\mathbf{Ai}}\n",
    "\\newcommand{\\av}{\\mathbf{a}}\n",
    "\\newcommand{\\xv}{\\mathbf{x}}\n",
    "\\newcommand{\\Xv}{\\mathbf{X}}\n",
    "\\newcommand{\\yv}{\\mathbf{y}}\n",
    "\\newcommand{\\Yv}{\\mathbf{Y}}\n",
    "\\newcommand{\\zv}{\\mathbf{z}}\n",
    "\\newcommand{\\av}{\\mathbf{a}}\n",
    "\\newcommand{\\Wv}{\\mathbf{W}}\n",
    "\\newcommand{\\wv}{\\mathbf{w}}\n",
    "\\newcommand{\\betav}{\\mathbf{\\beta}}\n",
    "\\newcommand{\\gv}{\\mathbf{g}}\n",
    "\\newcommand{\\Hv}{\\mathbf{H}}\n",
    "\\newcommand{\\dv}{\\mathbf{d}}\n",
    "\\newcommand{\\Vv}{\\mathbf{V}}\n",
    "\\newcommand{\\vv}{\\mathbf{v}}\n",
    "\\newcommand{\\Uv}{\\mathbf{U}}\n",
    "\\newcommand{\\uv}{\\mathbf{u}}\n",
    "\\newcommand{\\tv}{\\mathbf{t}}\n",
    "\\newcommand{\\Tv}{\\mathbf{T}}\n",
    "\\newcommand{\\TDv}{\\mathbf{TD}}\n",
    "\\newcommand{\\Tiv}{\\mathbf{Ti}}\n",
    "\\newcommand{\\Sv}{\\mathbf{S}}\n",
    "\\newcommand{\\Gv}{\\mathbf{G}}\n",
    "\\newcommand{\\zv}{\\mathbf{z}}\n",
    "\\newcommand{\\Zv}{\\mathbf{Z}}\n",
    "\\newcommand{\\Norm}{\\mathcal{N}}\n",
    "\\newcommand{\\muv}{\\boldsymbol{\\mu}}\n",
    "\\newcommand{\\sigmav}{\\boldsymbol{\\sigma}}\n",
    "\\newcommand{\\phiv}{\\boldsymbol{\\phi}}\n",
    "\\newcommand{\\Phiv}{\\boldsymbol{\\Phi}}\n",
    "\\newcommand{\\Sigmav}{\\boldsymbol{\\Sigma}}\n",
    "\\newcommand{\\Lambdav}{\\boldsymbol{\\Lambda}}\n",
    "\\newcommand{\\half}{\\frac{1}{2}}\n",
    "\\newcommand{\\argmax}[1]{\\underset{#1}{\\operatorname{argmax}}}\n",
    "\\newcommand{\\argmin}[1]{\\underset{#1}{\\operatorname{argmin}}}\n",
    "\\newcommand{\\dimensionbar}[1]{\\underset{#1}{\\operatorname{|}}}\n",
    "\\newcommand{\\grad}{\\mathbf{\\nabla}}\n",
    "\\newcommand{\\ebx}[1]{e^{\\betav_{#1}^T \\xv_n}}\n",
    "\\newcommand{\\eby}[1]{e^{y_{n,#1}}}\n",
    "\\newcommand{\\Tiv}{\\mathbf{Ti}}\n",
    "\\newcommand{\\Fv}{\\mathbf{F}}\n",
    "\\newcommand{\\ones}[1]{\\mathbf{1}_{#1}}\n",
    "$$"
   ]
  },
  {
   "cell_type": "markdown",
   "metadata": {},
   "source": [
    "# Reinforcement Learning for Two-Player Games"
   ]
  },
  {
   "cell_type": "markdown",
   "metadata": {},
   "source": [
    "How does Tic-Tac-Toe differ from the maze problem?\n",
    "\n",
    "   * Different state and action sets.\n",
    "   * Two players rather than one.\n",
    "   * Reinforcement is 0 until end of game, when it is 1 for win, 0 for draw, or -1 for loss.\n",
    "   * Maximizing sum of reinforcement rather than minimizing.\n",
    "   * Anything else?"
   ]
  },
  {
   "cell_type": "markdown",
   "metadata": {},
   "source": [
    "## Representing the Q Table"
   ]
  },
  {
   "cell_type": "markdown",
   "metadata": {},
   "source": [
    "The state is the board configuration.  There are $3^9$ of them, though\n",
    "not all are reachable. Is this too big? \n",
    "\n",
    "It is a bit less than 20,000.  Not bad. Is this the full size of the Q table?\n",
    "\n",
    "No. We must add the action dimension.  There are at most 9 actions,\n",
    "one for each cell on the board.  So the Q table will contain about\n",
    "$20,000 \\cdot 9$ values or about 200,000. No worries. \n",
    "\n",
    "Instead of thinking about the Q table as a three-dimensional array, as\n",
    "we did last time, let's be more pythonic and use a dictionary.  Use\n",
    "the current state as the key, and the value associated with the state\n",
    "is an array of Q values for each action taken in that state.\n",
    "\n",
    "We still need a way to represent a board.  \n",
    "\n",
    "How about an array of characters?  So\n",
    "\n",
    "     X |   | O\n",
    "     ---------\n",
    "       | X | O\n",
    "     ---------\n",
    "     X |   |\n",
    "\n",
    "would be\n",
    "\n",
    "     board = np.array(['X',' ','O', ' ','X','O', 'X',' ',' '])\n",
    "\n",
    "The initial board would be\n",
    "\n",
    "     board = np.array([' ']*9)\n",
    "\n",
    "We can represent a move as an index, 0 to 8,  into this array.\n",
    "\n",
    "What should the reinforcement values be?  \n",
    "\n",
    "How about 0 every move except when X wins, with a reinforcement of 1,\n",
    "and when O wins, with a reinforcement of -1.\n",
    "\n",
    "For the above board, let's say we, meaning Player X, prefer move to\n",
    "index 3. In fact, this always results in a win.  So the Q value for\n",
    "move to 3 should be 1.  What other Q values do you know?\n",
    "\n",
    "If we don't play a move to win, O could win in one move.  So the other\n",
    "moves might have Q values close to -1, depending on the skill of\n",
    "Player O.  In the following discussion we will be using a random\n",
    "player for O, so the Q value for a move other than 8 or 3 will be\n",
    "close to but not exactly -1."
   ]
  },
  {
   "cell_type": "markdown",
   "metadata": {},
   "source": [
    "## Agent-World Interaction Loop"
   ]
  },
  {
   "cell_type": "markdown",
   "metadata": {},
   "source": [
    "For our agent to interact with its world, we must implement\n",
    "\n",
    "   1. Initialize Q.\n",
    "   1. Set initial state, as empty board.\n",
    "   1. Repeat:\n",
    "     1. Agent chooses next X move.\n",
    "     1. If X wins, set Q(board,move) to 1.\n",
    "     1. Else, if board is full, set Q(board,move) to 0.\n",
    "     1. Else, let O take move.\n",
    "     1. If O won, update Q(board,move) by (-1 - Q(board,move))\n",
    "     1. For all cases, update Q(oldboard,oldmove) by Q(board,move) - Q(oldboard,oldmove)\n",
    "     1. Shift current board and move to old ones."
   ]
  },
  {
   "cell_type": "markdown",
   "metadata": {},
   "source": [
    "## Now in Python"
   ]
  },
  {
   "cell_type": "markdown",
   "metadata": {},
   "source": [
    "First, here is the result of running tons of games.\n",
    "\n",
    "<img src=\"http://www.cs.colostate.edu/~anderson/cs545/notebooks/tttresult.png\" width=700>\n",
    "\n",
    "First, let's get some function definitions out of the way."
   ]
  },
  {
   "cell_type": "code",
   "execution_count": 2,
   "metadata": {
    "ExecuteTime": {
     "end_time": "2021-10-18T17:37:16.125416Z",
     "start_time": "2021-10-18T17:37:16.122256Z"
    }
   },
   "outputs": [],
   "source": [
    "import numpy as np\n",
    "import matplotlib.pyplot as plt\n",
    "%matplotlib inline\n",
    "import copy"
   ]
  },
  {
   "cell_type": "markdown",
   "metadata": {},
   "source": [
    "Let's write a function to print a board in the usual Tic-Tac-Toe style."
   ]
  },
  {
   "cell_type": "code",
   "execution_count": 3,
   "metadata": {
    "ExecuteTime": {
     "end_time": "2021-10-18T17:37:17.223430Z",
     "start_time": "2021-10-18T17:37:17.219876Z"
    }
   },
   "outputs": [
    {
     "name": "stdout",
     "output_type": "stream",
     "text": [
      "\n",
      "X| |O\n",
      "-----\n",
      " |X|O\n",
      "------\n",
      "X| | \n"
     ]
    }
   ],
   "source": [
    "def printBoard(board):\n",
    "    print('''\n",
    "{}|{}|{}\n",
    "-----\n",
    "{}|{}|{}\n",
    "------\n",
    "{}|{}|{}'''.format(*tuple(board)))\n",
    "printBoard(np.array(['X',' ','O', ' ','X','O', 'X',' ',' ']))"
   ]
  },
  {
   "cell_type": "markdown",
   "metadata": {},
   "source": [
    "Let's write a function that returns *True* if the current board is a winning board for us.  We will be Player X.  What does the value of *combos* represent?"
   ]
  },
  {
   "cell_type": "code",
   "execution_count": 4,
   "metadata": {
    "ExecuteTime": {
     "end_time": "2021-10-18T17:37:18.424575Z",
     "start_time": "2021-10-18T17:37:18.420626Z"
    }
   },
   "outputs": [],
   "source": [
    "def winner(board):\n",
    "    combos = np.array((0,1,2, 3,4,5, 6,7,8, 0,3,6, 1,4,7, 2,5,8, 0,4,8, 2,4,6))\n",
    "    if np.any(np.logical_or(np.all('X' == board[combos].reshape((-1, 3)), axis=1),\n",
    "                            np.all('O' == board[combos].reshape((-1, 3)), axis=1))):\n",
    "        return True\n",
    "    else:\n",
    "        return False"
   ]
  },
  {
   "cell_type": "code",
   "execution_count": 5,
   "metadata": {
    "ExecuteTime": {
     "end_time": "2021-10-18T17:37:19.259089Z",
     "start_time": "2021-10-18T17:37:19.253112Z"
    }
   },
   "outputs": [
    {
     "name": "stdout",
     "output_type": "stream",
     "text": [
      "\n",
      "X| |O\n",
      "-----\n",
      " |X|O\n",
      "------\n",
      "X| | \n",
      "False\n",
      "\n",
      "X| |X\n",
      "-----\n",
      " |X|O\n",
      "------\n",
      "X| | \n",
      "True\n"
     ]
    },
    {
     "data": {
      "text/plain": [
       "(None, None)"
      ]
     },
     "execution_count": 5,
     "metadata": {},
     "output_type": "execute_result"
    }
   ],
   "source": [
    "board = np.array(['X',' ','O', ' ','X','O', 'X',' ',' '])\n",
    "printBoard(board), print(winner(board))\n",
    "board = np.array(['X',' ','X', ' ','X','O', 'X',' ',' '])\n",
    "printBoard(board), print(winner(board))"
   ]
  },
  {
   "cell_type": "markdown",
   "metadata": {},
   "source": [
    "How can we find all valid moves from a board?  Just find all of the spaces in the board representation"
   ]
  },
  {
   "cell_type": "code",
   "execution_count": 6,
   "metadata": {
    "ExecuteTime": {
     "end_time": "2021-10-18T17:37:20.292914Z",
     "start_time": "2021-10-18T17:37:20.289732Z"
    }
   },
   "outputs": [
    {
     "data": {
      "text/plain": [
       "(array([1, 3, 7, 8]),)"
      ]
     },
     "execution_count": 6,
     "metadata": {},
     "output_type": "execute_result"
    }
   ],
   "source": [
    "np.where(board == ' ')"
   ]
  },
  {
   "cell_type": "code",
   "execution_count": 7,
   "metadata": {
    "ExecuteTime": {
     "end_time": "2021-10-18T17:37:20.857101Z",
     "start_time": "2021-10-18T17:37:20.854356Z"
    }
   },
   "outputs": [
    {
     "data": {
      "text/plain": [
       "array([1, 3, 7, 8])"
      ]
     },
     "execution_count": 7,
     "metadata": {},
     "output_type": "execute_result"
    }
   ],
   "source": [
    "np.where(board == ' ')[0]"
   ]
  },
  {
   "cell_type": "markdown",
   "metadata": {},
   "source": [
    "And how do we pick one at random and make that move?"
   ]
  },
  {
   "cell_type": "code",
   "execution_count": 8,
   "metadata": {
    "ExecuteTime": {
     "end_time": "2021-10-18T17:37:22.493214Z",
     "start_time": "2021-10-18T17:37:22.488678Z"
    }
   },
   "outputs": [
    {
     "name": "stdout",
     "output_type": "stream",
     "text": [
      "From this board\n",
      "\n",
      "X| |O\n",
      "-----\n",
      " |X|O\n",
      "------\n",
      "X| | \n",
      "\n",
      "  Move 3\n",
      "\n",
      "results in board\n",
      "\n",
      "X| |O\n",
      "-----\n",
      "X|X|O\n",
      "------\n",
      "X| | \n"
     ]
    }
   ],
   "source": [
    "board = np.array(['X',' ','O', ' ','X','O', 'X',' ',' '])\n",
    "validMoves = np.where(board == ' ')[0]\n",
    "move = np.random.choice(validMoves)\n",
    "boardNew = copy.copy(board)\n",
    "boardNew[move] = 'X'\n",
    "print('From this board')\n",
    "printBoard(board)\n",
    "print('\\n  Move',move)\n",
    "print('\\nresults in board')\n",
    "printBoard(boardNew)"
   ]
  },
  {
   "cell_type": "markdown",
   "metadata": {},
   "source": [
    "If X just won, we want to set the Q value for the previous state (board) to 1, because X will always win from that state and that action (move).\n",
    "\n",
    "First we must figure out how to implement the Q table?  We want to associate a value with each board and move.  We can use a python dictionary for this.  We know how to represent a board.  A move can be an integer from 0 to 8 to index into the board array for the location to place a marker."
   ]
  },
  {
   "cell_type": "code",
   "execution_count": 9,
   "metadata": {
    "ExecuteTime": {
     "end_time": "2021-10-18T17:37:24.860029Z",
     "start_time": "2021-10-18T17:37:24.856730Z"
    }
   },
   "outputs": [
    {
     "data": {
      "text/plain": [
       "{(('X', ' ', 'O', ' ', 'X', 'O', 'X', ' ', ' '), 1): 0}"
      ]
     },
     "execution_count": 9,
     "metadata": {},
     "output_type": "execute_result"
    }
   ],
   "source": [
    "Q = {}  # empty table\n",
    "Q[(tuple(board), 1)] = 0\n",
    "Q"
   ]
  },
  {
   "cell_type": "code",
   "execution_count": 10,
   "metadata": {
    "ExecuteTime": {
     "end_time": "2021-10-18T17:37:25.392741Z",
     "start_time": "2021-10-18T17:37:25.389992Z"
    }
   },
   "outputs": [
    {
     "data": {
      "text/plain": [
       "0"
      ]
     },
     "execution_count": 10,
     "metadata": {},
     "output_type": "execute_result"
    }
   ],
   "source": [
    "Q[(tuple(board), 1)]"
   ]
  },
  {
   "cell_type": "markdown",
   "metadata": {},
   "source": [
    "What if we try to look up a Q value for a state,action we have not encountered yet?  It will not be in the dictionary.  We can use the *get* method for the dictionary, that has a second argument as the value returned if the key does not exist."
   ]
  },
  {
   "cell_type": "code",
   "execution_count": 11,
   "metadata": {
    "ExecuteTime": {
     "end_time": "2021-10-18T17:37:26.170260Z",
     "start_time": "2021-10-18T17:37:26.125093Z"
    }
   },
   "outputs": [
    {
     "ename": "KeyError",
     "evalue": "(('X', 'X', 'O', ' ', 'X', 'O', 'X', ' ', ' '), 1)",
     "output_type": "error",
     "traceback": [
      "\u001b[0;31m---------------------------------------------------------------------------\u001b[0m",
      "\u001b[0;31mKeyError\u001b[0m                                  Traceback (most recent call last)",
      "\u001b[0;32m/tmp/ipykernel_18904/2480898961.py\u001b[0m in \u001b[0;36m<module>\u001b[0;34m\u001b[0m\n\u001b[1;32m      1\u001b[0m \u001b[0mboard\u001b[0m\u001b[0;34m[\u001b[0m\u001b[0;36m1\u001b[0m\u001b[0;34m]\u001b[0m \u001b[0;34m=\u001b[0m \u001b[0;34m'X'\u001b[0m\u001b[0;34m\u001b[0m\u001b[0;34m\u001b[0m\u001b[0m\n\u001b[0;32m----> 2\u001b[0;31m \u001b[0mQ\u001b[0m\u001b[0;34m[\u001b[0m\u001b[0;34m(\u001b[0m\u001b[0mtuple\u001b[0m\u001b[0;34m(\u001b[0m\u001b[0mboard\u001b[0m\u001b[0;34m)\u001b[0m\u001b[0;34m,\u001b[0m \u001b[0;36m1\u001b[0m\u001b[0;34m)\u001b[0m\u001b[0;34m]\u001b[0m\u001b[0;34m\u001b[0m\u001b[0;34m\u001b[0m\u001b[0m\n\u001b[0m",
      "\u001b[0;31mKeyError\u001b[0m: (('X', 'X', 'O', ' ', 'X', 'O', 'X', ' ', ' '), 1)"
     ]
    }
   ],
   "source": [
    "board[1] = 'X'\n",
    "Q[(tuple(board), 1)]"
   ]
  },
  {
   "cell_type": "code",
   "execution_count": 12,
   "metadata": {
    "ExecuteTime": {
     "end_time": "2021-10-18T17:37:27.664650Z",
     "start_time": "2021-10-18T17:37:27.661244Z"
    }
   },
   "outputs": [
    {
     "data": {
      "text/plain": [
       "42"
      ]
     },
     "execution_count": 12,
     "metadata": {},
     "output_type": "execute_result"
    }
   ],
   "source": [
    "Q.get((tuple(board), 1), 42)"
   ]
  },
  {
   "cell_type": "markdown",
   "metadata": {},
   "source": [
    "Now we can set the Q value for (board,move) to 1."
   ]
  },
  {
   "cell_type": "code",
   "execution_count": 13,
   "metadata": {
    "ExecuteTime": {
     "end_time": "2021-10-18T17:37:29.194883Z",
     "start_time": "2021-10-18T17:37:29.192677Z"
    }
   },
   "outputs": [],
   "source": [
    "Q[(tuple(board), move)] = 1"
   ]
  },
  {
   "cell_type": "markdown",
   "metadata": {},
   "source": [
    "If the board is full, then the the previous state and action should be assigned 0."
   ]
  },
  {
   "cell_type": "code",
   "execution_count": 14,
   "metadata": {
    "ExecuteTime": {
     "end_time": "2021-10-18T17:37:30.137986Z",
     "start_time": "2021-10-18T17:37:30.135664Z"
    }
   },
   "outputs": [],
   "source": [
    "Q[(tuple(board), move)] = 0"
   ]
  },
  {
   "cell_type": "markdown",
   "metadata": {},
   "source": [
    "If the board is not full, better check to see if O just won.  If O did just win, then we should adjust the Q value of the previous state and X action to be closer to -1, because we just received a -1 reinforcement and the game is over."
   ]
  },
  {
   "cell_type": "code",
   "execution_count": 15,
   "metadata": {
    "ExecuteTime": {
     "end_time": "2021-10-18T17:37:30.729360Z",
     "start_time": "2021-10-18T17:37:30.727035Z"
    }
   },
   "outputs": [],
   "source": [
    "rho = 0.1 # learning rate\n",
    "Q[(tuple(board), move)] += rho * (-1 - Q[(tuple(board), move)])"
   ]
  },
  {
   "cell_type": "markdown",
   "metadata": {},
   "source": [
    "If nobody won yet, let's calculate the temporal difference error and use it to adjust the Q value of the previous board,move. We do this only if we are not at the first move of a game."
   ]
  },
  {
   "cell_type": "code",
   "execution_count": 16,
   "metadata": {
    "ExecuteTime": {
     "end_time": "2021-10-18T17:37:31.497061Z",
     "start_time": "2021-10-18T17:37:31.494229Z"
    }
   },
   "outputs": [],
   "source": [
    "step = 0\n",
    "if step > 0:\n",
    "    Q[(tuple(boardOld), moveOld)] += rho * (Q[(tuple(board), move)] - Q[(tuple(boardOld), moveOld)])"
   ]
  },
  {
   "cell_type": "markdown",
   "metadata": {},
   "source": [
    "Initially, taking random moves is a good strategy, because we know nothing about how to play Tic-Tac-Toe.  But, once we have gained some experience and our Q table has acquired some good predictions of the sum of future reinforcement, we should rely on our Q values to pick good moves.  For a given board, which move is predicted to lead to the best possible future using the current Q table?"
   ]
  },
  {
   "cell_type": "code",
   "execution_count": 17,
   "metadata": {
    "ExecuteTime": {
     "end_time": "2021-10-18T17:37:32.100443Z",
     "start_time": "2021-10-18T17:37:32.096582Z"
    }
   },
   "outputs": [
    {
     "name": "stdout",
     "output_type": "stream",
     "text": [
      "Valid moves are [3 7 8]\n",
      "Q values for validMoves are [-0.1  0.   0. ]\n",
      "Best move is 7\n"
     ]
    }
   ],
   "source": [
    "validMoves = np.where(board == ' ')[0]\n",
    "print('Valid moves are', validMoves)\n",
    "Qs = np.array([Q.get((tuple(board), m), 0) for m in validMoves]) \n",
    "print('Q values for validMoves are', Qs)\n",
    "bestMove = validMoves[np.argmax(Qs)]\n",
    "print('Best move is', bestMove)"
   ]
  },
  {
   "cell_type": "markdown",
   "metadata": {},
   "source": [
    "To slowly transition from taking random actions to taking the action currently believed to be best, called the *greedy* action, we slowly decay a parameter, $\\epsilon$, from 1 down towards 0 as the probability of selecting a random action.  This is called the $\\epsilon$-greedy policy."
   ]
  },
  {
   "cell_type": "code",
   "execution_count": 18,
   "metadata": {
    "ExecuteTime": {
     "end_time": "2021-10-18T17:37:33.667758Z",
     "start_time": "2021-10-18T17:37:33.663875Z"
    }
   },
   "outputs": [
    {
     "data": {
      "text/plain": [
       "array([2, 4, 5])"
      ]
     },
     "execution_count": 18,
     "metadata": {},
     "output_type": "execute_result"
    }
   ],
   "source": [
    "s=np.array([4, 2, 5])\n",
    "np.random.shuffle(s)\n",
    "s"
   ]
  },
  {
   "cell_type": "code",
   "execution_count": 19,
   "metadata": {
    "ExecuteTime": {
     "end_time": "2021-10-18T17:37:34.073515Z",
     "start_time": "2021-10-18T17:37:34.068947Z"
    }
   },
   "outputs": [
    {
     "data": {
      "text/plain": [
       "7"
      ]
     },
     "execution_count": 19,
     "metadata": {},
     "output_type": "execute_result"
    }
   ],
   "source": [
    "def epsilonGreedy(epsilon, Q, board):\n",
    "    validMoves = np.where(board == ' ')[0]\n",
    "    if np.random.uniform() < epsilon:\n",
    "        # Random Move\n",
    "        return np.random.choice(validMoves)\n",
    "    else:\n",
    "        # Greedy Move\n",
    "        np.random.shuffle(validMoves)\n",
    "        Qs = np.array([Q.get((tuple(board) ,m), 0) for m in validMoves]) \n",
    "        return validMoves[ np.argmax(Qs) ]\n",
    "    \n",
    "epsilonGreedy(0.8, Q, board)"
   ]
  },
  {
   "cell_type": "markdown",
   "metadata": {},
   "source": [
    "Now write a function to make plots to show results of some games.  Say the variable *outcomes* is a vector of 1's, 0's, and -1's, for games in which X wins, draws, and loses, respectively."
   ]
  },
  {
   "cell_type": "code",
   "execution_count": 20,
   "metadata": {
    "ExecuteTime": {
     "end_time": "2021-10-18T17:37:34.934484Z",
     "start_time": "2021-10-18T17:37:34.930742Z"
    }
   },
   "outputs": [
    {
     "data": {
      "text/plain": [
       "array([ 0,  1,  1,  1,  1,  0, -1, -1,  0,  0])"
      ]
     },
     "execution_count": 20,
     "metadata": {},
     "output_type": "execute_result"
    }
   ],
   "source": [
    "outcomes = np.random.choice([-1, 0, 1], replace=True, size=(1000))\n",
    "outcomes[:10]"
   ]
  },
  {
   "cell_type": "code",
   "execution_count": 21,
   "metadata": {
    "ExecuteTime": {
     "end_time": "2021-10-18T17:37:35.939305Z",
     "start_time": "2021-10-18T17:37:35.934474Z"
    }
   },
   "outputs": [],
   "source": [
    "def plotOutcomes(outcomes, epsilons, maxGames, nGames):\n",
    "    if nGames == 0:\n",
    "        return\n",
    "    nBins = 100\n",
    "    nPer = maxGames // nBins\n",
    "    outcomeRows = outcomes.reshape((-1, nPer))\n",
    "    outcomeRows = outcomeRows[:nGames // nPer + 1, :]\n",
    "    avgs = np.mean(outcomeRows, axis=1)\n",
    "    \n",
    "    plt.subplot(3, 1, 1)\n",
    "    xs = np.linspace(nPer, nGames, len(avgs))\n",
    "    plt.plot(xs, avgs)\n",
    "    plt.xlabel('Games')\n",
    "    plt.ylabel('Mean of Outcomes\\n(0=draw, 1=X win, -1=O win)')\n",
    "    plt.title('Bins of {:d} Games'.format(nPer))\n",
    "    \n",
    "    plt.subplot(3, 1, 2)\n",
    "    plt.plot(xs,np.sum(outcomeRows==-1, axis=1), 'r-', label='Losses')\n",
    "    plt.plot(xs,np.sum(outcomeRows==0,axis=1),'b-', label='Draws')\n",
    "    plt.plot(xs,np.sum(outcomeRows==1,axis=1), 'g-', label='Wins')\n",
    "    plt.legend(loc=\"center\")\n",
    "    plt.ylabel('Number of Games\\nin Bins of {:d}'.format(nPer))\n",
    "    \n",
    "    plt.subplot(3, 1, 3)\n",
    "    plt.plot(epsilons[:nGames])\n",
    "    plt.ylabel('$\\epsilon$')"
   ]
  },
  {
   "cell_type": "code",
   "execution_count": 22,
   "metadata": {
    "ExecuteTime": {
     "end_time": "2021-10-18T17:37:37.883227Z",
     "start_time": "2021-10-18T17:37:37.534055Z"
    }
   },
   "outputs": [
    {
     "data": {
      "image/png": "[encoded data removed]",
      "text/plain": [
       "<Figure size 576x576 with 3 Axes>"
      ]
     },
     "metadata": {
      "needs_background": "light"
     },
     "output_type": "display_data"
    }
   ],
   "source": [
    "plt.figure(figsize=(8, 8))\n",
    "plotOutcomes(outcomes, np.zeros(1000), 1000, 1000)"
   ]
  },
  {
   "cell_type": "markdown",
   "metadata": {},
   "source": [
    "Finally, let's write the whole Tic-Tac-Toe learning loop!"
   ]
  },
  {
   "cell_type": "code",
   "execution_count": 23,
   "metadata": {
    "ExecuteTime": {
     "end_time": "2021-10-18T17:37:40.922609Z",
     "start_time": "2021-10-18T17:37:40.920192Z"
    }
   },
   "outputs": [],
   "source": [
    "from IPython.display import display, clear_output"
   ]
  },
  {
   "cell_type": "code",
   "execution_count": 24,
   "metadata": {
    "ExecuteTime": {
     "end_time": "2021-10-18T17:37:56.136785Z",
     "start_time": "2021-10-18T17:37:41.819082Z"
    }
   },
   "outputs": [
    {
     "name": "stdout",
     "output_type": "stream",
     "text": [
      "Outcomes: 8908 X wins 620 O wins 472 draws\n"
     ]
    },
    {
     "data": {
      "image/png": "[encoded data removed]",
      "text/plain": [
       "<Figure size 720x720 with 3 Axes>"
      ]
     },
     "metadata": {
      "needs_background": "light"
     },
     "output_type": "display_data"
    }
   ],
   "source": [
    "maxGames = 10000\n",
    "rho = 0.5\n",
    "epsilonDecayRate = 0.999\n",
    "epsilon = 1.0\n",
    "graphics = True\n",
    "showMoves = not graphics\n",
    "\n",
    "outcomes = np.zeros(maxGames)\n",
    "epsilons = np.zeros(maxGames)\n",
    "Q = {}\n",
    "\n",
    "if graphics:\n",
    "    fig = plt.figure(figsize=(10, 10))\n",
    "\n",
    "for nGames in range(maxGames):\n",
    "    \n",
    "    epsilon *= epsilonDecayRate\n",
    "    epsilons[nGames] = epsilon\n",
    "    step = 0\n",
    "    board = np.array([' '] * 9)  # empty board\n",
    "    done = False\n",
    "    \n",
    "    while not done:        \n",
    "        step += 1\n",
    "        \n",
    "        # X's turn\n",
    "        move = epsilonGreedy(epsilon, Q, board)\n",
    "        boardNew = copy.copy(board)\n",
    "        boardNew[move] = 'X'\n",
    "        if (tuple(board), move) not in Q:\n",
    "            Q[(tuple(board), move)] = 0  # initial Q value for new board,move\n",
    "        if showMoves:\n",
    "            printBoard(boardNew)\n",
    "            \n",
    "        if winner(boardNew):\n",
    "            # X won!\n",
    "            if showMoves:\n",
    "                print('        X Won!')\n",
    "            Q[(tuple(board), move)] = 1\n",
    "            done = True\n",
    "            outcomes[nGames] = 1\n",
    "            \n",
    "        elif not np.any(boardNew == ' '):\n",
    "            # Game over. No winner.\n",
    "            if showMoves:\n",
    "                print('        draw.')\n",
    "            Q[(tuple(board), move)] = 0\n",
    "            done = True\n",
    "            outcomes[nGames] = 0\n",
    "            \n",
    "        else:\n",
    "            # O's turn.  O is a random player!\n",
    "            moveO = np.random.choice(np.where(boardNew==' ')[0])\n",
    "            boardNew[moveO] = 'O'\n",
    "            if showMoves:\n",
    "                printBoard(boardNew)\n",
    "            if winner(boardNew):\n",
    "                # O won!\n",
    "                if showMoves:\n",
    "                    print('        O Won!')\n",
    "                Q[(tuple(board), move)] += rho * (-1 - Q[(tuple(board), move)])\n",
    "                done = True\n",
    "                outcomes[nGames] = -1\n",
    "        \n",
    "        if step > 1:\n",
    "            Q[(tuple(boardOld), moveOld)] += rho * (Q[(tuple(board), move)] - Q[(tuple(boardOld), moveOld)])\n",
    "            \n",
    "        boardOld, moveOld = board, move # remember board and move to Q(board,move) can be updated after next steps\n",
    "        board = boardNew\n",
    "        \n",
    "        if graphics and (nGames % (maxGames/10) == 0 or nGames == maxGames-1):\n",
    "            fig.clf() \n",
    "            plotOutcomes(outcomes, epsilons ,maxGames, nGames-1)\n",
    "            clear_output(wait=True)\n",
    "            display(fig);\n",
    "\n",
    "if graphics:\n",
    "    clear_output(wait=True)\n",
    "print('Outcomes: {:d} X wins {:d} O wins {:d} draws'.format(np.sum(outcomes==1), np.sum(outcomes==-1), np.sum(outcomes==0)))"
   ]
  },
  {
   "cell_type": "code",
   "execution_count": 25,
   "metadata": {
    "ExecuteTime": {
     "end_time": "2021-10-18T17:38:06.158623Z",
     "start_time": "2021-10-18T17:38:06.155111Z"
    }
   },
   "outputs": [
    {
     "data": {
      "text/plain": [
       "0.4500123228516611"
      ]
     },
     "execution_count": 25,
     "metadata": {},
     "output_type": "execute_result"
    }
   ],
   "source": [
    "Q[(tuple([' ']*9),0)]"
   ]
  },
  {
   "cell_type": "code",
   "execution_count": 26,
   "metadata": {
    "ExecuteTime": {
     "end_time": "2021-10-18T17:38:06.581701Z",
     "start_time": "2021-10-18T17:38:06.578170Z"
    }
   },
   "outputs": [
    {
     "data": {
      "text/plain": [
       "0.078652498265361"
      ]
     },
     "execution_count": 26,
     "metadata": {},
     "output_type": "execute_result"
    }
   ],
   "source": [
    "Q[(tuple([' ']*9),1)]"
   ]
  },
  {
   "cell_type": "code",
   "execution_count": 27,
   "metadata": {
    "ExecuteTime": {
     "end_time": "2021-10-18T17:38:07.013795Z",
     "start_time": "2021-10-18T17:38:07.010347Z"
    }
   },
   "outputs": [
    {
     "data": {
      "text/plain": [
       "0.4500123228516611"
      ]
     },
     "execution_count": 27,
     "metadata": {},
     "output_type": "execute_result"
    }
   ],
   "source": [
    "Q.get((tuple([' ']*9),0), 0)"
   ]
  },
  {
   "cell_type": "code",
   "execution_count": 28,
   "metadata": {
    "ExecuteTime": {
     "end_time": "2021-10-18T17:38:07.410876Z",
     "start_time": "2021-10-18T17:38:07.407486Z"
    }
   },
   "outputs": [
    {
     "data": {
      "text/plain": [
       "[0.4500123228516611,\n",
       " 0.078652498265361,\n",
       " 0.37695635545455847,\n",
       " 0.3524843289824734,\n",
       " 0.6188915684407905,\n",
       " 0.9988804440197128,\n",
       " 0.3977900368684604,\n",
       " 0.3497130320763806,\n",
       " 0.3308925837948876]"
      ]
     },
     "execution_count": 28,
     "metadata": {},
     "output_type": "execute_result"
    }
   ],
   "source": [
    "[Q.get((tuple([' ']*9),m), 0) for m in range(9)]"
   ]
  },
  {
   "cell_type": "code",
   "execution_count": 29,
   "metadata": {
    "ExecuteTime": {
     "end_time": "2021-10-18T17:38:08.077526Z",
     "start_time": "2021-10-18T17:38:08.073635Z"
    }
   },
   "outputs": [
    {
     "name": "stdout",
     "output_type": "stream",
     "text": [
      "\n",
      " | | \n",
      "-----\n",
      " | | \n",
      "------\n",
      " | | \n",
      "0.45 | 0.08 | 0.38\n",
      "------------------\n",
      "0.35 | 0.62 | 1.00\n",
      "------------------\n",
      "0.40 | 0.35 | 0.33\n"
     ]
    }
   ],
   "source": [
    "board = np.array([' ']*9)\n",
    "Qs = [Q.get((tuple(board),m), 0) for m in range(9)]\n",
    "printBoard(board)\n",
    "print('''{:.2f} | {:.2f} | {:.2f}\n",
    "------------------\n",
    "{:.2f} | {:.2f} | {:.2f}\n",
    "------------------\n",
    "{:.2f} | {:.2f} | {:.2f}'''.format(*Qs))"
   ]
  },
  {
   "cell_type": "code",
   "execution_count": 30,
   "metadata": {
    "ExecuteTime": {
     "end_time": "2021-10-18T17:38:08.612405Z",
     "start_time": "2021-10-18T17:38:08.610187Z"
    }
   },
   "outputs": [],
   "source": [
    "def printBoardQs(board,Q):\n",
    "    printBoard(board)\n",
    "    Qs = [Q.get((tuple(board),m), 0) for m in range(9)]\n",
    "    print()\n",
    "    print('''{:.2f} | {:.2f} | {:.2f}\n",
    "------------------\n",
    "{:.2f} | {:.2f} | {:.2f}\n",
    "------------------\n",
    "{:.2f} | {:.2f} | {:.2f}'''.format(*Qs))"
   ]
  },
  {
   "cell_type": "code",
   "execution_count": 31,
   "metadata": {
    "ExecuteTime": {
     "end_time": "2021-10-18T17:38:09.243263Z",
     "start_time": "2021-10-18T17:38:09.240624Z"
    }
   },
   "outputs": [
    {
     "name": "stdout",
     "output_type": "stream",
     "text": [
      "\n",
      "X|O| \n",
      "-----\n",
      " | | \n",
      "------\n",
      " | | \n",
      "\n",
      "0.00 | 0.00 | 0.00\n",
      "------------------\n",
      "0.00 | 0.91 | 0.00\n",
      "------------------\n",
      "0.00 | 0.00 | 0.00\n"
     ]
    }
   ],
   "source": [
    "board[0] = 'X'\n",
    "board[1] = 'O'\n",
    "printBoardQs(board,Q)"
   ]
  },
  {
   "cell_type": "code",
   "execution_count": 32,
   "metadata": {
    "ExecuteTime": {
     "end_time": "2021-10-18T17:38:09.615810Z",
     "start_time": "2021-10-18T17:38:09.613136Z"
    }
   },
   "outputs": [
    {
     "name": "stdout",
     "output_type": "stream",
     "text": [
      "\n",
      "X|O| \n",
      "-----\n",
      "O|X| \n",
      "------\n",
      " | | \n",
      "\n",
      "0.00 | 0.00 | 0.00\n",
      "------------------\n",
      "0.00 | 0.00 | 0.00\n",
      "------------------\n",
      "0.38 | 0.00 | 1.00\n"
     ]
    }
   ],
   "source": [
    "board[4] = 'X'\n",
    "board[3] = 'O'\n",
    "printBoardQs(board,Q)"
   ]
  },
  {
   "cell_type": "code",
   "execution_count": 33,
   "metadata": {
    "ExecuteTime": {
     "end_time": "2021-10-18T17:38:10.177750Z",
     "start_time": "2021-10-18T17:38:10.174618Z"
    }
   },
   "outputs": [
    {
     "name": "stdout",
     "output_type": "stream",
     "text": [
      "\n",
      " | | \n",
      "-----\n",
      " | | \n",
      "------\n",
      " | | \n",
      "\n",
      "0.45 | 0.08 | 0.38\n",
      "------------------\n",
      "0.35 | 0.62 | 1.00\n",
      "------------------\n",
      "0.40 | 0.35 | 0.33\n"
     ]
    }
   ],
   "source": [
    "board = np.array([' ']*9)\n",
    "printBoardQs(board,Q)"
   ]
  },
  {
   "cell_type": "code",
   "execution_count": 34,
   "metadata": {
    "ExecuteTime": {
     "end_time": "2021-10-18T17:38:10.810303Z",
     "start_time": "2021-10-18T17:38:10.807337Z"
    }
   },
   "outputs": [
    {
     "name": "stdout",
     "output_type": "stream",
     "text": [
      "\n",
      "X| | \n",
      "-----\n",
      " |O| \n",
      "------\n",
      " | | \n",
      "\n",
      "0.00 | -0.21 | 0.00\n",
      "------------------\n",
      "-0.02 | 0.00 | 0.00\n",
      "------------------\n",
      "-0.06 | 0.00 | -0.19\n"
     ]
    }
   ],
   "source": [
    "board[0] = 'X'\n",
    "board[4] = 'O'\n",
    "printBoardQs(board,Q)"
   ]
  },
  {
   "cell_type": "code",
   "execution_count": 35,
   "metadata": {
    "ExecuteTime": {
     "end_time": "2021-10-18T17:38:11.283170Z",
     "start_time": "2021-10-18T17:38:11.280515Z"
    }
   },
   "outputs": [
    {
     "name": "stdout",
     "output_type": "stream",
     "text": [
      "\n",
      "X|O|X\n",
      "-----\n",
      " |O| \n",
      "------\n",
      " | | \n",
      "\n",
      "0.00 | 0.00 | 0.00\n",
      "------------------\n",
      "0.00 | 0.00 | 0.00\n",
      "------------------\n",
      "0.50 | 0.00 | -0.50\n"
     ]
    }
   ],
   "source": [
    "board[2] = 'X'\n",
    "board[1] = 'O'\n",
    "printBoardQs(board,Q)"
   ]
  },
  {
   "cell_type": "code",
   "execution_count": 36,
   "metadata": {
    "ExecuteTime": {
     "end_time": "2021-10-18T17:38:11.879240Z",
     "start_time": "2021-10-18T17:38:11.876608Z"
    }
   },
   "outputs": [
    {
     "name": "stdout",
     "output_type": "stream",
     "text": [
      "\n",
      "X|O|X\n",
      "-----\n",
      "O|O| \n",
      "------\n",
      " |X| \n",
      "\n",
      "0.00 | 0.00 | 0.00\n",
      "------------------\n",
      "0.00 | 0.00 | 0.00\n",
      "------------------\n",
      "0.00 | 0.00 | 0.00\n"
     ]
    }
   ],
   "source": [
    "board[7] = 'X'\n",
    "board[3] = 'O'\n",
    "printBoardQs(board,Q)"
   ]
  },
  {
   "cell_type": "code",
   "execution_count": 37,
   "metadata": {
    "ExecuteTime": {
     "end_time": "2021-10-18T17:38:13.014580Z",
     "start_time": "2021-10-18T17:38:13.011410Z"
    }
   },
   "outputs": [
    {
     "name": "stdout",
     "output_type": "stream",
     "text": [
      "\n",
      "X|O|X\n",
      "-----\n",
      "O|O|X\n",
      "------\n",
      "O|X| \n",
      "\n",
      "0.00 | 0.00 | 0.00\n",
      "------------------\n",
      "0.00 | 0.00 | 0.00\n",
      "------------------\n",
      "0.00 | 0.00 | 1.00\n"
     ]
    }
   ],
   "source": [
    "board[5] = 'X'\n",
    "board[6] = 'O'\n",
    "printBoardQs(board,Q)"
   ]
  },
  {
   "cell_type": "markdown",
   "metadata": {
    "collapsed": true
   },
   "source": [
    "# Neural Network as Q function for Tic-Tac-Toe"
   ]
  },
  {
   "cell_type": "code",
   "execution_count": 38,
   "metadata": {
    "ExecuteTime": {
     "end_time": "2021-10-18T17:38:27.329077Z",
     "start_time": "2021-10-18T17:38:27.325384Z"
    }
   },
   "outputs": [],
   "source": [
    "import neuralnetworks_A4 as nn"
   ]
  },
  {
   "cell_type": "markdown",
   "metadata": {},
   "source": [
    "To use a neural network, we must represent the board numerically.  Let's use a vector of 9 values of either 1, -1, or 0 to represent 'X', 'O', or no markers.\n",
    "\n",
    "And, let's use one Qnet for Player X and a different one for Player O!|"
   ]
  },
  {
   "cell_type": "code",
   "execution_count": 39,
   "metadata": {
    "ExecuteTime": {
     "end_time": "2021-10-18T17:38:30.763303Z",
     "start_time": "2021-10-18T17:38:30.758266Z"
    }
   },
   "outputs": [],
   "source": [
    "def initial_state():\n",
    "    return np.array([0] * 9)\n",
    "\n",
    "def next_state(s, a, marker):  # s is a board, and a is an index into the cells of the board, marker is 1 or -1\n",
    "    s = s.copy()\n",
    "    s[a] = 1 if marker == 'X' else -1\n",
    "    return s\n",
    "\n",
    "def reinforcement(s):\n",
    "    if won('X', s):\n",
    "        return 1\n",
    "    if won('O', s):\n",
    "        return -1\n",
    "    return 0\n",
    "\n",
    "def won(player, s):\n",
    "    marker = 1 if player == 'X' else -1\n",
    "    combos = np.array((0,1,2, 3,4,5, 6,7,8, 0,3,6, 1,4,7, 2,5,8, 0,4,8, 2,4,6))\n",
    "    return np.any(np.all(marker == s[combos].reshape((-1, 3)), axis=1))\n",
    "\n",
    "def draw(s):\n",
    "    return sum(s == 0) == 0"
   ]
  },
  {
   "cell_type": "code",
   "execution_count": 40,
   "metadata": {
    "ExecuteTime": {
     "end_time": "2021-10-18T17:38:33.298406Z",
     "start_time": "2021-10-18T17:38:33.296013Z"
    }
   },
   "outputs": [],
   "source": [
    "def valid_actions(state):\n",
    "    return np.where(state == 0)[0]"
   ]
  },
  {
   "cell_type": "code",
   "execution_count": 41,
   "metadata": {
    "ExecuteTime": {
     "end_time": "2021-10-18T17:38:33.740110Z",
     "start_time": "2021-10-18T17:38:33.737529Z"
    }
   },
   "outputs": [],
   "source": [
    "def stack_sa(s, a):\n",
    "    return np.hstack((s, a)).reshape(1, -1)\n",
    "\n",
    "def other_player(player):\n",
    "    return 'X' if player == 'O' else 'O'"
   ]
  },
  {
   "cell_type": "code",
   "execution_count": 42,
   "metadata": {
    "ExecuteTime": {
     "end_time": "2021-10-18T17:38:34.353910Z",
     "start_time": "2021-10-18T17:38:34.350046Z"
    }
   },
   "outputs": [],
   "source": [
    "def epsilon_greedy(Qnet, state, epsilon):\n",
    "    \n",
    "    actions = valid_actions(state)\n",
    "    \n",
    "    if np.random.uniform() < epsilon:\n",
    "        # Random Move\n",
    "        action = np.random.choice(actions)\n",
    "        \n",
    "    else:\n",
    "        # Greedy Move\n",
    "        np.random.shuffle(actions)\n",
    "        Qs = np.array([Qnet.use(stack_sa(state, a)) for a in actions])\n",
    "        action = actions[np.argmax(Qs)]\n",
    "        \n",
    "    return action"
   ]
  },
  {
   "cell_type": "code",
   "execution_count": 43,
   "metadata": {
    "ExecuteTime": {
     "end_time": "2021-10-18T17:38:36.356437Z",
     "start_time": "2021-10-18T17:38:36.350305Z"
    }
   },
   "outputs": [],
   "source": [
    "def make_samples(Qnets, initial_state_f, next_state_f, reinforcement_f, epsilon):\n",
    "    '''Run one game'''\n",
    "    X = []\n",
    "    R = []\n",
    "    Qn = []\n",
    "\n",
    "    s = initial_state_f()\n",
    "    player = 'X'\n",
    "\n",
    "    while True:\n",
    "        \n",
    "        a = epsilon_greedy(Qnets[player], s, epsilon)\n",
    "        sn = next_state_f(s, a, player)\n",
    "        r = reinforcement_f(s)\n",
    "\n",
    "        X.append(stack_sa(s, a))\n",
    "        R.append(r)\n",
    "\n",
    "        if r != 0 or draw(sn):\n",
    "            break\n",
    "\n",
    "        s = sn\n",
    "        player = other_player(player)  # switch\n",
    "\n",
    "    X = np.vstack(X)\n",
    "    R = np.array(R).reshape(-1, 1)\n",
    "\n",
    "    # Assign all Qn's, based on following state, but go every other state to do all X values,\n",
    "    # and to do all O values.\n",
    "    Qn = np.zeros_like(R)\n",
    "    if len(Qn) % 2 == 1:\n",
    "        # Odd number of samples, so 0 won\n",
    "        # for X samples\n",
    "        Qn[:-4:2, :] = Qnets['X'].use(X[2:-2:2])  # leave last sample Qn=0\n",
    "        R[-2, 0] = R[-1, 0]  # copy final r (win for O) to last X state, too\n",
    "        # for O samples\n",
    "        Qn[1:-4:2, :] = Qnets['O'].use(X[3:-2:2])  # leave last sample Qn=0\n",
    "    else:\n",
    "        # Odd number of samples, so X won or draw\n",
    "        # for X samples\n",
    "        Qn[:-4:2, :] = Qnets['X'].use(X[2:-2:2])  # leave last sample Qn=0\n",
    "        R[-2, 0] = - R[-1, 0]  # copy negated final r (win for X) to last O state, too\n",
    "        # for O samples\n",
    "        Qn[1:-4:2, :] = Qnets['O'].use(X[3:-2:2])\n",
    "        \n",
    "    return {'X': X, 'R': R, 'Qn': Qn}"
   ]
  },
  {
   "cell_type": "code",
   "execution_count": 44,
   "metadata": {
    "ExecuteTime": {
     "end_time": "2021-10-18T17:38:40.054250Z",
     "start_time": "2021-10-18T17:38:40.049043Z"
    }
   },
   "outputs": [],
   "source": [
    "def plot_status(outcomes, epsilons, n_trials, trial):\n",
    "    if trial == 0:\n",
    "        return\n",
    "    outcomes = np.array(outcomes)\n",
    "    n_per = 10\n",
    "    n_bins = (trial + 1) // n_per\n",
    "    if n_bins == 0:\n",
    "        return\n",
    "    outcome_rows = outcomes[:n_per * n_bins].reshape((-1, n_per))\n",
    "    outcome_rows = outcome_rows[:trial // n_per + 1, :]\n",
    "    avgs = np.mean(outcome_rows, axis=1)\n",
    "    \n",
    "    plt.subplot(3, 1, 1)\n",
    "    xs = np.linspace(n_per, n_per * n_bins, len(avgs))\n",
    "    plt.plot(xs, avgs)\n",
    "    plt.ylim(-1.1, 1.1)\n",
    "    plt.xlabel('Games')\n",
    "    plt.ylabel('Mean of Outcomes') # \\n(0=draw, 1=X win, -1=O win)')\n",
    "    plt.title(f'Bins of {n_per:d} Games')\n",
    "    \n",
    "    plt.subplot(3, 1, 2)\n",
    "    plt.plot(xs, np.sum(outcome_rows == -1, axis=1), 'r-', label='Losses')\n",
    "    plt.plot(xs, np.sum(outcome_rows == 0, axis=1), 'b-', label='Draws')\n",
    "    plt.plot(xs, np.sum(outcome_rows == 1, axis=1), 'g-', label='Wins')\n",
    "    plt.legend(loc='center')\n",
    "    plt.ylabel(f'Number of Games\\nin Bins of {n_per:d}')\n",
    "    \n",
    "    plt.subplot(3, 1, 3)\n",
    "    plt.plot(epsilons[:trial])\n",
    "    plt.ylabel('$\\epsilon$')\n"
   ]
  },
  {
   "cell_type": "code",
   "execution_count": 45,
   "metadata": {
    "ExecuteTime": {
     "end_time": "2021-10-18T17:38:52.247779Z",
     "start_time": "2021-10-18T17:38:52.245146Z"
    }
   },
   "outputs": [],
   "source": [
    "def setup_standardization(Qnet, Xmeans, Xstds, Tmeans, Tstds):\n",
    "    Qnet.X_means = np.array(Xmeans)\n",
    "    Qnet.X_stds = np.array(Xstds)\n",
    "    Qnet.T_means = np.array(Tmeans)\n",
    "    Qnet.T_stds = np.array(Tstds)"
   ]
  },
  {
   "cell_type": "code",
   "execution_count": 46,
   "metadata": {
    "ExecuteTime": {
     "end_time": "2021-10-18T17:39:23.556232Z",
     "start_time": "2021-10-18T17:39:16.807017Z"
    }
   },
   "outputs": [
    {
     "data": {
      "image/png": "[encoded data removed]",
      "text/plain": [
       "<Figure size 720x720 with 3 Axes>"
      ]
     },
     "metadata": {
      "needs_background": "light"
     },
     "output_type": "display_data"
    }
   ],
   "source": [
    "from IPython.display import display, clear_output\n",
    "fig = plt.figure(figsize=(10, 10))\n",
    "\n",
    "gamma = 0.8       # discount factor\n",
    "n_trials = 500         # number of repetitions of makeSamples-updateQ loop\n",
    "n_epochs = 5\n",
    "learning_rate = 0.01\n",
    "final_epsilon = 0.01 # value of epsilon at end of simulation. Decay rate is calculated\n",
    "epsilon_decay =  np.exp(np.log(final_epsilon) / (n_trials)) # to produce this final value\n",
    "# epsilon_decay = 1  # to force both players to take random actions\n",
    "print('epsilon_decay is', epsilon_decay)\n",
    "\n",
    "#################################################################################\n",
    "# Qnet for Player 'X'\n",
    "nhX = [5]  # hidden layers structure\n",
    "QnetX = nn.NeuralNetwork(9 + 1, nhX, 1)\n",
    "\n",
    "# Qnet for Player 'O'\n",
    "nhO = []  # hidden layers structure\n",
    "QnetO = nn.NeuralNetwork(9 + 1, nhO, 1)\n",
    "#################################################################################\n",
    "\n",
    "# Inputs are 9 TTT cells plus 1 action\n",
    "setup_standardization(QnetX, [0] * 10, [1] * 10, [0], [1])\n",
    "setup_standardization(QnetO, [0] * 10, [1] * 10, [0], [1])\n",
    "\n",
    "Qnets = {'X': QnetX, 'O': QnetO}\n",
    "\n",
    "fig = plt.figure(1, figsize=(10, 10))\n",
    "\n",
    "epsilon = 1         # initial epsilon value\n",
    "outcomes = []\n",
    "epsilon_trace = []\n",
    "\n",
    "# Train for n_trials\n",
    "for trial in range(n_trials):\n",
    "    \n",
    "    samples = make_samples(Qnets, initial_state, next_state, reinforcement, epsilon)\n",
    "    \n",
    "    for player in ['X', 'O']:\n",
    "        first_sample = 0 if player == 'X' else 1\n",
    "        rows = slice(0, None, 2) if player == 'X' else slice(1, None, 2)\n",
    "        X = samples['X'][rows, :]\n",
    "        R = samples['R'][rows, :]\n",
    "        Qn = samples['Qn'][rows, :]\n",
    "        T = R + gamma * Qn\n",
    "        Qnets[player].train(X, T, n_epochs, method='sgd', learning_rate=learning_rate, batch_size=-1, verbose=False)\n",
    "\n",
    "    # Rest is for plotting\n",
    "    epsilon_trace.append(epsilon)\n",
    "    epsilon *= epsilon_decay\n",
    "    n_moves = len(samples['R'])\n",
    "    final_r = samples['R'][-1]\n",
    "    # if odd n_moves, then O won so negate final_r for X perspective\n",
    "    outcome = final_r if n_moves % 2 == 0 else -final_r\n",
    "    outcomes.append(outcome)\n",
    "    if True and (trial + 1 == n_trials or trial % (n_trials / 20) == 0):\n",
    "        fig.clf()\n",
    "        plot_status(outcomes, epsilon_trace, n_trials, trial)\n",
    "        clear_output(wait=True)\n",
    "        display(fig)\n",
    "\n",
    "clear_output(wait=True);"
   ]
  },
  {
   "cell_type": "code",
   "execution_count": null,
   "metadata": {},
   "outputs": [],
   "source": []
  },
  {
   "cell_type": "code",
   "execution_count": null,
   "metadata": {},
   "outputs": [],
   "source": []
  }
 ],
 "metadata": {
  "kernelspec": {
   "display_name": "Python 3 (ipykernel)",
   "language": "python",
   "name": "python3"
  },
  "language_info": {
   "codemirror_mode": {
    "name": "ipython",
    "version": 3
   },
   "file_extension": ".py",
   "mimetype": "text/x-python",
   "name": "python",
   "nbconvert_exporter": "python",
   "pygments_lexer": "ipython3",
   "version": "3.8.11"
  },
  "toc": {
   "base_numbering": 1,
   "nav_menu": {},
   "number_sections": true,
   "sideBar": true,
   "skip_h1_title": false,
   "title_cell": "Table of Contents",
   "title_sidebar": "Contents",
   "toc_cell": false,
   "toc_position": {},
   "toc_section_display": true,
   "toc_window_display": false
  }
 },
 "nbformat": 4,
 "nbformat_minor": 1
}
